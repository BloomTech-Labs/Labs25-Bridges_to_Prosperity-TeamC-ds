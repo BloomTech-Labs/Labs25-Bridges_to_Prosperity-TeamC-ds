{
  "nbformat": 4,
  "nbformat_minor": 0,
  "metadata": {
    "colab": {
      "name": "model-data.ipynb",
      "provenance": [],
      "collapsed_sections": []
    },
    "kernelspec": {
      "name": "python3",
      "display_name": "Python 3"
    }
  },
  "cells": [
    {
      "cell_type": "code",
      "metadata": {
        "id": "MbYUm7k1oE6O",
        "colab_type": "code",
        "colab": {}
      },
      "source": [
        "import pandas as pd\n",
        "import numpy as np"
      ],
      "execution_count": null,
      "outputs": []
    },
    {
      "cell_type": "code",
      "metadata": {
        "id": "2t_cULvboNGS",
        "colab_type": "code",
        "colab": {}
      },
      "source": [
        "df = pd.read_csv('https://raw.githubusercontent.com/Lambda-School-Labs/Labs25-Bridges_to_Prosperity-TeamC-ds/main/final_csv/final_model_df.csv')"
      ],
      "execution_count": null,
      "outputs": []
    },
    {
      "cell_type": "code",
      "metadata": {
        "id": "dYTXZ-mgqT4W",
        "colab_type": "code",
        "colab": {}
      },
      "source": [
        "# Replace \"Unknown\" in Lon and Lat with 0.0\n",
        "df['GPS (Longitude)'].replace(to_replace=\"Unknown\",value=0.0,inplace=True)\n",
        "df[' GPS (Latitude)'].replace(to_replace=\"Unknown\",value=0.0,inplace=True)"
      ],
      "execution_count": null,
      "outputs": []
    },
    {
      "cell_type": "code",
      "metadata": {
        "id": "MuTOhEbC2lAZ",
        "colab_type": "code",
        "colab": {}
      },
      "source": [
        "df[['GPS (Longitude)',' GPS (Latitude)']] = df[['GPS (Longitude)',' GPS (Latitude)']].astype(np.float64)"
      ],
      "execution_count": null,
      "outputs": []
    },
    {
      "cell_type": "code",
      "metadata": {
        "id": "W9-B1AHptun3",
        "colab_type": "code",
        "colab": {}
      },
      "source": [
        "# Too many unknowns in number of individuals served, so we drop it \n",
        "df.drop(columns=['Individuals Directly Served'],inplace=True)"
      ],
      "execution_count": null,
      "outputs": []
    },
    {
      "cell_type": "code",
      "metadata": {
        "id": "9dnFVgHltGii",
        "colab_type": "code",
        "colab": {}
      },
      "source": [
        "# Change assessment date to datetime format\n",
        "df['Assessment Date'] = pd.to_datetime(df['Assessment Date'],infer_datetime_format=True)"
      ],
      "execution_count": null,
      "outputs": []
    },
    {
      "cell_type": "code",
      "metadata": {
        "id": "3fXVJo0cd7Hv",
        "colab_type": "code",
        "colab": {}
      },
      "source": [
        "# remove commas from population \n",
        "df[' Population of Sector '] = df[' Population of Sector '].replace(',','',regex=True)"
      ],
      "execution_count": null,
      "outputs": []
    },
    {
      "cell_type": "code",
      "metadata": {
        "id": "ADotEleBvc9f",
        "colab_type": "code",
        "colab": {}
      },
      "source": [
        "df[' Population of Sector '] = df[' Population of Sector '].astype(np.float64).astype(np.int64)"
      ],
      "execution_count": null,
      "outputs": []
    },
    {
      "cell_type": "markdown",
      "metadata": {
        "id": "j446uJ9I62vI",
        "colab_type": "text"
      },
      "source": [
        "## Format financial institutions data as 'minute' in float dtype"
      ]
    },
    {
      "cell_type": "code",
      "metadata": {
        "id": "aolT9SvSxC9p",
        "colab_type": "code",
        "colab": {}
      },
      "source": [
        "df['Umurenge SACCO-2'] = df['Umurenge SACCO'].str.split(':').str[1]\n",
        "df['Umurenge SACCO-2'] = df['Umurenge SACCO-2'].astype(np.float64)/60\n",
        "\n",
        "df['Umurenge SACCO'] = df['Umurenge SACCO'].str.split(':').str[0]\n",
        "df['Umurenge SACCO'] = df['Umurenge SACCO'].astype(np.float64)\n",
        "\n",
        "df['Umurenge SACCO'] = df['Umurenge SACCO'] + df['Umurenge SACCO-2']"
      ],
      "execution_count": null,
      "outputs": []
    },
    {
      "cell_type": "code",
      "metadata": {
        "id": "irAa09SY0wbh",
        "colab_type": "code",
        "colab": {}
      },
      "source": [
        "df['MFIs-2'] = df['MFIs'].str.split(':').str[1]\n",
        "df['MFIs-2'] = df['MFIs-2'].astype(np.float64)/60\n",
        "\n",
        "df['MFIs'] = df['MFIs'].str.split(':').str[0]\n",
        "df['MFIs'] = df['MFIs'].astype(np.float64)\n",
        "\n",
        "df['MFIs'] = df['MFIs'] + df['MFIs-2']"
      ],
      "execution_count": null,
      "outputs": []
    },
    {
      "cell_type": "code",
      "metadata": {
        "id": "6Vl9rKHf8RMy",
        "colab_type": "code",
        "colab": {}
      },
      "source": [
        "df['Bank Branch-2'] = df['Bank Branch'].str.split(':').str[1]\n",
        "df['Bank Branch-2'] = df['Bank Branch-2'].astype(np.float64)/60\n",
        "\n",
        "df['Bank Branch'] = df['Bank Branch'].str.split(':').str[0]\n",
        "df['Bank Branch'] = df['Bank Branch'].astype(np.float64)\n",
        "\n",
        "df['Bank Branch'] = df['Bank Branch'] + df['Bank Branch-2']"
      ],
      "execution_count": null,
      "outputs": []
    },
    {
      "cell_type": "code",
      "metadata": {
        "id": "6eL6efEb-ttA",
        "colab_type": "code",
        "colab": {}
      },
      "source": [
        "df['ATM-2'] = df['ATM'].str.split(':').str[1]\n",
        "df['ATM-2'] = df['ATM-2'].astype(np.float64)/60\n",
        "\n",
        "df['ATM'] = df['ATM'].str.split(':').str[0]\n",
        "df['ATM'] = df['ATM'].astype(np.float64)\n",
        "\n",
        "df['ATM'] = df['ATM'] + df['ATM-2']"
      ],
      "execution_count": null,
      "outputs": []
    },
    {
      "cell_type": "code",
      "metadata": {
        "id": "kIPD_XhZCW45",
        "colab_type": "code",
        "colab": {}
      },
      "source": [
        "df['Bank Agent-2'] = df['Bank Agent'].str.split(':').str[1]\n",
        "df['Bank Agent-2'] = df['Bank Agent-2'].astype(np.float64)/60\n",
        "\n",
        "df['Bank Agent'] = df['Bank Agent'].str.split(':').str[0]\n",
        "df['Bank Agent'] = df['Bank Agent'].astype(np.float64)\n",
        "\n",
        "df['Bank Agent'] = df['Bank Agent'] + df['Bank Agent-2']"
      ],
      "execution_count": null,
      "outputs": []
    },
    {
      "cell_type": "code",
      "metadata": {
        "id": "9cRg_iLjC_1N",
        "colab_type": "code",
        "colab": {}
      },
      "source": [
        "df['Mobile Money Agent-2'] = df['Mobile Money Agent'].str.split(':').str[1]\n",
        "df['Mobile Money Agent-2'] = df['Mobile Money Agent-2'].astype(np.float64)/60\n",
        "\n",
        "df['Mobile Money Agent'] = df['Mobile Money Agent'].str.split(':').str[0]\n",
        "df['Mobile Money Agent'] = df['Mobile Money Agent'].astype(np.float64)\n",
        "\n",
        "df['Mobile Money Agent'] = df['Mobile Money Agent'] + df['Mobile Money Agent-2']"
      ],
      "execution_count": null,
      "outputs": []
    },
    {
      "cell_type": "code",
      "metadata": {
        "id": "Z6pSvCALJP1Z",
        "colab_type": "code",
        "colab": {}
      },
      "source": [
        "df.drop(columns=['Bridge Site Name','Assessment Date','Project Code',\n",
        "                 'Mobile Money Agent-2','Bank Agent-2','ATM-2','Bank Branch-2','MFIs-2','Umurenge SACCO-2',\n",
        "                 'Original_Community_col','Community_Served','Prov_ID','Dist_ID','Sect_ID','Sector'],inplace=True)"
      ],
      "execution_count": null,
      "outputs": []
    },
    {
      "cell_type": "code",
      "metadata": {
        "id": "o0sj3l8-Z8ov",
        "colab_type": "code",
        "colab": {
          "base_uri": "https://localhost:8080/",
          "height": 105
        },
        "outputId": "cd02233d-d6ca-4f28-b1ee-8efef9fffc44"
      },
      "source": [
        "df['Bridge Type'].value_counts()"
      ],
      "execution_count": null,
      "outputs": [
        {
          "output_type": "execute_result",
          "data": {
            "text/plain": [
              "Suspension    633\n",
              "Suspended     596\n",
              "Unknown        97\n",
              "Other          21\n",
              "Name: Bridge Type, dtype: int64"
            ]
          },
          "metadata": {
            "tags": []
          },
          "execution_count": 16
        }
      ]
    },
    {
      "cell_type": "code",
      "metadata": {
        "id": "6e4KsLPkbQET",
        "colab_type": "code",
        "colab": {}
      },
      "source": [
        "df = pd.get_dummies(df,columns=['Bridge Type'])"
      ],
      "execution_count": null,
      "outputs": []
    },
    {
      "cell_type": "code",
      "metadata": {
        "id": "SOCOuLgqb2ce",
        "colab_type": "code",
        "colab": {}
      },
      "source": [
        "df = pd.get_dummies(df,columns=['Province'])"
      ],
      "execution_count": null,
      "outputs": []
    },
    {
      "cell_type": "code",
      "metadata": {
        "id": "Eln7g4FucAnN",
        "colab_type": "code",
        "colab": {}
      },
      "source": [
        "df = pd.get_dummies(df,columns=['District'])"
      ],
      "execution_count": null,
      "outputs": []
    },
    {
      "cell_type": "code",
      "metadata": {
        "id": "Um0mtur_cwIh",
        "colab_type": "code",
        "colab": {
          "base_uri": "https://localhost:8080/",
          "height": 140
        },
        "outputId": "6d3534e8-8955-43da-dbf9-95028bde136c"
      },
      "source": [
        "df['Project Stage'].value_counts()"
      ],
      "execution_count": null,
      "outputs": [
        {
          "output_type": "execute_result",
          "data": {
            "text/plain": [
              "Rejected              1066\n",
              "Identified             224\n",
              "Complete                30\n",
              "Prospecting             14\n",
              "Under Construction       7\n",
              "Confirmed                6\n",
              "Name: Project Stage, dtype: int64"
            ]
          },
          "metadata": {
            "tags": []
          },
          "execution_count": 20
        }
      ]
    },
    {
      "cell_type": "code",
      "metadata": {
        "id": "BMFvxTcwkPqL",
        "colab_type": "code",
        "colab": {}
      },
      "source": [
        "# helper function to add under construction and confirmed together \n",
        "def code_ps(x):\n",
        "  if x == 'Under Construction' or x == 'Confirmed'or x == 'Identified':\n",
        "    x = 'Complete'\n",
        "  return x"
      ],
      "execution_count": null,
      "outputs": []
    },
    {
      "cell_type": "code",
      "metadata": {
        "id": "9-BaOqu3fp4r",
        "colab_type": "code",
        "colab": {}
      },
      "source": [
        "df['Project Stage'] = df['Project Stage'].apply(code_ps)"
      ],
      "execution_count": null,
      "outputs": []
    },
    {
      "cell_type": "code",
      "metadata": {
        "id": "ciwlZv6RgV8x",
        "colab_type": "code",
        "colab": {
          "base_uri": "https://localhost:8080/",
          "height": 88
        },
        "outputId": "bd448fa5-edbb-4eb8-f6ea-4e00035d961f"
      },
      "source": [
        "df['Project Stage'].value_counts()"
      ],
      "execution_count": null,
      "outputs": [
        {
          "output_type": "execute_result",
          "data": {
            "text/plain": [
              "Rejected       1066\n",
              "Complete        267\n",
              "Prospecting      14\n",
              "Name: Project Stage, dtype: int64"
            ]
          },
          "metadata": {
            "tags": []
          },
          "execution_count": 23
        }
      ]
    },
    {
      "cell_type": "code",
      "metadata": {
        "id": "3TsdHb3kEzp5",
        "colab_type": "code",
        "colab": {}
      },
      "source": [
        "df = df.drop(df[df['Project Stage'] == 'Prospecting'].index)"
      ],
      "execution_count": null,
      "outputs": []
    },
    {
      "cell_type": "code",
      "metadata": {
        "id": "36qIRF0IMR9w",
        "colab_type": "code",
        "colab": {}
      },
      "source": [
        "# Drop outliers in long and latitude\n",
        "df = df.drop(df[df[' GPS (Latitude)'] == 0.0].index)"
      ],
      "execution_count": null,
      "outputs": []
    },
    {
      "cell_type": "code",
      "metadata": {
        "id": "XnjK_GLeP80f",
        "colab_type": "code",
        "colab": {}
      },
      "source": [
        "df = df.drop(df[df['GPS (Longitude)'] == 0.0].index)"
      ],
      "execution_count": null,
      "outputs": []
    },
    {
      "cell_type": "code",
      "metadata": {
        "id": "6HEnnq1Ayq9M",
        "colab_type": "code",
        "colab": {
          "base_uri": "https://localhost:8080/",
          "height": 70
        },
        "outputId": "deb5d8bb-2497-4d48-cbdb-ae600a793df4"
      },
      "source": [
        "df['Project Stage'].value_counts()"
      ],
      "execution_count": null,
      "outputs": [
        {
          "output_type": "execute_result",
          "data": {
            "text/plain": [
              "Rejected    1064\n",
              "Complete     267\n",
              "Name: Project Stage, dtype: int64"
            ]
          },
          "metadata": {
            "tags": []
          },
          "execution_count": 27
        }
      ]
    },
    {
      "cell_type": "code",
      "metadata": {
        "id": "BHVFWDE_ysH4",
        "colab_type": "code",
        "colab": {}
      },
      "source": [
        "def change_ps(x):\n",
        "  if x == 'Complete':\n",
        "    x = 1\n",
        "  elif x == 'Rejected':\n",
        "    x = 0 \n",
        "  return x"
      ],
      "execution_count": null,
      "outputs": []
    },
    {
      "cell_type": "code",
      "metadata": {
        "id": "WsDPKA-P1-w0",
        "colab_type": "code",
        "colab": {}
      },
      "source": [
        "df['Project Stage'] = df['Project Stage'].apply(change_ps)"
      ],
      "execution_count": null,
      "outputs": []
    },
    {
      "cell_type": "code",
      "metadata": {
        "id": "yzWfO9Kj2FEc",
        "colab_type": "code",
        "colab": {
          "base_uri": "https://localhost:8080/",
          "height": 70
        },
        "outputId": "c48f3e68-aefa-4d1f-cc3f-81d177410bb6"
      },
      "source": [
        "df['Project Stage'].value_counts()"
      ],
      "execution_count": null,
      "outputs": [
        {
          "output_type": "execute_result",
          "data": {
            "text/plain": [
              "0    1064\n",
              "1     267\n",
              "Name: Project Stage, dtype: int64"
            ]
          },
          "metadata": {
            "tags": []
          },
          "execution_count": 30
        }
      ]
    },
    {
      "cell_type": "code",
      "metadata": {
        "id": "3PnFK-TX2IUq",
        "colab_type": "code",
        "colab": {}
      },
      "source": [
        "df.to_csv('model_df.csv',index=False,header=None)"
      ],
      "execution_count": null,
      "outputs": []
    },
    {
      "cell_type": "code",
      "metadata": {
        "id": "RUbB-mmuozBX",
        "colab_type": "code",
        "colab": {
          "base_uri": "https://localhost:8080/",
          "height": 35
        },
        "outputId": "bb60a3bb-554c-4c7d-da05-89b6584b7675"
      },
      "source": [
        "df.shape"
      ],
      "execution_count": null,
      "outputs": [
        {
          "output_type": "execute_result",
          "data": {
            "text/plain": [
              "(1331, 57)"
            ]
          },
          "metadata": {
            "tags": []
          },
          "execution_count": 33
        }
      ]
    },
    {
      "cell_type": "code",
      "metadata": {
        "id": "5ADbwNRVo84s",
        "colab_type": "code",
        "colab": {}
      },
      "source": [
        ""
      ],
      "execution_count": null,
      "outputs": []
    }
  ]
}
{
  "nbformat": 4,
  "nbformat_minor": 0,
  "metadata": {
    "colab": {
      "name": "hierarchical-model.ipynb",
      "provenance": [],
      "collapsed_sections": []
    },
    "kernelspec": {
      "name": "python3",
      "display_name": "Python 3"
    }
  },
  "cells": [
    {
      "cell_type": "markdown",
      "metadata": {
        "id": "SWCRLgsPJ37S",
        "colab_type": "text"
      },
      "source": [
        "## Hierarchical Clustering model "
      ]
    },
    {
      "cell_type": "code",
      "metadata": {
        "id": "TY45ZG7H3qKR",
        "colab_type": "code",
        "colab": {}
      },
      "source": [
        "import pandas as pd\n",
        "import numpy as np\n",
        "import matplotlib.pyplot as plt\n",
        "%matplotlib inline "
      ],
      "execution_count": 3,
      "outputs": []
    },
    {
      "cell_type": "code",
      "metadata": {
        "id": "BvjKwf1ZKGrM",
        "colab_type": "code",
        "colab": {
          "base_uri": "https://localhost:8080/",
          "height": 298
        },
        "outputId": "fceb5924-b8af-446a-a13f-63356226f1e0"
      },
      "source": [
        "data = pd.read_csv('/content/model_df.csv')\n",
        "data.head()"
      ],
      "execution_count": 4,
      "outputs": [
        {
          "output_type": "execute_result",
          "data": {
            "text/html": [
              "<div>\n",
              "<style scoped>\n",
              "    .dataframe tbody tr th:only-of-type {\n",
              "        vertical-align: middle;\n",
              "    }\n",
              "\n",
              "    .dataframe tbody tr th {\n",
              "        vertical-align: top;\n",
              "    }\n",
              "\n",
              "    .dataframe thead th {\n",
              "        text-align: right;\n",
              "    }\n",
              "</style>\n",
              "<table border=\"1\" class=\"dataframe\">\n",
              "  <thead>\n",
              "    <tr style=\"text-align: right;\">\n",
              "      <th></th>\n",
              "      <th>Project Stage</th>\n",
              "      <th>GPS (Latitude)</th>\n",
              "      <th>GPS (Longitude)</th>\n",
              "      <th>Mean share of harvest sold</th>\n",
              "      <th>School_count</th>\n",
              "      <th>Population of Sector</th>\n",
              "      <th>Access rate</th>\n",
              "      <th>Umurenge SACCO</th>\n",
              "      <th>MFIs</th>\n",
              "      <th>Bank Branch</th>\n",
              "      <th>ATM</th>\n",
              "      <th>Bank Agent</th>\n",
              "      <th>Mobile Money Agent</th>\n",
              "      <th>Banked</th>\n",
              "      <th>Other formal (non-bank)</th>\n",
              "      <th>Informal only</th>\n",
              "      <th>Excluded</th>\n",
              "      <th>num_communities_served</th>\n",
              "      <th>Bridge Type_Other</th>\n",
              "      <th>Bridge Type_Suspended</th>\n",
              "      <th>Bridge Type_Suspension</th>\n",
              "      <th>Bridge Type_Unknown</th>\n",
              "      <th>Province_Eastern Province</th>\n",
              "      <th>Province_Kigali</th>\n",
              "      <th>Province_Northern Province</th>\n",
              "      <th>Province_Southern Province</th>\n",
              "      <th>Province_Western Province</th>\n",
              "      <th>District_Bugesera</th>\n",
              "      <th>District_Burera</th>\n",
              "      <th>District_Gakenke</th>\n",
              "      <th>District_Gasabo</th>\n",
              "      <th>District_Gatsibo</th>\n",
              "      <th>District_Gicumbi</th>\n",
              "      <th>District_Gisagara</th>\n",
              "      <th>District_Huye</th>\n",
              "      <th>District_Kamonyi</th>\n",
              "      <th>District_Karongi</th>\n",
              "      <th>District_Kayonza</th>\n",
              "      <th>District_Kicukiro</th>\n",
              "      <th>District_Kirehe</th>\n",
              "      <th>District_Muhanga</th>\n",
              "      <th>District_Musanze</th>\n",
              "      <th>District_Ngoma</th>\n",
              "      <th>District_Ngororero</th>\n",
              "      <th>District_Nyabihu</th>\n",
              "      <th>District_Nyagatare</th>\n",
              "      <th>District_Nyamagabe</th>\n",
              "      <th>District_Nyamasheke</th>\n",
              "      <th>District_Nyanza</th>\n",
              "      <th>District_Nyarugenge</th>\n",
              "      <th>District_Nyaruguru</th>\n",
              "      <th>District_Rubavu</th>\n",
              "      <th>District_Ruhango</th>\n",
              "      <th>District_Rulindo</th>\n",
              "      <th>District_Rusizi</th>\n",
              "      <th>District_Rutsiro</th>\n",
              "      <th>District_Rwamagana</th>\n",
              "    </tr>\n",
              "  </thead>\n",
              "  <tbody>\n",
              "    <tr>\n",
              "      <th>0</th>\n",
              "      <td>0</td>\n",
              "      <td>-2.42056</td>\n",
              "      <td>28.96620</td>\n",
              "      <td>20.1</td>\n",
              "      <td>6</td>\n",
              "      <td>19359</td>\n",
              "      <td>64.0</td>\n",
              "      <td>38.35</td>\n",
              "      <td>49.45</td>\n",
              "      <td>53.433333</td>\n",
              "      <td>52.0</td>\n",
              "      <td>50.283333</td>\n",
              "      <td>32.35</td>\n",
              "      <td>27</td>\n",
              "      <td>38</td>\n",
              "      <td>14</td>\n",
              "      <td>21</td>\n",
              "      <td>5</td>\n",
              "      <td>0</td>\n",
              "      <td>1</td>\n",
              "      <td>0</td>\n",
              "      <td>0</td>\n",
              "      <td>0</td>\n",
              "      <td>0</td>\n",
              "      <td>0</td>\n",
              "      <td>0</td>\n",
              "      <td>1</td>\n",
              "      <td>0</td>\n",
              "      <td>0</td>\n",
              "      <td>0</td>\n",
              "      <td>0</td>\n",
              "      <td>0</td>\n",
              "      <td>0</td>\n",
              "      <td>0</td>\n",
              "      <td>0</td>\n",
              "      <td>0</td>\n",
              "      <td>0</td>\n",
              "      <td>0</td>\n",
              "      <td>0</td>\n",
              "      <td>0</td>\n",
              "      <td>0</td>\n",
              "      <td>0</td>\n",
              "      <td>0</td>\n",
              "      <td>0</td>\n",
              "      <td>0</td>\n",
              "      <td>0</td>\n",
              "      <td>0</td>\n",
              "      <td>0</td>\n",
              "      <td>0</td>\n",
              "      <td>0</td>\n",
              "      <td>0</td>\n",
              "      <td>0</td>\n",
              "      <td>0</td>\n",
              "      <td>0</td>\n",
              "      <td>1</td>\n",
              "      <td>0</td>\n",
              "      <td>0</td>\n",
              "    </tr>\n",
              "    <tr>\n",
              "      <th>1</th>\n",
              "      <td>0</td>\n",
              "      <td>-2.42486</td>\n",
              "      <td>28.95726</td>\n",
              "      <td>20.1</td>\n",
              "      <td>6</td>\n",
              "      <td>19359</td>\n",
              "      <td>64.0</td>\n",
              "      <td>38.35</td>\n",
              "      <td>49.45</td>\n",
              "      <td>53.433333</td>\n",
              "      <td>52.0</td>\n",
              "      <td>50.283333</td>\n",
              "      <td>32.35</td>\n",
              "      <td>27</td>\n",
              "      <td>38</td>\n",
              "      <td>14</td>\n",
              "      <td>21</td>\n",
              "      <td>5</td>\n",
              "      <td>0</td>\n",
              "      <td>1</td>\n",
              "      <td>0</td>\n",
              "      <td>0</td>\n",
              "      <td>0</td>\n",
              "      <td>0</td>\n",
              "      <td>0</td>\n",
              "      <td>0</td>\n",
              "      <td>1</td>\n",
              "      <td>0</td>\n",
              "      <td>0</td>\n",
              "      <td>0</td>\n",
              "      <td>0</td>\n",
              "      <td>0</td>\n",
              "      <td>0</td>\n",
              "      <td>0</td>\n",
              "      <td>0</td>\n",
              "      <td>0</td>\n",
              "      <td>0</td>\n",
              "      <td>0</td>\n",
              "      <td>0</td>\n",
              "      <td>0</td>\n",
              "      <td>0</td>\n",
              "      <td>0</td>\n",
              "      <td>0</td>\n",
              "      <td>0</td>\n",
              "      <td>0</td>\n",
              "      <td>0</td>\n",
              "      <td>0</td>\n",
              "      <td>0</td>\n",
              "      <td>0</td>\n",
              "      <td>0</td>\n",
              "      <td>0</td>\n",
              "      <td>0</td>\n",
              "      <td>0</td>\n",
              "      <td>0</td>\n",
              "      <td>1</td>\n",
              "      <td>0</td>\n",
              "      <td>0</td>\n",
              "    </tr>\n",
              "    <tr>\n",
              "      <th>2</th>\n",
              "      <td>0</td>\n",
              "      <td>-2.41855</td>\n",
              "      <td>28.96946</td>\n",
              "      <td>20.1</td>\n",
              "      <td>6</td>\n",
              "      <td>19359</td>\n",
              "      <td>64.0</td>\n",
              "      <td>38.35</td>\n",
              "      <td>49.45</td>\n",
              "      <td>53.433333</td>\n",
              "      <td>52.0</td>\n",
              "      <td>50.283333</td>\n",
              "      <td>32.35</td>\n",
              "      <td>27</td>\n",
              "      <td>38</td>\n",
              "      <td>14</td>\n",
              "      <td>21</td>\n",
              "      <td>5</td>\n",
              "      <td>0</td>\n",
              "      <td>0</td>\n",
              "      <td>1</td>\n",
              "      <td>0</td>\n",
              "      <td>0</td>\n",
              "      <td>0</td>\n",
              "      <td>0</td>\n",
              "      <td>0</td>\n",
              "      <td>1</td>\n",
              "      <td>0</td>\n",
              "      <td>0</td>\n",
              "      <td>0</td>\n",
              "      <td>0</td>\n",
              "      <td>0</td>\n",
              "      <td>0</td>\n",
              "      <td>0</td>\n",
              "      <td>0</td>\n",
              "      <td>0</td>\n",
              "      <td>0</td>\n",
              "      <td>0</td>\n",
              "      <td>0</td>\n",
              "      <td>0</td>\n",
              "      <td>0</td>\n",
              "      <td>0</td>\n",
              "      <td>0</td>\n",
              "      <td>0</td>\n",
              "      <td>0</td>\n",
              "      <td>0</td>\n",
              "      <td>0</td>\n",
              "      <td>0</td>\n",
              "      <td>0</td>\n",
              "      <td>0</td>\n",
              "      <td>0</td>\n",
              "      <td>0</td>\n",
              "      <td>0</td>\n",
              "      <td>0</td>\n",
              "      <td>1</td>\n",
              "      <td>0</td>\n",
              "      <td>0</td>\n",
              "    </tr>\n",
              "    <tr>\n",
              "      <th>3</th>\n",
              "      <td>0</td>\n",
              "      <td>-2.42715</td>\n",
              "      <td>28.95369</td>\n",
              "      <td>20.1</td>\n",
              "      <td>6</td>\n",
              "      <td>19359</td>\n",
              "      <td>64.0</td>\n",
              "      <td>38.35</td>\n",
              "      <td>49.45</td>\n",
              "      <td>53.433333</td>\n",
              "      <td>52.0</td>\n",
              "      <td>50.283333</td>\n",
              "      <td>32.35</td>\n",
              "      <td>27</td>\n",
              "      <td>38</td>\n",
              "      <td>14</td>\n",
              "      <td>21</td>\n",
              "      <td>5</td>\n",
              "      <td>0</td>\n",
              "      <td>1</td>\n",
              "      <td>0</td>\n",
              "      <td>0</td>\n",
              "      <td>0</td>\n",
              "      <td>0</td>\n",
              "      <td>0</td>\n",
              "      <td>0</td>\n",
              "      <td>1</td>\n",
              "      <td>0</td>\n",
              "      <td>0</td>\n",
              "      <td>0</td>\n",
              "      <td>0</td>\n",
              "      <td>0</td>\n",
              "      <td>0</td>\n",
              "      <td>0</td>\n",
              "      <td>0</td>\n",
              "      <td>0</td>\n",
              "      <td>0</td>\n",
              "      <td>0</td>\n",
              "      <td>0</td>\n",
              "      <td>0</td>\n",
              "      <td>0</td>\n",
              "      <td>0</td>\n",
              "      <td>0</td>\n",
              "      <td>0</td>\n",
              "      <td>0</td>\n",
              "      <td>0</td>\n",
              "      <td>0</td>\n",
              "      <td>0</td>\n",
              "      <td>0</td>\n",
              "      <td>0</td>\n",
              "      <td>0</td>\n",
              "      <td>0</td>\n",
              "      <td>0</td>\n",
              "      <td>0</td>\n",
              "      <td>1</td>\n",
              "      <td>0</td>\n",
              "      <td>0</td>\n",
              "    </tr>\n",
              "    <tr>\n",
              "      <th>4</th>\n",
              "      <td>0</td>\n",
              "      <td>-2.44246</td>\n",
              "      <td>28.93330</td>\n",
              "      <td>20.1</td>\n",
              "      <td>6</td>\n",
              "      <td>19359</td>\n",
              "      <td>64.0</td>\n",
              "      <td>38.35</td>\n",
              "      <td>49.45</td>\n",
              "      <td>53.433333</td>\n",
              "      <td>52.0</td>\n",
              "      <td>50.283333</td>\n",
              "      <td>32.35</td>\n",
              "      <td>27</td>\n",
              "      <td>38</td>\n",
              "      <td>14</td>\n",
              "      <td>21</td>\n",
              "      <td>1</td>\n",
              "      <td>0</td>\n",
              "      <td>0</td>\n",
              "      <td>0</td>\n",
              "      <td>1</td>\n",
              "      <td>0</td>\n",
              "      <td>0</td>\n",
              "      <td>0</td>\n",
              "      <td>0</td>\n",
              "      <td>1</td>\n",
              "      <td>0</td>\n",
              "      <td>0</td>\n",
              "      <td>0</td>\n",
              "      <td>0</td>\n",
              "      <td>0</td>\n",
              "      <td>0</td>\n",
              "      <td>0</td>\n",
              "      <td>0</td>\n",
              "      <td>0</td>\n",
              "      <td>0</td>\n",
              "      <td>0</td>\n",
              "      <td>0</td>\n",
              "      <td>0</td>\n",
              "      <td>0</td>\n",
              "      <td>0</td>\n",
              "      <td>0</td>\n",
              "      <td>0</td>\n",
              "      <td>0</td>\n",
              "      <td>0</td>\n",
              "      <td>0</td>\n",
              "      <td>0</td>\n",
              "      <td>0</td>\n",
              "      <td>0</td>\n",
              "      <td>0</td>\n",
              "      <td>0</td>\n",
              "      <td>0</td>\n",
              "      <td>0</td>\n",
              "      <td>1</td>\n",
              "      <td>0</td>\n",
              "      <td>0</td>\n",
              "    </tr>\n",
              "  </tbody>\n",
              "</table>\n",
              "</div>"
            ],
            "text/plain": [
              "   Project Stage   GPS (Latitude)  ...  District_Rutsiro  District_Rwamagana\n",
              "0              0         -2.42056  ...                 0                   0\n",
              "1              0         -2.42486  ...                 0                   0\n",
              "2              0         -2.41855  ...                 0                   0\n",
              "3              0         -2.42715  ...                 0                   0\n",
              "4              0         -2.44246  ...                 0                   0\n",
              "\n",
              "[5 rows x 57 columns]"
            ]
          },
          "metadata": {
            "tags": []
          },
          "execution_count": 4
        }
      ]
    },
    {
      "cell_type": "code",
      "metadata": {
        "id": "9cvQu2FCKpyM",
        "colab_type": "code",
        "colab": {
          "base_uri": "https://localhost:8080/",
          "height": 298
        },
        "outputId": "a776a678-f7b8-4975-9f31-e8bf2261c164"
      },
      "source": [
        "from sklearn.preprocessing import normalize\n",
        "data_scaled = normalize(data)\n",
        "data_scaled = pd.DataFrame(data_scaled, columns=data.columns)\n",
        "data_scaled.head()"
      ],
      "execution_count": 5,
      "outputs": [
        {
          "output_type": "execute_result",
          "data": {
            "text/html": [
              "<div>\n",
              "<style scoped>\n",
              "    .dataframe tbody tr th:only-of-type {\n",
              "        vertical-align: middle;\n",
              "    }\n",
              "\n",
              "    .dataframe tbody tr th {\n",
              "        vertical-align: top;\n",
              "    }\n",
              "\n",
              "    .dataframe thead th {\n",
              "        text-align: right;\n",
              "    }\n",
              "</style>\n",
              "<table border=\"1\" class=\"dataframe\">\n",
              "  <thead>\n",
              "    <tr style=\"text-align: right;\">\n",
              "      <th></th>\n",
              "      <th>Project Stage</th>\n",
              "      <th>GPS (Latitude)</th>\n",
              "      <th>GPS (Longitude)</th>\n",
              "      <th>Mean share of harvest sold</th>\n",
              "      <th>School_count</th>\n",
              "      <th>Population of Sector</th>\n",
              "      <th>Access rate</th>\n",
              "      <th>Umurenge SACCO</th>\n",
              "      <th>MFIs</th>\n",
              "      <th>Bank Branch</th>\n",
              "      <th>ATM</th>\n",
              "      <th>Bank Agent</th>\n",
              "      <th>Mobile Money Agent</th>\n",
              "      <th>Banked</th>\n",
              "      <th>Other formal (non-bank)</th>\n",
              "      <th>Informal only</th>\n",
              "      <th>Excluded</th>\n",
              "      <th>num_communities_served</th>\n",
              "      <th>Bridge Type_Other</th>\n",
              "      <th>Bridge Type_Suspended</th>\n",
              "      <th>Bridge Type_Suspension</th>\n",
              "      <th>Bridge Type_Unknown</th>\n",
              "      <th>Province_Eastern Province</th>\n",
              "      <th>Province_Kigali</th>\n",
              "      <th>Province_Northern Province</th>\n",
              "      <th>Province_Southern Province</th>\n",
              "      <th>Province_Western Province</th>\n",
              "      <th>District_Bugesera</th>\n",
              "      <th>District_Burera</th>\n",
              "      <th>District_Gakenke</th>\n",
              "      <th>District_Gasabo</th>\n",
              "      <th>District_Gatsibo</th>\n",
              "      <th>District_Gicumbi</th>\n",
              "      <th>District_Gisagara</th>\n",
              "      <th>District_Huye</th>\n",
              "      <th>District_Kamonyi</th>\n",
              "      <th>District_Karongi</th>\n",
              "      <th>District_Kayonza</th>\n",
              "      <th>District_Kicukiro</th>\n",
              "      <th>District_Kirehe</th>\n",
              "      <th>District_Muhanga</th>\n",
              "      <th>District_Musanze</th>\n",
              "      <th>District_Ngoma</th>\n",
              "      <th>District_Ngororero</th>\n",
              "      <th>District_Nyabihu</th>\n",
              "      <th>District_Nyagatare</th>\n",
              "      <th>District_Nyamagabe</th>\n",
              "      <th>District_Nyamasheke</th>\n",
              "      <th>District_Nyanza</th>\n",
              "      <th>District_Nyarugenge</th>\n",
              "      <th>District_Nyaruguru</th>\n",
              "      <th>District_Rubavu</th>\n",
              "      <th>District_Ruhango</th>\n",
              "      <th>District_Rulindo</th>\n",
              "      <th>District_Rusizi</th>\n",
              "      <th>District_Rutsiro</th>\n",
              "      <th>District_Rwamagana</th>\n",
              "    </tr>\n",
              "  </thead>\n",
              "  <tbody>\n",
              "    <tr>\n",
              "      <th>0</th>\n",
              "      <td>0.0</td>\n",
              "      <td>-0.000125</td>\n",
              "      <td>0.001496</td>\n",
              "      <td>0.001038</td>\n",
              "      <td>0.00031</td>\n",
              "      <td>0.999972</td>\n",
              "      <td>0.003306</td>\n",
              "      <td>0.001981</td>\n",
              "      <td>0.002554</td>\n",
              "      <td>0.00276</td>\n",
              "      <td>0.002686</td>\n",
              "      <td>0.002597</td>\n",
              "      <td>0.001671</td>\n",
              "      <td>0.001395</td>\n",
              "      <td>0.001963</td>\n",
              "      <td>0.000723</td>\n",
              "      <td>0.001085</td>\n",
              "      <td>0.000258</td>\n",
              "      <td>0.0</td>\n",
              "      <td>0.000052</td>\n",
              "      <td>0.000000</td>\n",
              "      <td>0.000000</td>\n",
              "      <td>0.0</td>\n",
              "      <td>0.0</td>\n",
              "      <td>0.0</td>\n",
              "      <td>0.0</td>\n",
              "      <td>0.000052</td>\n",
              "      <td>0.0</td>\n",
              "      <td>0.0</td>\n",
              "      <td>0.0</td>\n",
              "      <td>0.0</td>\n",
              "      <td>0.0</td>\n",
              "      <td>0.0</td>\n",
              "      <td>0.0</td>\n",
              "      <td>0.0</td>\n",
              "      <td>0.0</td>\n",
              "      <td>0.0</td>\n",
              "      <td>0.0</td>\n",
              "      <td>0.0</td>\n",
              "      <td>0.0</td>\n",
              "      <td>0.0</td>\n",
              "      <td>0.0</td>\n",
              "      <td>0.0</td>\n",
              "      <td>0.0</td>\n",
              "      <td>0.0</td>\n",
              "      <td>0.0</td>\n",
              "      <td>0.0</td>\n",
              "      <td>0.0</td>\n",
              "      <td>0.0</td>\n",
              "      <td>0.0</td>\n",
              "      <td>0.0</td>\n",
              "      <td>0.0</td>\n",
              "      <td>0.0</td>\n",
              "      <td>0.0</td>\n",
              "      <td>0.000052</td>\n",
              "      <td>0.0</td>\n",
              "      <td>0.0</td>\n",
              "    </tr>\n",
              "    <tr>\n",
              "      <th>1</th>\n",
              "      <td>0.0</td>\n",
              "      <td>-0.000125</td>\n",
              "      <td>0.001496</td>\n",
              "      <td>0.001038</td>\n",
              "      <td>0.00031</td>\n",
              "      <td>0.999972</td>\n",
              "      <td>0.003306</td>\n",
              "      <td>0.001981</td>\n",
              "      <td>0.002554</td>\n",
              "      <td>0.00276</td>\n",
              "      <td>0.002686</td>\n",
              "      <td>0.002597</td>\n",
              "      <td>0.001671</td>\n",
              "      <td>0.001395</td>\n",
              "      <td>0.001963</td>\n",
              "      <td>0.000723</td>\n",
              "      <td>0.001085</td>\n",
              "      <td>0.000258</td>\n",
              "      <td>0.0</td>\n",
              "      <td>0.000052</td>\n",
              "      <td>0.000000</td>\n",
              "      <td>0.000000</td>\n",
              "      <td>0.0</td>\n",
              "      <td>0.0</td>\n",
              "      <td>0.0</td>\n",
              "      <td>0.0</td>\n",
              "      <td>0.000052</td>\n",
              "      <td>0.0</td>\n",
              "      <td>0.0</td>\n",
              "      <td>0.0</td>\n",
              "      <td>0.0</td>\n",
              "      <td>0.0</td>\n",
              "      <td>0.0</td>\n",
              "      <td>0.0</td>\n",
              "      <td>0.0</td>\n",
              "      <td>0.0</td>\n",
              "      <td>0.0</td>\n",
              "      <td>0.0</td>\n",
              "      <td>0.0</td>\n",
              "      <td>0.0</td>\n",
              "      <td>0.0</td>\n",
              "      <td>0.0</td>\n",
              "      <td>0.0</td>\n",
              "      <td>0.0</td>\n",
              "      <td>0.0</td>\n",
              "      <td>0.0</td>\n",
              "      <td>0.0</td>\n",
              "      <td>0.0</td>\n",
              "      <td>0.0</td>\n",
              "      <td>0.0</td>\n",
              "      <td>0.0</td>\n",
              "      <td>0.0</td>\n",
              "      <td>0.0</td>\n",
              "      <td>0.0</td>\n",
              "      <td>0.000052</td>\n",
              "      <td>0.0</td>\n",
              "      <td>0.0</td>\n",
              "    </tr>\n",
              "    <tr>\n",
              "      <th>2</th>\n",
              "      <td>0.0</td>\n",
              "      <td>-0.000125</td>\n",
              "      <td>0.001496</td>\n",
              "      <td>0.001038</td>\n",
              "      <td>0.00031</td>\n",
              "      <td>0.999972</td>\n",
              "      <td>0.003306</td>\n",
              "      <td>0.001981</td>\n",
              "      <td>0.002554</td>\n",
              "      <td>0.00276</td>\n",
              "      <td>0.002686</td>\n",
              "      <td>0.002597</td>\n",
              "      <td>0.001671</td>\n",
              "      <td>0.001395</td>\n",
              "      <td>0.001963</td>\n",
              "      <td>0.000723</td>\n",
              "      <td>0.001085</td>\n",
              "      <td>0.000258</td>\n",
              "      <td>0.0</td>\n",
              "      <td>0.000000</td>\n",
              "      <td>0.000052</td>\n",
              "      <td>0.000000</td>\n",
              "      <td>0.0</td>\n",
              "      <td>0.0</td>\n",
              "      <td>0.0</td>\n",
              "      <td>0.0</td>\n",
              "      <td>0.000052</td>\n",
              "      <td>0.0</td>\n",
              "      <td>0.0</td>\n",
              "      <td>0.0</td>\n",
              "      <td>0.0</td>\n",
              "      <td>0.0</td>\n",
              "      <td>0.0</td>\n",
              "      <td>0.0</td>\n",
              "      <td>0.0</td>\n",
              "      <td>0.0</td>\n",
              "      <td>0.0</td>\n",
              "      <td>0.0</td>\n",
              "      <td>0.0</td>\n",
              "      <td>0.0</td>\n",
              "      <td>0.0</td>\n",
              "      <td>0.0</td>\n",
              "      <td>0.0</td>\n",
              "      <td>0.0</td>\n",
              "      <td>0.0</td>\n",
              "      <td>0.0</td>\n",
              "      <td>0.0</td>\n",
              "      <td>0.0</td>\n",
              "      <td>0.0</td>\n",
              "      <td>0.0</td>\n",
              "      <td>0.0</td>\n",
              "      <td>0.0</td>\n",
              "      <td>0.0</td>\n",
              "      <td>0.0</td>\n",
              "      <td>0.000052</td>\n",
              "      <td>0.0</td>\n",
              "      <td>0.0</td>\n",
              "    </tr>\n",
              "    <tr>\n",
              "      <th>3</th>\n",
              "      <td>0.0</td>\n",
              "      <td>-0.000125</td>\n",
              "      <td>0.001496</td>\n",
              "      <td>0.001038</td>\n",
              "      <td>0.00031</td>\n",
              "      <td>0.999972</td>\n",
              "      <td>0.003306</td>\n",
              "      <td>0.001981</td>\n",
              "      <td>0.002554</td>\n",
              "      <td>0.00276</td>\n",
              "      <td>0.002686</td>\n",
              "      <td>0.002597</td>\n",
              "      <td>0.001671</td>\n",
              "      <td>0.001395</td>\n",
              "      <td>0.001963</td>\n",
              "      <td>0.000723</td>\n",
              "      <td>0.001085</td>\n",
              "      <td>0.000258</td>\n",
              "      <td>0.0</td>\n",
              "      <td>0.000052</td>\n",
              "      <td>0.000000</td>\n",
              "      <td>0.000000</td>\n",
              "      <td>0.0</td>\n",
              "      <td>0.0</td>\n",
              "      <td>0.0</td>\n",
              "      <td>0.0</td>\n",
              "      <td>0.000052</td>\n",
              "      <td>0.0</td>\n",
              "      <td>0.0</td>\n",
              "      <td>0.0</td>\n",
              "      <td>0.0</td>\n",
              "      <td>0.0</td>\n",
              "      <td>0.0</td>\n",
              "      <td>0.0</td>\n",
              "      <td>0.0</td>\n",
              "      <td>0.0</td>\n",
              "      <td>0.0</td>\n",
              "      <td>0.0</td>\n",
              "      <td>0.0</td>\n",
              "      <td>0.0</td>\n",
              "      <td>0.0</td>\n",
              "      <td>0.0</td>\n",
              "      <td>0.0</td>\n",
              "      <td>0.0</td>\n",
              "      <td>0.0</td>\n",
              "      <td>0.0</td>\n",
              "      <td>0.0</td>\n",
              "      <td>0.0</td>\n",
              "      <td>0.0</td>\n",
              "      <td>0.0</td>\n",
              "      <td>0.0</td>\n",
              "      <td>0.0</td>\n",
              "      <td>0.0</td>\n",
              "      <td>0.0</td>\n",
              "      <td>0.000052</td>\n",
              "      <td>0.0</td>\n",
              "      <td>0.0</td>\n",
              "    </tr>\n",
              "    <tr>\n",
              "      <th>4</th>\n",
              "      <td>0.0</td>\n",
              "      <td>-0.000126</td>\n",
              "      <td>0.001495</td>\n",
              "      <td>0.001038</td>\n",
              "      <td>0.00031</td>\n",
              "      <td>0.999972</td>\n",
              "      <td>0.003306</td>\n",
              "      <td>0.001981</td>\n",
              "      <td>0.002554</td>\n",
              "      <td>0.00276</td>\n",
              "      <td>0.002686</td>\n",
              "      <td>0.002597</td>\n",
              "      <td>0.001671</td>\n",
              "      <td>0.001395</td>\n",
              "      <td>0.001963</td>\n",
              "      <td>0.000723</td>\n",
              "      <td>0.001085</td>\n",
              "      <td>0.000052</td>\n",
              "      <td>0.0</td>\n",
              "      <td>0.000000</td>\n",
              "      <td>0.000000</td>\n",
              "      <td>0.000052</td>\n",
              "      <td>0.0</td>\n",
              "      <td>0.0</td>\n",
              "      <td>0.0</td>\n",
              "      <td>0.0</td>\n",
              "      <td>0.000052</td>\n",
              "      <td>0.0</td>\n",
              "      <td>0.0</td>\n",
              "      <td>0.0</td>\n",
              "      <td>0.0</td>\n",
              "      <td>0.0</td>\n",
              "      <td>0.0</td>\n",
              "      <td>0.0</td>\n",
              "      <td>0.0</td>\n",
              "      <td>0.0</td>\n",
              "      <td>0.0</td>\n",
              "      <td>0.0</td>\n",
              "      <td>0.0</td>\n",
              "      <td>0.0</td>\n",
              "      <td>0.0</td>\n",
              "      <td>0.0</td>\n",
              "      <td>0.0</td>\n",
              "      <td>0.0</td>\n",
              "      <td>0.0</td>\n",
              "      <td>0.0</td>\n",
              "      <td>0.0</td>\n",
              "      <td>0.0</td>\n",
              "      <td>0.0</td>\n",
              "      <td>0.0</td>\n",
              "      <td>0.0</td>\n",
              "      <td>0.0</td>\n",
              "      <td>0.0</td>\n",
              "      <td>0.0</td>\n",
              "      <td>0.000052</td>\n",
              "      <td>0.0</td>\n",
              "      <td>0.0</td>\n",
              "    </tr>\n",
              "  </tbody>\n",
              "</table>\n",
              "</div>"
            ],
            "text/plain": [
              "   Project Stage   GPS (Latitude)  ...  District_Rutsiro  District_Rwamagana\n",
              "0            0.0        -0.000125  ...               0.0                 0.0\n",
              "1            0.0        -0.000125  ...               0.0                 0.0\n",
              "2            0.0        -0.000125  ...               0.0                 0.0\n",
              "3            0.0        -0.000125  ...               0.0                 0.0\n",
              "4            0.0        -0.000126  ...               0.0                 0.0\n",
              "\n",
              "[5 rows x 57 columns]"
            ]
          },
          "metadata": {
            "tags": []
          },
          "execution_count": 5
        }
      ]
    },
    {
      "cell_type": "code",
      "metadata": {
        "id": "ZPNZu5gBK8hF",
        "colab_type": "code",
        "colab": {
          "base_uri": "https://localhost:8080/",
          "height": 467
        },
        "outputId": "cefa9657-d843-4cbb-91b5-da81bbaa8118"
      },
      "source": [
        "import scipy.cluster.hierarchy as shc \n",
        "plt.figure(figsize=(10,7))\n",
        "plt.title(\"Dendrograms\")\n",
        "dend = shc.dendrogram(shc.linkage(data_scaled,method='ward'))"
      ],
      "execution_count": 6,
      "outputs": [
        {
          "output_type": "display_data",
          "data": {
            "image/png": "[encoded data removed]",
            "text/plain": [
              "<Figure size 720x504 with 1 Axes>"
            ]
          },
          "metadata": {
            "tags": [],
            "needs_background": "light"
          }
        }
      ]
    },
    {
      "cell_type": "code",
      "metadata": {
        "id": "IrfUT1PVLc_2",
        "colab_type": "code",
        "colab": {
          "base_uri": "https://localhost:8080/",
          "height": 484
        },
        "outputId": "ab0742b7-ba2d-49ce-d3dc-18e9437063e7"
      },
      "source": [
        "plt.figure(figsize=(10,7))\n",
        "plt.title(\"Dendrograms for threshold\")\n",
        "dend = shc.dendrogram(shc.linkage(data_scaled,method='ward'))\n",
        "plt.axhline(y=0.025,color='r',linestyle='--')"
      ],
      "execution_count": 7,
      "outputs": [
        {
          "output_type": "execute_result",
          "data": {
            "text/plain": [
              "<matplotlib.lines.Line2D at 0x7f24fcd68630>"
            ]
          },
          "metadata": {
            "tags": []
          },
          "execution_count": 7
        },
        {
          "output_type": "display_data",
          "data": {
            "image/png": "[encoded data removed]",
            "text/plain": [
              "<Figure size 720x504 with 1 Axes>"
            ]
          },
          "metadata": {
            "tags": [],
            "needs_background": "light"
          }
        }
      ]
    },
    {
      "cell_type": "code",
      "metadata": {
        "id": "tJUaoyf3MlO9",
        "colab_type": "code",
        "colab": {}
      },
      "source": [
        "from sklearn.cluster import AgglomerativeClustering\n",
        "cluster = AgglomerativeClustering(n_clusters=3, affinity='euclidean', linkage='ward')\n",
        "cluster.fit_predict(data_scaled)\n",
        "cluster_list = cluster.fit_predict(data_scaled)"
      ],
      "execution_count": 8,
      "outputs": []
    },
    {
      "cell_type": "code",
      "metadata": {
        "id": "FzeCsd3gZpCV",
        "colab_type": "code",
        "colab": {
          "base_uri": "https://localhost:8080/",
          "height": 55
        },
        "outputId": "7621a15e-dc29-4ab3-82f7-c87107e99774"
      },
      "source": [
        "len(cluster_list)"
      ],
      "execution_count": 9,
      "outputs": [
        {
          "output_type": "execute_result",
          "data": {
            "text/plain": [
              "1331"
            ]
          },
          "metadata": {
            "tags": []
          },
          "execution_count": 9
        }
      ]
    },
    {
      "cell_type": "code",
      "metadata": {
        "id": "ubezyMFiOfwr",
        "colab_type": "code",
        "colab": {
          "base_uri": "https://localhost:8080/",
          "height": 479
        },
        "outputId": "ac5ceb4a-f159-4ce4-c188-394d6e1a6d24"
      },
      "source": [
        "plt.figure(figsize=(10,7))\n",
        "plt.scatter(data_scaled['Project Stage'],data_scaled['Bank Branch'],c=cluster.labels_)"
      ],
      "execution_count": 10,
      "outputs": [
        {
          "output_type": "execute_result",
          "data": {
            "text/plain": [
              "<matplotlib.collections.PathCollection at 0x7f24f7cd43c8>"
            ]
          },
          "metadata": {
            "tags": []
          },
          "execution_count": 10
        },
        {
          "output_type": "display_data",
          "data": {
            "image/png": "[encoded data removed]",
            "text/plain": [
              "<Figure size 720x504 with 1 Axes>"
            ]
          },
          "metadata": {
            "tags": [],
            "needs_background": "light"
          }
        }
      ]
    },
    {
      "cell_type": "code",
      "metadata": {
        "id": "PJB2sEr3bwAQ",
        "colab_type": "code",
        "colab": {}
      },
      "source": [
        "data['Cluster'] = cluster_list"
      ],
      "execution_count": 11,
      "outputs": []
    },
    {
      "cell_type": "code",
      "metadata": {
        "id": "0JpF6pk3b9Oi",
        "colab_type": "code",
        "colab": {
          "base_uri": "https://localhost:8080/",
          "height": 108
        },
        "outputId": "81d26b90-eb00-4bfc-c2c5-1089fb41792f"
      },
      "source": [
        "data['Cluster'].value_counts()"
      ],
      "execution_count": 12,
      "outputs": [
        {
          "output_type": "execute_result",
          "data": {
            "text/plain": [
              "0    651\n",
              "1    508\n",
              "2    172\n",
              "Name: Cluster, dtype: int64"
            ]
          },
          "metadata": {
            "tags": []
          },
          "execution_count": 12
        }
      ]
    },
    {
      "cell_type": "code",
      "metadata": {
        "id": "oRHWmakecF1V",
        "colab_type": "code",
        "colab": {}
      },
      "source": [
        "df = pd.read_csv('https://raw.githubusercontent.com/Lambda-School-Labs/Labs25-Bridges_to_Prosperity-TeamC-ds/main/final_csv/final_model_df.csv')"
      ],
      "execution_count": 13,
      "outputs": []
    },
    {
      "cell_type": "code",
      "metadata": {
        "id": "1ukfZJlHf7OP",
        "colab_type": "code",
        "colab": {
          "base_uri": "https://localhost:8080/",
          "height": 55
        },
        "outputId": "06224619-e47c-4569-8e36-b801cb605b18"
      },
      "source": [
        "df.shape"
      ],
      "execution_count": 14,
      "outputs": [
        {
          "output_type": "execute_result",
          "data": {
            "text/plain": [
              "(1347, 31)"
            ]
          },
          "metadata": {
            "tags": []
          },
          "execution_count": 14
        }
      ]
    },
    {
      "cell_type": "code",
      "metadata": {
        "id": "KmVLGDOJpWWH",
        "colab_type": "code",
        "colab": {}
      },
      "source": [
        "# Replace \"Unknown\" in Lon and Lat with 0.0\n",
        "df['GPS (Longitude)'].replace(to_replace=\"Unknown\",value=0.0,inplace=True)\n",
        "df[' GPS (Latitude)'].replace(to_replace=\"Unknown\",value=0.0,inplace=True)"
      ],
      "execution_count": 15,
      "outputs": []
    },
    {
      "cell_type": "code",
      "metadata": {
        "id": "rj6xUv-fhBwj",
        "colab_type": "code",
        "colab": {}
      },
      "source": [
        "df.drop(df[df['Project Stage'] == 'Prospecting'].index,inplace=True)"
      ],
      "execution_count": 16,
      "outputs": []
    },
    {
      "cell_type": "code",
      "metadata": {
        "id": "IEKqJ0DIhONJ",
        "colab_type": "code",
        "colab": {}
      },
      "source": [
        "# Drop outliers in long and latitude\n",
        "df.drop(df[df[' GPS (Latitude)'] == 0.0].index,inplace=True)"
      ],
      "execution_count": 17,
      "outputs": []
    },
    {
      "cell_type": "code",
      "metadata": {
        "id": "BnIg0MsFhRNJ",
        "colab_type": "code",
        "colab": {}
      },
      "source": [
        "df.drop(df[df['GPS (Longitude)'] == 0.0].index,inplace=True)"
      ],
      "execution_count": 18,
      "outputs": []
    },
    {
      "cell_type": "code",
      "metadata": {
        "id": "u5SYKtRVpKv8",
        "colab_type": "code",
        "colab": {}
      },
      "source": [
        "# Too many unknowns in number of individuals served, so we drop it \n",
        "df.drop(columns=['Individuals Directly Served'],inplace=True)"
      ],
      "execution_count": 19,
      "outputs": []
    },
    {
      "cell_type": "code",
      "metadata": {
        "id": "tte-3RMypMAV",
        "colab_type": "code",
        "colab": {
          "base_uri": "https://localhost:8080/",
          "height": 55
        },
        "outputId": "c6e040ca-d77e-4263-98ec-8c18e0a8650c"
      },
      "source": [
        "df.shape"
      ],
      "execution_count": 20,
      "outputs": [
        {
          "output_type": "execute_result",
          "data": {
            "text/plain": [
              "(1331, 30)"
            ]
          },
          "metadata": {
            "tags": []
          },
          "execution_count": 20
        }
      ]
    },
    {
      "cell_type": "code",
      "metadata": {
        "id": "p9KMGD2zmtYW",
        "colab_type": "code",
        "colab": {
          "base_uri": "https://localhost:8080/",
          "height": 55
        },
        "outputId": "77a7767e-afb8-420e-e26c-4fbf71d58233"
      },
      "source": [
        "data.shape"
      ],
      "execution_count": 21,
      "outputs": [
        {
          "output_type": "execute_result",
          "data": {
            "text/plain": [
              "(1331, 58)"
            ]
          },
          "metadata": {
            "tags": []
          },
          "execution_count": 21
        }
      ]
    },
    {
      "cell_type": "code",
      "metadata": {
        "id": "-2fvint2ti_-",
        "colab_type": "code",
        "colab": {
          "base_uri": "https://localhost:8080/",
          "height": 55
        },
        "outputId": "c56183ff-96f1-4378-c757-565391c4420b"
      },
      "source": [
        "data_scaled.shape"
      ],
      "execution_count": 22,
      "outputs": [
        {
          "output_type": "execute_result",
          "data": {
            "text/plain": [
              "(1331, 57)"
            ]
          },
          "metadata": {
            "tags": []
          },
          "execution_count": 22
        }
      ]
    },
    {
      "cell_type": "code",
      "metadata": {
        "id": "6fGUIYzwtlOL",
        "colab_type": "code",
        "colab": {}
      },
      "source": [
        "# add cluster labels to df in db \n",
        "df['Cluster'] = cluster_list"
      ],
      "execution_count": 23,
      "outputs": []
    },
    {
      "cell_type": "code",
      "metadata": {
        "id": "NDFj4BJsKItQ",
        "colab_type": "code",
        "colab": {}
      },
      "source": [
        "# send csv to db \n",
        "df.to_csv('df_clusters.csv',index=False)"
      ],
      "execution_count": 24,
      "outputs": []
    },
    {
      "cell_type": "code",
      "metadata": {
        "id": "jI0_4uH8L3Gq",
        "colab_type": "code",
        "colab": {}
      },
      "source": [
        ""
      ],
      "execution_count": null,
      "outputs": []
    }
  ]
}
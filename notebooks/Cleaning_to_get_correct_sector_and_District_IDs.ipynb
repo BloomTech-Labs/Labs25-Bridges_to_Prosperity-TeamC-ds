{
  "nbformat": 4,
  "nbformat_minor": 0,
  "metadata": {
    "colab": {
      "name": "Cleaning to get correct sector and District IDs.ipynb",
      "provenance": [],
      "include_colab_link": true
    },
    "kernelspec": {
      "name": "python3",
      "display_name": "Python 3"
    }
  },
  "cells": [
    {
      "cell_type": "markdown",
      "metadata": {
        "id": "view-in-github",
        "colab_type": "text"
      },
      "source": [
        "<a href=\"https://colab.research.google.com/github/Lambda-School-Labs/Labs25-Bridges_to_Prosperity-TeamC-ds/blob/feature%2Fget-correct-sect-dist-gov-ID%2Ftrent-bernhisel/notebooks/Cleaning_to_get_correct_sector_and_District_IDs.ipynb\" target=\"_parent\"><img src=\"https://colab.research.google.com/assets/colab-badge.svg\" alt=\"Open In Colab\"/></a>"
      ]
    },
    {
      "cell_type": "code",
      "metadata": {
        "id": "zy7O7Z4pDKvB",
        "colab_type": "code",
        "colab": {}
      },
      "source": [
        "import pandas as pd"
      ],
      "execution_count": 146,
      "outputs": []
    },
    {
      "cell_type": "code",
      "metadata": {
        "id": "r9OBQtl_DOCR",
        "colab_type": "code",
        "colab": {}
      },
      "source": [
        "# gov_df = pd.read_excel('/content/Rwanda Administrative Levels and Codes_Province through Village_2019.02.28 (1).xlsx', encoding='latin-1')\n",
        "bridges_df = pd.read_csv('https://raw.githubusercontent.com/Lambda-School-Labs/Labs25-Bridges_to_Prosperity-TeamC-ds/main/final_csv/final.csv')\n",
        "gov_unique = pd.read_csv('/content/unique_gov_id_PDS.csv')"
      ],
      "execution_count": 147,
      "outputs": []
    },
    {
      "cell_type": "code",
      "metadata": {
        "id": "ZXDOeZU-DYN7",
        "colab_type": "code",
        "colab": {}
      },
      "source": [
        "# gov_df = gov_df.drop(columns=['Cell', 'Cell_ID', 'Vill_ID', 'Village', 'FID', 'Province', 'Status'])"
      ],
      "execution_count": 148,
      "outputs": []
    },
    {
      "cell_type": "code",
      "metadata": {
        "id": "5MJ-xlpPainN",
        "colab_type": "code",
        "colab": {}
      },
      "source": [
        "gov_unique = gov_unique.drop(columns=['Prov_ID', 'Province'])"
      ],
      "execution_count": 149,
      "outputs": []
    },
    {
      "cell_type": "code",
      "metadata": {
        "id": "0YOqj1l0DoBv",
        "colab_type": "code",
        "colab": {}
      },
      "source": [
        "# make sure that all the sectors in both dataframes are title case. \n",
        "bridges_df['Sector'] = bridges_df['Sector'].str.title()\n",
        "gov_unique['Sector'] = gov_unique['Sector'].str.title()"
      ],
      "execution_count": 150,
      "outputs": []
    },
    {
      "cell_type": "code",
      "metadata": {
        "id": "HsHcgfE6Dw_H",
        "colab_type": "code",
        "colab": {}
      },
      "source": [
        "#  testing_df = bridges_df[bridges_df['Sector'] == 'Nyarugenge']"
      ],
      "execution_count": 151,
      "outputs": []
    },
    {
      "cell_type": "code",
      "metadata": {
        "id": "n_gctDDXD7vt",
        "colab_type": "code",
        "colab": {}
      },
      "source": [
        "# testing_df[testing_df['Project Code'] == 1014597]"
      ],
      "execution_count": 152,
      "outputs": []
    },
    {
      "cell_type": "code",
      "metadata": {
        "id": "OtdZ6ShJZujO",
        "colab_type": "code",
        "colab": {
          "base_uri": "https://localhost:8080/",
          "height": 34
        },
        "outputId": "88292f4f-8201-4496-c304-e051ebe43116"
      },
      "source": [
        "# the initial shape of our bridges dataframe\n",
        "bridges_df.shape"
      ],
      "execution_count": 153,
      "outputs": [
        {
          "output_type": "execute_result",
          "data": {
            "text/plain": [
              "(4483, 19)"
            ]
          },
          "metadata": {
            "tags": []
          },
          "execution_count": 153
        }
      ]
    },
    {
      "cell_type": "code",
      "metadata": {
        "id": "0iVQL57CVUsJ",
        "colab_type": "code",
        "colab": {}
      },
      "source": [
        "# Need to update certain project codes Sectors to the correct sector\n",
        "\n",
        "# mapping of correct sector by Project code. \n",
        "\n",
        "sector_mapping = {1007327: 'Juru',\n",
        " 1007328: 'Masaka',\n",
        " 1007329: 'Masaka',\n",
        " 1007330: 'Masaka',\n",
        " 1007343: 'Kivuruga',\n",
        " 1007345: 'Busengo',\n",
        " 1007354: 'Kivuruga',\n",
        " 1007404: 'Mataba',\n",
        " 1007508: 'Kirimbi',\n",
        " 1007509: 'Kirimbi',\n",
        " 1007515: 'Mahembe',\n",
        " 1007518: 'Macuba',\n",
        " 1007521: 'Macuba',\n",
        " 1007530: 'Kanyinya',\n",
        " 1007531: 'Gisozi',\n",
        " 1007583: 'Munini',\n",
        " 1007593: 'Kivu',\n",
        " 1007626: 'Bushoki',\n",
        " 1007629: 'Bushoki',\n",
        " 1007633: 'Base',\n",
        " 1007634: 'Tumba',\n",
        " 1007652: 'Jali',\n",
        " 1007653: 'Jali',\n",
        " 1007661: 'Bugarama',\n",
        " 1007663: 'Gitambi',\n",
        " 1007898: 'Gakenke',\n",
        " 1009329: 'Muhondo',\n",
        " 1012701: 'Bweramana',\n",
        " 1012812: 'Mushubati',\n",
        " 1013233: 'Nemba',\n",
        " 1013270: 'Kibilizi',\n",
        " 1014009: 'Karengera',\n",
        " 1014011: 'Karengera',\n",
        " 1014021: 'Karengera',\n",
        " 1014060: 'Ruganda',\n",
        " 1014154: 'Mururu',\n",
        " 1014161: 'Nyakabuye',\n",
        " 1014340: 'Kayumbu',\n",
        " 1014493: 'Jarama',\n",
        " 1014511: 'Rukumberi',\n",
        " 1014512: 'Rukumberi',\n",
        " 1014554: 'Rukumberi',\n",
        " 1014555: 'Rukumberi',\n",
        " 1014560: 'Gishali',\n",
        " 1014569: 'Ruhuha'}\n"
      ],
      "execution_count": 154,
      "outputs": []
    },
    {
      "cell_type": "code",
      "metadata": {
        "id": "hDFp4TZvYre9",
        "colab_type": "code",
        "colab": {}
      },
      "source": [
        "# loop over the dictionary and update the sector for each project code\n",
        "\n",
        "for project, sector in sector_mapping.items():\n",
        "  bridges_df.loc[bridges_df['Project Code'] == project, 'Sector'] = sector "
      ],
      "execution_count": 155,
      "outputs": []
    },
    {
      "cell_type": "markdown",
      "metadata": {
        "id": "MTjsQqz7Uqck",
        "colab_type": "text"
      },
      "source": [
        " 1013611: \n",
        " District = 'Nyaruguru',\n",
        " Sector = Mata\n",
        " Cell = Nyamabuye"
      ]
    },
    {
      "cell_type": "code",
      "metadata": {
        "id": "YNhKOLYQZRL0",
        "colab_type": "code",
        "colab": {
          "base_uri": "https://localhost:8080/",
          "height": 291
        },
        "outputId": "7a9ec7c0-018f-4e63-a2bd-f41b090d6b74"
      },
      "source": [
        "# need to update the project code 1013611 and correct the district, sector and cell\n",
        "bridges_df.loc[bridges_df['Project Code'] == 1013611, 'District'] = 'Nyaruguru'\n",
        "bridges_df.loc[bridges_df['Project Code'] == 1013611, 'Sector'] = 'Mata'\n",
        "bridges_df.loc[bridges_df['Project Code'] == 1013611, 'Cell'] = 'Nyamabuye'\n",
        "\n",
        "bridges_df.loc[bridges_df['Project Code'] == 1013611]"
      ],
      "execution_count": 156,
      "outputs": [
        {
          "output_type": "execute_result",
          "data": {
            "text/html": [
              "<div>\n",
              "<style scoped>\n",
              "    .dataframe tbody tr th:only-of-type {\n",
              "        vertical-align: middle;\n",
              "    }\n",
              "\n",
              "    .dataframe tbody tr th {\n",
              "        vertical-align: top;\n",
              "    }\n",
              "\n",
              "    .dataframe thead th {\n",
              "        text-align: right;\n",
              "    }\n",
              "</style>\n",
              "<table border=\"1\" class=\"dataframe\">\n",
              "  <thead>\n",
              "    <tr style=\"text-align: right;\">\n",
              "      <th></th>\n",
              "      <th>Province</th>\n",
              "      <th>District</th>\n",
              "      <th>Sector</th>\n",
              "      <th>Cell</th>\n",
              "      <th>Bridge Site Name</th>\n",
              "      <th>Project Stage</th>\n",
              "      <th>Project Code</th>\n",
              "      <th>Bridge Type</th>\n",
              "      <th>GPS (Latitude)</th>\n",
              "      <th>GPS (Longitude)</th>\n",
              "      <th>Individuals Directly Served</th>\n",
              "      <th>Form: Form Name</th>\n",
              "      <th>Assessment Date</th>\n",
              "      <th>Original_Community_col</th>\n",
              "      <th>Community_Served</th>\n",
              "      <th>Prov_ID</th>\n",
              "      <th>District_ID</th>\n",
              "      <th>Sector_ID</th>\n",
              "      <th>Cell_ID</th>\n",
              "    </tr>\n",
              "  </thead>\n",
              "  <tbody>\n",
              "    <tr>\n",
              "      <th>750</th>\n",
              "      <td>Southern Province</td>\n",
              "      <td>Nyaruguru</td>\n",
              "      <td>Mata</td>\n",
              "      <td>Nyamabuye</td>\n",
              "      <td>Tububuro</td>\n",
              "      <td>Rejected</td>\n",
              "      <td>1013611</td>\n",
              "      <td>Suspension</td>\n",
              "      <td>-2.59941667</td>\n",
              "      <td>29.56459167</td>\n",
              "      <td>Unknown</td>\n",
              "      <td>Project Assessment - 2018.9.26</td>\n",
              "      <td>2018-09-26</td>\n",
              "      <td>Community Served 1</td>\n",
              "      <td>Rwinkanka</td>\n",
              "      <td>2</td>\n",
              "      <td>25</td>\n",
              "      <td>2305</td>\n",
              "      <td>230503</td>\n",
              "    </tr>\n",
              "    <tr>\n",
              "      <th>2029</th>\n",
              "      <td>Southern Province</td>\n",
              "      <td>Nyaruguru</td>\n",
              "      <td>Mata</td>\n",
              "      <td>Nyamabuye</td>\n",
              "      <td>Tububuro</td>\n",
              "      <td>Rejected</td>\n",
              "      <td>1013611</td>\n",
              "      <td>Suspension</td>\n",
              "      <td>-2.59941667</td>\n",
              "      <td>29.56459167</td>\n",
              "      <td>Unknown</td>\n",
              "      <td>Project Assessment - 2018.9.26</td>\n",
              "      <td>2018-09-26</td>\n",
              "      <td>Community Served 2</td>\n",
              "      <td>Nyacyondo</td>\n",
              "      <td>2</td>\n",
              "      <td>25</td>\n",
              "      <td>2305</td>\n",
              "      <td>230503</td>\n",
              "    </tr>\n",
              "    <tr>\n",
              "      <th>3087</th>\n",
              "      <td>Southern Province</td>\n",
              "      <td>Nyaruguru</td>\n",
              "      <td>Mata</td>\n",
              "      <td>Nyamabuye</td>\n",
              "      <td>Tububuro</td>\n",
              "      <td>Rejected</td>\n",
              "      <td>1013611</td>\n",
              "      <td>Suspension</td>\n",
              "      <td>-2.59941667</td>\n",
              "      <td>29.56459167</td>\n",
              "      <td>Unknown</td>\n",
              "      <td>Project Assessment - 2018.9.26</td>\n",
              "      <td>2018-09-26</td>\n",
              "      <td>Community Served 3</td>\n",
              "      <td>Tububuru</td>\n",
              "      <td>2</td>\n",
              "      <td>25</td>\n",
              "      <td>2305</td>\n",
              "      <td>230503</td>\n",
              "    </tr>\n",
              "  </tbody>\n",
              "</table>\n",
              "</div>"
            ],
            "text/plain": [
              "               Province   District Sector  ... District_ID Sector_ID Cell_ID\n",
              "750   Southern Province  Nyaruguru   Mata  ...          25      2305  230503\n",
              "2029  Southern Province  Nyaruguru   Mata  ...          25      2305  230503\n",
              "3087  Southern Province  Nyaruguru   Mata  ...          25      2305  230503\n",
              "\n",
              "[3 rows x 19 columns]"
            ]
          },
          "metadata": {
            "tags": []
          },
          "execution_count": 156
        }
      ]
    },
    {
      "cell_type": "code",
      "metadata": {
        "id": "_qB7pVKobHMZ",
        "colab_type": "code",
        "colab": {
          "base_uri": "https://localhost:8080/",
          "height": 34
        },
        "outputId": "0fbeff9e-da22-49b0-af8d-81d164f03f34"
      },
      "source": [
        "# shape after making sector updates\n",
        "bridges_df.shape"
      ],
      "execution_count": 157,
      "outputs": [
        {
          "output_type": "execute_result",
          "data": {
            "text/plain": [
              "(4483, 19)"
            ]
          },
          "metadata": {
            "tags": []
          },
          "execution_count": 157
        }
      ]
    },
    {
      "cell_type": "code",
      "metadata": {
        "id": "0tj-mkzNEL5V",
        "colab_type": "code",
        "colab": {}
      },
      "source": [
        "# create a dataframe that merges the two if they have the same District\n",
        "# and Sector combination\n",
        "final = pd.merge(left=bridges_df, right=gov_unique,  left_on=['District', 'Sector'], right_on=['District', 'Sector'])"
      ],
      "execution_count": 163,
      "outputs": []
    },
    {
      "cell_type": "code",
      "metadata": {
        "id": "v8YcpPbcEiKU",
        "colab_type": "code",
        "colab": {
          "base_uri": "https://localhost:8080/",
          "height": 518
        },
        "outputId": "85de7557-f5c3-4cc6-f4e7-826e277b5ef3"
      },
      "source": [
        "print(final.shape)\n",
        "final.head()"
      ],
      "execution_count": 164,
      "outputs": [
        {
          "output_type": "stream",
          "text": [
            "(4483, 21)\n"
          ],
          "name": "stdout"
        },
        {
          "output_type": "execute_result",
          "data": {
            "text/html": [
              "<div>\n",
              "<style scoped>\n",
              "    .dataframe tbody tr th:only-of-type {\n",
              "        vertical-align: middle;\n",
              "    }\n",
              "\n",
              "    .dataframe tbody tr th {\n",
              "        vertical-align: top;\n",
              "    }\n",
              "\n",
              "    .dataframe thead th {\n",
              "        text-align: right;\n",
              "    }\n",
              "</style>\n",
              "<table border=\"1\" class=\"dataframe\">\n",
              "  <thead>\n",
              "    <tr style=\"text-align: right;\">\n",
              "      <th></th>\n",
              "      <th>Province</th>\n",
              "      <th>District</th>\n",
              "      <th>Sector</th>\n",
              "      <th>Cell</th>\n",
              "      <th>Bridge Site Name</th>\n",
              "      <th>Project Stage</th>\n",
              "      <th>Project Code</th>\n",
              "      <th>Bridge Type</th>\n",
              "      <th>GPS (Latitude)</th>\n",
              "      <th>GPS (Longitude)</th>\n",
              "      <th>Individuals Directly Served</th>\n",
              "      <th>Form: Form Name</th>\n",
              "      <th>Assessment Date</th>\n",
              "      <th>Original_Community_col</th>\n",
              "      <th>Community_Served</th>\n",
              "      <th>Prov_ID</th>\n",
              "      <th>District_ID</th>\n",
              "      <th>Sector_ID</th>\n",
              "      <th>Cell_ID</th>\n",
              "      <th>Dist_ID</th>\n",
              "      <th>Sect_ID</th>\n",
              "    </tr>\n",
              "  </thead>\n",
              "  <tbody>\n",
              "    <tr>\n",
              "      <th>0</th>\n",
              "      <td>Western Province</td>\n",
              "      <td>Rusizi</td>\n",
              "      <td>Giheke</td>\n",
              "      <td>Gako</td>\n",
              "      <td>Buzi</td>\n",
              "      <td>Rejected</td>\n",
              "      <td>1014107</td>\n",
              "      <td>Suspended</td>\n",
              "      <td>-2.42056</td>\n",
              "      <td>28.9662</td>\n",
              "      <td>Unknown</td>\n",
              "      <td>Project Assessment - 2018.10.29</td>\n",
              "      <td>2018-10-29</td>\n",
              "      <td>Community Served 1</td>\n",
              "      <td>Buzi</td>\n",
              "      <td>3</td>\n",
              "      <td>36</td>\n",
              "      <td>3605</td>\n",
              "      <td>370501</td>\n",
              "      <td>36</td>\n",
              "      <td>3605</td>\n",
              "    </tr>\n",
              "    <tr>\n",
              "      <th>1</th>\n",
              "      <td>Western Province</td>\n",
              "      <td>Rusizi</td>\n",
              "      <td>Giheke</td>\n",
              "      <td>Gako</td>\n",
              "      <td>Kamigisha</td>\n",
              "      <td>Rejected</td>\n",
              "      <td>1014106</td>\n",
              "      <td>Suspended</td>\n",
              "      <td>-2.42486</td>\n",
              "      <td>28.957259999999998</td>\n",
              "      <td>Unknown</td>\n",
              "      <td>Project Assessment - 2018.10.29</td>\n",
              "      <td>2018-10-29</td>\n",
              "      <td>Community Served 1</td>\n",
              "      <td>Kabuga</td>\n",
              "      <td>3</td>\n",
              "      <td>36</td>\n",
              "      <td>3605</td>\n",
              "      <td>370501</td>\n",
              "      <td>36</td>\n",
              "      <td>3605</td>\n",
              "    </tr>\n",
              "    <tr>\n",
              "      <th>2</th>\n",
              "      <td>Western Province</td>\n",
              "      <td>Rusizi</td>\n",
              "      <td>Giheke</td>\n",
              "      <td>Gako</td>\n",
              "      <td>Gacyamo</td>\n",
              "      <td>Rejected</td>\n",
              "      <td>1014108</td>\n",
              "      <td>Suspension</td>\n",
              "      <td>-2.41855</td>\n",
              "      <td>28.969459999999998</td>\n",
              "      <td>Unknown</td>\n",
              "      <td>Project Assessment - 2018.10.29</td>\n",
              "      <td>2018-10-29</td>\n",
              "      <td>Community Served 1</td>\n",
              "      <td>Gacyamo</td>\n",
              "      <td>3</td>\n",
              "      <td>36</td>\n",
              "      <td>3605</td>\n",
              "      <td>370501</td>\n",
              "      <td>36</td>\n",
              "      <td>3605</td>\n",
              "    </tr>\n",
              "    <tr>\n",
              "      <th>3</th>\n",
              "      <td>Western Province</td>\n",
              "      <td>Rusizi</td>\n",
              "      <td>Giheke</td>\n",
              "      <td>Gako</td>\n",
              "      <td>Nyakabanda</td>\n",
              "      <td>Rejected</td>\n",
              "      <td>1014105</td>\n",
              "      <td>Suspended</td>\n",
              "      <td>-2.42715</td>\n",
              "      <td>28.95369</td>\n",
              "      <td>Unknown</td>\n",
              "      <td>Project Assessment - 2018.10.29</td>\n",
              "      <td>2018-10-29</td>\n",
              "      <td>Community Served 1</td>\n",
              "      <td>Kanoga</td>\n",
              "      <td>3</td>\n",
              "      <td>36</td>\n",
              "      <td>3605</td>\n",
              "      <td>370501</td>\n",
              "      <td>36</td>\n",
              "      <td>3605</td>\n",
              "    </tr>\n",
              "    <tr>\n",
              "      <th>4</th>\n",
              "      <td>Western Province</td>\n",
              "      <td>Rusizi</td>\n",
              "      <td>Giheke</td>\n",
              "      <td>Rwega</td>\n",
              "      <td>Impala</td>\n",
              "      <td>Rejected</td>\n",
              "      <td>1014166</td>\n",
              "      <td>Unknown</td>\n",
              "      <td>-2.44246</td>\n",
              "      <td>28.9333</td>\n",
              "      <td>Unknown</td>\n",
              "      <td>Project Assessment - 2018.10.29</td>\n",
              "      <td>2018-10-29</td>\n",
              "      <td>Community Served 1</td>\n",
              "      <td>Impala</td>\n",
              "      <td>3</td>\n",
              "      <td>36</td>\n",
              "      <td>3605</td>\n",
              "      <td>360507</td>\n",
              "      <td>36</td>\n",
              "      <td>3605</td>\n",
              "    </tr>\n",
              "  </tbody>\n",
              "</table>\n",
              "</div>"
            ],
            "text/plain": [
              "           Province District  Sector  ... Cell_ID Dist_ID Sect_ID\n",
              "0  Western Province   Rusizi  Giheke  ...  370501      36    3605\n",
              "1  Western Province   Rusizi  Giheke  ...  370501      36    3605\n",
              "2  Western Province   Rusizi  Giheke  ...  370501      36    3605\n",
              "3  Western Province   Rusizi  Giheke  ...  370501      36    3605\n",
              "4  Western Province   Rusizi  Giheke  ...  360507      36    3605\n",
              "\n",
              "[5 rows x 21 columns]"
            ]
          },
          "metadata": {
            "tags": []
          },
          "execution_count": 164
        }
      ]
    },
    {
      "cell_type": "code",
      "metadata": {
        "id": "b0cA7__JE9DB",
        "colab_type": "code",
        "colab": {
          "base_uri": "https://localhost:8080/",
          "height": 34
        },
        "outputId": "473d4643-caf4-4c48-deb7-3ce310297758"
      },
      "source": [
        "# make sure the observations in the final are the same as what existed in the\n",
        "# original dataframe\n",
        "bridges_df.shape[0] - final.shape[0]"
      ],
      "execution_count": 171,
      "outputs": [
        {
          "output_type": "execute_result",
          "data": {
            "text/plain": [
              "0"
            ]
          },
          "metadata": {
            "tags": []
          },
          "execution_count": 171
        }
      ]
    },
    {
      "cell_type": "code",
      "metadata": {
        "id": "Sffg1TCxdQAC",
        "colab_type": "code",
        "colab": {
          "base_uri": "https://localhost:8080/",
          "height": 52
        },
        "outputId": "19208b00-ecfa-4079-e20b-c3ca53419707"
      },
      "source": [
        "# make sure that there are the same number of observations per project code \n",
        "# in the final merged dataframe as existed in the original bridges dataframe\n",
        "(final['Project Code'].value_counts() == bridges_df['Project Code'].value_counts()).value_counts()"
      ],
      "execution_count": 170,
      "outputs": [
        {
          "output_type": "execute_result",
          "data": {
            "text/plain": [
              "True    1347\n",
              "Name: Project Code, dtype: int64"
            ]
          },
          "metadata": {
            "tags": []
          },
          "execution_count": 170
        }
      ]
    },
    {
      "cell_type": "code",
      "metadata": {
        "id": "WhfvN1oRWElG",
        "colab_type": "code",
        "colab": {
          "base_uri": "https://localhost:8080/",
          "height": 87
        },
        "outputId": "685411e4-72f6-4766-ba9c-eff790024d5f"
      },
      "source": [
        "print(f'Unique B2P Sector Sites : {len(bridges_df[\"Sector\"].unique())}')\n",
        "print(f'Unique Gov Sector Sites : {len(gov_unique[\"Sector\"].unique())}')\n",
        "print(f'Unique B2P District Sites : {len(bridges_df[\"District\"].unique())}')\n",
        "print(f'Unique Gov District Sites : {len(gov_unique[\"District\"].unique())}')"
      ],
      "execution_count": 172,
      "outputs": [
        {
          "output_type": "stream",
          "text": [
            "Unique B2P Sector Sites : 291\n",
            "Unique Gov Sector Sites : 380\n",
            "Unique B2P District Sites : 30\n",
            "Unique Gov District Sites : 30\n"
          ],
          "name": "stdout"
        }
      ]
    },
    {
      "cell_type": "code",
      "metadata": {
        "id": "Khl0xR2BkiQ4",
        "colab_type": "code",
        "colab": {}
      },
      "source": [
        "# make sure the same districts appear in both the original dataframes\n",
        "for i in bridges_df['District'].unique():\n",
        "  if i in gov_unique['District'].unique():\n",
        "    pass\n",
        "  else:\n",
        "    print(i, False)"
      ],
      "execution_count": 173,
      "outputs": []
    },
    {
      "cell_type": "code",
      "metadata": {
        "id": "R59INdU8Xxj3",
        "colab_type": "code",
        "colab": {}
      },
      "source": [
        "# make sure there are no sectors that appear in the b2p that dont appear in the\n",
        "# government data. \n",
        "# there were and we ended up cleaning these values. \n",
        "for i in bridges_df['Sector'].unique():\n",
        "  if i in gov_unique['Sector'].unique():\n",
        "    pass\n",
        "  else:\n",
        "    print(i, False)"
      ],
      "execution_count": 175,
      "outputs": []
    },
    {
      "cell_type": "code",
      "metadata": {
        "id": "CCuMYnc3hNvM",
        "colab_type": "code",
        "colab": {
          "base_uri": "https://localhost:8080/",
          "height": 52
        },
        "outputId": "f2d8831c-2633-4a5f-8fe3-35d75f2cffe3"
      },
      "source": [
        "print(f'Unique Project codes before merge : {len(bridges_df[\"Project Code\"].unique())}')\n",
        "print(f'Unique Project Codes after merge : {len(dumb[\"Project Code\"].unique())}')"
      ],
      "execution_count": 176,
      "outputs": [
        {
          "output_type": "stream",
          "text": [
            "Unique Project codes before merge : 1347\n",
            "Unique Project Codes after merge : 1347\n"
          ],
          "name": "stdout"
        }
      ]
    },
    {
      "cell_type": "code",
      "metadata": {
        "id": "RofzO4R-l4al",
        "colab_type": "code",
        "colab": {}
      },
      "source": [
        "cache = {}\n",
        "for i in bridges_df['Project Code'].unique():\n",
        "  if i in dumb['Project Code'].unique():\n",
        "    pass\n",
        "  else:\n",
        "    print(i, False)\n",
        "    cache[i] = \"\""
      ],
      "execution_count": 177,
      "outputs": []
    },
    {
      "cell_type": "code",
      "metadata": {
        "id": "96XDIDSAaZfN",
        "colab_type": "code",
        "colab": {}
      },
      "source": [
        "final = final.drop(columns=['District_ID', 'Sector_ID'])"
      ],
      "execution_count": 180,
      "outputs": []
    },
    {
      "cell_type": "code",
      "metadata": {
        "id": "rjmIFPjdjsBV",
        "colab_type": "code",
        "colab": {}
      },
      "source": [
        "final.to_csv('Final_with_gov_ID.csv')"
      ],
      "execution_count": 181,
      "outputs": []
    },
    {
      "cell_type": "code",
      "metadata": {
        "id": "lmiIChvDj1Ur",
        "colab_type": "code",
        "colab": {}
      },
      "source": [
        ""
      ],
      "execution_count": null,
      "outputs": []
    }
  ]
}
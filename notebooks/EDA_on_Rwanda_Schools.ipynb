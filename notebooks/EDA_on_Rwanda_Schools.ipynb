{
  "nbformat": 4,
  "nbformat_minor": 0,
  "metadata": {
    "colab": {
      "name": "EDA on Rwanda Schools.ipynb",
      "provenance": [],
      "authorship_tag": "ABX9TyMQakGiDbGaurHyyq0OlmfG",
      "include_colab_link": true
    },
    "kernelspec": {
      "name": "python3",
      "display_name": "Python 3"
    }
  },
  "cells": [
    {
      "cell_type": "markdown",
      "metadata": {
        "id": "view-in-github",
        "colab_type": "text"
      },
      "source": [
        "<a href=\"https://colab.research.google.com/github/Lambda-School-Labs/Labs25-Bridges_to_Prosperity-TeamC-ds/blob/feature%2Ftrent-bernhisel%2Fwebscraping-nb/notebooks/EDA_on_Rwanda_Schools.ipynb\" target=\"_parent\"><img src=\"https://colab.research.google.com/assets/colab-badge.svg\" alt=\"Open In Colab\"/></a>"
      ]
    },
    {
      "cell_type": "code",
      "metadata": {
        "id": "dqDMPLZkxyAI",
        "colab_type": "code",
        "colab": {}
      },
      "source": [
        "import pandas as pd"
      ],
      "execution_count": 1,
      "outputs": []
    },
    {
      "cell_type": "code",
      "metadata": {
        "id": "xU3P79Jmx9q9",
        "colab_type": "code",
        "colab": {
          "base_uri": "https://localhost:8080/",
          "height": 215
        },
        "outputId": "527c84fb-4da1-476e-8649-7d9ba2ec0b12"
      },
      "source": [
        "csv_url = 'https://raw.githubusercontent.com/Lambda-School-Labs/Labs25-Bridges_to_Prosperity-TeamC-ds/main/rwanda_data_files/Rwanda_Schools%20(1).csv'\n",
        "df = pd.read_csv(csv_url)\n",
        "print(df.shape)\n",
        "df = df.drop(columns='Unnamed: 0')\n",
        "df.head()"
      ],
      "execution_count": 6,
      "outputs": [
        {
          "output_type": "stream",
          "text": [
            "(3116, 5)\n"
          ],
          "name": "stdout"
        },
        {
          "output_type": "execute_result",
          "data": {
            "text/html": [
              "<div>\n",
              "<style scoped>\n",
              "    .dataframe tbody tr th:only-of-type {\n",
              "        vertical-align: middle;\n",
              "    }\n",
              "\n",
              "    .dataframe tbody tr th {\n",
              "        vertical-align: top;\n",
              "    }\n",
              "\n",
              "    .dataframe thead th {\n",
              "        text-align: right;\n",
              "    }\n",
              "</style>\n",
              "<table border=\"1\" class=\"dataframe\">\n",
              "  <thead>\n",
              "    <tr style=\"text-align: right;\">\n",
              "      <th></th>\n",
              "      <th>School Name</th>\n",
              "      <th>Province</th>\n",
              "      <th>District</th>\n",
              "      <th>Sector</th>\n",
              "    </tr>\n",
              "  </thead>\n",
              "  <tbody>\n",
              "    <tr>\n",
              "      <th>0</th>\n",
              "      <td>ACADEMIE DE LA SALLE</td>\n",
              "      <td>North</td>\n",
              "      <td>Gicumbi</td>\n",
              "      <td>Byumba</td>\n",
              "    </tr>\n",
              "    <tr>\n",
              "      <th>1</th>\n",
              "      <td>ACEC BIHEMBE</td>\n",
              "      <td>West</td>\n",
              "      <td>Nyabihu</td>\n",
              "      <td>Shyira</td>\n",
              "    </tr>\n",
              "    <tr>\n",
              "      <th>2</th>\n",
              "      <td>ADEGI GITUZA</td>\n",
              "      <td>East</td>\n",
              "      <td>Gatsibo</td>\n",
              "      <td>Kageyo</td>\n",
              "    </tr>\n",
              "    <tr>\n",
              "      <th>3</th>\n",
              "      <td>ADELAIDE</td>\n",
              "      <td>East</td>\n",
              "      <td>Kayonza</td>\n",
              "      <td>Kabare</td>\n",
              "    </tr>\n",
              "    <tr>\n",
              "      <th>4</th>\n",
              "      <td>ADEPR MATIMBA NURSERY PARENTS &amp;PRIMARY SCHOOL</td>\n",
              "      <td>East</td>\n",
              "      <td>Nyagatare</td>\n",
              "      <td>Matimba</td>\n",
              "    </tr>\n",
              "  </tbody>\n",
              "</table>\n",
              "</div>"
            ],
            "text/plain": [
              "                                     School Name Province   District   Sector\n",
              "0                           ACADEMIE DE LA SALLE    North    Gicumbi   Byumba\n",
              "1                                   ACEC BIHEMBE     West    Nyabihu   Shyira\n",
              "2                                  ADEGI GITUZA      East    Gatsibo   Kageyo\n",
              "3                                       ADELAIDE     East    Kayonza   Kabare\n",
              "4  ADEPR MATIMBA NURSERY PARENTS &PRIMARY SCHOOL     East  Nyagatare  Matimba"
            ]
          },
          "metadata": {
            "tags": []
          },
          "execution_count": 6
        }
      ]
    },
    {
      "cell_type": "code",
      "metadata": {
        "id": "d-JTcpuAy2sw",
        "colab_type": "code",
        "colab": {}
      },
      "source": [
        "# update the District, Sector, and Province to title case\n",
        "df['District'] = df['District'].str.title()\n",
        "df['Sector'] = df['Sector'].str.title()\n",
        "df['Province'] = df['Province'].str.title()"
      ],
      "execution_count": 14,
      "outputs": []
    },
    {
      "cell_type": "code",
      "metadata": {
        "id": "MeadSFmyyNij",
        "colab_type": "code",
        "colab": {
          "base_uri": "https://localhost:8080/",
          "height": 247
        },
        "outputId": "dcdd7f76-072b-41d6-d94e-78816cd1056c"
      },
      "source": [
        "# get the count of schools that are in each district, sector, province\n",
        "\n",
        "df.groupby('Sector').count()['School Name'].sort_values(ascending=False)"
      ],
      "execution_count": 15,
      "outputs": [
        {
          "output_type": "execute_result",
          "data": {
            "text/plain": [
              "Sector\n",
              "Ngoma         31\n",
              "Busasamana    26\n",
              "Ruhango       25\n",
              "Gisenyi       25\n",
              "Kageyo        23\n",
              "              ..\n",
              "Kanyinya       2\n",
              "Ntuba          1\n",
              "Nyagahanga     1\n",
              "Niboyi         1\n",
              "Gatoki         1\n",
              "Name: School Name, Length: 382, dtype: int64"
            ]
          },
          "metadata": {
            "tags": []
          },
          "execution_count": 15
        }
      ]
    },
    {
      "cell_type": "code",
      "metadata": {
        "id": "SzTj0N1DzlJe",
        "colab_type": "code",
        "colab": {}
      },
      "source": [
        ""
      ],
      "execution_count": null,
      "outputs": []
    }
  ]
}
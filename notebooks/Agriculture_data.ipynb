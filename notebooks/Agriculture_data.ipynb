{
  "nbformat": 4,
  "nbformat_minor": 0,
  "metadata": {
    "colab": {
      "name": "Agriculture-data.ipynb",
      "provenance": [],
      "collapsed_sections": []
    },
    "kernelspec": {
      "name": "python3",
      "display_name": "Python 3"
    }
  },
  "cells": [
    {
      "cell_type": "code",
      "metadata": {
        "id": "VxmXzUHE6hyc",
        "colab_type": "code",
        "colab": {}
      },
      "source": [
        ""
      ],
      "execution_count": null,
      "outputs": []
    },
    {
      "cell_type": "code",
      "metadata": {
        "id": "C21--NIA37DO",
        "colab_type": "code",
        "colab": {
          "base_uri": "https://localhost:8080/",
          "height": 160
        },
        "outputId": "f4dbdc28-0231-4148-ea63-223d4650b350"
      },
      "source": [
        "# import packages \n",
        "!pip install tabula-py\n",
        "import tabula\n",
        "import pandas as pd"
      ],
      "execution_count": 1,
      "outputs": [
        {
          "output_type": "stream",
          "text": [
            "Requirement already satisfied: tabula-py in /usr/local/lib/python3.6/dist-packages (2.2.0)\n",
            "Requirement already satisfied: distro in /usr/local/lib/python3.6/dist-packages (from tabula-py) (1.5.0)\n",
            "Requirement already satisfied: numpy in /usr/local/lib/python3.6/dist-packages (from tabula-py) (1.18.5)\n",
            "Requirement already satisfied: pandas>=0.25.3 in /usr/local/lib/python3.6/dist-packages (from tabula-py) (1.0.5)\n",
            "Requirement already satisfied: python-dateutil>=2.6.1 in /usr/local/lib/python3.6/dist-packages (from pandas>=0.25.3->tabula-py) (2.8.1)\n",
            "Requirement already satisfied: pytz>=2017.2 in /usr/local/lib/python3.6/dist-packages (from pandas>=0.25.3->tabula-py) (2018.9)\n",
            "Requirement already satisfied: six>=1.5 in /usr/local/lib/python3.6/dist-packages (from python-dateutil>=2.6.1->pandas>=0.25.3->tabula-py) (1.15.0)\n"
          ],
          "name": "stdout"
        }
      ]
    },
    {
      "cell_type": "code",
      "metadata": {
        "id": "zbocEICD6lYT",
        "colab_type": "code",
        "colab": {}
      },
      "source": [
        "# read in PDF with page number \n",
        "file_path = \"/EICV3_ThematicReport_Agriculture.pdf\"\n",
        "#Convert your file\n",
        "df = tabula.read_pdf(file_path, pages=55)"
      ],
      "execution_count": 2,
      "outputs": []
    },
    {
      "cell_type": "code",
      "metadata": {
        "id": "rUH1NbMIBxYy",
        "colab_type": "code",
        "colab": {}
      },
      "source": [
        "# change District data \n",
        "df[0]['District'] = df[0].EICV3"
      ],
      "execution_count": 3,
      "outputs": []
    },
    {
      "cell_type": "code",
      "metadata": {
        "id": "gyBzpU8b-WWE",
        "colab_type": "code",
        "colab": {}
      },
      "source": [
        "# drop unwanted \n",
        "df[0].drop(['EICV3','Unnamed: 0', 'Unnamed: 1',\n",
        "       'Unnamed: 2', 'Unnamed: 3'],axis=1,inplace=True)"
      ],
      "execution_count": 4,
      "outputs": []
    },
    {
      "cell_type": "code",
      "metadata": {
        "id": "PhQZhTzfFFEm",
        "colab_type": "code",
        "colab": {}
      },
      "source": [
        "# Save as pd.DF\n",
        "df = pd.DataFrame(data=df[0].drop([0,1],axis=0).reset_index(drop=True))"
      ],
      "execution_count": 5,
      "outputs": []
    },
    {
      "cell_type": "code",
      "metadata": {
        "id": "5nSG9XtNCgqE",
        "colab_type": "code",
        "colab": {}
      },
      "source": [
        "#Save to CSV \n",
        "df.to_csv('share_of_harvest_sold.csv')"
      ],
      "execution_count": 9,
      "outputs": []
    },
    {
      "cell_type": "code",
      "metadata": {
        "id": "zjb2sdyCJS93",
        "colab_type": "code",
        "colab": {}
      },
      "source": [
        "# df.head()"
      ],
      "execution_count": 8,
      "outputs": []
    },
    {
      "cell_type": "code",
      "metadata": {
        "id": "-tO-5xMNJbIf",
        "colab_type": "code",
        "colab": {}
      },
      "source": [
        ""
      ],
      "execution_count": null,
      "outputs": []
    }
  ]
}
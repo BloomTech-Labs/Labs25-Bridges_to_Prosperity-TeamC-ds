{
  "nbformat": 4,
  "nbformat_minor": 0,
  "metadata": {
    "colab": {
      "name": "merge_csvs.ipynb",
      "provenance": [],
      "collapsed_sections": []
    },
    "kernelspec": {
      "name": "python3",
      "display_name": "Python 3"
    }
  },
  "cells": [
    {
      "cell_type": "code",
      "metadata": {
        "id": "-10oKgJGoRK9",
        "colab_type": "code",
        "colab": {}
      },
      "source": [
        "import pandas as pd\n",
        "import numpy as np"
      ],
      "execution_count": 1,
      "outputs": []
    },
    {
      "cell_type": "markdown",
      "metadata": {
        "id": "2uzOwptmci-m",
        "colab_type": "text"
      },
      "source": [
        "### Merge Harvest data to the bridge project Data"
      ]
    },
    {
      "cell_type": "code",
      "metadata": {
        "id": "BH3VT32soaPP",
        "colab_type": "code",
        "colab": {}
      },
      "source": [
        "db_df = pd.read_csv(\"https://raw.githubusercontent.com/Lambda-School-Labs/Labs25-Bridges_to_Prosperity-TeamC-ds/main/final_csv/Final_with_gov_ID.csv\")\n",
        "harvest_df = pd.read_csv(\"https://raw.githubusercontent.com/Lambda-School-Labs/Labs25-Bridges_to_Prosperity-TeamC-ds/main/rwanda_data_files/share_of_harvest_sold.csv\")"
      ],
      "execution_count": 2,
      "outputs": []
    },
    {
      "cell_type": "code",
      "metadata": {
        "id": "S7XrSTLGMVn6",
        "colab_type": "code",
        "colab": {
          "base_uri": "https://localhost:8080/",
          "height": 52
        },
        "outputId": "97636b0d-76cf-493d-846f-123b411005ad"
      },
      "source": [
        "print(db_df.shape)\n",
        "print(harvest_df.shape)"
      ],
      "execution_count": 3,
      "outputs": [
        {
          "output_type": "stream",
          "text": [
            "(4483, 20)\n",
            "(30, 3)\n"
          ],
          "name": "stdout"
        }
      ]
    },
    {
      "cell_type": "code",
      "metadata": {
        "id": "A_O9lToE21LO",
        "colab_type": "code",
        "colab": {}
      },
      "source": [
        "db_df.drop(['Unnamed: 0','Cell','Form: Form Name','Cell_ID'],axis=1,inplace=True)\n",
        "harvest_df.drop('Unnamed: 0', axis=1,inplace=True)"
      ],
      "execution_count": 4,
      "outputs": []
    },
    {
      "cell_type": "code",
      "metadata": {
        "id": "PAxHnfwENM4U",
        "colab_type": "code",
        "colab": {}
      },
      "source": [
        "# Merge database file on share of harvest in each RW district\n",
        "df = pd.merge(db_df,harvest_df,on='District',how='inner')"
      ],
      "execution_count": 5,
      "outputs": []
    },
    {
      "cell_type": "code",
      "metadata": {
        "id": "Z0mLRySiVC_B",
        "colab_type": "code",
        "colab": {}
      },
      "source": [
        "# db_df['District'].nunique()\n",
        "# df['District'].nunique()\n",
        "# harvest_df['Mean share of harvest sold'].nunique()\n",
        "# df['Mean share of harvest sold'].nunique()"
      ],
      "execution_count": 6,
      "outputs": []
    },
    {
      "cell_type": "markdown",
      "metadata": {
        "id": "vdm-rdglcS1N",
        "colab_type": "text"
      },
      "source": [
        "### Cleaning and merging of Schools and Gov ID data"
      ]
    },
    {
      "cell_type": "code",
      "metadata": {
        "id": "Ew7YHtUZVrJr",
        "colab_type": "code",
        "colab": {}
      },
      "source": [
        "schools_df = pd.read_csv(\"https://raw.githubusercontent.com/Lambda-School-Labs/Labs25-Bridges_to_Prosperity-TeamC-ds/main/rwanda_data_files/Rwanda_Schools%20(1).csv\")"
      ],
      "execution_count": 7,
      "outputs": []
    },
    {
      "cell_type": "code",
      "metadata": {
        "id": "nxUeBpXDWR9F",
        "colab_type": "code",
        "colab": {}
      },
      "source": [
        "govt_df = pd.read_csv('https://raw.githubusercontent.com/Lambda-School-Labs/Labs25-Bridges_to_Prosperity-TeamC-ds/main/rwanda_data_files/unique_gov_id_PDS.csv')"
      ],
      "execution_count": 8,
      "outputs": []
    },
    {
      "cell_type": "code",
      "metadata": {
        "id": "TNshUzicXiU6",
        "colab_type": "code",
        "colab": {}
      },
      "source": [
        "govt_df['Sector'] = govt_df['Sector'].str.title()\n",
        "schools_df['Sector'] = schools_df['Sector'].str.title()\n",
        "schools_df['District'] = schools_df['District'].str.title()"
      ],
      "execution_count": 9,
      "outputs": []
    },
    {
      "cell_type": "code",
      "metadata": {
        "id": "QtbOl5y8YVo0",
        "colab_type": "code",
        "colab": {}
      },
      "source": [
        "# Correct spellings in schools data to match govt_data \n",
        "govt_to_sch = {\n",
        "    'Kabagali' : 'Kabagari',\n",
        "    'Muringa' : 'Mulinga' ,\n",
        "    'Rugarika' : 'Rugalika',\n",
        "    'Gishali' : 'Gishari' ,\n",
        "    'Rugengabari' : 'Rugengabali',\n",
        "    'Nyagihanga':'Nyagahanga',\n",
        "    'Niboye': 'Niboyi',\n",
        "    'Save':'Gatoki',\n",
        "    'Tumba':'Ntuba'\n",
        "    }\n",
        "\n",
        "for key,value in govt_to_sch.items():\n",
        "\n",
        "  schools_df.loc[schools_df['Sector'] == value,'Sector'] = key"
      ],
      "execution_count": 10,
      "outputs": []
    },
    {
      "cell_type": "code",
      "metadata": {
        "id": "p48-lcOTXMc9",
        "colab_type": "code",
        "colab": {
          "base_uri": "https://localhost:8080/",
          "height": 34
        },
        "outputId": "6bf927f6-dd81-4c66-d958-cdab3fa89474"
      },
      "source": [
        "b = [x for x in set(schools_df['Sector']) if x not in set(govt_df['Sector'])]\n",
        "b"
      ],
      "execution_count": 11,
      "outputs": [
        {
          "output_type": "execute_result",
          "data": {
            "text/plain": [
              "[]"
            ]
          },
          "metadata": {
            "tags": []
          },
          "execution_count": 11
        }
      ]
    },
    {
      "cell_type": "code",
      "metadata": {
        "id": "sHgfFkXRyL2P",
        "colab_type": "code",
        "colab": {}
      },
      "source": [
        "# Change Nyanza-Kibirizi to Nyanza-Kibilizi to match database_df\n",
        "indy = schools_df[(schools_df['District'] == \"Nyanza\") & (schools_df['Sector'] == 'Kibirizi')].index\n",
        "\n",
        "for i in indy:\n",
        "  schools_df.loc[i,['Sector']] = \"Kibilizi\""
      ],
      "execution_count": 12,
      "outputs": []
    },
    {
      "cell_type": "code",
      "metadata": {
        "id": "bfMUWChUFDnb",
        "colab_type": "code",
        "colab": {}
      },
      "source": [
        "schools_df.drop('Unnamed: 0',axis=1,inplace=True)"
      ],
      "execution_count": 13,
      "outputs": []
    },
    {
      "cell_type": "code",
      "metadata": {
        "id": "ctGhIx8TlfOd",
        "colab_type": "code",
        "colab": {}
      },
      "source": [
        "# Correct Sector names in schools data \n",
        "il = [294]\n",
        "\n",
        "for i in il:\n",
        "  schools_df.loc[i,['Sector']] = 'Bigogwe'\n",
        "\n",
        "jl = [185]\n",
        "\n",
        "for j in jl:\n",
        "  schools_df.loc[j,['Sector']] = 'Ngarama'"
      ],
      "execution_count": 14,
      "outputs": []
    },
    {
      "cell_type": "code",
      "metadata": {
        "id": "Qwel1DZpZ98f",
        "colab_type": "code",
        "colab": {}
      },
      "source": [
        "# Merge schools data on govt data \n",
        "mg = pd.merge(schools_df,govt_df,on=['District','Sector'])"
      ],
      "execution_count": 15,
      "outputs": []
    },
    {
      "cell_type": "code",
      "metadata": {
        "id": "c8e9yIHzgEss",
        "colab_type": "code",
        "colab": {
          "base_uri": "https://localhost:8080/",
          "height": 34
        },
        "outputId": "d1ad856c-5226-45cc-dde9-6bcb6e8f9d73"
      },
      "source": [
        "y = [x for x in set(mg['School Name']) if x not in set(schools_df['School Name'])]\n",
        "y"
      ],
      "execution_count": 16,
      "outputs": [
        {
          "output_type": "execute_result",
          "data": {
            "text/plain": [
              "[]"
            ]
          },
          "metadata": {
            "tags": []
          },
          "execution_count": 16
        }
      ]
    },
    {
      "cell_type": "code",
      "metadata": {
        "id": "qfUjgRuqgl7W",
        "colab_type": "code",
        "colab": {
          "base_uri": "https://localhost:8080/",
          "height": 34
        },
        "outputId": "a6dcde6f-b6b2-4049-d010-9c362512b090"
      },
      "source": [
        "q = [x for x in set(schools_df['School Name']) if x not in set(mg['School Name'])]\n",
        "q"
      ],
      "execution_count": 17,
      "outputs": [
        {
          "output_type": "execute_result",
          "data": {
            "text/plain": [
              "[]"
            ]
          },
          "metadata": {
            "tags": []
          },
          "execution_count": 17
        }
      ]
    },
    {
      "cell_type": "code",
      "metadata": {
        "id": "Ffr156T_g8bI",
        "colab_type": "code",
        "colab": {
          "base_uri": "https://localhost:8080/",
          "height": 77
        },
        "outputId": "88e134fa-d6fc-44b3-8267-38753b878115"
      },
      "source": [
        "schools_df[schools_df['School Name'] == 'College Baptiste De Ngarama']"
      ],
      "execution_count": 18,
      "outputs": [
        {
          "output_type": "execute_result",
          "data": {
            "text/html": [
              "<div>\n",
              "<style scoped>\n",
              "    .dataframe tbody tr th:only-of-type {\n",
              "        vertical-align: middle;\n",
              "    }\n",
              "\n",
              "    .dataframe tbody tr th {\n",
              "        vertical-align: top;\n",
              "    }\n",
              "\n",
              "    .dataframe thead th {\n",
              "        text-align: right;\n",
              "    }\n",
              "</style>\n",
              "<table border=\"1\" class=\"dataframe\">\n",
              "  <thead>\n",
              "    <tr style=\"text-align: right;\">\n",
              "      <th></th>\n",
              "      <th>School Name</th>\n",
              "      <th>Province</th>\n",
              "      <th>District</th>\n",
              "      <th>Sector</th>\n",
              "    </tr>\n",
              "  </thead>\n",
              "  <tbody>\n",
              "    <tr>\n",
              "      <th>185</th>\n",
              "      <td>College Baptiste De Ngarama</td>\n",
              "      <td>East</td>\n",
              "      <td>Gatsibo</td>\n",
              "      <td>Ngarama</td>\n",
              "    </tr>\n",
              "  </tbody>\n",
              "</table>\n",
              "</div>"
            ],
            "text/plain": [
              "                     School Name Province District   Sector\n",
              "185  College Baptiste De Ngarama     East  Gatsibo  Ngarama"
            ]
          },
          "metadata": {
            "tags": []
          },
          "execution_count": 18
        }
      ]
    },
    {
      "cell_type": "code",
      "metadata": {
        "id": "-HdVjzB3nnhj",
        "colab_type": "code",
        "colab": {
          "base_uri": "https://localhost:8080/",
          "height": 77
        },
        "outputId": "9d015eb5-876a-4576-8e03-6e7933e904d9"
      },
      "source": [
        "mg[mg['School Name'] == 'EAV BIGOGWE']"
      ],
      "execution_count": 19,
      "outputs": [
        {
          "output_type": "execute_result",
          "data": {
            "text/html": [
              "<div>\n",
              "<style scoped>\n",
              "    .dataframe tbody tr th:only-of-type {\n",
              "        vertical-align: middle;\n",
              "    }\n",
              "\n",
              "    .dataframe tbody tr th {\n",
              "        vertical-align: top;\n",
              "    }\n",
              "\n",
              "    .dataframe thead th {\n",
              "        text-align: right;\n",
              "    }\n",
              "</style>\n",
              "<table border=\"1\" class=\"dataframe\">\n",
              "  <thead>\n",
              "    <tr style=\"text-align: right;\">\n",
              "      <th></th>\n",
              "      <th>School Name</th>\n",
              "      <th>Province_x</th>\n",
              "      <th>District</th>\n",
              "      <th>Sector</th>\n",
              "      <th>Prov_ID</th>\n",
              "      <th>Province_y</th>\n",
              "      <th>Dist_ID</th>\n",
              "      <th>Sect_ID</th>\n",
              "    </tr>\n",
              "  </thead>\n",
              "  <tbody>\n",
              "    <tr>\n",
              "      <th>411</th>\n",
              "      <td>EAV BIGOGWE</td>\n",
              "      <td>West</td>\n",
              "      <td>Nyabihu</td>\n",
              "      <td>Bigogwe</td>\n",
              "      <td>3</td>\n",
              "      <td>Iburengerazuba</td>\n",
              "      <td>34</td>\n",
              "      <td>3401</td>\n",
              "    </tr>\n",
              "  </tbody>\n",
              "</table>\n",
              "</div>"
            ],
            "text/plain": [
              "     School Name Province_x District  ...      Province_y  Dist_ID Sect_ID\n",
              "411  EAV BIGOGWE       West  Nyabihu  ...  Iburengerazuba       34    3401\n",
              "\n",
              "[1 rows x 8 columns]"
            ]
          },
          "metadata": {
            "tags": []
          },
          "execution_count": 19
        }
      ]
    },
    {
      "cell_type": "code",
      "metadata": {
        "id": "Lp0MrZhinvDZ",
        "colab_type": "code",
        "colab": {
          "base_uri": "https://localhost:8080/",
          "height": 77
        },
        "outputId": "9d53177c-a1a4-4312-800a-80817cc44f30"
      },
      "source": [
        "mg[mg['School Name'] == 'College Baptiste De Ngarama']"
      ],
      "execution_count": 20,
      "outputs": [
        {
          "output_type": "execute_result",
          "data": {
            "text/html": [
              "<div>\n",
              "<style scoped>\n",
              "    .dataframe tbody tr th:only-of-type {\n",
              "        vertical-align: middle;\n",
              "    }\n",
              "\n",
              "    .dataframe tbody tr th {\n",
              "        vertical-align: top;\n",
              "    }\n",
              "\n",
              "    .dataframe thead th {\n",
              "        text-align: right;\n",
              "    }\n",
              "</style>\n",
              "<table border=\"1\" class=\"dataframe\">\n",
              "  <thead>\n",
              "    <tr style=\"text-align: right;\">\n",
              "      <th></th>\n",
              "      <th>School Name</th>\n",
              "      <th>Province_x</th>\n",
              "      <th>District</th>\n",
              "      <th>Sector</th>\n",
              "      <th>Prov_ID</th>\n",
              "      <th>Province_y</th>\n",
              "      <th>Dist_ID</th>\n",
              "      <th>Sect_ID</th>\n",
              "    </tr>\n",
              "  </thead>\n",
              "  <tbody>\n",
              "    <tr>\n",
              "      <th>1212</th>\n",
              "      <td>College Baptiste De Ngarama</td>\n",
              "      <td>East</td>\n",
              "      <td>Gatsibo</td>\n",
              "      <td>Ngarama</td>\n",
              "      <td>5</td>\n",
              "      <td>Iburasirazuba</td>\n",
              "      <td>53</td>\n",
              "      <td>5310</td>\n",
              "    </tr>\n",
              "  </tbody>\n",
              "</table>\n",
              "</div>"
            ],
            "text/plain": [
              "                      School Name Province_x  ... Dist_ID Sect_ID\n",
              "1212  College Baptiste De Ngarama       East  ...      53    5310\n",
              "\n",
              "[1 rows x 8 columns]"
            ]
          },
          "metadata": {
            "tags": []
          },
          "execution_count": 20
        }
      ]
    },
    {
      "cell_type": "code",
      "metadata": {
        "id": "u2O_yXVEaaNg",
        "colab_type": "code",
        "colab": {}
      },
      "source": [
        "# schools_df.groupby(['District','Sector'],as_index=False).count()"
      ],
      "execution_count": 21,
      "outputs": []
    },
    {
      "cell_type": "code",
      "metadata": {
        "id": "NbVCepZNuaiV",
        "colab_type": "code",
        "colab": {
          "base_uri": "https://localhost:8080/",
          "height": 105
        },
        "outputId": "4967ed71-c83f-4740-bd1d-db60f20b21f2"
      },
      "source": [
        "# Get the count of schools in each sector \n",
        "count_sch = mg.groupby(['Sect_ID']).count()['School Name']\n",
        "count_sch.head(3)"
      ],
      "execution_count": 22,
      "outputs": [
        {
          "output_type": "execute_result",
          "data": {
            "text/plain": [
              "Sect_ID\n",
              "1101    2\n",
              "1102    2\n",
              "1103    3\n",
              "Name: School Name, dtype: int64"
            ]
          },
          "metadata": {
            "tags": []
          },
          "execution_count": 22
        }
      ]
    },
    {
      "cell_type": "code",
      "metadata": {
        "id": "WmPUMLEHtlTO",
        "colab_type": "code",
        "colab": {}
      },
      "source": [
        "# merge database df on school count \n",
        "test_df = pd.merge(df,count_sch,on='Sect_ID')"
      ],
      "execution_count": 23,
      "outputs": []
    },
    {
      "cell_type": "code",
      "metadata": {
        "id": "-56JTe9QwRfL",
        "colab_type": "code",
        "colab": {}
      },
      "source": [
        "test_df['School_count'] = test_df['School Name']"
      ],
      "execution_count": 24,
      "outputs": []
    },
    {
      "cell_type": "code",
      "metadata": {
        "id": "ec9YA1Wuwf2Z",
        "colab_type": "code",
        "colab": {}
      },
      "source": [
        "test_df.drop('School Name',axis=1,inplace=True)"
      ],
      "execution_count": 25,
      "outputs": []
    },
    {
      "cell_type": "code",
      "metadata": {
        "id": "alfUQF1kwvD4",
        "colab_type": "code",
        "colab": {}
      },
      "source": [
        "current_df = test_df"
      ],
      "execution_count": 26,
      "outputs": []
    },
    {
      "cell_type": "code",
      "metadata": {
        "id": "AJPIVkwtwwtc",
        "colab_type": "code",
        "colab": {
          "base_uri": "https://localhost:8080/",
          "height": 34
        },
        "outputId": "fa5556f7-afc9-423e-f59d-112089f64de9"
      },
      "source": [
        "# Current final df with farm harvest by District \n",
        "# and number of schools in each Sector\n",
        "current_df.shape"
      ],
      "execution_count": 27,
      "outputs": [
        {
          "output_type": "execute_result",
          "data": {
            "text/plain": [
              "(4483, 18)"
            ]
          },
          "metadata": {
            "tags": []
          },
          "execution_count": 27
        }
      ]
    },
    {
      "cell_type": "markdown",
      "metadata": {
        "id": "h7RSHmTicoUP",
        "colab_type": "text"
      },
      "source": [
        "### Clean and Merge Sector population with the bridge project data"
      ]
    },
    {
      "cell_type": "code",
      "metadata": {
        "id": "TPQq4CWvcxXe",
        "colab_type": "code",
        "colab": {}
      },
      "source": [
        "population = pd.read_csv('https://raw.githubusercontent.com/Lambda-School-Labs/Labs25-Bridges_to_Prosperity-TeamC-ds/main/rwanda_data_files/Rwanda%20Administrative%20Levels%20and%20Codes%20Sector%20Population.csv')"
      ],
      "execution_count": 83,
      "outputs": []
    },
    {
      "cell_type": "code",
      "metadata": {
        "id": "4hLABqfAc5RW",
        "colab_type": "code",
        "colab": {
          "base_uri": "https://localhost:8080/",
          "height": 406
        },
        "outputId": "38c53fc6-5ec0-4b50-f673-42b758341098"
      },
      "source": [
        "population"
      ],
      "execution_count": 84,
      "outputs": [
        {
          "output_type": "execute_result",
          "data": {
            "text/html": [
              "<div>\n",
              "<style scoped>\n",
              "    .dataframe tbody tr th:only-of-type {\n",
              "        vertical-align: middle;\n",
              "    }\n",
              "\n",
              "    .dataframe tbody tr th {\n",
              "        vertical-align: top;\n",
              "    }\n",
              "\n",
              "    .dataframe thead th {\n",
              "        text-align: right;\n",
              "    }\n",
              "</style>\n",
              "<table border=\"1\" class=\"dataframe\">\n",
              "  <thead>\n",
              "    <tr style=\"text-align: right;\">\n",
              "      <th></th>\n",
              "      <th>Prov_ID</th>\n",
              "      <th>Province</th>\n",
              "      <th>Dist_ID</th>\n",
              "      <th>District</th>\n",
              "      <th>Sect_ID</th>\n",
              "      <th>Sector</th>\n",
              "      <th>Population of Sector</th>\n",
              "      <th>Unnamed: 7</th>\n",
              "      <th>Unnamed: 8</th>\n",
              "    </tr>\n",
              "  </thead>\n",
              "  <tbody>\n",
              "    <tr>\n",
              "      <th>0</th>\n",
              "      <td>1</td>\n",
              "      <td>Umujyi wa Kigali</td>\n",
              "      <td>11</td>\n",
              "      <td>Nyarugenge</td>\n",
              "      <td>1101</td>\n",
              "      <td>Gitega</td>\n",
              "      <td>28,728.00</td>\n",
              "      <td>NaN</td>\n",
              "      <td>NaN</td>\n",
              "    </tr>\n",
              "    <tr>\n",
              "      <th>1</th>\n",
              "      <td>1</td>\n",
              "      <td>Umujyi wa Kigali</td>\n",
              "      <td>11</td>\n",
              "      <td>Nyarugenge</td>\n",
              "      <td>1102</td>\n",
              "      <td>Kanyinya</td>\n",
              "      <td>21,859.00</td>\n",
              "      <td>NaN</td>\n",
              "      <td>NaN</td>\n",
              "    </tr>\n",
              "    <tr>\n",
              "      <th>2</th>\n",
              "      <td>1</td>\n",
              "      <td>Umujyi wa Kigali</td>\n",
              "      <td>11</td>\n",
              "      <td>Nyarugenge</td>\n",
              "      <td>1103</td>\n",
              "      <td>Kigali</td>\n",
              "      <td>30,023.00</td>\n",
              "      <td>NaN</td>\n",
              "      <td>NaN</td>\n",
              "    </tr>\n",
              "    <tr>\n",
              "      <th>3</th>\n",
              "      <td>1</td>\n",
              "      <td>Umujyi wa Kigali</td>\n",
              "      <td>11</td>\n",
              "      <td>Nyarugenge</td>\n",
              "      <td>1104</td>\n",
              "      <td>Kimisagara</td>\n",
              "      <td>46,753.00</td>\n",
              "      <td>NaN</td>\n",
              "      <td>NaN</td>\n",
              "    </tr>\n",
              "    <tr>\n",
              "      <th>4</th>\n",
              "      <td>1</td>\n",
              "      <td>Umujyi wa Kigali</td>\n",
              "      <td>11</td>\n",
              "      <td>Nyarugenge</td>\n",
              "      <td>1105</td>\n",
              "      <td>Mageregere</td>\n",
              "      <td>23,407.00</td>\n",
              "      <td>NaN</td>\n",
              "      <td>NaN</td>\n",
              "    </tr>\n",
              "    <tr>\n",
              "      <th>...</th>\n",
              "      <td>...</td>\n",
              "      <td>...</td>\n",
              "      <td>...</td>\n",
              "      <td>...</td>\n",
              "      <td>...</td>\n",
              "      <td>...</td>\n",
              "      <td>...</td>\n",
              "      <td>...</td>\n",
              "      <td>...</td>\n",
              "    </tr>\n",
              "    <tr>\n",
              "      <th>413</th>\n",
              "      <td>5</td>\n",
              "      <td>Iburasirazuba</td>\n",
              "      <td>57</td>\n",
              "      <td>Bugesera</td>\n",
              "      <td>5711</td>\n",
              "      <td>Nyarugenge</td>\n",
              "      <td>20,753.00</td>\n",
              "      <td>NaN</td>\n",
              "      <td>NaN</td>\n",
              "    </tr>\n",
              "    <tr>\n",
              "      <th>414</th>\n",
              "      <td>5</td>\n",
              "      <td>Iburasirazuba</td>\n",
              "      <td>57</td>\n",
              "      <td>Bugesera</td>\n",
              "      <td>5712</td>\n",
              "      <td>Rilima</td>\n",
              "      <td>26,803.00</td>\n",
              "      <td>NaN</td>\n",
              "      <td>NaN</td>\n",
              "    </tr>\n",
              "    <tr>\n",
              "      <th>415</th>\n",
              "      <td>5</td>\n",
              "      <td>Iburasirazuba</td>\n",
              "      <td>57</td>\n",
              "      <td>Bugesera</td>\n",
              "      <td>5713</td>\n",
              "      <td>Ruhuha</td>\n",
              "      <td>22,994.00</td>\n",
              "      <td>NaN</td>\n",
              "      <td>NaN</td>\n",
              "    </tr>\n",
              "    <tr>\n",
              "      <th>416</th>\n",
              "      <td>5</td>\n",
              "      <td>Iburasirazuba</td>\n",
              "      <td>57</td>\n",
              "      <td>Bugesera</td>\n",
              "      <td>5714</td>\n",
              "      <td>Rweru</td>\n",
              "      <td>28,782.00</td>\n",
              "      <td>NaN</td>\n",
              "      <td>NaN</td>\n",
              "    </tr>\n",
              "    <tr>\n",
              "      <th>417</th>\n",
              "      <td>5</td>\n",
              "      <td>Iburasirazuba</td>\n",
              "      <td>57</td>\n",
              "      <td>Bugesera</td>\n",
              "      <td>5715</td>\n",
              "      <td>Shyara</td>\n",
              "      <td>13,390.00</td>\n",
              "      <td>NaN</td>\n",
              "      <td>NaN</td>\n",
              "    </tr>\n",
              "  </tbody>\n",
              "</table>\n",
              "<p>418 rows × 9 columns</p>\n",
              "</div>"
            ],
            "text/plain": [
              "     Prov_ID          Province  ...  Unnamed: 7 Unnamed: 8\n",
              "0          1  Umujyi wa Kigali  ...         NaN        NaN\n",
              "1          1  Umujyi wa Kigali  ...         NaN        NaN\n",
              "2          1  Umujyi wa Kigali  ...         NaN        NaN\n",
              "3          1  Umujyi wa Kigali  ...         NaN        NaN\n",
              "4          1  Umujyi wa Kigali  ...         NaN        NaN\n",
              "..       ...               ...  ...         ...        ...\n",
              "413        5     Iburasirazuba  ...         NaN        NaN\n",
              "414        5     Iburasirazuba  ...         NaN        NaN\n",
              "415        5     Iburasirazuba  ...         NaN        NaN\n",
              "416        5     Iburasirazuba  ...         NaN        NaN\n",
              "417        5     Iburasirazuba  ...         NaN        NaN\n",
              "\n",
              "[418 rows x 9 columns]"
            ]
          },
          "metadata": {
            "tags": []
          },
          "execution_count": 84
        }
      ]
    },
    {
      "cell_type": "code",
      "metadata": {
        "id": "X4cX__wdcBcW",
        "colab_type": "code",
        "colab": {
          "base_uri": "https://localhost:8080/",
          "height": 297
        },
        "outputId": "f63a3a3c-53f4-4dbc-864d-13e1ce5070a5"
      },
      "source": [
        "current_df.head()"
      ],
      "execution_count": 85,
      "outputs": [
        {
          "output_type": "execute_result",
          "data": {
            "text/html": [
              "<div>\n",
              "<style scoped>\n",
              "    .dataframe tbody tr th:only-of-type {\n",
              "        vertical-align: middle;\n",
              "    }\n",
              "\n",
              "    .dataframe tbody tr th {\n",
              "        vertical-align: top;\n",
              "    }\n",
              "\n",
              "    .dataframe thead th {\n",
              "        text-align: right;\n",
              "    }\n",
              "</style>\n",
              "<table border=\"1\" class=\"dataframe\">\n",
              "  <thead>\n",
              "    <tr style=\"text-align: right;\">\n",
              "      <th></th>\n",
              "      <th>Province</th>\n",
              "      <th>District</th>\n",
              "      <th>Sector</th>\n",
              "      <th>Bridge Site Name</th>\n",
              "      <th>Project Stage</th>\n",
              "      <th>Project Code</th>\n",
              "      <th>Bridge Type</th>\n",
              "      <th>GPS (Latitude)</th>\n",
              "      <th>GPS (Longitude)</th>\n",
              "      <th>Individuals Directly Served</th>\n",
              "      <th>Assessment Date</th>\n",
              "      <th>Original_Community_col</th>\n",
              "      <th>Community_Served</th>\n",
              "      <th>Prov_ID</th>\n",
              "      <th>Dist_ID</th>\n",
              "      <th>Sect_ID</th>\n",
              "      <th>Mean share of harvest sold</th>\n",
              "      <th>School_count</th>\n",
              "    </tr>\n",
              "  </thead>\n",
              "  <tbody>\n",
              "    <tr>\n",
              "      <th>0</th>\n",
              "      <td>Western Province</td>\n",
              "      <td>Rusizi</td>\n",
              "      <td>Giheke</td>\n",
              "      <td>Buzi</td>\n",
              "      <td>Rejected</td>\n",
              "      <td>1014107</td>\n",
              "      <td>Suspended</td>\n",
              "      <td>-2.42056</td>\n",
              "      <td>28.9662</td>\n",
              "      <td>Unknown</td>\n",
              "      <td>2018-10-29</td>\n",
              "      <td>Community Served 1</td>\n",
              "      <td>Buzi</td>\n",
              "      <td>3</td>\n",
              "      <td>36</td>\n",
              "      <td>3605</td>\n",
              "      <td>20.1</td>\n",
              "      <td>6</td>\n",
              "    </tr>\n",
              "    <tr>\n",
              "      <th>1</th>\n",
              "      <td>Western Province</td>\n",
              "      <td>Rusizi</td>\n",
              "      <td>Giheke</td>\n",
              "      <td>Kamigisha</td>\n",
              "      <td>Rejected</td>\n",
              "      <td>1014106</td>\n",
              "      <td>Suspended</td>\n",
              "      <td>-2.42486</td>\n",
              "      <td>28.957259999999998</td>\n",
              "      <td>Unknown</td>\n",
              "      <td>2018-10-29</td>\n",
              "      <td>Community Served 1</td>\n",
              "      <td>Kabuga</td>\n",
              "      <td>3</td>\n",
              "      <td>36</td>\n",
              "      <td>3605</td>\n",
              "      <td>20.1</td>\n",
              "      <td>6</td>\n",
              "    </tr>\n",
              "    <tr>\n",
              "      <th>2</th>\n",
              "      <td>Western Province</td>\n",
              "      <td>Rusizi</td>\n",
              "      <td>Giheke</td>\n",
              "      <td>Gacyamo</td>\n",
              "      <td>Rejected</td>\n",
              "      <td>1014108</td>\n",
              "      <td>Suspension</td>\n",
              "      <td>-2.41855</td>\n",
              "      <td>28.969459999999998</td>\n",
              "      <td>Unknown</td>\n",
              "      <td>2018-10-29</td>\n",
              "      <td>Community Served 1</td>\n",
              "      <td>Gacyamo</td>\n",
              "      <td>3</td>\n",
              "      <td>36</td>\n",
              "      <td>3605</td>\n",
              "      <td>20.1</td>\n",
              "      <td>6</td>\n",
              "    </tr>\n",
              "    <tr>\n",
              "      <th>3</th>\n",
              "      <td>Western Province</td>\n",
              "      <td>Rusizi</td>\n",
              "      <td>Giheke</td>\n",
              "      <td>Nyakabanda</td>\n",
              "      <td>Rejected</td>\n",
              "      <td>1014105</td>\n",
              "      <td>Suspended</td>\n",
              "      <td>-2.42715</td>\n",
              "      <td>28.95369</td>\n",
              "      <td>Unknown</td>\n",
              "      <td>2018-10-29</td>\n",
              "      <td>Community Served 1</td>\n",
              "      <td>Kanoga</td>\n",
              "      <td>3</td>\n",
              "      <td>36</td>\n",
              "      <td>3605</td>\n",
              "      <td>20.1</td>\n",
              "      <td>6</td>\n",
              "    </tr>\n",
              "    <tr>\n",
              "      <th>4</th>\n",
              "      <td>Western Province</td>\n",
              "      <td>Rusizi</td>\n",
              "      <td>Giheke</td>\n",
              "      <td>Impala</td>\n",
              "      <td>Rejected</td>\n",
              "      <td>1014166</td>\n",
              "      <td>Unknown</td>\n",
              "      <td>-2.44246</td>\n",
              "      <td>28.9333</td>\n",
              "      <td>Unknown</td>\n",
              "      <td>2018-10-29</td>\n",
              "      <td>Community Served 1</td>\n",
              "      <td>Impala</td>\n",
              "      <td>3</td>\n",
              "      <td>36</td>\n",
              "      <td>3605</td>\n",
              "      <td>20.1</td>\n",
              "      <td>6</td>\n",
              "    </tr>\n",
              "  </tbody>\n",
              "</table>\n",
              "</div>"
            ],
            "text/plain": [
              "           Province District  ... Mean share of harvest sold School_count\n",
              "0  Western Province   Rusizi  ...                       20.1            6\n",
              "1  Western Province   Rusizi  ...                       20.1            6\n",
              "2  Western Province   Rusizi  ...                       20.1            6\n",
              "3  Western Province   Rusizi  ...                       20.1            6\n",
              "4  Western Province   Rusizi  ...                       20.1            6\n",
              "\n",
              "[5 rows x 18 columns]"
            ]
          },
          "metadata": {
            "tags": []
          },
          "execution_count": 85
        }
      ]
    },
    {
      "cell_type": "code",
      "metadata": {
        "id": "1f2RFSxWcCyL",
        "colab_type": "code",
        "colab": {
          "base_uri": "https://localhost:8080/",
          "height": 34
        },
        "outputId": "0e990fcf-301b-4aa1-d064-bcc3138868fc"
      },
      "source": [
        "[i for i in set(population['Sect_ID']) if i not in set(govt_df['Sect_ID']) ]"
      ],
      "execution_count": 86,
      "outputs": [
        {
          "output_type": "execute_result",
          "data": {
            "text/plain": [
              "[]"
            ]
          },
          "metadata": {
            "tags": []
          },
          "execution_count": 86
        }
      ]
    },
    {
      "cell_type": "code",
      "metadata": {
        "id": "mA8ByIiKc_9E",
        "colab_type": "code",
        "colab": {
          "base_uri": "https://localhost:8080/",
          "height": 230
        },
        "outputId": "753da8b8-da14-49a6-a5c0-aa48e891aabe"
      },
      "source": [
        "# there are some duplicate values that we can drop. \n",
        "# but Sect code 2411 is showing for two different Sectors. We cant drop that one.\n",
        "# we need to change the sector code for the sector Rwaniro to 2412.\n",
        "population['Sect_ID'].value_counts()"
      ],
      "execution_count": 87,
      "outputs": [
        {
          "output_type": "execute_result",
          "data": {
            "text/plain": [
              "1108    2\n",
              "1105    2\n",
              "2411    2\n",
              "5114    1\n",
              "3303    1\n",
              "       ..\n",
              "2504    1\n",
              "2505    1\n",
              "2506    1\n",
              "2507    1\n",
              "1210    1\n",
              "Name: Sect_ID, Length: 415, dtype: int64"
            ]
          },
          "metadata": {
            "tags": []
          },
          "execution_count": 87
        }
      ]
    },
    {
      "cell_type": "code",
      "metadata": {
        "id": "TxVBIZV9ddrm",
        "colab_type": "code",
        "colab": {
          "base_uri": "https://localhost:8080/",
          "height": 107
        },
        "outputId": "16863fa1-dddf-4cee-f63b-1d7f1eeb4533"
      },
      "source": [
        "# Sector ID for Rwaniro shouldnt be 2411...it should be 2412\n",
        "population[population['Sect_ID'] == 2411]"
      ],
      "execution_count": 88,
      "outputs": [
        {
          "output_type": "execute_result",
          "data": {
            "text/html": [
              "<div>\n",
              "<style scoped>\n",
              "    .dataframe tbody tr th:only-of-type {\n",
              "        vertical-align: middle;\n",
              "    }\n",
              "\n",
              "    .dataframe tbody tr th {\n",
              "        vertical-align: top;\n",
              "    }\n",
              "\n",
              "    .dataframe thead th {\n",
              "        text-align: right;\n",
              "    }\n",
              "</style>\n",
              "<table border=\"1\" class=\"dataframe\">\n",
              "  <thead>\n",
              "    <tr style=\"text-align: right;\">\n",
              "      <th></th>\n",
              "      <th>Prov_ID</th>\n",
              "      <th>Province</th>\n",
              "      <th>Dist_ID</th>\n",
              "      <th>District</th>\n",
              "      <th>Sect_ID</th>\n",
              "      <th>Sector</th>\n",
              "      <th>Population of Sector</th>\n",
              "      <th>Unnamed: 7</th>\n",
              "      <th>Unnamed: 8</th>\n",
              "    </tr>\n",
              "  </thead>\n",
              "  <tbody>\n",
              "    <tr>\n",
              "      <th>84</th>\n",
              "      <td>2</td>\n",
              "      <td>Amajyepfo</td>\n",
              "      <td>24</td>\n",
              "      <td>Huye</td>\n",
              "      <td>2411</td>\n",
              "      <td>Rusatira</td>\n",
              "      <td>25,171.00</td>\n",
              "      <td>NaN</td>\n",
              "      <td>NaN</td>\n",
              "    </tr>\n",
              "    <tr>\n",
              "      <th>85</th>\n",
              "      <td>2</td>\n",
              "      <td>Amajyepfo</td>\n",
              "      <td>24</td>\n",
              "      <td>Huye</td>\n",
              "      <td>2411</td>\n",
              "      <td>Rwaniro</td>\n",
              "      <td>21,595.00</td>\n",
              "      <td>NaN</td>\n",
              "      <td>NaN</td>\n",
              "    </tr>\n",
              "  </tbody>\n",
              "</table>\n",
              "</div>"
            ],
            "text/plain": [
              "    Prov_ID   Province  Dist_ID  ...  Population of Sector   Unnamed: 7 Unnamed: 8\n",
              "84        2  Amajyepfo       24  ...             25,171.00          NaN        NaN\n",
              "85        2  Amajyepfo       24  ...             21,595.00          NaN        NaN\n",
              "\n",
              "[2 rows x 9 columns]"
            ]
          },
          "metadata": {
            "tags": []
          },
          "execution_count": 88
        }
      ]
    },
    {
      "cell_type": "code",
      "metadata": {
        "id": "OvBeeTzZdjz-",
        "colab_type": "code",
        "colab": {
          "base_uri": "https://localhost:8080/",
          "height": 77
        },
        "outputId": "cd096694-b8fe-425a-9d65-a2329a7fb85c"
      },
      "source": [
        "govt_df[govt_df['Sect_ID'] == 2412]"
      ],
      "execution_count": 89,
      "outputs": [
        {
          "output_type": "execute_result",
          "data": {
            "text/html": [
              "<div>\n",
              "<style scoped>\n",
              "    .dataframe tbody tr th:only-of-type {\n",
              "        vertical-align: middle;\n",
              "    }\n",
              "\n",
              "    .dataframe tbody tr th {\n",
              "        vertical-align: top;\n",
              "    }\n",
              "\n",
              "    .dataframe thead th {\n",
              "        text-align: right;\n",
              "    }\n",
              "</style>\n",
              "<table border=\"1\" class=\"dataframe\">\n",
              "  <thead>\n",
              "    <tr style=\"text-align: right;\">\n",
              "      <th></th>\n",
              "      <th>Prov_ID</th>\n",
              "      <th>Province</th>\n",
              "      <th>Dist_ID</th>\n",
              "      <th>District</th>\n",
              "      <th>Sect_ID</th>\n",
              "      <th>Sector</th>\n",
              "    </tr>\n",
              "  </thead>\n",
              "  <tbody>\n",
              "    <tr>\n",
              "      <th>84</th>\n",
              "      <td>2</td>\n",
              "      <td>Amajyepfo</td>\n",
              "      <td>24</td>\n",
              "      <td>Huye</td>\n",
              "      <td>2412</td>\n",
              "      <td>Rwaniro</td>\n",
              "    </tr>\n",
              "  </tbody>\n",
              "</table>\n",
              "</div>"
            ],
            "text/plain": [
              "    Prov_ID   Province  Dist_ID District  Sect_ID   Sector\n",
              "84        2  Amajyepfo       24     Huye     2412  Rwaniro"
            ]
          },
          "metadata": {
            "tags": []
          },
          "execution_count": 89
        }
      ]
    },
    {
      "cell_type": "code",
      "metadata": {
        "id": "7O4SuQHBeB8E",
        "colab_type": "code",
        "colab": {}
      },
      "source": [
        "# Change Sector ID for Rwaniro to 2412\n",
        "\n",
        "population.loc[85, 'Sect_ID'] = 2412"
      ],
      "execution_count": 90,
      "outputs": []
    },
    {
      "cell_type": "code",
      "metadata": {
        "id": "ldYZ36yoeiN_",
        "colab_type": "code",
        "colab": {
          "base_uri": "https://localhost:8080/",
          "height": 77
        },
        "outputId": "d2913309-ff1f-4784-9b35-34c20be32d7e"
      },
      "source": [
        "# make sure that the change is made in the population dataset now.\n",
        "population[population['Sect_ID'] == 2412]"
      ],
      "execution_count": 91,
      "outputs": [
        {
          "output_type": "execute_result",
          "data": {
            "text/html": [
              "<div>\n",
              "<style scoped>\n",
              "    .dataframe tbody tr th:only-of-type {\n",
              "        vertical-align: middle;\n",
              "    }\n",
              "\n",
              "    .dataframe tbody tr th {\n",
              "        vertical-align: top;\n",
              "    }\n",
              "\n",
              "    .dataframe thead th {\n",
              "        text-align: right;\n",
              "    }\n",
              "</style>\n",
              "<table border=\"1\" class=\"dataframe\">\n",
              "  <thead>\n",
              "    <tr style=\"text-align: right;\">\n",
              "      <th></th>\n",
              "      <th>Prov_ID</th>\n",
              "      <th>Province</th>\n",
              "      <th>Dist_ID</th>\n",
              "      <th>District</th>\n",
              "      <th>Sect_ID</th>\n",
              "      <th>Sector</th>\n",
              "      <th>Population of Sector</th>\n",
              "      <th>Unnamed: 7</th>\n",
              "      <th>Unnamed: 8</th>\n",
              "    </tr>\n",
              "  </thead>\n",
              "  <tbody>\n",
              "    <tr>\n",
              "      <th>85</th>\n",
              "      <td>2</td>\n",
              "      <td>Amajyepfo</td>\n",
              "      <td>24</td>\n",
              "      <td>Huye</td>\n",
              "      <td>2412</td>\n",
              "      <td>Rwaniro</td>\n",
              "      <td>21,595.00</td>\n",
              "      <td>NaN</td>\n",
              "      <td>NaN</td>\n",
              "    </tr>\n",
              "  </tbody>\n",
              "</table>\n",
              "</div>"
            ],
            "text/plain": [
              "    Prov_ID   Province  Dist_ID  ...  Population of Sector   Unnamed: 7 Unnamed: 8\n",
              "85        2  Amajyepfo       24  ...             21,595.00          NaN        NaN\n",
              "\n",
              "[1 rows x 9 columns]"
            ]
          },
          "metadata": {
            "tags": []
          },
          "execution_count": 91
        }
      ]
    },
    {
      "cell_type": "code",
      "metadata": {
        "id": "RiozMNDOe_kB",
        "colab_type": "code",
        "colab": {
          "base_uri": "https://localhost:8080/",
          "height": 230
        },
        "outputId": "4018f11a-c23e-4aeb-b798-695de24d5c26"
      },
      "source": [
        "# drop the duplicate values from the population dataset based on Sect_ID\n",
        "population = population.drop_duplicates('Sect_ID')\n",
        "\n",
        "# make sure there are no duplicates\n",
        "population['Sect_ID'].value_counts()"
      ],
      "execution_count": 92,
      "outputs": [
        {
          "output_type": "execute_result",
          "data": {
            "text/plain": [
              "5114    1\n",
              "5113    1\n",
              "4307    1\n",
              "4308    1\n",
              "4309    1\n",
              "       ..\n",
              "2504    1\n",
              "2505    1\n",
              "2506    1\n",
              "2507    1\n",
              "1210    1\n",
              "Name: Sect_ID, Length: 416, dtype: int64"
            ]
          },
          "metadata": {
            "tags": []
          },
          "execution_count": 92
        }
      ]
    },
    {
      "cell_type": "code",
      "metadata": {
        "id": "0HzHhIHVgFEj",
        "colab_type": "code",
        "colab": {}
      },
      "source": [
        "# merge the population data set with the bridge project to get the population by\n",
        "# sector, included in the project data set\n",
        "\n",
        "# drop the province, district, sector name and district, province ID from\n",
        "# population dataset\n",
        "\n",
        "population = population.drop(columns=['Prov_ID', 'Province', 'Dist_ID', 'District', 'Sector', 'Unnamed: 7', 'Unnamed: 8'])\n",
        "\n",
        "# merge the two together, save new dataframe\n",
        "current_df = pd.merge(current_df, population, on='Sect_ID')"
      ],
      "execution_count": 93,
      "outputs": []
    },
    {
      "cell_type": "code",
      "metadata": {
        "id": "rgqZo4YegbXb",
        "colab_type": "code",
        "colab": {
          "base_uri": "https://localhost:8080/",
          "height": 297
        },
        "outputId": "17ca986d-df52-4155-cfc9-4f1046144a65"
      },
      "source": [
        "current_df.head()"
      ],
      "execution_count": 95,
      "outputs": [
        {
          "output_type": "execute_result",
          "data": {
            "text/html": [
              "<div>\n",
              "<style scoped>\n",
              "    .dataframe tbody tr th:only-of-type {\n",
              "        vertical-align: middle;\n",
              "    }\n",
              "\n",
              "    .dataframe tbody tr th {\n",
              "        vertical-align: top;\n",
              "    }\n",
              "\n",
              "    .dataframe thead th {\n",
              "        text-align: right;\n",
              "    }\n",
              "</style>\n",
              "<table border=\"1\" class=\"dataframe\">\n",
              "  <thead>\n",
              "    <tr style=\"text-align: right;\">\n",
              "      <th></th>\n",
              "      <th>Province</th>\n",
              "      <th>District</th>\n",
              "      <th>Sector</th>\n",
              "      <th>Bridge Site Name</th>\n",
              "      <th>Project Stage</th>\n",
              "      <th>Project Code</th>\n",
              "      <th>Bridge Type</th>\n",
              "      <th>GPS (Latitude)</th>\n",
              "      <th>GPS (Longitude)</th>\n",
              "      <th>Individuals Directly Served</th>\n",
              "      <th>Assessment Date</th>\n",
              "      <th>Original_Community_col</th>\n",
              "      <th>Community_Served</th>\n",
              "      <th>Prov_ID</th>\n",
              "      <th>Dist_ID</th>\n",
              "      <th>Sect_ID</th>\n",
              "      <th>Mean share of harvest sold</th>\n",
              "      <th>School_count</th>\n",
              "      <th>Population of Sector</th>\n",
              "    </tr>\n",
              "  </thead>\n",
              "  <tbody>\n",
              "    <tr>\n",
              "      <th>0</th>\n",
              "      <td>Western Province</td>\n",
              "      <td>Rusizi</td>\n",
              "      <td>Giheke</td>\n",
              "      <td>Buzi</td>\n",
              "      <td>Rejected</td>\n",
              "      <td>1014107</td>\n",
              "      <td>Suspended</td>\n",
              "      <td>-2.42056</td>\n",
              "      <td>28.9662</td>\n",
              "      <td>Unknown</td>\n",
              "      <td>2018-10-29</td>\n",
              "      <td>Community Served 1</td>\n",
              "      <td>Buzi</td>\n",
              "      <td>3</td>\n",
              "      <td>36</td>\n",
              "      <td>3605</td>\n",
              "      <td>20.1</td>\n",
              "      <td>6</td>\n",
              "      <td>19,359.00</td>\n",
              "    </tr>\n",
              "    <tr>\n",
              "      <th>1</th>\n",
              "      <td>Western Province</td>\n",
              "      <td>Rusizi</td>\n",
              "      <td>Giheke</td>\n",
              "      <td>Kamigisha</td>\n",
              "      <td>Rejected</td>\n",
              "      <td>1014106</td>\n",
              "      <td>Suspended</td>\n",
              "      <td>-2.42486</td>\n",
              "      <td>28.957259999999998</td>\n",
              "      <td>Unknown</td>\n",
              "      <td>2018-10-29</td>\n",
              "      <td>Community Served 1</td>\n",
              "      <td>Kabuga</td>\n",
              "      <td>3</td>\n",
              "      <td>36</td>\n",
              "      <td>3605</td>\n",
              "      <td>20.1</td>\n",
              "      <td>6</td>\n",
              "      <td>19,359.00</td>\n",
              "    </tr>\n",
              "    <tr>\n",
              "      <th>2</th>\n",
              "      <td>Western Province</td>\n",
              "      <td>Rusizi</td>\n",
              "      <td>Giheke</td>\n",
              "      <td>Gacyamo</td>\n",
              "      <td>Rejected</td>\n",
              "      <td>1014108</td>\n",
              "      <td>Suspension</td>\n",
              "      <td>-2.41855</td>\n",
              "      <td>28.969459999999998</td>\n",
              "      <td>Unknown</td>\n",
              "      <td>2018-10-29</td>\n",
              "      <td>Community Served 1</td>\n",
              "      <td>Gacyamo</td>\n",
              "      <td>3</td>\n",
              "      <td>36</td>\n",
              "      <td>3605</td>\n",
              "      <td>20.1</td>\n",
              "      <td>6</td>\n",
              "      <td>19,359.00</td>\n",
              "    </tr>\n",
              "    <tr>\n",
              "      <th>3</th>\n",
              "      <td>Western Province</td>\n",
              "      <td>Rusizi</td>\n",
              "      <td>Giheke</td>\n",
              "      <td>Nyakabanda</td>\n",
              "      <td>Rejected</td>\n",
              "      <td>1014105</td>\n",
              "      <td>Suspended</td>\n",
              "      <td>-2.42715</td>\n",
              "      <td>28.95369</td>\n",
              "      <td>Unknown</td>\n",
              "      <td>2018-10-29</td>\n",
              "      <td>Community Served 1</td>\n",
              "      <td>Kanoga</td>\n",
              "      <td>3</td>\n",
              "      <td>36</td>\n",
              "      <td>3605</td>\n",
              "      <td>20.1</td>\n",
              "      <td>6</td>\n",
              "      <td>19,359.00</td>\n",
              "    </tr>\n",
              "    <tr>\n",
              "      <th>4</th>\n",
              "      <td>Western Province</td>\n",
              "      <td>Rusizi</td>\n",
              "      <td>Giheke</td>\n",
              "      <td>Impala</td>\n",
              "      <td>Rejected</td>\n",
              "      <td>1014166</td>\n",
              "      <td>Unknown</td>\n",
              "      <td>-2.44246</td>\n",
              "      <td>28.9333</td>\n",
              "      <td>Unknown</td>\n",
              "      <td>2018-10-29</td>\n",
              "      <td>Community Served 1</td>\n",
              "      <td>Impala</td>\n",
              "      <td>3</td>\n",
              "      <td>36</td>\n",
              "      <td>3605</td>\n",
              "      <td>20.1</td>\n",
              "      <td>6</td>\n",
              "      <td>19,359.00</td>\n",
              "    </tr>\n",
              "  </tbody>\n",
              "</table>\n",
              "</div>"
            ],
            "text/plain": [
              "           Province District  ... School_count  Population of Sector \n",
              "0  Western Province   Rusizi  ...            6             19,359.00 \n",
              "1  Western Province   Rusizi  ...            6             19,359.00 \n",
              "2  Western Province   Rusizi  ...            6             19,359.00 \n",
              "3  Western Province   Rusizi  ...            6             19,359.00 \n",
              "4  Western Province   Rusizi  ...            6             19,359.00 \n",
              "\n",
              "[5 rows x 19 columns]"
            ]
          },
          "metadata": {
            "tags": []
          },
          "execution_count": 95
        }
      ]
    },
    {
      "cell_type": "markdown",
      "metadata": {
        "id": "-NWJBfvCiF8A",
        "colab_type": "text"
      },
      "source": [
        "### Merge Electricity Access with bridge projects"
      ]
    },
    {
      "cell_type": "code",
      "metadata": {
        "id": "bb0YwK-Ihvvv",
        "colab_type": "code",
        "colab": {}
      },
      "source": [
        "electricity = pd.read_csv('https://raw.githubusercontent.com/Lambda-School-Labs/Labs25-Bridges_to_Prosperity-TeamC-ds/main/rwanda_data_files/Rwanda_electricity_access_districts.csv')"
      ],
      "execution_count": 98,
      "outputs": []
    },
    {
      "cell_type": "code",
      "metadata": {
        "id": "BLz8Mi3kiLVT",
        "colab_type": "code",
        "colab": {
          "base_uri": "https://localhost:8080/",
          "height": 34
        },
        "outputId": "216ddffd-af01-4599-c911-a11f9dbe3e1a"
      },
      "source": [
        "# check to make sure we have the same districts in the electricity \n",
        "# as we do in the bridges projects dataset\n",
        "\n",
        "sorted(electricity['District']) == sorted(set(current_df['District']))"
      ],
      "execution_count": 108,
      "outputs": [
        {
          "output_type": "execute_result",
          "data": {
            "text/plain": [
              "True"
            ]
          },
          "metadata": {
            "tags": []
          },
          "execution_count": 108
        }
      ]
    },
    {
      "cell_type": "code",
      "metadata": {
        "id": "lg6tSM97ix9J",
        "colab_type": "code",
        "colab": {}
      },
      "source": [
        "# Because the districts are unique districts we can merge on the district name\n",
        "\n",
        "current_df = pd.merge(current_df, electricity, on='District')"
      ],
      "execution_count": 110,
      "outputs": []
    },
    {
      "cell_type": "code",
      "metadata": {
        "id": "RcKs2GE1jIhF",
        "colab_type": "code",
        "colab": {
          "base_uri": "https://localhost:8080/",
          "height": 314
        },
        "outputId": "4bcbf58b-ed49-4607-d5b7-13c927a74e9c"
      },
      "source": [
        "current_df.head()"
      ],
      "execution_count": 111,
      "outputs": [
        {
          "output_type": "execute_result",
          "data": {
            "text/html": [
              "<div>\n",
              "<style scoped>\n",
              "    .dataframe tbody tr th:only-of-type {\n",
              "        vertical-align: middle;\n",
              "    }\n",
              "\n",
              "    .dataframe tbody tr th {\n",
              "        vertical-align: top;\n",
              "    }\n",
              "\n",
              "    .dataframe thead th {\n",
              "        text-align: right;\n",
              "    }\n",
              "</style>\n",
              "<table border=\"1\" class=\"dataframe\">\n",
              "  <thead>\n",
              "    <tr style=\"text-align: right;\">\n",
              "      <th></th>\n",
              "      <th>Province</th>\n",
              "      <th>District</th>\n",
              "      <th>Sector</th>\n",
              "      <th>Bridge Site Name</th>\n",
              "      <th>Project Stage</th>\n",
              "      <th>Project Code</th>\n",
              "      <th>Bridge Type</th>\n",
              "      <th>GPS (Latitude)</th>\n",
              "      <th>GPS (Longitude)</th>\n",
              "      <th>Individuals Directly Served</th>\n",
              "      <th>Assessment Date</th>\n",
              "      <th>Original_Community_col</th>\n",
              "      <th>Community_Served</th>\n",
              "      <th>Prov_ID</th>\n",
              "      <th>Dist_ID</th>\n",
              "      <th>Sect_ID</th>\n",
              "      <th>Mean share of harvest sold</th>\n",
              "      <th>School_count</th>\n",
              "      <th>Population of Sector</th>\n",
              "      <th>Access rate</th>\n",
              "    </tr>\n",
              "  </thead>\n",
              "  <tbody>\n",
              "    <tr>\n",
              "      <th>0</th>\n",
              "      <td>Western Province</td>\n",
              "      <td>Rusizi</td>\n",
              "      <td>Giheke</td>\n",
              "      <td>Buzi</td>\n",
              "      <td>Rejected</td>\n",
              "      <td>1014107</td>\n",
              "      <td>Suspended</td>\n",
              "      <td>-2.42056</td>\n",
              "      <td>28.9662</td>\n",
              "      <td>Unknown</td>\n",
              "      <td>2018-10-29</td>\n",
              "      <td>Community Served 1</td>\n",
              "      <td>Buzi</td>\n",
              "      <td>3</td>\n",
              "      <td>36</td>\n",
              "      <td>3605</td>\n",
              "      <td>20.1</td>\n",
              "      <td>6</td>\n",
              "      <td>19,359.00</td>\n",
              "      <td>0.64</td>\n",
              "    </tr>\n",
              "    <tr>\n",
              "      <th>1</th>\n",
              "      <td>Western Province</td>\n",
              "      <td>Rusizi</td>\n",
              "      <td>Giheke</td>\n",
              "      <td>Kamigisha</td>\n",
              "      <td>Rejected</td>\n",
              "      <td>1014106</td>\n",
              "      <td>Suspended</td>\n",
              "      <td>-2.42486</td>\n",
              "      <td>28.957259999999998</td>\n",
              "      <td>Unknown</td>\n",
              "      <td>2018-10-29</td>\n",
              "      <td>Community Served 1</td>\n",
              "      <td>Kabuga</td>\n",
              "      <td>3</td>\n",
              "      <td>36</td>\n",
              "      <td>3605</td>\n",
              "      <td>20.1</td>\n",
              "      <td>6</td>\n",
              "      <td>19,359.00</td>\n",
              "      <td>0.64</td>\n",
              "    </tr>\n",
              "    <tr>\n",
              "      <th>2</th>\n",
              "      <td>Western Province</td>\n",
              "      <td>Rusizi</td>\n",
              "      <td>Giheke</td>\n",
              "      <td>Gacyamo</td>\n",
              "      <td>Rejected</td>\n",
              "      <td>1014108</td>\n",
              "      <td>Suspension</td>\n",
              "      <td>-2.41855</td>\n",
              "      <td>28.969459999999998</td>\n",
              "      <td>Unknown</td>\n",
              "      <td>2018-10-29</td>\n",
              "      <td>Community Served 1</td>\n",
              "      <td>Gacyamo</td>\n",
              "      <td>3</td>\n",
              "      <td>36</td>\n",
              "      <td>3605</td>\n",
              "      <td>20.1</td>\n",
              "      <td>6</td>\n",
              "      <td>19,359.00</td>\n",
              "      <td>0.64</td>\n",
              "    </tr>\n",
              "    <tr>\n",
              "      <th>3</th>\n",
              "      <td>Western Province</td>\n",
              "      <td>Rusizi</td>\n",
              "      <td>Giheke</td>\n",
              "      <td>Nyakabanda</td>\n",
              "      <td>Rejected</td>\n",
              "      <td>1014105</td>\n",
              "      <td>Suspended</td>\n",
              "      <td>-2.42715</td>\n",
              "      <td>28.95369</td>\n",
              "      <td>Unknown</td>\n",
              "      <td>2018-10-29</td>\n",
              "      <td>Community Served 1</td>\n",
              "      <td>Kanoga</td>\n",
              "      <td>3</td>\n",
              "      <td>36</td>\n",
              "      <td>3605</td>\n",
              "      <td>20.1</td>\n",
              "      <td>6</td>\n",
              "      <td>19,359.00</td>\n",
              "      <td>0.64</td>\n",
              "    </tr>\n",
              "    <tr>\n",
              "      <th>4</th>\n",
              "      <td>Western Province</td>\n",
              "      <td>Rusizi</td>\n",
              "      <td>Giheke</td>\n",
              "      <td>Impala</td>\n",
              "      <td>Rejected</td>\n",
              "      <td>1014166</td>\n",
              "      <td>Unknown</td>\n",
              "      <td>-2.44246</td>\n",
              "      <td>28.9333</td>\n",
              "      <td>Unknown</td>\n",
              "      <td>2018-10-29</td>\n",
              "      <td>Community Served 1</td>\n",
              "      <td>Impala</td>\n",
              "      <td>3</td>\n",
              "      <td>36</td>\n",
              "      <td>3605</td>\n",
              "      <td>20.1</td>\n",
              "      <td>6</td>\n",
              "      <td>19,359.00</td>\n",
              "      <td>0.64</td>\n",
              "    </tr>\n",
              "  </tbody>\n",
              "</table>\n",
              "</div>"
            ],
            "text/plain": [
              "           Province District  ...  Population of Sector  Access rate\n",
              "0  Western Province   Rusizi  ...             19,359.00         0.64\n",
              "1  Western Province   Rusizi  ...             19,359.00         0.64\n",
              "2  Western Province   Rusizi  ...             19,359.00         0.64\n",
              "3  Western Province   Rusizi  ...             19,359.00         0.64\n",
              "4  Western Province   Rusizi  ...             19,359.00         0.64\n",
              "\n",
              "[5 rows x 20 columns]"
            ]
          },
          "metadata": {
            "tags": []
          },
          "execution_count": 111
        }
      ]
    },
    {
      "cell_type": "code",
      "metadata": {
        "id": "WH5PWfTBjPpQ",
        "colab_type": "code",
        "colab": {}
      },
      "source": [
        ""
      ],
      "execution_count": null,
      "outputs": []
    }
  ]
}
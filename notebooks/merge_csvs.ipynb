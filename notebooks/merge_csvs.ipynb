{
  "nbformat": 4,
  "nbformat_minor": 0,
  "metadata": {
    "colab": {
      "name": "merge_csvs.ipynb",
      "provenance": [],
      "collapsed_sections": [],
      "toc_visible": true
    },
    "kernelspec": {
      "name": "python3",
      "display_name": "Python 3"
    }
  },
  "cells": [
    {
      "cell_type": "code",
      "metadata": {
        "id": "-10oKgJGoRK9",
        "colab_type": "code",
        "colab": {}
      },
      "source": [
        "import pandas as pd\n",
        "import numpy as np"
      ],
      "execution_count": 258,
      "outputs": []
    },
    {
      "cell_type": "markdown",
      "metadata": {
        "id": "2uzOwptmci-m",
        "colab_type": "text"
      },
      "source": [
        "### Merge Harvest data to the bridge project Data"
      ]
    },
    {
      "cell_type": "code",
      "metadata": {
        "id": "BH3VT32soaPP",
        "colab_type": "code",
        "colab": {}
      },
      "source": [
        "db_df = pd.read_csv(\"https://raw.githubusercontent.com/Lambda-School-Labs/Labs25-Bridges_to_Prosperity-TeamC-ds/main/final_csv/Final_with_gov_ID.csv\")\n",
        "harvest_df = pd.read_csv(\"https://raw.githubusercontent.com/Lambda-School-Labs/Labs25-Bridges_to_Prosperity-TeamC-ds/main/rwanda_data_files/share_of_harvest_sold.csv\")"
      ],
      "execution_count": 259,
      "outputs": []
    },
    {
      "cell_type": "code",
      "metadata": {
        "id": "S7XrSTLGMVn6",
        "colab_type": "code",
        "colab": {
          "base_uri": "https://localhost:8080/",
          "height": 52
        },
        "outputId": "8a6730f6-202c-4987-ad8c-8a314c6d8054"
      },
      "source": [
        "print(db_df.shape)\n",
        "print(harvest_df.shape)"
      ],
      "execution_count": 260,
      "outputs": [
        {
          "output_type": "stream",
          "text": [
            "(4483, 20)\n",
            "(30, 3)\n"
          ],
          "name": "stdout"
        }
      ]
    },
    {
      "cell_type": "code",
      "metadata": {
        "id": "A_O9lToE21LO",
        "colab_type": "code",
        "colab": {}
      },
      "source": [
        "db_df.drop(['Unnamed: 0','Cell','Form: Form Name','Cell_ID'],axis=1,inplace=True)\n",
        "harvest_df.drop('Unnamed: 0', axis=1,inplace=True)"
      ],
      "execution_count": 261,
      "outputs": []
    },
    {
      "cell_type": "code",
      "metadata": {
        "id": "NiI4GoxkBZAr",
        "colab_type": "code",
        "colab": {}
      },
      "source": [
        ""
      ],
      "execution_count": 261,
      "outputs": []
    },
    {
      "cell_type": "code",
      "metadata": {
        "id": "PAxHnfwENM4U",
        "colab_type": "code",
        "colab": {}
      },
      "source": [
        "# Merge database file on share of harvest in each RW district\n",
        "df = pd.merge(db_df,harvest_df,on='District',how='inner')"
      ],
      "execution_count": 262,
      "outputs": []
    },
    {
      "cell_type": "code",
      "metadata": {
        "id": "Z0mLRySiVC_B",
        "colab_type": "code",
        "colab": {}
      },
      "source": [
        "# db_df['District'].nunique()\n",
        "# df['District'].nunique()\n",
        "# harvest_df['Mean share of harvest sold'].nunique()\n",
        "# df['Mean share of harvest sold'].nunique()"
      ],
      "execution_count": 263,
      "outputs": []
    },
    {
      "cell_type": "markdown",
      "metadata": {
        "id": "vdm-rdglcS1N",
        "colab_type": "text"
      },
      "source": [
        "### Cleaning and merging of Schools and Gov ID data"
      ]
    },
    {
      "cell_type": "code",
      "metadata": {
        "id": "Ew7YHtUZVrJr",
        "colab_type": "code",
        "colab": {}
      },
      "source": [
        "schools_df = pd.read_csv(\"https://raw.githubusercontent.com/Lambda-School-Labs/Labs25-Bridges_to_Prosperity-TeamC-ds/main/rwanda_data_files/Rwanda_Schools%20(1).csv\")"
      ],
      "execution_count": 264,
      "outputs": []
    },
    {
      "cell_type": "code",
      "metadata": {
        "id": "nxUeBpXDWR9F",
        "colab_type": "code",
        "colab": {}
      },
      "source": [
        "govt_df = pd.read_csv('https://raw.githubusercontent.com/Lambda-School-Labs/Labs25-Bridges_to_Prosperity-TeamC-ds/main/rwanda_data_files/unique_gov_id_PDS.csv')"
      ],
      "execution_count": 265,
      "outputs": []
    },
    {
      "cell_type": "code",
      "metadata": {
        "id": "TNshUzicXiU6",
        "colab_type": "code",
        "colab": {}
      },
      "source": [
        "govt_df['Sector'] = govt_df['Sector'].str.title()\n",
        "schools_df['Sector'] = schools_df['Sector'].str.title()\n",
        "schools_df['District'] = schools_df['District'].str.title()"
      ],
      "execution_count": 266,
      "outputs": []
    },
    {
      "cell_type": "code",
      "metadata": {
        "id": "QtbOl5y8YVo0",
        "colab_type": "code",
        "colab": {}
      },
      "source": [
        "# Correct spellings in schools data to match govt_data \n",
        "govt_to_sch = {\n",
        "    'Kabagali' : 'Kabagari',\n",
        "    'Muringa' : 'Mulinga' ,\n",
        "    'Rugarika' : 'Rugalika',\n",
        "    'Gishali' : 'Gishari' ,\n",
        "    'Rugengabari' : 'Rugengabali',\n",
        "    'Nyagihanga':'Nyagahanga',\n",
        "    'Niboye': 'Niboyi',\n",
        "    'Save':'Gatoki',\n",
        "    'Tumba':'Ntuba'\n",
        "    }\n",
        "\n",
        "for key,value in govt_to_sch.items():\n",
        "\n",
        "  schools_df.loc[schools_df['Sector'] == value,'Sector'] = key"
      ],
      "execution_count": 267,
      "outputs": []
    },
    {
      "cell_type": "code",
      "metadata": {
        "id": "p48-lcOTXMc9",
        "colab_type": "code",
        "colab": {
          "base_uri": "https://localhost:8080/",
          "height": 34
        },
        "outputId": "cad8bca6-352d-465d-952b-6f55169c4f09"
      },
      "source": [
        "b = [x for x in set(schools_df['Sector']) if x not in set(govt_df['Sector'])]\n",
        "b"
      ],
      "execution_count": 268,
      "outputs": [
        {
          "output_type": "execute_result",
          "data": {
            "text/plain": [
              "[]"
            ]
          },
          "metadata": {
            "tags": []
          },
          "execution_count": 268
        }
      ]
    },
    {
      "cell_type": "code",
      "metadata": {
        "id": "sHgfFkXRyL2P",
        "colab_type": "code",
        "colab": {}
      },
      "source": [
        "# Change Nyanza-Kibirizi to Nyanza-Kibilizi to match database_df\n",
        "indy = schools_df[(schools_df['District'] == \"Nyanza\") & (schools_df['Sector'] == 'Kibirizi')].index\n",
        "\n",
        "for i in indy:\n",
        "  schools_df.loc[i,['Sector']] = \"Kibilizi\""
      ],
      "execution_count": 269,
      "outputs": []
    },
    {
      "cell_type": "code",
      "metadata": {
        "id": "bfMUWChUFDnb",
        "colab_type": "code",
        "colab": {}
      },
      "source": [
        "schools_df.drop('Unnamed: 0',axis=1,inplace=True)"
      ],
      "execution_count": 270,
      "outputs": []
    },
    {
      "cell_type": "code",
      "metadata": {
        "id": "ctGhIx8TlfOd",
        "colab_type": "code",
        "colab": {}
      },
      "source": [
        "# Correct Sector names in schools data \n",
        "il = [294]\n",
        "\n",
        "for i in il:\n",
        "  schools_df.loc[i,['Sector']] = 'Bigogwe'\n",
        "\n",
        "jl = [185]\n",
        "\n",
        "for j in jl:\n",
        "  schools_df.loc[j,['Sector']] = 'Ngarama'"
      ],
      "execution_count": 271,
      "outputs": []
    },
    {
      "cell_type": "code",
      "metadata": {
        "id": "Qwel1DZpZ98f",
        "colab_type": "code",
        "colab": {}
      },
      "source": [
        "# Merge schools data on govt data \n",
        "mg = pd.merge(schools_df,govt_df,on=['District','Sector'])"
      ],
      "execution_count": 272,
      "outputs": []
    },
    {
      "cell_type": "code",
      "metadata": {
        "id": "c8e9yIHzgEss",
        "colab_type": "code",
        "colab": {
          "base_uri": "https://localhost:8080/",
          "height": 34
        },
        "outputId": "443b2750-3835-43ec-a4aa-901a0fe8a57a"
      },
      "source": [
        "y = [x for x in set(mg['School Name']) if x not in set(schools_df['School Name'])]\n",
        "y"
      ],
      "execution_count": 273,
      "outputs": [
        {
          "output_type": "execute_result",
          "data": {
            "text/plain": [
              "[]"
            ]
          },
          "metadata": {
            "tags": []
          },
          "execution_count": 273
        }
      ]
    },
    {
      "cell_type": "code",
      "metadata": {
        "id": "qfUjgRuqgl7W",
        "colab_type": "code",
        "colab": {
          "base_uri": "https://localhost:8080/",
          "height": 34
        },
        "outputId": "814d738e-64f4-4c6b-e295-799ea385a89c"
      },
      "source": [
        "q = [x for x in set(schools_df['School Name']) if x not in set(mg['School Name'])]\n",
        "q"
      ],
      "execution_count": 274,
      "outputs": [
        {
          "output_type": "execute_result",
          "data": {
            "text/plain": [
              "[]"
            ]
          },
          "metadata": {
            "tags": []
          },
          "execution_count": 274
        }
      ]
    },
    {
      "cell_type": "code",
      "metadata": {
        "id": "Ffr156T_g8bI",
        "colab_type": "code",
        "colab": {
          "base_uri": "https://localhost:8080/",
          "height": 77
        },
        "outputId": "fbe7f884-17b1-4ed4-ab23-5ad348fc87f7"
      },
      "source": [
        "schools_df[schools_df['School Name'] == 'College Baptiste De Ngarama']"
      ],
      "execution_count": 275,
      "outputs": [
        {
          "output_type": "execute_result",
          "data": {
            "text/html": [
              "<div>\n",
              "<style scoped>\n",
              "    .dataframe tbody tr th:only-of-type {\n",
              "        vertical-align: middle;\n",
              "    }\n",
              "\n",
              "    .dataframe tbody tr th {\n",
              "        vertical-align: top;\n",
              "    }\n",
              "\n",
              "    .dataframe thead th {\n",
              "        text-align: right;\n",
              "    }\n",
              "</style>\n",
              "<table border=\"1\" class=\"dataframe\">\n",
              "  <thead>\n",
              "    <tr style=\"text-align: right;\">\n",
              "      <th></th>\n",
              "      <th>School Name</th>\n",
              "      <th>Province</th>\n",
              "      <th>District</th>\n",
              "      <th>Sector</th>\n",
              "    </tr>\n",
              "  </thead>\n",
              "  <tbody>\n",
              "    <tr>\n",
              "      <th>185</th>\n",
              "      <td>College Baptiste De Ngarama</td>\n",
              "      <td>East</td>\n",
              "      <td>Gatsibo</td>\n",
              "      <td>Ngarama</td>\n",
              "    </tr>\n",
              "  </tbody>\n",
              "</table>\n",
              "</div>"
            ],
            "text/plain": [
              "                     School Name Province District   Sector\n",
              "185  College Baptiste De Ngarama     East  Gatsibo  Ngarama"
            ]
          },
          "metadata": {
            "tags": []
          },
          "execution_count": 275
        }
      ]
    },
    {
      "cell_type": "code",
      "metadata": {
        "id": "-HdVjzB3nnhj",
        "colab_type": "code",
        "colab": {
          "base_uri": "https://localhost:8080/",
          "height": 77
        },
        "outputId": "6b0c1a65-f0b4-4bdf-e1a1-5bb819e117c7"
      },
      "source": [
        "mg[mg['School Name'] == 'EAV BIGOGWE']"
      ],
      "execution_count": 276,
      "outputs": [
        {
          "output_type": "execute_result",
          "data": {
            "text/html": [
              "<div>\n",
              "<style scoped>\n",
              "    .dataframe tbody tr th:only-of-type {\n",
              "        vertical-align: middle;\n",
              "    }\n",
              "\n",
              "    .dataframe tbody tr th {\n",
              "        vertical-align: top;\n",
              "    }\n",
              "\n",
              "    .dataframe thead th {\n",
              "        text-align: right;\n",
              "    }\n",
              "</style>\n",
              "<table border=\"1\" class=\"dataframe\">\n",
              "  <thead>\n",
              "    <tr style=\"text-align: right;\">\n",
              "      <th></th>\n",
              "      <th>School Name</th>\n",
              "      <th>Province_x</th>\n",
              "      <th>District</th>\n",
              "      <th>Sector</th>\n",
              "      <th>Prov_ID</th>\n",
              "      <th>Province_y</th>\n",
              "      <th>Dist_ID</th>\n",
              "      <th>Sect_ID</th>\n",
              "    </tr>\n",
              "  </thead>\n",
              "  <tbody>\n",
              "    <tr>\n",
              "      <th>411</th>\n",
              "      <td>EAV BIGOGWE</td>\n",
              "      <td>West</td>\n",
              "      <td>Nyabihu</td>\n",
              "      <td>Bigogwe</td>\n",
              "      <td>3</td>\n",
              "      <td>Iburengerazuba</td>\n",
              "      <td>34</td>\n",
              "      <td>3401</td>\n",
              "    </tr>\n",
              "  </tbody>\n",
              "</table>\n",
              "</div>"
            ],
            "text/plain": [
              "     School Name Province_x District  ...      Province_y  Dist_ID Sect_ID\n",
              "411  EAV BIGOGWE       West  Nyabihu  ...  Iburengerazuba       34    3401\n",
              "\n",
              "[1 rows x 8 columns]"
            ]
          },
          "metadata": {
            "tags": []
          },
          "execution_count": 276
        }
      ]
    },
    {
      "cell_type": "code",
      "metadata": {
        "id": "Lp0MrZhinvDZ",
        "colab_type": "code",
        "colab": {
          "base_uri": "https://localhost:8080/",
          "height": 77
        },
        "outputId": "87f0ef9f-e898-4a42-ac8f-ac0a80e5d8ce"
      },
      "source": [
        "mg[mg['School Name'] == 'College Baptiste De Ngarama']"
      ],
      "execution_count": 277,
      "outputs": [
        {
          "output_type": "execute_result",
          "data": {
            "text/html": [
              "<div>\n",
              "<style scoped>\n",
              "    .dataframe tbody tr th:only-of-type {\n",
              "        vertical-align: middle;\n",
              "    }\n",
              "\n",
              "    .dataframe tbody tr th {\n",
              "        vertical-align: top;\n",
              "    }\n",
              "\n",
              "    .dataframe thead th {\n",
              "        text-align: right;\n",
              "    }\n",
              "</style>\n",
              "<table border=\"1\" class=\"dataframe\">\n",
              "  <thead>\n",
              "    <tr style=\"text-align: right;\">\n",
              "      <th></th>\n",
              "      <th>School Name</th>\n",
              "      <th>Province_x</th>\n",
              "      <th>District</th>\n",
              "      <th>Sector</th>\n",
              "      <th>Prov_ID</th>\n",
              "      <th>Province_y</th>\n",
              "      <th>Dist_ID</th>\n",
              "      <th>Sect_ID</th>\n",
              "    </tr>\n",
              "  </thead>\n",
              "  <tbody>\n",
              "    <tr>\n",
              "      <th>1212</th>\n",
              "      <td>College Baptiste De Ngarama</td>\n",
              "      <td>East</td>\n",
              "      <td>Gatsibo</td>\n",
              "      <td>Ngarama</td>\n",
              "      <td>5</td>\n",
              "      <td>Iburasirazuba</td>\n",
              "      <td>53</td>\n",
              "      <td>5310</td>\n",
              "    </tr>\n",
              "  </tbody>\n",
              "</table>\n",
              "</div>"
            ],
            "text/plain": [
              "                      School Name Province_x  ... Dist_ID Sect_ID\n",
              "1212  College Baptiste De Ngarama       East  ...      53    5310\n",
              "\n",
              "[1 rows x 8 columns]"
            ]
          },
          "metadata": {
            "tags": []
          },
          "execution_count": 277
        }
      ]
    },
    {
      "cell_type": "code",
      "metadata": {
        "id": "u2O_yXVEaaNg",
        "colab_type": "code",
        "colab": {}
      },
      "source": [
        "# schools_df.groupby(['District','Sector'],as_index=False).count()"
      ],
      "execution_count": 278,
      "outputs": []
    },
    {
      "cell_type": "code",
      "metadata": {
        "id": "NbVCepZNuaiV",
        "colab_type": "code",
        "colab": {
          "base_uri": "https://localhost:8080/",
          "height": 105
        },
        "outputId": "169b3176-1a88-4057-e076-c1b04ed85d74"
      },
      "source": [
        "# Get the count of schools in each sector \n",
        "count_sch = mg.groupby(['Sect_ID']).count()['School Name']\n",
        "count_sch.head(3)"
      ],
      "execution_count": 279,
      "outputs": [
        {
          "output_type": "execute_result",
          "data": {
            "text/plain": [
              "Sect_ID\n",
              "1101    2\n",
              "1102    2\n",
              "1103    3\n",
              "Name: School Name, dtype: int64"
            ]
          },
          "metadata": {
            "tags": []
          },
          "execution_count": 279
        }
      ]
    },
    {
      "cell_type": "code",
      "metadata": {
        "id": "WmPUMLEHtlTO",
        "colab_type": "code",
        "colab": {}
      },
      "source": [
        "# merge database df on school count \n",
        "test_df = pd.merge(df,count_sch,on='Sect_ID')"
      ],
      "execution_count": 280,
      "outputs": []
    },
    {
      "cell_type": "code",
      "metadata": {
        "id": "-56JTe9QwRfL",
        "colab_type": "code",
        "colab": {}
      },
      "source": [
        "test_df['School_count'] = test_df['School Name']"
      ],
      "execution_count": 281,
      "outputs": []
    },
    {
      "cell_type": "code",
      "metadata": {
        "id": "ec9YA1Wuwf2Z",
        "colab_type": "code",
        "colab": {}
      },
      "source": [
        "test_df.drop('School Name',axis=1,inplace=True)"
      ],
      "execution_count": 282,
      "outputs": []
    },
    {
      "cell_type": "code",
      "metadata": {
        "id": "alfUQF1kwvD4",
        "colab_type": "code",
        "colab": {}
      },
      "source": [
        "current_df = test_df"
      ],
      "execution_count": 283,
      "outputs": []
    },
    {
      "cell_type": "code",
      "metadata": {
        "id": "AJPIVkwtwwtc",
        "colab_type": "code",
        "colab": {
          "base_uri": "https://localhost:8080/",
          "height": 34
        },
        "outputId": "5f490b6d-181c-4d3f-9600-986a47df41f1"
      },
      "source": [
        "# Current final df with farm harvest by District \n",
        "# and number of schools in each Sector\n",
        "current_df.shape"
      ],
      "execution_count": 284,
      "outputs": [
        {
          "output_type": "execute_result",
          "data": {
            "text/plain": [
              "(4483, 18)"
            ]
          },
          "metadata": {
            "tags": []
          },
          "execution_count": 284
        }
      ]
    },
    {
      "cell_type": "markdown",
      "metadata": {
        "id": "h7RSHmTicoUP",
        "colab_type": "text"
      },
      "source": [
        "### Clean and Merge Sector population with the bridge project data"
      ]
    },
    {
      "cell_type": "code",
      "metadata": {
        "id": "TPQq4CWvcxXe",
        "colab_type": "code",
        "colab": {}
      },
      "source": [
        "population = pd.read_csv('https://raw.githubusercontent.com/Lambda-School-Labs/Labs25-Bridges_to_Prosperity-TeamC-ds/main/rwanda_data_files/Rwanda%20Administrative%20Levels%20and%20Codes%20Sector%20Population.csv')"
      ],
      "execution_count": 285,
      "outputs": []
    },
    {
      "cell_type": "code",
      "metadata": {
        "id": "4hLABqfAc5RW",
        "colab_type": "code",
        "colab": {
          "base_uri": "https://localhost:8080/",
          "height": 406
        },
        "outputId": "eb16391a-b80c-48bd-adb1-4dc75f1e0fb4"
      },
      "source": [
        "population"
      ],
      "execution_count": 286,
      "outputs": [
        {
          "output_type": "execute_result",
          "data": {
            "text/html": [
              "<div>\n",
              "<style scoped>\n",
              "    .dataframe tbody tr th:only-of-type {\n",
              "        vertical-align: middle;\n",
              "    }\n",
              "\n",
              "    .dataframe tbody tr th {\n",
              "        vertical-align: top;\n",
              "    }\n",
              "\n",
              "    .dataframe thead th {\n",
              "        text-align: right;\n",
              "    }\n",
              "</style>\n",
              "<table border=\"1\" class=\"dataframe\">\n",
              "  <thead>\n",
              "    <tr style=\"text-align: right;\">\n",
              "      <th></th>\n",
              "      <th>Prov_ID</th>\n",
              "      <th>Province</th>\n",
              "      <th>Dist_ID</th>\n",
              "      <th>District</th>\n",
              "      <th>Sect_ID</th>\n",
              "      <th>Sector</th>\n",
              "      <th>Population of Sector</th>\n",
              "      <th>Unnamed: 7</th>\n",
              "      <th>Unnamed: 8</th>\n",
              "    </tr>\n",
              "  </thead>\n",
              "  <tbody>\n",
              "    <tr>\n",
              "      <th>0</th>\n",
              "      <td>1</td>\n",
              "      <td>Umujyi wa Kigali</td>\n",
              "      <td>11</td>\n",
              "      <td>Nyarugenge</td>\n",
              "      <td>1101</td>\n",
              "      <td>Gitega</td>\n",
              "      <td>28,728.00</td>\n",
              "      <td>NaN</td>\n",
              "      <td>NaN</td>\n",
              "    </tr>\n",
              "    <tr>\n",
              "      <th>1</th>\n",
              "      <td>1</td>\n",
              "      <td>Umujyi wa Kigali</td>\n",
              "      <td>11</td>\n",
              "      <td>Nyarugenge</td>\n",
              "      <td>1102</td>\n",
              "      <td>Kanyinya</td>\n",
              "      <td>21,859.00</td>\n",
              "      <td>NaN</td>\n",
              "      <td>NaN</td>\n",
              "    </tr>\n",
              "    <tr>\n",
              "      <th>2</th>\n",
              "      <td>1</td>\n",
              "      <td>Umujyi wa Kigali</td>\n",
              "      <td>11</td>\n",
              "      <td>Nyarugenge</td>\n",
              "      <td>1103</td>\n",
              "      <td>Kigali</td>\n",
              "      <td>30,023.00</td>\n",
              "      <td>NaN</td>\n",
              "      <td>NaN</td>\n",
              "    </tr>\n",
              "    <tr>\n",
              "      <th>3</th>\n",
              "      <td>1</td>\n",
              "      <td>Umujyi wa Kigali</td>\n",
              "      <td>11</td>\n",
              "      <td>Nyarugenge</td>\n",
              "      <td>1104</td>\n",
              "      <td>Kimisagara</td>\n",
              "      <td>46,753.00</td>\n",
              "      <td>NaN</td>\n",
              "      <td>NaN</td>\n",
              "    </tr>\n",
              "    <tr>\n",
              "      <th>4</th>\n",
              "      <td>1</td>\n",
              "      <td>Umujyi wa Kigali</td>\n",
              "      <td>11</td>\n",
              "      <td>Nyarugenge</td>\n",
              "      <td>1105</td>\n",
              "      <td>Mageregere</td>\n",
              "      <td>23,407.00</td>\n",
              "      <td>NaN</td>\n",
              "      <td>NaN</td>\n",
              "    </tr>\n",
              "    <tr>\n",
              "      <th>...</th>\n",
              "      <td>...</td>\n",
              "      <td>...</td>\n",
              "      <td>...</td>\n",
              "      <td>...</td>\n",
              "      <td>...</td>\n",
              "      <td>...</td>\n",
              "      <td>...</td>\n",
              "      <td>...</td>\n",
              "      <td>...</td>\n",
              "    </tr>\n",
              "    <tr>\n",
              "      <th>413</th>\n",
              "      <td>5</td>\n",
              "      <td>Iburasirazuba</td>\n",
              "      <td>57</td>\n",
              "      <td>Bugesera</td>\n",
              "      <td>5711</td>\n",
              "      <td>Nyarugenge</td>\n",
              "      <td>20,753.00</td>\n",
              "      <td>NaN</td>\n",
              "      <td>NaN</td>\n",
              "    </tr>\n",
              "    <tr>\n",
              "      <th>414</th>\n",
              "      <td>5</td>\n",
              "      <td>Iburasirazuba</td>\n",
              "      <td>57</td>\n",
              "      <td>Bugesera</td>\n",
              "      <td>5712</td>\n",
              "      <td>Rilima</td>\n",
              "      <td>26,803.00</td>\n",
              "      <td>NaN</td>\n",
              "      <td>NaN</td>\n",
              "    </tr>\n",
              "    <tr>\n",
              "      <th>415</th>\n",
              "      <td>5</td>\n",
              "      <td>Iburasirazuba</td>\n",
              "      <td>57</td>\n",
              "      <td>Bugesera</td>\n",
              "      <td>5713</td>\n",
              "      <td>Ruhuha</td>\n",
              "      <td>22,994.00</td>\n",
              "      <td>NaN</td>\n",
              "      <td>NaN</td>\n",
              "    </tr>\n",
              "    <tr>\n",
              "      <th>416</th>\n",
              "      <td>5</td>\n",
              "      <td>Iburasirazuba</td>\n",
              "      <td>57</td>\n",
              "      <td>Bugesera</td>\n",
              "      <td>5714</td>\n",
              "      <td>Rweru</td>\n",
              "      <td>28,782.00</td>\n",
              "      <td>NaN</td>\n",
              "      <td>NaN</td>\n",
              "    </tr>\n",
              "    <tr>\n",
              "      <th>417</th>\n",
              "      <td>5</td>\n",
              "      <td>Iburasirazuba</td>\n",
              "      <td>57</td>\n",
              "      <td>Bugesera</td>\n",
              "      <td>5715</td>\n",
              "      <td>Shyara</td>\n",
              "      <td>13,390.00</td>\n",
              "      <td>NaN</td>\n",
              "      <td>NaN</td>\n",
              "    </tr>\n",
              "  </tbody>\n",
              "</table>\n",
              "<p>418 rows × 9 columns</p>\n",
              "</div>"
            ],
            "text/plain": [
              "     Prov_ID          Province  ...  Unnamed: 7 Unnamed: 8\n",
              "0          1  Umujyi wa Kigali  ...         NaN        NaN\n",
              "1          1  Umujyi wa Kigali  ...         NaN        NaN\n",
              "2          1  Umujyi wa Kigali  ...         NaN        NaN\n",
              "3          1  Umujyi wa Kigali  ...         NaN        NaN\n",
              "4          1  Umujyi wa Kigali  ...         NaN        NaN\n",
              "..       ...               ...  ...         ...        ...\n",
              "413        5     Iburasirazuba  ...         NaN        NaN\n",
              "414        5     Iburasirazuba  ...         NaN        NaN\n",
              "415        5     Iburasirazuba  ...         NaN        NaN\n",
              "416        5     Iburasirazuba  ...         NaN        NaN\n",
              "417        5     Iburasirazuba  ...         NaN        NaN\n",
              "\n",
              "[418 rows x 9 columns]"
            ]
          },
          "metadata": {
            "tags": []
          },
          "execution_count": 286
        }
      ]
    },
    {
      "cell_type": "code",
      "metadata": {
        "id": "X4cX__wdcBcW",
        "colab_type": "code",
        "colab": {
          "base_uri": "https://localhost:8080/",
          "height": 297
        },
        "outputId": "342e70ef-7da6-4a75-f2cc-807d38d36c98"
      },
      "source": [
        "current_df.head()"
      ],
      "execution_count": 287,
      "outputs": [
        {
          "output_type": "execute_result",
          "data": {
            "text/html": [
              "<div>\n",
              "<style scoped>\n",
              "    .dataframe tbody tr th:only-of-type {\n",
              "        vertical-align: middle;\n",
              "    }\n",
              "\n",
              "    .dataframe tbody tr th {\n",
              "        vertical-align: top;\n",
              "    }\n",
              "\n",
              "    .dataframe thead th {\n",
              "        text-align: right;\n",
              "    }\n",
              "</style>\n",
              "<table border=\"1\" class=\"dataframe\">\n",
              "  <thead>\n",
              "    <tr style=\"text-align: right;\">\n",
              "      <th></th>\n",
              "      <th>Province</th>\n",
              "      <th>District</th>\n",
              "      <th>Sector</th>\n",
              "      <th>Bridge Site Name</th>\n",
              "      <th>Project Stage</th>\n",
              "      <th>Project Code</th>\n",
              "      <th>Bridge Type</th>\n",
              "      <th>GPS (Latitude)</th>\n",
              "      <th>GPS (Longitude)</th>\n",
              "      <th>Individuals Directly Served</th>\n",
              "      <th>Assessment Date</th>\n",
              "      <th>Original_Community_col</th>\n",
              "      <th>Community_Served</th>\n",
              "      <th>Prov_ID</th>\n",
              "      <th>Dist_ID</th>\n",
              "      <th>Sect_ID</th>\n",
              "      <th>Mean share of harvest sold</th>\n",
              "      <th>School_count</th>\n",
              "    </tr>\n",
              "  </thead>\n",
              "  <tbody>\n",
              "    <tr>\n",
              "      <th>0</th>\n",
              "      <td>Western Province</td>\n",
              "      <td>Rusizi</td>\n",
              "      <td>Giheke</td>\n",
              "      <td>Buzi</td>\n",
              "      <td>Rejected</td>\n",
              "      <td>1014107</td>\n",
              "      <td>Suspended</td>\n",
              "      <td>-2.42056</td>\n",
              "      <td>28.9662</td>\n",
              "      <td>Unknown</td>\n",
              "      <td>2018-10-29</td>\n",
              "      <td>Community Served 1</td>\n",
              "      <td>Buzi</td>\n",
              "      <td>3</td>\n",
              "      <td>36</td>\n",
              "      <td>3605</td>\n",
              "      <td>20.1</td>\n",
              "      <td>6</td>\n",
              "    </tr>\n",
              "    <tr>\n",
              "      <th>1</th>\n",
              "      <td>Western Province</td>\n",
              "      <td>Rusizi</td>\n",
              "      <td>Giheke</td>\n",
              "      <td>Kamigisha</td>\n",
              "      <td>Rejected</td>\n",
              "      <td>1014106</td>\n",
              "      <td>Suspended</td>\n",
              "      <td>-2.42486</td>\n",
              "      <td>28.957259999999998</td>\n",
              "      <td>Unknown</td>\n",
              "      <td>2018-10-29</td>\n",
              "      <td>Community Served 1</td>\n",
              "      <td>Kabuga</td>\n",
              "      <td>3</td>\n",
              "      <td>36</td>\n",
              "      <td>3605</td>\n",
              "      <td>20.1</td>\n",
              "      <td>6</td>\n",
              "    </tr>\n",
              "    <tr>\n",
              "      <th>2</th>\n",
              "      <td>Western Province</td>\n",
              "      <td>Rusizi</td>\n",
              "      <td>Giheke</td>\n",
              "      <td>Gacyamo</td>\n",
              "      <td>Rejected</td>\n",
              "      <td>1014108</td>\n",
              "      <td>Suspension</td>\n",
              "      <td>-2.41855</td>\n",
              "      <td>28.969459999999998</td>\n",
              "      <td>Unknown</td>\n",
              "      <td>2018-10-29</td>\n",
              "      <td>Community Served 1</td>\n",
              "      <td>Gacyamo</td>\n",
              "      <td>3</td>\n",
              "      <td>36</td>\n",
              "      <td>3605</td>\n",
              "      <td>20.1</td>\n",
              "      <td>6</td>\n",
              "    </tr>\n",
              "    <tr>\n",
              "      <th>3</th>\n",
              "      <td>Western Province</td>\n",
              "      <td>Rusizi</td>\n",
              "      <td>Giheke</td>\n",
              "      <td>Nyakabanda</td>\n",
              "      <td>Rejected</td>\n",
              "      <td>1014105</td>\n",
              "      <td>Suspended</td>\n",
              "      <td>-2.42715</td>\n",
              "      <td>28.95369</td>\n",
              "      <td>Unknown</td>\n",
              "      <td>2018-10-29</td>\n",
              "      <td>Community Served 1</td>\n",
              "      <td>Kanoga</td>\n",
              "      <td>3</td>\n",
              "      <td>36</td>\n",
              "      <td>3605</td>\n",
              "      <td>20.1</td>\n",
              "      <td>6</td>\n",
              "    </tr>\n",
              "    <tr>\n",
              "      <th>4</th>\n",
              "      <td>Western Province</td>\n",
              "      <td>Rusizi</td>\n",
              "      <td>Giheke</td>\n",
              "      <td>Impala</td>\n",
              "      <td>Rejected</td>\n",
              "      <td>1014166</td>\n",
              "      <td>Unknown</td>\n",
              "      <td>-2.44246</td>\n",
              "      <td>28.9333</td>\n",
              "      <td>Unknown</td>\n",
              "      <td>2018-10-29</td>\n",
              "      <td>Community Served 1</td>\n",
              "      <td>Impala</td>\n",
              "      <td>3</td>\n",
              "      <td>36</td>\n",
              "      <td>3605</td>\n",
              "      <td>20.1</td>\n",
              "      <td>6</td>\n",
              "    </tr>\n",
              "  </tbody>\n",
              "</table>\n",
              "</div>"
            ],
            "text/plain": [
              "           Province District  ... Mean share of harvest sold School_count\n",
              "0  Western Province   Rusizi  ...                       20.1            6\n",
              "1  Western Province   Rusizi  ...                       20.1            6\n",
              "2  Western Province   Rusizi  ...                       20.1            6\n",
              "3  Western Province   Rusizi  ...                       20.1            6\n",
              "4  Western Province   Rusizi  ...                       20.1            6\n",
              "\n",
              "[5 rows x 18 columns]"
            ]
          },
          "metadata": {
            "tags": []
          },
          "execution_count": 287
        }
      ]
    },
    {
      "cell_type": "code",
      "metadata": {
        "id": "1f2RFSxWcCyL",
        "colab_type": "code",
        "colab": {
          "base_uri": "https://localhost:8080/",
          "height": 34
        },
        "outputId": "118e5d90-e3d9-4844-aac7-faf2396f897b"
      },
      "source": [
        "[i for i in set(population['Sect_ID']) if i not in set(govt_df['Sect_ID']) ]"
      ],
      "execution_count": 288,
      "outputs": [
        {
          "output_type": "execute_result",
          "data": {
            "text/plain": [
              "[]"
            ]
          },
          "metadata": {
            "tags": []
          },
          "execution_count": 288
        }
      ]
    },
    {
      "cell_type": "code",
      "metadata": {
        "id": "mA8ByIiKc_9E",
        "colab_type": "code",
        "colab": {
          "base_uri": "https://localhost:8080/",
          "height": 230
        },
        "outputId": "280505d0-dee7-44f7-b4cd-58addb7ca897"
      },
      "source": [
        "# there are some duplicate values that we can drop. \n",
        "# but Sect code 2411 is showing for two different Sectors. We cant drop that one.\n",
        "# we need to change the sector code for the sector Rwaniro to 2412.\n",
        "population['Sect_ID'].value_counts()"
      ],
      "execution_count": 289,
      "outputs": [
        {
          "output_type": "execute_result",
          "data": {
            "text/plain": [
              "1108    2\n",
              "1105    2\n",
              "2411    2\n",
              "5114    1\n",
              "3303    1\n",
              "       ..\n",
              "2504    1\n",
              "2505    1\n",
              "2506    1\n",
              "2507    1\n",
              "1210    1\n",
              "Name: Sect_ID, Length: 415, dtype: int64"
            ]
          },
          "metadata": {
            "tags": []
          },
          "execution_count": 289
        }
      ]
    },
    {
      "cell_type": "code",
      "metadata": {
        "id": "TxVBIZV9ddrm",
        "colab_type": "code",
        "colab": {
          "base_uri": "https://localhost:8080/",
          "height": 107
        },
        "outputId": "a51c9c3c-df8f-4911-b9a7-a717031dd00d"
      },
      "source": [
        "# Sector ID for Rwaniro shouldnt be 2411...it should be 2412\n",
        "population[population['Sect_ID'] == 2411]"
      ],
      "execution_count": 290,
      "outputs": [
        {
          "output_type": "execute_result",
          "data": {
            "text/html": [
              "<div>\n",
              "<style scoped>\n",
              "    .dataframe tbody tr th:only-of-type {\n",
              "        vertical-align: middle;\n",
              "    }\n",
              "\n",
              "    .dataframe tbody tr th {\n",
              "        vertical-align: top;\n",
              "    }\n",
              "\n",
              "    .dataframe thead th {\n",
              "        text-align: right;\n",
              "    }\n",
              "</style>\n",
              "<table border=\"1\" class=\"dataframe\">\n",
              "  <thead>\n",
              "    <tr style=\"text-align: right;\">\n",
              "      <th></th>\n",
              "      <th>Prov_ID</th>\n",
              "      <th>Province</th>\n",
              "      <th>Dist_ID</th>\n",
              "      <th>District</th>\n",
              "      <th>Sect_ID</th>\n",
              "      <th>Sector</th>\n",
              "      <th>Population of Sector</th>\n",
              "      <th>Unnamed: 7</th>\n",
              "      <th>Unnamed: 8</th>\n",
              "    </tr>\n",
              "  </thead>\n",
              "  <tbody>\n",
              "    <tr>\n",
              "      <th>84</th>\n",
              "      <td>2</td>\n",
              "      <td>Amajyepfo</td>\n",
              "      <td>24</td>\n",
              "      <td>Huye</td>\n",
              "      <td>2411</td>\n",
              "      <td>Rusatira</td>\n",
              "      <td>25,171.00</td>\n",
              "      <td>NaN</td>\n",
              "      <td>NaN</td>\n",
              "    </tr>\n",
              "    <tr>\n",
              "      <th>85</th>\n",
              "      <td>2</td>\n",
              "      <td>Amajyepfo</td>\n",
              "      <td>24</td>\n",
              "      <td>Huye</td>\n",
              "      <td>2411</td>\n",
              "      <td>Rwaniro</td>\n",
              "      <td>21,595.00</td>\n",
              "      <td>NaN</td>\n",
              "      <td>NaN</td>\n",
              "    </tr>\n",
              "  </tbody>\n",
              "</table>\n",
              "</div>"
            ],
            "text/plain": [
              "    Prov_ID   Province  Dist_ID  ...  Population of Sector   Unnamed: 7 Unnamed: 8\n",
              "84        2  Amajyepfo       24  ...             25,171.00          NaN        NaN\n",
              "85        2  Amajyepfo       24  ...             21,595.00          NaN        NaN\n",
              "\n",
              "[2 rows x 9 columns]"
            ]
          },
          "metadata": {
            "tags": []
          },
          "execution_count": 290
        }
      ]
    },
    {
      "cell_type": "code",
      "metadata": {
        "id": "OvBeeTzZdjz-",
        "colab_type": "code",
        "colab": {
          "base_uri": "https://localhost:8080/",
          "height": 77
        },
        "outputId": "52201ae3-bfd3-4a58-fdbb-e4bb0af478fa"
      },
      "source": [
        "govt_df[govt_df['Sect_ID'] == 2412]"
      ],
      "execution_count": 291,
      "outputs": [
        {
          "output_type": "execute_result",
          "data": {
            "text/html": [
              "<div>\n",
              "<style scoped>\n",
              "    .dataframe tbody tr th:only-of-type {\n",
              "        vertical-align: middle;\n",
              "    }\n",
              "\n",
              "    .dataframe tbody tr th {\n",
              "        vertical-align: top;\n",
              "    }\n",
              "\n",
              "    .dataframe thead th {\n",
              "        text-align: right;\n",
              "    }\n",
              "</style>\n",
              "<table border=\"1\" class=\"dataframe\">\n",
              "  <thead>\n",
              "    <tr style=\"text-align: right;\">\n",
              "      <th></th>\n",
              "      <th>Prov_ID</th>\n",
              "      <th>Province</th>\n",
              "      <th>Dist_ID</th>\n",
              "      <th>District</th>\n",
              "      <th>Sect_ID</th>\n",
              "      <th>Sector</th>\n",
              "    </tr>\n",
              "  </thead>\n",
              "  <tbody>\n",
              "    <tr>\n",
              "      <th>84</th>\n",
              "      <td>2</td>\n",
              "      <td>Amajyepfo</td>\n",
              "      <td>24</td>\n",
              "      <td>Huye</td>\n",
              "      <td>2412</td>\n",
              "      <td>Rwaniro</td>\n",
              "    </tr>\n",
              "  </tbody>\n",
              "</table>\n",
              "</div>"
            ],
            "text/plain": [
              "    Prov_ID   Province  Dist_ID District  Sect_ID   Sector\n",
              "84        2  Amajyepfo       24     Huye     2412  Rwaniro"
            ]
          },
          "metadata": {
            "tags": []
          },
          "execution_count": 291
        }
      ]
    },
    {
      "cell_type": "code",
      "metadata": {
        "id": "7O4SuQHBeB8E",
        "colab_type": "code",
        "colab": {}
      },
      "source": [
        "# Change Sector ID for Rwaniro to 2412\n",
        "\n",
        "population.loc[85, 'Sect_ID'] = 2412"
      ],
      "execution_count": 292,
      "outputs": []
    },
    {
      "cell_type": "code",
      "metadata": {
        "id": "ldYZ36yoeiN_",
        "colab_type": "code",
        "colab": {
          "base_uri": "https://localhost:8080/",
          "height": 77
        },
        "outputId": "562c3e75-e771-447d-f682-18169ece7885"
      },
      "source": [
        "# make sure that the change is made in the population dataset now.\n",
        "population[population['Sect_ID'] == 2412]"
      ],
      "execution_count": 293,
      "outputs": [
        {
          "output_type": "execute_result",
          "data": {
            "text/html": [
              "<div>\n",
              "<style scoped>\n",
              "    .dataframe tbody tr th:only-of-type {\n",
              "        vertical-align: middle;\n",
              "    }\n",
              "\n",
              "    .dataframe tbody tr th {\n",
              "        vertical-align: top;\n",
              "    }\n",
              "\n",
              "    .dataframe thead th {\n",
              "        text-align: right;\n",
              "    }\n",
              "</style>\n",
              "<table border=\"1\" class=\"dataframe\">\n",
              "  <thead>\n",
              "    <tr style=\"text-align: right;\">\n",
              "      <th></th>\n",
              "      <th>Prov_ID</th>\n",
              "      <th>Province</th>\n",
              "      <th>Dist_ID</th>\n",
              "      <th>District</th>\n",
              "      <th>Sect_ID</th>\n",
              "      <th>Sector</th>\n",
              "      <th>Population of Sector</th>\n",
              "      <th>Unnamed: 7</th>\n",
              "      <th>Unnamed: 8</th>\n",
              "    </tr>\n",
              "  </thead>\n",
              "  <tbody>\n",
              "    <tr>\n",
              "      <th>85</th>\n",
              "      <td>2</td>\n",
              "      <td>Amajyepfo</td>\n",
              "      <td>24</td>\n",
              "      <td>Huye</td>\n",
              "      <td>2412</td>\n",
              "      <td>Rwaniro</td>\n",
              "      <td>21,595.00</td>\n",
              "      <td>NaN</td>\n",
              "      <td>NaN</td>\n",
              "    </tr>\n",
              "  </tbody>\n",
              "</table>\n",
              "</div>"
            ],
            "text/plain": [
              "    Prov_ID   Province  Dist_ID  ...  Population of Sector   Unnamed: 7 Unnamed: 8\n",
              "85        2  Amajyepfo       24  ...             21,595.00          NaN        NaN\n",
              "\n",
              "[1 rows x 9 columns]"
            ]
          },
          "metadata": {
            "tags": []
          },
          "execution_count": 293
        }
      ]
    },
    {
      "cell_type": "code",
      "metadata": {
        "id": "RiozMNDOe_kB",
        "colab_type": "code",
        "colab": {
          "base_uri": "https://localhost:8080/",
          "height": 230
        },
        "outputId": "f58d5100-3766-4f28-fe56-640131a66b54"
      },
      "source": [
        "# drop the duplicate values from the population dataset based on Sect_ID\n",
        "population = population.drop_duplicates('Sect_ID')\n",
        "\n",
        "# make sure there are no duplicates\n",
        "population['Sect_ID'].value_counts()"
      ],
      "execution_count": 294,
      "outputs": [
        {
          "output_type": "execute_result",
          "data": {
            "text/plain": [
              "5114    1\n",
              "5113    1\n",
              "4307    1\n",
              "4308    1\n",
              "4309    1\n",
              "       ..\n",
              "2504    1\n",
              "2505    1\n",
              "2506    1\n",
              "2507    1\n",
              "1210    1\n",
              "Name: Sect_ID, Length: 416, dtype: int64"
            ]
          },
          "metadata": {
            "tags": []
          },
          "execution_count": 294
        }
      ]
    },
    {
      "cell_type": "code",
      "metadata": {
        "id": "0HzHhIHVgFEj",
        "colab_type": "code",
        "colab": {}
      },
      "source": [
        "# merge the population data set with the bridge project to get the population by\n",
        "# sector, included in the project data set\n",
        "\n",
        "# drop the province, district, sector name and district, province ID from\n",
        "# population dataset\n",
        "\n",
        "population = population.drop(columns=['Prov_ID', 'Province', 'Dist_ID', 'District', 'Sector', 'Unnamed: 7', 'Unnamed: 8'])\n",
        "\n",
        "# merge the two together, save new dataframe\n",
        "current_df = pd.merge(current_df, population, on='Sect_ID')"
      ],
      "execution_count": 295,
      "outputs": []
    },
    {
      "cell_type": "code",
      "metadata": {
        "id": "rgqZo4YegbXb",
        "colab_type": "code",
        "colab": {
          "base_uri": "https://localhost:8080/",
          "height": 297
        },
        "outputId": "e9b50d09-b630-4f99-9df4-aab2ab519448"
      },
      "source": [
        "current_df.head()"
      ],
      "execution_count": 296,
      "outputs": [
        {
          "output_type": "execute_result",
          "data": {
            "text/html": [
              "<div>\n",
              "<style scoped>\n",
              "    .dataframe tbody tr th:only-of-type {\n",
              "        vertical-align: middle;\n",
              "    }\n",
              "\n",
              "    .dataframe tbody tr th {\n",
              "        vertical-align: top;\n",
              "    }\n",
              "\n",
              "    .dataframe thead th {\n",
              "        text-align: right;\n",
              "    }\n",
              "</style>\n",
              "<table border=\"1\" class=\"dataframe\">\n",
              "  <thead>\n",
              "    <tr style=\"text-align: right;\">\n",
              "      <th></th>\n",
              "      <th>Province</th>\n",
              "      <th>District</th>\n",
              "      <th>Sector</th>\n",
              "      <th>Bridge Site Name</th>\n",
              "      <th>Project Stage</th>\n",
              "      <th>Project Code</th>\n",
              "      <th>Bridge Type</th>\n",
              "      <th>GPS (Latitude)</th>\n",
              "      <th>GPS (Longitude)</th>\n",
              "      <th>Individuals Directly Served</th>\n",
              "      <th>Assessment Date</th>\n",
              "      <th>Original_Community_col</th>\n",
              "      <th>Community_Served</th>\n",
              "      <th>Prov_ID</th>\n",
              "      <th>Dist_ID</th>\n",
              "      <th>Sect_ID</th>\n",
              "      <th>Mean share of harvest sold</th>\n",
              "      <th>School_count</th>\n",
              "      <th>Population of Sector</th>\n",
              "    </tr>\n",
              "  </thead>\n",
              "  <tbody>\n",
              "    <tr>\n",
              "      <th>0</th>\n",
              "      <td>Western Province</td>\n",
              "      <td>Rusizi</td>\n",
              "      <td>Giheke</td>\n",
              "      <td>Buzi</td>\n",
              "      <td>Rejected</td>\n",
              "      <td>1014107</td>\n",
              "      <td>Suspended</td>\n",
              "      <td>-2.42056</td>\n",
              "      <td>28.9662</td>\n",
              "      <td>Unknown</td>\n",
              "      <td>2018-10-29</td>\n",
              "      <td>Community Served 1</td>\n",
              "      <td>Buzi</td>\n",
              "      <td>3</td>\n",
              "      <td>36</td>\n",
              "      <td>3605</td>\n",
              "      <td>20.1</td>\n",
              "      <td>6</td>\n",
              "      <td>19,359.00</td>\n",
              "    </tr>\n",
              "    <tr>\n",
              "      <th>1</th>\n",
              "      <td>Western Province</td>\n",
              "      <td>Rusizi</td>\n",
              "      <td>Giheke</td>\n",
              "      <td>Kamigisha</td>\n",
              "      <td>Rejected</td>\n",
              "      <td>1014106</td>\n",
              "      <td>Suspended</td>\n",
              "      <td>-2.42486</td>\n",
              "      <td>28.957259999999998</td>\n",
              "      <td>Unknown</td>\n",
              "      <td>2018-10-29</td>\n",
              "      <td>Community Served 1</td>\n",
              "      <td>Kabuga</td>\n",
              "      <td>3</td>\n",
              "      <td>36</td>\n",
              "      <td>3605</td>\n",
              "      <td>20.1</td>\n",
              "      <td>6</td>\n",
              "      <td>19,359.00</td>\n",
              "    </tr>\n",
              "    <tr>\n",
              "      <th>2</th>\n",
              "      <td>Western Province</td>\n",
              "      <td>Rusizi</td>\n",
              "      <td>Giheke</td>\n",
              "      <td>Gacyamo</td>\n",
              "      <td>Rejected</td>\n",
              "      <td>1014108</td>\n",
              "      <td>Suspension</td>\n",
              "      <td>-2.41855</td>\n",
              "      <td>28.969459999999998</td>\n",
              "      <td>Unknown</td>\n",
              "      <td>2018-10-29</td>\n",
              "      <td>Community Served 1</td>\n",
              "      <td>Gacyamo</td>\n",
              "      <td>3</td>\n",
              "      <td>36</td>\n",
              "      <td>3605</td>\n",
              "      <td>20.1</td>\n",
              "      <td>6</td>\n",
              "      <td>19,359.00</td>\n",
              "    </tr>\n",
              "    <tr>\n",
              "      <th>3</th>\n",
              "      <td>Western Province</td>\n",
              "      <td>Rusizi</td>\n",
              "      <td>Giheke</td>\n",
              "      <td>Nyakabanda</td>\n",
              "      <td>Rejected</td>\n",
              "      <td>1014105</td>\n",
              "      <td>Suspended</td>\n",
              "      <td>-2.42715</td>\n",
              "      <td>28.95369</td>\n",
              "      <td>Unknown</td>\n",
              "      <td>2018-10-29</td>\n",
              "      <td>Community Served 1</td>\n",
              "      <td>Kanoga</td>\n",
              "      <td>3</td>\n",
              "      <td>36</td>\n",
              "      <td>3605</td>\n",
              "      <td>20.1</td>\n",
              "      <td>6</td>\n",
              "      <td>19,359.00</td>\n",
              "    </tr>\n",
              "    <tr>\n",
              "      <th>4</th>\n",
              "      <td>Western Province</td>\n",
              "      <td>Rusizi</td>\n",
              "      <td>Giheke</td>\n",
              "      <td>Impala</td>\n",
              "      <td>Rejected</td>\n",
              "      <td>1014166</td>\n",
              "      <td>Unknown</td>\n",
              "      <td>-2.44246</td>\n",
              "      <td>28.9333</td>\n",
              "      <td>Unknown</td>\n",
              "      <td>2018-10-29</td>\n",
              "      <td>Community Served 1</td>\n",
              "      <td>Impala</td>\n",
              "      <td>3</td>\n",
              "      <td>36</td>\n",
              "      <td>3605</td>\n",
              "      <td>20.1</td>\n",
              "      <td>6</td>\n",
              "      <td>19,359.00</td>\n",
              "    </tr>\n",
              "  </tbody>\n",
              "</table>\n",
              "</div>"
            ],
            "text/plain": [
              "           Province District  ... School_count  Population of Sector \n",
              "0  Western Province   Rusizi  ...            6             19,359.00 \n",
              "1  Western Province   Rusizi  ...            6             19,359.00 \n",
              "2  Western Province   Rusizi  ...            6             19,359.00 \n",
              "3  Western Province   Rusizi  ...            6             19,359.00 \n",
              "4  Western Province   Rusizi  ...            6             19,359.00 \n",
              "\n",
              "[5 rows x 19 columns]"
            ]
          },
          "metadata": {
            "tags": []
          },
          "execution_count": 296
        }
      ]
    },
    {
      "cell_type": "markdown",
      "metadata": {
        "id": "-NWJBfvCiF8A",
        "colab_type": "text"
      },
      "source": [
        "### Merge Electricity Access with bridge projects"
      ]
    },
    {
      "cell_type": "code",
      "metadata": {
        "id": "bb0YwK-Ihvvv",
        "colab_type": "code",
        "colab": {}
      },
      "source": [
        "electricity = pd.read_csv('https://raw.githubusercontent.com/Lambda-School-Labs/Labs25-Bridges_to_Prosperity-TeamC-ds/main/rwanda_data_files/Rwanda_electricity_access_districts.csv')"
      ],
      "execution_count": 297,
      "outputs": []
    },
    {
      "cell_type": "code",
      "metadata": {
        "id": "B9VLRqkkDcrr",
        "colab_type": "code",
        "colab": {
          "base_uri": "https://localhost:8080/",
          "height": 197
        },
        "outputId": "61d4d4fe-4ccc-4b7a-d5a3-c542c3f10252"
      },
      "source": [
        "electricity.head()"
      ],
      "execution_count": 298,
      "outputs": [
        {
          "output_type": "execute_result",
          "data": {
            "text/html": [
              "<div>\n",
              "<style scoped>\n",
              "    .dataframe tbody tr th:only-of-type {\n",
              "        vertical-align: middle;\n",
              "    }\n",
              "\n",
              "    .dataframe tbody tr th {\n",
              "        vertical-align: top;\n",
              "    }\n",
              "\n",
              "    .dataframe thead th {\n",
              "        text-align: right;\n",
              "    }\n",
              "</style>\n",
              "<table border=\"1\" class=\"dataframe\">\n",
              "  <thead>\n",
              "    <tr style=\"text-align: right;\">\n",
              "      <th></th>\n",
              "      <th>District</th>\n",
              "      <th>Access rate</th>\n",
              "    </tr>\n",
              "  </thead>\n",
              "  <tbody>\n",
              "    <tr>\n",
              "      <th>0</th>\n",
              "      <td>Bugesera</td>\n",
              "      <td>0.61</td>\n",
              "    </tr>\n",
              "    <tr>\n",
              "      <th>1</th>\n",
              "      <td>Burera</td>\n",
              "      <td>0.41</td>\n",
              "    </tr>\n",
              "    <tr>\n",
              "      <th>2</th>\n",
              "      <td>Gakenke</td>\n",
              "      <td>0.32</td>\n",
              "    </tr>\n",
              "    <tr>\n",
              "      <th>3</th>\n",
              "      <td>Gasabo</td>\n",
              "      <td>0.57</td>\n",
              "    </tr>\n",
              "    <tr>\n",
              "      <th>4</th>\n",
              "      <td>Gatsibo</td>\n",
              "      <td>0.35</td>\n",
              "    </tr>\n",
              "  </tbody>\n",
              "</table>\n",
              "</div>"
            ],
            "text/plain": [
              "   District  Access rate\n",
              "0  Bugesera         0.61\n",
              "1    Burera         0.41\n",
              "2   Gakenke         0.32\n",
              "3    Gasabo         0.57\n",
              "4   Gatsibo         0.35"
            ]
          },
          "metadata": {
            "tags": []
          },
          "execution_count": 298
        }
      ]
    },
    {
      "cell_type": "code",
      "metadata": {
        "id": "oKl0APc8DePw",
        "colab_type": "code",
        "colab": {
          "base_uri": "https://localhost:8080/",
          "height": 197
        },
        "outputId": "4c5b246f-140c-41f6-e324-99e71f01d592"
      },
      "source": [
        "# update the ACcess rate to be in percent form by multiplying by 10\n",
        "electricity['Access rate'] = electricity['Access rate'] * 100\n",
        "\n",
        "electricity.head()"
      ],
      "execution_count": 299,
      "outputs": [
        {
          "output_type": "execute_result",
          "data": {
            "text/html": [
              "<div>\n",
              "<style scoped>\n",
              "    .dataframe tbody tr th:only-of-type {\n",
              "        vertical-align: middle;\n",
              "    }\n",
              "\n",
              "    .dataframe tbody tr th {\n",
              "        vertical-align: top;\n",
              "    }\n",
              "\n",
              "    .dataframe thead th {\n",
              "        text-align: right;\n",
              "    }\n",
              "</style>\n",
              "<table border=\"1\" class=\"dataframe\">\n",
              "  <thead>\n",
              "    <tr style=\"text-align: right;\">\n",
              "      <th></th>\n",
              "      <th>District</th>\n",
              "      <th>Access rate</th>\n",
              "    </tr>\n",
              "  </thead>\n",
              "  <tbody>\n",
              "    <tr>\n",
              "      <th>0</th>\n",
              "      <td>Bugesera</td>\n",
              "      <td>61.0</td>\n",
              "    </tr>\n",
              "    <tr>\n",
              "      <th>1</th>\n",
              "      <td>Burera</td>\n",
              "      <td>41.0</td>\n",
              "    </tr>\n",
              "    <tr>\n",
              "      <th>2</th>\n",
              "      <td>Gakenke</td>\n",
              "      <td>32.0</td>\n",
              "    </tr>\n",
              "    <tr>\n",
              "      <th>3</th>\n",
              "      <td>Gasabo</td>\n",
              "      <td>57.0</td>\n",
              "    </tr>\n",
              "    <tr>\n",
              "      <th>4</th>\n",
              "      <td>Gatsibo</td>\n",
              "      <td>35.0</td>\n",
              "    </tr>\n",
              "  </tbody>\n",
              "</table>\n",
              "</div>"
            ],
            "text/plain": [
              "   District  Access rate\n",
              "0  Bugesera         61.0\n",
              "1    Burera         41.0\n",
              "2   Gakenke         32.0\n",
              "3    Gasabo         57.0\n",
              "4   Gatsibo         35.0"
            ]
          },
          "metadata": {
            "tags": []
          },
          "execution_count": 299
        }
      ]
    },
    {
      "cell_type": "code",
      "metadata": {
        "id": "BLz8Mi3kiLVT",
        "colab_type": "code",
        "colab": {
          "base_uri": "https://localhost:8080/",
          "height": 34
        },
        "outputId": "ecb0d2ff-934f-4d21-8611-af506ba7494a"
      },
      "source": [
        "# check to make sure we have the same districts in the electricity \n",
        "# as we do in the bridges projects dataset\n",
        "\n",
        "sorted(electricity['District']) == sorted(set(current_df['District']))"
      ],
      "execution_count": 300,
      "outputs": [
        {
          "output_type": "execute_result",
          "data": {
            "text/plain": [
              "True"
            ]
          },
          "metadata": {
            "tags": []
          },
          "execution_count": 300
        }
      ]
    },
    {
      "cell_type": "code",
      "metadata": {
        "id": "lg6tSM97ix9J",
        "colab_type": "code",
        "colab": {}
      },
      "source": [
        "# Because the districts are unique districts we can merge on the district name\n",
        "\n",
        "current_df = pd.merge(current_df, electricity, on='District')\n",
        "\n"
      ],
      "execution_count": 301,
      "outputs": []
    },
    {
      "cell_type": "code",
      "metadata": {
        "id": "RcKs2GE1jIhF",
        "colab_type": "code",
        "colab": {
          "base_uri": "https://localhost:8080/",
          "height": 314
        },
        "outputId": "5f363ec3-775f-469f-ae8b-6b89a1ca90f1"
      },
      "source": [
        "current_df.head()"
      ],
      "execution_count": 302,
      "outputs": [
        {
          "output_type": "execute_result",
          "data": {
            "text/html": [
              "<div>\n",
              "<style scoped>\n",
              "    .dataframe tbody tr th:only-of-type {\n",
              "        vertical-align: middle;\n",
              "    }\n",
              "\n",
              "    .dataframe tbody tr th {\n",
              "        vertical-align: top;\n",
              "    }\n",
              "\n",
              "    .dataframe thead th {\n",
              "        text-align: right;\n",
              "    }\n",
              "</style>\n",
              "<table border=\"1\" class=\"dataframe\">\n",
              "  <thead>\n",
              "    <tr style=\"text-align: right;\">\n",
              "      <th></th>\n",
              "      <th>Province</th>\n",
              "      <th>District</th>\n",
              "      <th>Sector</th>\n",
              "      <th>Bridge Site Name</th>\n",
              "      <th>Project Stage</th>\n",
              "      <th>Project Code</th>\n",
              "      <th>Bridge Type</th>\n",
              "      <th>GPS (Latitude)</th>\n",
              "      <th>GPS (Longitude)</th>\n",
              "      <th>Individuals Directly Served</th>\n",
              "      <th>Assessment Date</th>\n",
              "      <th>Original_Community_col</th>\n",
              "      <th>Community_Served</th>\n",
              "      <th>Prov_ID</th>\n",
              "      <th>Dist_ID</th>\n",
              "      <th>Sect_ID</th>\n",
              "      <th>Mean share of harvest sold</th>\n",
              "      <th>School_count</th>\n",
              "      <th>Population of Sector</th>\n",
              "      <th>Access rate</th>\n",
              "    </tr>\n",
              "  </thead>\n",
              "  <tbody>\n",
              "    <tr>\n",
              "      <th>0</th>\n",
              "      <td>Western Province</td>\n",
              "      <td>Rusizi</td>\n",
              "      <td>Giheke</td>\n",
              "      <td>Buzi</td>\n",
              "      <td>Rejected</td>\n",
              "      <td>1014107</td>\n",
              "      <td>Suspended</td>\n",
              "      <td>-2.42056</td>\n",
              "      <td>28.9662</td>\n",
              "      <td>Unknown</td>\n",
              "      <td>2018-10-29</td>\n",
              "      <td>Community Served 1</td>\n",
              "      <td>Buzi</td>\n",
              "      <td>3</td>\n",
              "      <td>36</td>\n",
              "      <td>3605</td>\n",
              "      <td>20.1</td>\n",
              "      <td>6</td>\n",
              "      <td>19,359.00</td>\n",
              "      <td>64.0</td>\n",
              "    </tr>\n",
              "    <tr>\n",
              "      <th>1</th>\n",
              "      <td>Western Province</td>\n",
              "      <td>Rusizi</td>\n",
              "      <td>Giheke</td>\n",
              "      <td>Kamigisha</td>\n",
              "      <td>Rejected</td>\n",
              "      <td>1014106</td>\n",
              "      <td>Suspended</td>\n",
              "      <td>-2.42486</td>\n",
              "      <td>28.957259999999998</td>\n",
              "      <td>Unknown</td>\n",
              "      <td>2018-10-29</td>\n",
              "      <td>Community Served 1</td>\n",
              "      <td>Kabuga</td>\n",
              "      <td>3</td>\n",
              "      <td>36</td>\n",
              "      <td>3605</td>\n",
              "      <td>20.1</td>\n",
              "      <td>6</td>\n",
              "      <td>19,359.00</td>\n",
              "      <td>64.0</td>\n",
              "    </tr>\n",
              "    <tr>\n",
              "      <th>2</th>\n",
              "      <td>Western Province</td>\n",
              "      <td>Rusizi</td>\n",
              "      <td>Giheke</td>\n",
              "      <td>Gacyamo</td>\n",
              "      <td>Rejected</td>\n",
              "      <td>1014108</td>\n",
              "      <td>Suspension</td>\n",
              "      <td>-2.41855</td>\n",
              "      <td>28.969459999999998</td>\n",
              "      <td>Unknown</td>\n",
              "      <td>2018-10-29</td>\n",
              "      <td>Community Served 1</td>\n",
              "      <td>Gacyamo</td>\n",
              "      <td>3</td>\n",
              "      <td>36</td>\n",
              "      <td>3605</td>\n",
              "      <td>20.1</td>\n",
              "      <td>6</td>\n",
              "      <td>19,359.00</td>\n",
              "      <td>64.0</td>\n",
              "    </tr>\n",
              "    <tr>\n",
              "      <th>3</th>\n",
              "      <td>Western Province</td>\n",
              "      <td>Rusizi</td>\n",
              "      <td>Giheke</td>\n",
              "      <td>Nyakabanda</td>\n",
              "      <td>Rejected</td>\n",
              "      <td>1014105</td>\n",
              "      <td>Suspended</td>\n",
              "      <td>-2.42715</td>\n",
              "      <td>28.95369</td>\n",
              "      <td>Unknown</td>\n",
              "      <td>2018-10-29</td>\n",
              "      <td>Community Served 1</td>\n",
              "      <td>Kanoga</td>\n",
              "      <td>3</td>\n",
              "      <td>36</td>\n",
              "      <td>3605</td>\n",
              "      <td>20.1</td>\n",
              "      <td>6</td>\n",
              "      <td>19,359.00</td>\n",
              "      <td>64.0</td>\n",
              "    </tr>\n",
              "    <tr>\n",
              "      <th>4</th>\n",
              "      <td>Western Province</td>\n",
              "      <td>Rusizi</td>\n",
              "      <td>Giheke</td>\n",
              "      <td>Impala</td>\n",
              "      <td>Rejected</td>\n",
              "      <td>1014166</td>\n",
              "      <td>Unknown</td>\n",
              "      <td>-2.44246</td>\n",
              "      <td>28.9333</td>\n",
              "      <td>Unknown</td>\n",
              "      <td>2018-10-29</td>\n",
              "      <td>Community Served 1</td>\n",
              "      <td>Impala</td>\n",
              "      <td>3</td>\n",
              "      <td>36</td>\n",
              "      <td>3605</td>\n",
              "      <td>20.1</td>\n",
              "      <td>6</td>\n",
              "      <td>19,359.00</td>\n",
              "      <td>64.0</td>\n",
              "    </tr>\n",
              "  </tbody>\n",
              "</table>\n",
              "</div>"
            ],
            "text/plain": [
              "           Province District  ...  Population of Sector  Access rate\n",
              "0  Western Province   Rusizi  ...             19,359.00         64.0\n",
              "1  Western Province   Rusizi  ...             19,359.00         64.0\n",
              "2  Western Province   Rusizi  ...             19,359.00         64.0\n",
              "3  Western Province   Rusizi  ...             19,359.00         64.0\n",
              "4  Western Province   Rusizi  ...             19,359.00         64.0\n",
              "\n",
              "[5 rows x 20 columns]"
            ]
          },
          "metadata": {
            "tags": []
          },
          "execution_count": 302
        }
      ]
    },
    {
      "cell_type": "code",
      "metadata": {
        "id": "Zd0aej5NDZ6b",
        "colab_type": "code",
        "colab": {}
      },
      "source": [
        ""
      ],
      "execution_count": 302,
      "outputs": []
    },
    {
      "cell_type": "markdown",
      "metadata": {
        "id": "qLufCyN3BmTL",
        "colab_type": "text"
      },
      "source": [
        "### Merge Average Travel time to various Financial institutions"
      ]
    },
    {
      "cell_type": "code",
      "metadata": {
        "id": "WH5PWfTBjPpQ",
        "colab_type": "code",
        "colab": {}
      },
      "source": [
        "travel_time = pd.read_csv('https://raw.githubusercontent.com/Lambda-School-Labs/Labs25-Bridges_to_Prosperity-TeamC-ds/main/rwanda_data_files/avg_travel_time_financial_access.csv')"
      ],
      "execution_count": 303,
      "outputs": []
    },
    {
      "cell_type": "code",
      "metadata": {
        "id": "lnkpkkd8CEXp",
        "colab_type": "code",
        "colab": {
          "base_uri": "https://localhost:8080/",
          "height": 197
        },
        "outputId": "bf9ef489-2dc6-4d10-eda4-a4a9c8827573"
      },
      "source": [
        "travel_time.head()"
      ],
      "execution_count": 304,
      "outputs": [
        {
          "output_type": "execute_result",
          "data": {
            "text/html": [
              "<div>\n",
              "<style scoped>\n",
              "    .dataframe tbody tr th:only-of-type {\n",
              "        vertical-align: middle;\n",
              "    }\n",
              "\n",
              "    .dataframe tbody tr th {\n",
              "        vertical-align: top;\n",
              "    }\n",
              "\n",
              "    .dataframe thead th {\n",
              "        text-align: right;\n",
              "    }\n",
              "</style>\n",
              "<table border=\"1\" class=\"dataframe\">\n",
              "  <thead>\n",
              "    <tr style=\"text-align: right;\">\n",
              "      <th></th>\n",
              "      <th>District</th>\n",
              "      <th>Umurenge SACCO</th>\n",
              "      <th>MFIs</th>\n",
              "      <th>Bank Branch</th>\n",
              "      <th>ATM</th>\n",
              "      <th>Bank Agent</th>\n",
              "      <th>Mobile Money Agent</th>\n",
              "    </tr>\n",
              "  </thead>\n",
              "  <tbody>\n",
              "    <tr>\n",
              "      <th>0</th>\n",
              "      <td>Nyarugenge</td>\n",
              "      <td>24:00</td>\n",
              "      <td>24:10</td>\n",
              "      <td>25:56</td>\n",
              "      <td>25:00</td>\n",
              "      <td>23:00</td>\n",
              "      <td>15:15</td>\n",
              "    </tr>\n",
              "    <tr>\n",
              "      <th>1</th>\n",
              "      <td>Gasabo</td>\n",
              "      <td>30:31</td>\n",
              "      <td>34:03</td>\n",
              "      <td>36:07</td>\n",
              "      <td>37:00</td>\n",
              "      <td>32:00</td>\n",
              "      <td>20:14</td>\n",
              "    </tr>\n",
              "    <tr>\n",
              "      <th>2</th>\n",
              "      <td>Kicukiro</td>\n",
              "      <td>30:13</td>\n",
              "      <td>28:00</td>\n",
              "      <td>30:00</td>\n",
              "      <td>29:55</td>\n",
              "      <td>28:21</td>\n",
              "      <td>17:00</td>\n",
              "    </tr>\n",
              "    <tr>\n",
              "      <th>3</th>\n",
              "      <td>Nyanza</td>\n",
              "      <td>55:00</td>\n",
              "      <td>58:00</td>\n",
              "      <td>62:00</td>\n",
              "      <td>61:00</td>\n",
              "      <td>59:03</td>\n",
              "      <td>40:00</td>\n",
              "    </tr>\n",
              "    <tr>\n",
              "      <th>4</th>\n",
              "      <td>Gisagara</td>\n",
              "      <td>51:23</td>\n",
              "      <td>60:23</td>\n",
              "      <td>55:00</td>\n",
              "      <td>54:19</td>\n",
              "      <td>55:00</td>\n",
              "      <td>44:00</td>\n",
              "    </tr>\n",
              "  </tbody>\n",
              "</table>\n",
              "</div>"
            ],
            "text/plain": [
              "     District Umurenge SACCO   MFIs  ...    ATM Bank Agent Mobile Money Agent\n",
              "0  Nyarugenge          24:00  24:10  ...  25:00      23:00              15:15\n",
              "1      Gasabo          30:31  34:03  ...  37:00      32:00              20:14\n",
              "2    Kicukiro          30:13  28:00  ...  29:55      28:21              17:00\n",
              "3      Nyanza          55:00  58:00  ...  61:00      59:03              40:00\n",
              "4    Gisagara          51:23  60:23  ...  54:19      55:00              44:00\n",
              "\n",
              "[5 rows x 7 columns]"
            ]
          },
          "metadata": {
            "tags": []
          },
          "execution_count": 304
        }
      ]
    },
    {
      "cell_type": "code",
      "metadata": {
        "id": "U2tpNkYJB31J",
        "colab_type": "code",
        "colab": {
          "base_uri": "https://localhost:8080/",
          "height": 34
        },
        "outputId": "59b77caf-4a33-45aa-f599-151e875c3d14"
      },
      "source": [
        "current_df.shape"
      ],
      "execution_count": 305,
      "outputs": [
        {
          "output_type": "execute_result",
          "data": {
            "text/plain": [
              "(4483, 20)"
            ]
          },
          "metadata": {
            "tags": []
          },
          "execution_count": 305
        }
      ]
    },
    {
      "cell_type": "code",
      "metadata": {
        "id": "C0n9fX_gB_V8",
        "colab_type": "code",
        "colab": {
          "base_uri": "https://localhost:8080/",
          "height": 367
        },
        "outputId": "a6b75d43-43f2-44b2-a7fe-05d7ec19d0e9"
      },
      "source": [
        "# merge the current_df with the travel times\n",
        "current_df = pd.merge(current_df, travel_time, on='District')\n",
        "\n",
        "current_df.head()"
      ],
      "execution_count": 306,
      "outputs": [
        {
          "output_type": "execute_result",
          "data": {
            "text/html": [
              "<div>\n",
              "<style scoped>\n",
              "    .dataframe tbody tr th:only-of-type {\n",
              "        vertical-align: middle;\n",
              "    }\n",
              "\n",
              "    .dataframe tbody tr th {\n",
              "        vertical-align: top;\n",
              "    }\n",
              "\n",
              "    .dataframe thead th {\n",
              "        text-align: right;\n",
              "    }\n",
              "</style>\n",
              "<table border=\"1\" class=\"dataframe\">\n",
              "  <thead>\n",
              "    <tr style=\"text-align: right;\">\n",
              "      <th></th>\n",
              "      <th>Province</th>\n",
              "      <th>District</th>\n",
              "      <th>Sector</th>\n",
              "      <th>Bridge Site Name</th>\n",
              "      <th>Project Stage</th>\n",
              "      <th>Project Code</th>\n",
              "      <th>Bridge Type</th>\n",
              "      <th>GPS (Latitude)</th>\n",
              "      <th>GPS (Longitude)</th>\n",
              "      <th>Individuals Directly Served</th>\n",
              "      <th>Assessment Date</th>\n",
              "      <th>Original_Community_col</th>\n",
              "      <th>Community_Served</th>\n",
              "      <th>Prov_ID</th>\n",
              "      <th>Dist_ID</th>\n",
              "      <th>Sect_ID</th>\n",
              "      <th>Mean share of harvest sold</th>\n",
              "      <th>School_count</th>\n",
              "      <th>Population of Sector</th>\n",
              "      <th>Access rate</th>\n",
              "      <th>Umurenge SACCO</th>\n",
              "      <th>MFIs</th>\n",
              "      <th>Bank Branch</th>\n",
              "      <th>ATM</th>\n",
              "      <th>Bank Agent</th>\n",
              "      <th>Mobile Money Agent</th>\n",
              "    </tr>\n",
              "  </thead>\n",
              "  <tbody>\n",
              "    <tr>\n",
              "      <th>0</th>\n",
              "      <td>Western Province</td>\n",
              "      <td>Rusizi</td>\n",
              "      <td>Giheke</td>\n",
              "      <td>Buzi</td>\n",
              "      <td>Rejected</td>\n",
              "      <td>1014107</td>\n",
              "      <td>Suspended</td>\n",
              "      <td>-2.42056</td>\n",
              "      <td>28.9662</td>\n",
              "      <td>Unknown</td>\n",
              "      <td>2018-10-29</td>\n",
              "      <td>Community Served 1</td>\n",
              "      <td>Buzi</td>\n",
              "      <td>3</td>\n",
              "      <td>36</td>\n",
              "      <td>3605</td>\n",
              "      <td>20.1</td>\n",
              "      <td>6</td>\n",
              "      <td>19,359.00</td>\n",
              "      <td>64.0</td>\n",
              "      <td>38:21</td>\n",
              "      <td>49:27</td>\n",
              "      <td>53:26</td>\n",
              "      <td>52:00</td>\n",
              "      <td>50:17</td>\n",
              "      <td>32:21</td>\n",
              "    </tr>\n",
              "    <tr>\n",
              "      <th>1</th>\n",
              "      <td>Western Province</td>\n",
              "      <td>Rusizi</td>\n",
              "      <td>Giheke</td>\n",
              "      <td>Kamigisha</td>\n",
              "      <td>Rejected</td>\n",
              "      <td>1014106</td>\n",
              "      <td>Suspended</td>\n",
              "      <td>-2.42486</td>\n",
              "      <td>28.957259999999998</td>\n",
              "      <td>Unknown</td>\n",
              "      <td>2018-10-29</td>\n",
              "      <td>Community Served 1</td>\n",
              "      <td>Kabuga</td>\n",
              "      <td>3</td>\n",
              "      <td>36</td>\n",
              "      <td>3605</td>\n",
              "      <td>20.1</td>\n",
              "      <td>6</td>\n",
              "      <td>19,359.00</td>\n",
              "      <td>64.0</td>\n",
              "      <td>38:21</td>\n",
              "      <td>49:27</td>\n",
              "      <td>53:26</td>\n",
              "      <td>52:00</td>\n",
              "      <td>50:17</td>\n",
              "      <td>32:21</td>\n",
              "    </tr>\n",
              "    <tr>\n",
              "      <th>2</th>\n",
              "      <td>Western Province</td>\n",
              "      <td>Rusizi</td>\n",
              "      <td>Giheke</td>\n",
              "      <td>Gacyamo</td>\n",
              "      <td>Rejected</td>\n",
              "      <td>1014108</td>\n",
              "      <td>Suspension</td>\n",
              "      <td>-2.41855</td>\n",
              "      <td>28.969459999999998</td>\n",
              "      <td>Unknown</td>\n",
              "      <td>2018-10-29</td>\n",
              "      <td>Community Served 1</td>\n",
              "      <td>Gacyamo</td>\n",
              "      <td>3</td>\n",
              "      <td>36</td>\n",
              "      <td>3605</td>\n",
              "      <td>20.1</td>\n",
              "      <td>6</td>\n",
              "      <td>19,359.00</td>\n",
              "      <td>64.0</td>\n",
              "      <td>38:21</td>\n",
              "      <td>49:27</td>\n",
              "      <td>53:26</td>\n",
              "      <td>52:00</td>\n",
              "      <td>50:17</td>\n",
              "      <td>32:21</td>\n",
              "    </tr>\n",
              "    <tr>\n",
              "      <th>3</th>\n",
              "      <td>Western Province</td>\n",
              "      <td>Rusizi</td>\n",
              "      <td>Giheke</td>\n",
              "      <td>Nyakabanda</td>\n",
              "      <td>Rejected</td>\n",
              "      <td>1014105</td>\n",
              "      <td>Suspended</td>\n",
              "      <td>-2.42715</td>\n",
              "      <td>28.95369</td>\n",
              "      <td>Unknown</td>\n",
              "      <td>2018-10-29</td>\n",
              "      <td>Community Served 1</td>\n",
              "      <td>Kanoga</td>\n",
              "      <td>3</td>\n",
              "      <td>36</td>\n",
              "      <td>3605</td>\n",
              "      <td>20.1</td>\n",
              "      <td>6</td>\n",
              "      <td>19,359.00</td>\n",
              "      <td>64.0</td>\n",
              "      <td>38:21</td>\n",
              "      <td>49:27</td>\n",
              "      <td>53:26</td>\n",
              "      <td>52:00</td>\n",
              "      <td>50:17</td>\n",
              "      <td>32:21</td>\n",
              "    </tr>\n",
              "    <tr>\n",
              "      <th>4</th>\n",
              "      <td>Western Province</td>\n",
              "      <td>Rusizi</td>\n",
              "      <td>Giheke</td>\n",
              "      <td>Impala</td>\n",
              "      <td>Rejected</td>\n",
              "      <td>1014166</td>\n",
              "      <td>Unknown</td>\n",
              "      <td>-2.44246</td>\n",
              "      <td>28.9333</td>\n",
              "      <td>Unknown</td>\n",
              "      <td>2018-10-29</td>\n",
              "      <td>Community Served 1</td>\n",
              "      <td>Impala</td>\n",
              "      <td>3</td>\n",
              "      <td>36</td>\n",
              "      <td>3605</td>\n",
              "      <td>20.1</td>\n",
              "      <td>6</td>\n",
              "      <td>19,359.00</td>\n",
              "      <td>64.0</td>\n",
              "      <td>38:21</td>\n",
              "      <td>49:27</td>\n",
              "      <td>53:26</td>\n",
              "      <td>52:00</td>\n",
              "      <td>50:17</td>\n",
              "      <td>32:21</td>\n",
              "    </tr>\n",
              "  </tbody>\n",
              "</table>\n",
              "</div>"
            ],
            "text/plain": [
              "           Province District  Sector  ...    ATM Bank Agent  Mobile Money Agent\n",
              "0  Western Province   Rusizi  Giheke  ...  52:00      50:17               32:21\n",
              "1  Western Province   Rusizi  Giheke  ...  52:00      50:17               32:21\n",
              "2  Western Province   Rusizi  Giheke  ...  52:00      50:17               32:21\n",
              "3  Western Province   Rusizi  Giheke  ...  52:00      50:17               32:21\n",
              "4  Western Province   Rusizi  Giheke  ...  52:00      50:17               32:21\n",
              "\n",
              "[5 rows x 26 columns]"
            ]
          },
          "metadata": {
            "tags": []
          },
          "execution_count": 306
        }
      ]
    },
    {
      "cell_type": "code",
      "metadata": {
        "id": "LXcNJUg-DEJL",
        "colab_type": "code",
        "colab": {}
      },
      "source": [
        ""
      ],
      "execution_count": 306,
      "outputs": []
    },
    {
      "cell_type": "markdown",
      "metadata": {
        "id": "rNk7rnUfCS7o",
        "colab_type": "text"
      },
      "source": [
        "### Merge banking access dataset "
      ]
    },
    {
      "cell_type": "code",
      "metadata": {
        "id": "41CaZTXHCL0Q",
        "colab_type": "code",
        "colab": {}
      },
      "source": [
        "banking = pd.read_csv('https://raw.githubusercontent.com/Lambda-School-Labs/Labs25-Bridges_to_Prosperity-TeamC-ds/main/rwanda_data_files/datasets_22991_29451_rwa_exclusion.csv')"
      ],
      "execution_count": 307,
      "outputs": []
    },
    {
      "cell_type": "code",
      "metadata": {
        "id": "x5nrGxePCsOL",
        "colab_type": "code",
        "colab": {
          "base_uri": "https://localhost:8080/",
          "height": 197
        },
        "outputId": "42cf02ab-d965-4870-90f2-06b9b5395484"
      },
      "source": [
        "banking.rename(columns={'district': 'District'}, inplace=True)\n",
        "banking.head()"
      ],
      "execution_count": 308,
      "outputs": [
        {
          "output_type": "execute_result",
          "data": {
            "text/html": [
              "<div>\n",
              "<style scoped>\n",
              "    .dataframe tbody tr th:only-of-type {\n",
              "        vertical-align: middle;\n",
              "    }\n",
              "\n",
              "    .dataframe tbody tr th {\n",
              "        vertical-align: top;\n",
              "    }\n",
              "\n",
              "    .dataframe thead th {\n",
              "        text-align: right;\n",
              "    }\n",
              "</style>\n",
              "<table border=\"1\" class=\"dataframe\">\n",
              "  <thead>\n",
              "    <tr style=\"text-align: right;\">\n",
              "      <th></th>\n",
              "      <th>District</th>\n",
              "      <th>Banked</th>\n",
              "      <th>Other formal (non-bank)</th>\n",
              "      <th>Informal only</th>\n",
              "      <th>Excluded</th>\n",
              "    </tr>\n",
              "  </thead>\n",
              "  <tbody>\n",
              "    <tr>\n",
              "      <th>0</th>\n",
              "      <td>Nyarugenge</td>\n",
              "      <td>69</td>\n",
              "      <td>25</td>\n",
              "      <td>3</td>\n",
              "      <td>3</td>\n",
              "    </tr>\n",
              "    <tr>\n",
              "      <th>1</th>\n",
              "      <td>Kicukiro</td>\n",
              "      <td>58</td>\n",
              "      <td>36</td>\n",
              "      <td>3</td>\n",
              "      <td>3</td>\n",
              "    </tr>\n",
              "    <tr>\n",
              "      <th>2</th>\n",
              "      <td>Gasabo</td>\n",
              "      <td>52</td>\n",
              "      <td>36</td>\n",
              "      <td>5</td>\n",
              "      <td>7</td>\n",
              "    </tr>\n",
              "    <tr>\n",
              "      <th>3</th>\n",
              "      <td>Rwamagana</td>\n",
              "      <td>34</td>\n",
              "      <td>42</td>\n",
              "      <td>13</td>\n",
              "      <td>11</td>\n",
              "    </tr>\n",
              "    <tr>\n",
              "      <th>4</th>\n",
              "      <td>Ruhango</td>\n",
              "      <td>31</td>\n",
              "      <td>43</td>\n",
              "      <td>18</td>\n",
              "      <td>8</td>\n",
              "    </tr>\n",
              "  </tbody>\n",
              "</table>\n",
              "</div>"
            ],
            "text/plain": [
              "     District  Banked  Other formal (non-bank)  Informal only  Excluded\n",
              "0  Nyarugenge      69                       25              3         3\n",
              "1    Kicukiro      58                       36              3         3\n",
              "2      Gasabo      52                       36              5         7\n",
              "3   Rwamagana      34                       42             13        11\n",
              "4     Ruhango      31                       43             18         8"
            ]
          },
          "metadata": {
            "tags": []
          },
          "execution_count": 308
        }
      ]
    },
    {
      "cell_type": "code",
      "metadata": {
        "id": "tXl00htjCv2y",
        "colab_type": "code",
        "colab": {}
      },
      "source": [
        "current_df = pd.merge(current_df, banking, on='District')"
      ],
      "execution_count": 309,
      "outputs": []
    },
    {
      "cell_type": "code",
      "metadata": {
        "id": "VxfagMVfEYDQ",
        "colab_type": "code",
        "colab": {
          "base_uri": "https://localhost:8080/",
          "height": 367
        },
        "outputId": "f1011f7e-c371-44e9-f1a1-1692947594d2"
      },
      "source": [
        "current_df.head()"
      ],
      "execution_count": 310,
      "outputs": [
        {
          "output_type": "execute_result",
          "data": {
            "text/html": [
              "<div>\n",
              "<style scoped>\n",
              "    .dataframe tbody tr th:only-of-type {\n",
              "        vertical-align: middle;\n",
              "    }\n",
              "\n",
              "    .dataframe tbody tr th {\n",
              "        vertical-align: top;\n",
              "    }\n",
              "\n",
              "    .dataframe thead th {\n",
              "        text-align: right;\n",
              "    }\n",
              "</style>\n",
              "<table border=\"1\" class=\"dataframe\">\n",
              "  <thead>\n",
              "    <tr style=\"text-align: right;\">\n",
              "      <th></th>\n",
              "      <th>Province</th>\n",
              "      <th>District</th>\n",
              "      <th>Sector</th>\n",
              "      <th>Bridge Site Name</th>\n",
              "      <th>Project Stage</th>\n",
              "      <th>Project Code</th>\n",
              "      <th>Bridge Type</th>\n",
              "      <th>GPS (Latitude)</th>\n",
              "      <th>GPS (Longitude)</th>\n",
              "      <th>Individuals Directly Served</th>\n",
              "      <th>Assessment Date</th>\n",
              "      <th>Original_Community_col</th>\n",
              "      <th>Community_Served</th>\n",
              "      <th>Prov_ID</th>\n",
              "      <th>Dist_ID</th>\n",
              "      <th>Sect_ID</th>\n",
              "      <th>Mean share of harvest sold</th>\n",
              "      <th>School_count</th>\n",
              "      <th>Population of Sector</th>\n",
              "      <th>Access rate</th>\n",
              "      <th>Umurenge SACCO</th>\n",
              "      <th>MFIs</th>\n",
              "      <th>Bank Branch</th>\n",
              "      <th>ATM</th>\n",
              "      <th>Bank Agent</th>\n",
              "      <th>Mobile Money Agent</th>\n",
              "      <th>Banked</th>\n",
              "      <th>Other formal (non-bank)</th>\n",
              "      <th>Informal only</th>\n",
              "      <th>Excluded</th>\n",
              "    </tr>\n",
              "  </thead>\n",
              "  <tbody>\n",
              "    <tr>\n",
              "      <th>0</th>\n",
              "      <td>Western Province</td>\n",
              "      <td>Rusizi</td>\n",
              "      <td>Giheke</td>\n",
              "      <td>Buzi</td>\n",
              "      <td>Rejected</td>\n",
              "      <td>1014107</td>\n",
              "      <td>Suspended</td>\n",
              "      <td>-2.42056</td>\n",
              "      <td>28.9662</td>\n",
              "      <td>Unknown</td>\n",
              "      <td>2018-10-29</td>\n",
              "      <td>Community Served 1</td>\n",
              "      <td>Buzi</td>\n",
              "      <td>3</td>\n",
              "      <td>36</td>\n",
              "      <td>3605</td>\n",
              "      <td>20.1</td>\n",
              "      <td>6</td>\n",
              "      <td>19,359.00</td>\n",
              "      <td>64.0</td>\n",
              "      <td>38:21</td>\n",
              "      <td>49:27</td>\n",
              "      <td>53:26</td>\n",
              "      <td>52:00</td>\n",
              "      <td>50:17</td>\n",
              "      <td>32:21</td>\n",
              "      <td>27</td>\n",
              "      <td>38</td>\n",
              "      <td>14</td>\n",
              "      <td>21</td>\n",
              "    </tr>\n",
              "    <tr>\n",
              "      <th>1</th>\n",
              "      <td>Western Province</td>\n",
              "      <td>Rusizi</td>\n",
              "      <td>Giheke</td>\n",
              "      <td>Kamigisha</td>\n",
              "      <td>Rejected</td>\n",
              "      <td>1014106</td>\n",
              "      <td>Suspended</td>\n",
              "      <td>-2.42486</td>\n",
              "      <td>28.957259999999998</td>\n",
              "      <td>Unknown</td>\n",
              "      <td>2018-10-29</td>\n",
              "      <td>Community Served 1</td>\n",
              "      <td>Kabuga</td>\n",
              "      <td>3</td>\n",
              "      <td>36</td>\n",
              "      <td>3605</td>\n",
              "      <td>20.1</td>\n",
              "      <td>6</td>\n",
              "      <td>19,359.00</td>\n",
              "      <td>64.0</td>\n",
              "      <td>38:21</td>\n",
              "      <td>49:27</td>\n",
              "      <td>53:26</td>\n",
              "      <td>52:00</td>\n",
              "      <td>50:17</td>\n",
              "      <td>32:21</td>\n",
              "      <td>27</td>\n",
              "      <td>38</td>\n",
              "      <td>14</td>\n",
              "      <td>21</td>\n",
              "    </tr>\n",
              "    <tr>\n",
              "      <th>2</th>\n",
              "      <td>Western Province</td>\n",
              "      <td>Rusizi</td>\n",
              "      <td>Giheke</td>\n",
              "      <td>Gacyamo</td>\n",
              "      <td>Rejected</td>\n",
              "      <td>1014108</td>\n",
              "      <td>Suspension</td>\n",
              "      <td>-2.41855</td>\n",
              "      <td>28.969459999999998</td>\n",
              "      <td>Unknown</td>\n",
              "      <td>2018-10-29</td>\n",
              "      <td>Community Served 1</td>\n",
              "      <td>Gacyamo</td>\n",
              "      <td>3</td>\n",
              "      <td>36</td>\n",
              "      <td>3605</td>\n",
              "      <td>20.1</td>\n",
              "      <td>6</td>\n",
              "      <td>19,359.00</td>\n",
              "      <td>64.0</td>\n",
              "      <td>38:21</td>\n",
              "      <td>49:27</td>\n",
              "      <td>53:26</td>\n",
              "      <td>52:00</td>\n",
              "      <td>50:17</td>\n",
              "      <td>32:21</td>\n",
              "      <td>27</td>\n",
              "      <td>38</td>\n",
              "      <td>14</td>\n",
              "      <td>21</td>\n",
              "    </tr>\n",
              "    <tr>\n",
              "      <th>3</th>\n",
              "      <td>Western Province</td>\n",
              "      <td>Rusizi</td>\n",
              "      <td>Giheke</td>\n",
              "      <td>Nyakabanda</td>\n",
              "      <td>Rejected</td>\n",
              "      <td>1014105</td>\n",
              "      <td>Suspended</td>\n",
              "      <td>-2.42715</td>\n",
              "      <td>28.95369</td>\n",
              "      <td>Unknown</td>\n",
              "      <td>2018-10-29</td>\n",
              "      <td>Community Served 1</td>\n",
              "      <td>Kanoga</td>\n",
              "      <td>3</td>\n",
              "      <td>36</td>\n",
              "      <td>3605</td>\n",
              "      <td>20.1</td>\n",
              "      <td>6</td>\n",
              "      <td>19,359.00</td>\n",
              "      <td>64.0</td>\n",
              "      <td>38:21</td>\n",
              "      <td>49:27</td>\n",
              "      <td>53:26</td>\n",
              "      <td>52:00</td>\n",
              "      <td>50:17</td>\n",
              "      <td>32:21</td>\n",
              "      <td>27</td>\n",
              "      <td>38</td>\n",
              "      <td>14</td>\n",
              "      <td>21</td>\n",
              "    </tr>\n",
              "    <tr>\n",
              "      <th>4</th>\n",
              "      <td>Western Province</td>\n",
              "      <td>Rusizi</td>\n",
              "      <td>Giheke</td>\n",
              "      <td>Impala</td>\n",
              "      <td>Rejected</td>\n",
              "      <td>1014166</td>\n",
              "      <td>Unknown</td>\n",
              "      <td>-2.44246</td>\n",
              "      <td>28.9333</td>\n",
              "      <td>Unknown</td>\n",
              "      <td>2018-10-29</td>\n",
              "      <td>Community Served 1</td>\n",
              "      <td>Impala</td>\n",
              "      <td>3</td>\n",
              "      <td>36</td>\n",
              "      <td>3605</td>\n",
              "      <td>20.1</td>\n",
              "      <td>6</td>\n",
              "      <td>19,359.00</td>\n",
              "      <td>64.0</td>\n",
              "      <td>38:21</td>\n",
              "      <td>49:27</td>\n",
              "      <td>53:26</td>\n",
              "      <td>52:00</td>\n",
              "      <td>50:17</td>\n",
              "      <td>32:21</td>\n",
              "      <td>27</td>\n",
              "      <td>38</td>\n",
              "      <td>14</td>\n",
              "      <td>21</td>\n",
              "    </tr>\n",
              "  </tbody>\n",
              "</table>\n",
              "</div>"
            ],
            "text/plain": [
              "           Province District  ... Informal only Excluded\n",
              "0  Western Province   Rusizi  ...            14       21\n",
              "1  Western Province   Rusizi  ...            14       21\n",
              "2  Western Province   Rusizi  ...            14       21\n",
              "3  Western Province   Rusizi  ...            14       21\n",
              "4  Western Province   Rusizi  ...            14       21\n",
              "\n",
              "[5 rows x 30 columns]"
            ]
          },
          "metadata": {
            "tags": []
          },
          "execution_count": 310
        }
      ]
    },
    {
      "cell_type": "markdown",
      "metadata": {
        "id": "Z61x-3PCFK3U",
        "colab_type": "text"
      },
      "source": [
        "### Get the number of communities that a specific bridge Serves"
      ]
    },
    {
      "cell_type": "code",
      "metadata": {
        "id": "bDiuNw8hEiKD",
        "colab_type": "code",
        "colab": {
          "base_uri": "https://localhost:8080/",
          "height": 197
        },
        "outputId": "defe95ef-17fb-4acd-fb1f-ccffcd1abf01"
      },
      "source": [
        "# get a dataframe that has the total number of communities served\n",
        "communities_served = pd.DataFrame(current_df.groupby('Project Code', as_index=False).count()[['Project Code', 'Community_Served']])\n",
        "\n",
        "communities_served.head()\n"
      ],
      "execution_count": 311,
      "outputs": [
        {
          "output_type": "execute_result",
          "data": {
            "text/html": [
              "<div>\n",
              "<style scoped>\n",
              "    .dataframe tbody tr th:only-of-type {\n",
              "        vertical-align: middle;\n",
              "    }\n",
              "\n",
              "    .dataframe tbody tr th {\n",
              "        vertical-align: top;\n",
              "    }\n",
              "\n",
              "    .dataframe thead th {\n",
              "        text-align: right;\n",
              "    }\n",
              "</style>\n",
              "<table border=\"1\" class=\"dataframe\">\n",
              "  <thead>\n",
              "    <tr style=\"text-align: right;\">\n",
              "      <th></th>\n",
              "      <th>Project Code</th>\n",
              "      <th>Community_Served</th>\n",
              "    </tr>\n",
              "  </thead>\n",
              "  <tbody>\n",
              "    <tr>\n",
              "      <th>0</th>\n",
              "      <td>1007327</td>\n",
              "      <td>2</td>\n",
              "    </tr>\n",
              "    <tr>\n",
              "      <th>1</th>\n",
              "      <td>1007328</td>\n",
              "      <td>1</td>\n",
              "    </tr>\n",
              "    <tr>\n",
              "      <th>2</th>\n",
              "      <td>1007329</td>\n",
              "      <td>2</td>\n",
              "    </tr>\n",
              "    <tr>\n",
              "      <th>3</th>\n",
              "      <td>1007330</td>\n",
              "      <td>1</td>\n",
              "    </tr>\n",
              "    <tr>\n",
              "      <th>4</th>\n",
              "      <td>1007331</td>\n",
              "      <td>4</td>\n",
              "    </tr>\n",
              "  </tbody>\n",
              "</table>\n",
              "</div>"
            ],
            "text/plain": [
              "   Project Code  Community_Served\n",
              "0       1007327                 2\n",
              "1       1007328                 1\n",
              "2       1007329                 2\n",
              "3       1007330                 1\n",
              "4       1007331                 4"
            ]
          },
          "metadata": {
            "tags": []
          },
          "execution_count": 311
        }
      ]
    },
    {
      "cell_type": "code",
      "metadata": {
        "id": "C4LG1TKUE0oJ",
        "colab_type": "code",
        "colab": {}
      },
      "source": [
        "communities_served = communities_served.rename(columns={'Community_Served': 'num_communities_served'})"
      ],
      "execution_count": 312,
      "outputs": []
    },
    {
      "cell_type": "code",
      "metadata": {
        "id": "fdj0Qsb2Ht-j",
        "colab_type": "code",
        "colab": {}
      },
      "source": [
        "current_df = pd.merge(current_df, communities_served, on='Project Code')"
      ],
      "execution_count": 313,
      "outputs": []
    },
    {
      "cell_type": "code",
      "metadata": {
        "id": "QKY0qGV1IDJc",
        "colab_type": "code",
        "colab": {
          "base_uri": "https://localhost:8080/",
          "height": 367
        },
        "outputId": "21105ad6-b455-4bb0-b3c0-2943f48b7c34"
      },
      "source": [
        "current_df.head()"
      ],
      "execution_count": 314,
      "outputs": [
        {
          "output_type": "execute_result",
          "data": {
            "text/html": [
              "<div>\n",
              "<style scoped>\n",
              "    .dataframe tbody tr th:only-of-type {\n",
              "        vertical-align: middle;\n",
              "    }\n",
              "\n",
              "    .dataframe tbody tr th {\n",
              "        vertical-align: top;\n",
              "    }\n",
              "\n",
              "    .dataframe thead th {\n",
              "        text-align: right;\n",
              "    }\n",
              "</style>\n",
              "<table border=\"1\" class=\"dataframe\">\n",
              "  <thead>\n",
              "    <tr style=\"text-align: right;\">\n",
              "      <th></th>\n",
              "      <th>Province</th>\n",
              "      <th>District</th>\n",
              "      <th>Sector</th>\n",
              "      <th>Bridge Site Name</th>\n",
              "      <th>Project Stage</th>\n",
              "      <th>Project Code</th>\n",
              "      <th>Bridge Type</th>\n",
              "      <th>GPS (Latitude)</th>\n",
              "      <th>GPS (Longitude)</th>\n",
              "      <th>Individuals Directly Served</th>\n",
              "      <th>Assessment Date</th>\n",
              "      <th>Original_Community_col</th>\n",
              "      <th>Community_Served</th>\n",
              "      <th>Prov_ID</th>\n",
              "      <th>Dist_ID</th>\n",
              "      <th>Sect_ID</th>\n",
              "      <th>Mean share of harvest sold</th>\n",
              "      <th>School_count</th>\n",
              "      <th>Population of Sector</th>\n",
              "      <th>Access rate</th>\n",
              "      <th>Umurenge SACCO</th>\n",
              "      <th>MFIs</th>\n",
              "      <th>Bank Branch</th>\n",
              "      <th>ATM</th>\n",
              "      <th>Bank Agent</th>\n",
              "      <th>Mobile Money Agent</th>\n",
              "      <th>Banked</th>\n",
              "      <th>Other formal (non-bank)</th>\n",
              "      <th>Informal only</th>\n",
              "      <th>Excluded</th>\n",
              "      <th>num_communities_served</th>\n",
              "    </tr>\n",
              "  </thead>\n",
              "  <tbody>\n",
              "    <tr>\n",
              "      <th>0</th>\n",
              "      <td>Western Province</td>\n",
              "      <td>Rusizi</td>\n",
              "      <td>Giheke</td>\n",
              "      <td>Buzi</td>\n",
              "      <td>Rejected</td>\n",
              "      <td>1014107</td>\n",
              "      <td>Suspended</td>\n",
              "      <td>-2.42056</td>\n",
              "      <td>28.9662</td>\n",
              "      <td>Unknown</td>\n",
              "      <td>2018-10-29</td>\n",
              "      <td>Community Served 1</td>\n",
              "      <td>Buzi</td>\n",
              "      <td>3</td>\n",
              "      <td>36</td>\n",
              "      <td>3605</td>\n",
              "      <td>20.1</td>\n",
              "      <td>6</td>\n",
              "      <td>19,359.00</td>\n",
              "      <td>64.0</td>\n",
              "      <td>38:21</td>\n",
              "      <td>49:27</td>\n",
              "      <td>53:26</td>\n",
              "      <td>52:00</td>\n",
              "      <td>50:17</td>\n",
              "      <td>32:21</td>\n",
              "      <td>27</td>\n",
              "      <td>38</td>\n",
              "      <td>14</td>\n",
              "      <td>21</td>\n",
              "      <td>5</td>\n",
              "    </tr>\n",
              "    <tr>\n",
              "      <th>1</th>\n",
              "      <td>Western Province</td>\n",
              "      <td>Rusizi</td>\n",
              "      <td>Giheke</td>\n",
              "      <td>Buzi</td>\n",
              "      <td>Rejected</td>\n",
              "      <td>1014107</td>\n",
              "      <td>Suspended</td>\n",
              "      <td>-2.42056</td>\n",
              "      <td>28.9662</td>\n",
              "      <td>Unknown</td>\n",
              "      <td>2018-10-29</td>\n",
              "      <td>Community Served 2</td>\n",
              "      <td>Kabuga</td>\n",
              "      <td>3</td>\n",
              "      <td>36</td>\n",
              "      <td>3605</td>\n",
              "      <td>20.1</td>\n",
              "      <td>6</td>\n",
              "      <td>19,359.00</td>\n",
              "      <td>64.0</td>\n",
              "      <td>38:21</td>\n",
              "      <td>49:27</td>\n",
              "      <td>53:26</td>\n",
              "      <td>52:00</td>\n",
              "      <td>50:17</td>\n",
              "      <td>32:21</td>\n",
              "      <td>27</td>\n",
              "      <td>38</td>\n",
              "      <td>14</td>\n",
              "      <td>21</td>\n",
              "      <td>5</td>\n",
              "    </tr>\n",
              "    <tr>\n",
              "      <th>2</th>\n",
              "      <td>Western Province</td>\n",
              "      <td>Rusizi</td>\n",
              "      <td>Giheke</td>\n",
              "      <td>Buzi</td>\n",
              "      <td>Rejected</td>\n",
              "      <td>1014107</td>\n",
              "      <td>Suspended</td>\n",
              "      <td>-2.42056</td>\n",
              "      <td>28.9662</td>\n",
              "      <td>Unknown</td>\n",
              "      <td>2018-10-29</td>\n",
              "      <td>Community Served 3</td>\n",
              "      <td>Kagarama</td>\n",
              "      <td>3</td>\n",
              "      <td>36</td>\n",
              "      <td>3605</td>\n",
              "      <td>20.1</td>\n",
              "      <td>6</td>\n",
              "      <td>19,359.00</td>\n",
              "      <td>64.0</td>\n",
              "      <td>38:21</td>\n",
              "      <td>49:27</td>\n",
              "      <td>53:26</td>\n",
              "      <td>52:00</td>\n",
              "      <td>50:17</td>\n",
              "      <td>32:21</td>\n",
              "      <td>27</td>\n",
              "      <td>38</td>\n",
              "      <td>14</td>\n",
              "      <td>21</td>\n",
              "      <td>5</td>\n",
              "    </tr>\n",
              "    <tr>\n",
              "      <th>3</th>\n",
              "      <td>Western Province</td>\n",
              "      <td>Rusizi</td>\n",
              "      <td>Giheke</td>\n",
              "      <td>Buzi</td>\n",
              "      <td>Rejected</td>\n",
              "      <td>1014107</td>\n",
              "      <td>Suspended</td>\n",
              "      <td>-2.42056</td>\n",
              "      <td>28.9662</td>\n",
              "      <td>Unknown</td>\n",
              "      <td>2018-10-29</td>\n",
              "      <td>Community Served 4</td>\n",
              "      <td>Gacyamo</td>\n",
              "      <td>3</td>\n",
              "      <td>36</td>\n",
              "      <td>3605</td>\n",
              "      <td>20.1</td>\n",
              "      <td>6</td>\n",
              "      <td>19,359.00</td>\n",
              "      <td>64.0</td>\n",
              "      <td>38:21</td>\n",
              "      <td>49:27</td>\n",
              "      <td>53:26</td>\n",
              "      <td>52:00</td>\n",
              "      <td>50:17</td>\n",
              "      <td>32:21</td>\n",
              "      <td>27</td>\n",
              "      <td>38</td>\n",
              "      <td>14</td>\n",
              "      <td>21</td>\n",
              "      <td>5</td>\n",
              "    </tr>\n",
              "    <tr>\n",
              "      <th>4</th>\n",
              "      <td>Western Province</td>\n",
              "      <td>Rusizi</td>\n",
              "      <td>Giheke</td>\n",
              "      <td>Buzi</td>\n",
              "      <td>Rejected</td>\n",
              "      <td>1014107</td>\n",
              "      <td>Suspended</td>\n",
              "      <td>-2.42056</td>\n",
              "      <td>28.9662</td>\n",
              "      <td>Unknown</td>\n",
              "      <td>2018-10-29</td>\n",
              "      <td>Community Served 5</td>\n",
              "      <td>Gasheke</td>\n",
              "      <td>3</td>\n",
              "      <td>36</td>\n",
              "      <td>3605</td>\n",
              "      <td>20.1</td>\n",
              "      <td>6</td>\n",
              "      <td>19,359.00</td>\n",
              "      <td>64.0</td>\n",
              "      <td>38:21</td>\n",
              "      <td>49:27</td>\n",
              "      <td>53:26</td>\n",
              "      <td>52:00</td>\n",
              "      <td>50:17</td>\n",
              "      <td>32:21</td>\n",
              "      <td>27</td>\n",
              "      <td>38</td>\n",
              "      <td>14</td>\n",
              "      <td>21</td>\n",
              "      <td>5</td>\n",
              "    </tr>\n",
              "  </tbody>\n",
              "</table>\n",
              "</div>"
            ],
            "text/plain": [
              "           Province District  ... Excluded num_communities_served\n",
              "0  Western Province   Rusizi  ...       21                      5\n",
              "1  Western Province   Rusizi  ...       21                      5\n",
              "2  Western Province   Rusizi  ...       21                      5\n",
              "3  Western Province   Rusizi  ...       21                      5\n",
              "4  Western Province   Rusizi  ...       21                      5\n",
              "\n",
              "[5 rows x 31 columns]"
            ]
          },
          "metadata": {
            "tags": []
          },
          "execution_count": 314
        }
      ]
    },
    {
      "cell_type": "markdown",
      "metadata": {
        "id": "zW3-dB40IM1G",
        "colab_type": "text"
      },
      "source": [
        "### Drop the duplicates for project code:\n",
        "this will give us the unique bridge"
      ]
    },
    {
      "cell_type": "code",
      "metadata": {
        "id": "iZA-7zzTIJh0",
        "colab_type": "code",
        "colab": {}
      },
      "source": [
        "final_df = current_df.drop_duplicates(subset='Project Code')"
      ],
      "execution_count": 316,
      "outputs": []
    },
    {
      "cell_type": "code",
      "metadata": {
        "id": "dH6jhJFPIXkZ",
        "colab_type": "code",
        "colab": {
          "base_uri": "https://localhost:8080/",
          "height": 367
        },
        "outputId": "7549d2c7-9b44-43b4-8575-e036f03508b1"
      },
      "source": [
        "final_df.head()"
      ],
      "execution_count": 317,
      "outputs": [
        {
          "output_type": "execute_result",
          "data": {
            "text/html": [
              "<div>\n",
              "<style scoped>\n",
              "    .dataframe tbody tr th:only-of-type {\n",
              "        vertical-align: middle;\n",
              "    }\n",
              "\n",
              "    .dataframe tbody tr th {\n",
              "        vertical-align: top;\n",
              "    }\n",
              "\n",
              "    .dataframe thead th {\n",
              "        text-align: right;\n",
              "    }\n",
              "</style>\n",
              "<table border=\"1\" class=\"dataframe\">\n",
              "  <thead>\n",
              "    <tr style=\"text-align: right;\">\n",
              "      <th></th>\n",
              "      <th>Province</th>\n",
              "      <th>District</th>\n",
              "      <th>Sector</th>\n",
              "      <th>Bridge Site Name</th>\n",
              "      <th>Project Stage</th>\n",
              "      <th>Project Code</th>\n",
              "      <th>Bridge Type</th>\n",
              "      <th>GPS (Latitude)</th>\n",
              "      <th>GPS (Longitude)</th>\n",
              "      <th>Individuals Directly Served</th>\n",
              "      <th>Assessment Date</th>\n",
              "      <th>Original_Community_col</th>\n",
              "      <th>Community_Served</th>\n",
              "      <th>Prov_ID</th>\n",
              "      <th>Dist_ID</th>\n",
              "      <th>Sect_ID</th>\n",
              "      <th>Mean share of harvest sold</th>\n",
              "      <th>School_count</th>\n",
              "      <th>Population of Sector</th>\n",
              "      <th>Access rate</th>\n",
              "      <th>Umurenge SACCO</th>\n",
              "      <th>MFIs</th>\n",
              "      <th>Bank Branch</th>\n",
              "      <th>ATM</th>\n",
              "      <th>Bank Agent</th>\n",
              "      <th>Mobile Money Agent</th>\n",
              "      <th>Banked</th>\n",
              "      <th>Other formal (non-bank)</th>\n",
              "      <th>Informal only</th>\n",
              "      <th>Excluded</th>\n",
              "      <th>num_communities_served</th>\n",
              "    </tr>\n",
              "  </thead>\n",
              "  <tbody>\n",
              "    <tr>\n",
              "      <th>0</th>\n",
              "      <td>Western Province</td>\n",
              "      <td>Rusizi</td>\n",
              "      <td>Giheke</td>\n",
              "      <td>Buzi</td>\n",
              "      <td>Rejected</td>\n",
              "      <td>1014107</td>\n",
              "      <td>Suspended</td>\n",
              "      <td>-2.42056</td>\n",
              "      <td>28.9662</td>\n",
              "      <td>Unknown</td>\n",
              "      <td>2018-10-29</td>\n",
              "      <td>Community Served 1</td>\n",
              "      <td>Buzi</td>\n",
              "      <td>3</td>\n",
              "      <td>36</td>\n",
              "      <td>3605</td>\n",
              "      <td>20.1</td>\n",
              "      <td>6</td>\n",
              "      <td>19,359.00</td>\n",
              "      <td>64.0</td>\n",
              "      <td>38:21</td>\n",
              "      <td>49:27</td>\n",
              "      <td>53:26</td>\n",
              "      <td>52:00</td>\n",
              "      <td>50:17</td>\n",
              "      <td>32:21</td>\n",
              "      <td>27</td>\n",
              "      <td>38</td>\n",
              "      <td>14</td>\n",
              "      <td>21</td>\n",
              "      <td>5</td>\n",
              "    </tr>\n",
              "    <tr>\n",
              "      <th>5</th>\n",
              "      <td>Western Province</td>\n",
              "      <td>Rusizi</td>\n",
              "      <td>Giheke</td>\n",
              "      <td>Kamigisha</td>\n",
              "      <td>Rejected</td>\n",
              "      <td>1014106</td>\n",
              "      <td>Suspended</td>\n",
              "      <td>-2.42486</td>\n",
              "      <td>28.957259999999998</td>\n",
              "      <td>Unknown</td>\n",
              "      <td>2018-10-29</td>\n",
              "      <td>Community Served 1</td>\n",
              "      <td>Kabuga</td>\n",
              "      <td>3</td>\n",
              "      <td>36</td>\n",
              "      <td>3605</td>\n",
              "      <td>20.1</td>\n",
              "      <td>6</td>\n",
              "      <td>19,359.00</td>\n",
              "      <td>64.0</td>\n",
              "      <td>38:21</td>\n",
              "      <td>49:27</td>\n",
              "      <td>53:26</td>\n",
              "      <td>52:00</td>\n",
              "      <td>50:17</td>\n",
              "      <td>32:21</td>\n",
              "      <td>27</td>\n",
              "      <td>38</td>\n",
              "      <td>14</td>\n",
              "      <td>21</td>\n",
              "      <td>5</td>\n",
              "    </tr>\n",
              "    <tr>\n",
              "      <th>10</th>\n",
              "      <td>Western Province</td>\n",
              "      <td>Rusizi</td>\n",
              "      <td>Giheke</td>\n",
              "      <td>Gacyamo</td>\n",
              "      <td>Rejected</td>\n",
              "      <td>1014108</td>\n",
              "      <td>Suspension</td>\n",
              "      <td>-2.41855</td>\n",
              "      <td>28.969459999999998</td>\n",
              "      <td>Unknown</td>\n",
              "      <td>2018-10-29</td>\n",
              "      <td>Community Served 1</td>\n",
              "      <td>Gacyamo</td>\n",
              "      <td>3</td>\n",
              "      <td>36</td>\n",
              "      <td>3605</td>\n",
              "      <td>20.1</td>\n",
              "      <td>6</td>\n",
              "      <td>19,359.00</td>\n",
              "      <td>64.0</td>\n",
              "      <td>38:21</td>\n",
              "      <td>49:27</td>\n",
              "      <td>53:26</td>\n",
              "      <td>52:00</td>\n",
              "      <td>50:17</td>\n",
              "      <td>32:21</td>\n",
              "      <td>27</td>\n",
              "      <td>38</td>\n",
              "      <td>14</td>\n",
              "      <td>21</td>\n",
              "      <td>5</td>\n",
              "    </tr>\n",
              "    <tr>\n",
              "      <th>15</th>\n",
              "      <td>Western Province</td>\n",
              "      <td>Rusizi</td>\n",
              "      <td>Giheke</td>\n",
              "      <td>Nyakabanda</td>\n",
              "      <td>Rejected</td>\n",
              "      <td>1014105</td>\n",
              "      <td>Suspended</td>\n",
              "      <td>-2.42715</td>\n",
              "      <td>28.95369</td>\n",
              "      <td>Unknown</td>\n",
              "      <td>2018-10-29</td>\n",
              "      <td>Community Served 1</td>\n",
              "      <td>Kanoga</td>\n",
              "      <td>3</td>\n",
              "      <td>36</td>\n",
              "      <td>3605</td>\n",
              "      <td>20.1</td>\n",
              "      <td>6</td>\n",
              "      <td>19,359.00</td>\n",
              "      <td>64.0</td>\n",
              "      <td>38:21</td>\n",
              "      <td>49:27</td>\n",
              "      <td>53:26</td>\n",
              "      <td>52:00</td>\n",
              "      <td>50:17</td>\n",
              "      <td>32:21</td>\n",
              "      <td>27</td>\n",
              "      <td>38</td>\n",
              "      <td>14</td>\n",
              "      <td>21</td>\n",
              "      <td>5</td>\n",
              "    </tr>\n",
              "    <tr>\n",
              "      <th>20</th>\n",
              "      <td>Western Province</td>\n",
              "      <td>Rusizi</td>\n",
              "      <td>Giheke</td>\n",
              "      <td>Impala</td>\n",
              "      <td>Rejected</td>\n",
              "      <td>1014166</td>\n",
              "      <td>Unknown</td>\n",
              "      <td>-2.44246</td>\n",
              "      <td>28.9333</td>\n",
              "      <td>Unknown</td>\n",
              "      <td>2018-10-29</td>\n",
              "      <td>Community Served 1</td>\n",
              "      <td>Impala</td>\n",
              "      <td>3</td>\n",
              "      <td>36</td>\n",
              "      <td>3605</td>\n",
              "      <td>20.1</td>\n",
              "      <td>6</td>\n",
              "      <td>19,359.00</td>\n",
              "      <td>64.0</td>\n",
              "      <td>38:21</td>\n",
              "      <td>49:27</td>\n",
              "      <td>53:26</td>\n",
              "      <td>52:00</td>\n",
              "      <td>50:17</td>\n",
              "      <td>32:21</td>\n",
              "      <td>27</td>\n",
              "      <td>38</td>\n",
              "      <td>14</td>\n",
              "      <td>21</td>\n",
              "      <td>1</td>\n",
              "    </tr>\n",
              "  </tbody>\n",
              "</table>\n",
              "</div>"
            ],
            "text/plain": [
              "            Province District  ... Excluded num_communities_served\n",
              "0   Western Province   Rusizi  ...       21                      5\n",
              "5   Western Province   Rusizi  ...       21                      5\n",
              "10  Western Province   Rusizi  ...       21                      5\n",
              "15  Western Province   Rusizi  ...       21                      5\n",
              "20  Western Province   Rusizi  ...       21                      1\n",
              "\n",
              "[5 rows x 31 columns]"
            ]
          },
          "metadata": {
            "tags": []
          },
          "execution_count": 317
        }
      ]
    },
    {
      "cell_type": "code",
      "metadata": {
        "id": "0laN31kOI6sx",
        "colab_type": "code",
        "colab": {}
      },
      "source": [
        "final_df.to_csv('final_model_df.csv', index=False)"
      ],
      "execution_count": 320,
      "outputs": []
    },
    {
      "cell_type": "code",
      "metadata": {
        "id": "jpZClqeyJIfJ",
        "colab_type": "code",
        "colab": {}
      },
      "source": [
        "testing = pd.read_csv('/content/final_model_df.csv')"
      ],
      "execution_count": 322,
      "outputs": []
    },
    {
      "cell_type": "code",
      "metadata": {
        "id": "IEyQEpMqJQOg",
        "colab_type": "code",
        "colab": {
          "base_uri": "https://localhost:8080/",
          "height": 585
        },
        "outputId": "c83ece75-1ed6-4472-cf3c-e609fe8b3a45"
      },
      "source": [
        "testing.dtypes"
      ],
      "execution_count": 324,
      "outputs": [
        {
          "output_type": "execute_result",
          "data": {
            "text/plain": [
              "Province                        object\n",
              "District                        object\n",
              "Sector                          object\n",
              "Bridge Site Name                object\n",
              "Project Stage                   object\n",
              "Project Code                     int64\n",
              "Bridge Type                     object\n",
              " GPS (Latitude)                 object\n",
              "GPS (Longitude)                 object\n",
              "Individuals Directly Served     object\n",
              "Assessment Date                 object\n",
              "Original_Community_col          object\n",
              "Community_Served                object\n",
              "Prov_ID                          int64\n",
              "Dist_ID                          int64\n",
              "Sect_ID                          int64\n",
              "Mean share of harvest sold     float64\n",
              "School_count                     int64\n",
              " Population of Sector           object\n",
              "Access rate                    float64\n",
              "Umurenge SACCO                  object\n",
              "MFIs                            object\n",
              "Bank Branch                     object\n",
              "ATM                             object\n",
              "Bank Agent                      object\n",
              "Mobile Money Agent              object\n",
              "Banked                           int64\n",
              "Other formal (non-bank)          int64\n",
              "Informal only                    int64\n",
              "Excluded                         int64\n",
              "num_communities_served           int64\n",
              "dtype: object"
            ]
          },
          "metadata": {
            "tags": []
          },
          "execution_count": 324
        }
      ]
    },
    {
      "cell_type": "code",
      "metadata": {
        "id": "vWCpqoIlJttY",
        "colab_type": "code",
        "colab": {}
      },
      "source": [
        ""
      ],
      "execution_count": null,
      "outputs": []
    }
  ]
}
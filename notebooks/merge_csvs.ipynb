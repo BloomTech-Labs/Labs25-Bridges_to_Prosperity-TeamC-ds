{
  "nbformat": 4,
  "nbformat_minor": 0,
  "metadata": {
    "colab": {
      "name": "merge_csvs.ipynb",
      "provenance": [],
      "collapsed_sections": [],
      "authorship_tag": "ABX9TyPpMHYqMuKgmfWbMHHOgwTk",
      "include_colab_link": true
    },
    "kernelspec": {
      "name": "python3",
      "display_name": "Python 3"
    }
  },
  "cells": [
    {
      "cell_type": "markdown",
      "metadata": {
        "id": "view-in-github",
        "colab_type": "text"
      },
      "source": [
        "<a href=\"https://colab.research.google.com/github/Lambda-School-Labs/Labs25-Bridges_to_Prosperity-TeamC-ds/blob/feature%2Fschools-data%2Fade-ade/notebooks/merge_csvs.ipynb\" target=\"_parent\"><img src=\"https://colab.research.google.com/assets/colab-badge.svg\" alt=\"Open In Colab\"/></a>"
      ]
    },
    {
      "cell_type": "code",
      "metadata": {
        "id": "-10oKgJGoRK9",
        "colab_type": "code",
        "colab": {}
      },
      "source": [
        "import pandas as pd\n",
        "import numpy as np"
      ],
      "execution_count": 3,
      "outputs": []
    },
    {
      "cell_type": "code",
      "metadata": {
        "id": "BH3VT32soaPP",
        "colab_type": "code",
        "colab": {}
      },
      "source": [
        "db_df = pd.read_csv(\"https://raw.githubusercontent.com/Lambda-School-Labs/Labs25-Bridges_to_Prosperity-TeamC-ds/main/final_csv/Final_with_gov_ID.csv\")\n",
        "harvest_df = pd.read_csv(\"https://raw.githubusercontent.com/Lambda-School-Labs/Labs25-Bridges_to_Prosperity-TeamC-ds/main/rwanda_data_files/share_of_harvest_sold.csv\")"
      ],
      "execution_count": 4,
      "outputs": []
    },
    {
      "cell_type": "code",
      "metadata": {
        "id": "S7XrSTLGMVn6",
        "colab_type": "code",
        "colab": {
          "base_uri": "https://localhost:8080/",
          "height": 73
        },
        "outputId": "a4d85901-31aa-41bd-c372-a4fb8cd2e4f6"
      },
      "source": [
        "print(db_df.shape)\n",
        "print(harvest_df.shape)"
      ],
      "execution_count": null,
      "outputs": [
        {
          "output_type": "stream",
          "text": [
            "(4483, 20)\n",
            "(30, 3)\n"
          ],
          "name": "stdout"
        }
      ]
    },
    {
      "cell_type": "code",
      "metadata": {
        "id": "A_O9lToE21LO",
        "colab_type": "code",
        "colab": {}
      },
      "source": [
        "db_df.drop(['Unnamed: 0','Cell','Form: Form Name','Cell_ID'],axis=1,inplace=True)\n",
        "harvest_df.drop('Unnamed: 0', axis=1,inplace=True)"
      ],
      "execution_count": 5,
      "outputs": []
    },
    {
      "cell_type": "code",
      "metadata": {
        "id": "PAxHnfwENM4U",
        "colab_type": "code",
        "colab": {}
      },
      "source": [
        "# Merge database file on share of harvest in each RW district\n",
        "df = pd.merge(db_df,harvest_df,on='District',how='inner')"
      ],
      "execution_count": 6,
      "outputs": []
    },
    {
      "cell_type": "code",
      "metadata": {
        "id": "Z0mLRySiVC_B",
        "colab_type": "code",
        "colab": {}
      },
      "source": [
        "# db_df['District'].nunique()\n",
        "# df['District'].nunique()\n",
        "# harvest_df['Mean share of harvest sold'].nunique()\n",
        "# df['Mean share of harvest sold'].nunique()"
      ],
      "execution_count": null,
      "outputs": []
    },
    {
      "cell_type": "code",
      "metadata": {
        "id": "Ew7YHtUZVrJr",
        "colab_type": "code",
        "colab": {}
      },
      "source": [
        "schools_df = pd.read_csv(\"https://raw.githubusercontent.com/Lambda-School-Labs/Labs25-Bridges_to_Prosperity-TeamC-ds/main/rwanda_data_files/Rwanda_Schools%20(1).csv\")"
      ],
      "execution_count": 7,
      "outputs": []
    },
    {
      "cell_type": "code",
      "metadata": {
        "id": "nxUeBpXDWR9F",
        "colab_type": "code",
        "colab": {}
      },
      "source": [
        "govt_df = pd.read_csv('https://raw.githubusercontent.com/Lambda-School-Labs/Labs25-Bridges_to_Prosperity-TeamC-ds/main/rwanda_data_files/unique_gov_id_PDS.csv')"
      ],
      "execution_count": 8,
      "outputs": []
    },
    {
      "cell_type": "code",
      "metadata": {
        "id": "TNshUzicXiU6",
        "colab_type": "code",
        "colab": {}
      },
      "source": [
        "govt_df['Sector'] = govt_df['Sector'].str.title()\n",
        "schools_df['Sector'] = schools_df['Sector'].str.title()\n",
        "schools_df['District'] = schools_df['District'].str.title()"
      ],
      "execution_count": 9,
      "outputs": []
    },
    {
      "cell_type": "code",
      "metadata": {
        "id": "QtbOl5y8YVo0",
        "colab_type": "code",
        "colab": {}
      },
      "source": [
        "# Correct spellings in schools data to match govt_data \n",
        "govt_to_sch = {\n",
        "    'Kabagali' : 'Kabagari',\n",
        "    'Muringa' : 'Mulinga' ,\n",
        "    'Rugarika' : 'Rugalika',\n",
        "    'Gishali' : 'Gishari' ,\n",
        "    'Rugengabari' : 'Rugengabali',\n",
        "    'Nyagihanga':'Nyagahanga',\n",
        "    'Niboye': 'Niboyi',\n",
        "    'Save':'Gatoki',\n",
        "    'Tumba':'Ntuba'\n",
        "    }\n",
        "\n",
        "for key,value in govt_to_sch.items():\n",
        "\n",
        "  schools_df.loc[schools_df['Sector'] == value,'Sector'] = key"
      ],
      "execution_count": 10,
      "outputs": []
    },
    {
      "cell_type": "code",
      "metadata": {
        "id": "p48-lcOTXMc9",
        "colab_type": "code",
        "colab": {
          "base_uri": "https://localhost:8080/",
          "height": 55
        },
        "outputId": "a6a4a9f1-50c3-48ab-8f94-cb345c7a52de"
      },
      "source": [
        "b = [x for x in set(schools_df['Sector']) if x not in set(govt_df['Sector'])]\n",
        "b"
      ],
      "execution_count": null,
      "outputs": [
        {
          "output_type": "execute_result",
          "data": {
            "text/plain": [
              "[]"
            ]
          },
          "metadata": {
            "tags": []
          },
          "execution_count": 11
        }
      ]
    },
    {
      "cell_type": "code",
      "metadata": {
        "id": "sHgfFkXRyL2P",
        "colab_type": "code",
        "colab": {}
      },
      "source": [
        "# Change Nyanza-Kibirizi to Nyanza-Kibilizi to match database_df\n",
        "indy = schools_df[(schools_df['District'] == \"Nyanza\") & (schools_df['Sector'] == 'Kibirizi')].index\n",
        "\n",
        "for i in indy:\n",
        "  schools_df.loc[i,['Sector']] = \"Kibilizi\""
      ],
      "execution_count": 11,
      "outputs": []
    },
    {
      "cell_type": "code",
      "metadata": {
        "id": "bfMUWChUFDnb",
        "colab_type": "code",
        "colab": {}
      },
      "source": [
        "schools_df.drop('Unnamed: 0',axis=1,inplace=True)"
      ],
      "execution_count": 12,
      "outputs": []
    },
    {
      "cell_type": "code",
      "metadata": {
        "id": "ctGhIx8TlfOd",
        "colab_type": "code",
        "colab": {}
      },
      "source": [
        "# Correct Sector names in schools data \n",
        "il = [294]\n",
        "\n",
        "for i in il:\n",
        "  schools_df.loc[i,['Sector']] = 'Bigogwe'\n",
        "\n",
        "jl = [185]\n",
        "\n",
        "for j in jl:\n",
        "  schools_df.loc[j,['Sector']] = 'Ngarama'"
      ],
      "execution_count": 15,
      "outputs": []
    },
    {
      "cell_type": "code",
      "metadata": {
        "id": "Qwel1DZpZ98f",
        "colab_type": "code",
        "colab": {}
      },
      "source": [
        "# Merge schools data on govt data \n",
        "mg = pd.merge(schools_df,govt_df,on=['District','Sector'])"
      ],
      "execution_count": 16,
      "outputs": []
    },
    {
      "cell_type": "code",
      "metadata": {
        "id": "c8e9yIHzgEss",
        "colab_type": "code",
        "colab": {
          "base_uri": "https://localhost:8080/",
          "height": 55
        },
        "outputId": "edcef878-4793-4180-da6c-716302a3cf27"
      },
      "source": [
        "y = [x for x in set(mg['School Name']) if x not in set(schools_df['School Name'])]\n",
        "y"
      ],
      "execution_count": null,
      "outputs": [
        {
          "output_type": "execute_result",
          "data": {
            "text/plain": [
              "[]"
            ]
          },
          "metadata": {
            "tags": []
          },
          "execution_count": 56
        }
      ]
    },
    {
      "cell_type": "code",
      "metadata": {
        "id": "qfUjgRuqgl7W",
        "colab_type": "code",
        "colab": {
          "base_uri": "https://localhost:8080/",
          "height": 55
        },
        "outputId": "b2f6967d-6ebb-40cc-9535-be98476b22ae"
      },
      "source": [
        "q = [x for x in set(schools_df['School Name']) if x not in set(mg['School Name'])]\n",
        "q"
      ],
      "execution_count": null,
      "outputs": [
        {
          "output_type": "execute_result",
          "data": {
            "text/plain": [
              "[]"
            ]
          },
          "metadata": {
            "tags": []
          },
          "execution_count": 55
        }
      ]
    },
    {
      "cell_type": "code",
      "metadata": {
        "id": "Ffr156T_g8bI",
        "colab_type": "code",
        "colab": {
          "base_uri": "https://localhost:8080/",
          "height": 101
        },
        "outputId": "475071c7-f1b0-4ad5-da90-6038d0395a0e"
      },
      "source": [
        "schools_df[schools_df['School Name'] == 'College Baptiste De Ngarama']"
      ],
      "execution_count": null,
      "outputs": [
        {
          "output_type": "execute_result",
          "data": {
            "text/html": [
              "<div>\n",
              "<style scoped>\n",
              "    .dataframe tbody tr th:only-of-type {\n",
              "        vertical-align: middle;\n",
              "    }\n",
              "\n",
              "    .dataframe tbody tr th {\n",
              "        vertical-align: top;\n",
              "    }\n",
              "\n",
              "    .dataframe thead th {\n",
              "        text-align: right;\n",
              "    }\n",
              "</style>\n",
              "<table border=\"1\" class=\"dataframe\">\n",
              "  <thead>\n",
              "    <tr style=\"text-align: right;\">\n",
              "      <th></th>\n",
              "      <th>School Name</th>\n",
              "      <th>Province</th>\n",
              "      <th>District</th>\n",
              "      <th>Sector</th>\n",
              "    </tr>\n",
              "  </thead>\n",
              "  <tbody>\n",
              "    <tr>\n",
              "      <th>185</th>\n",
              "      <td>College Baptiste De Ngarama</td>\n",
              "      <td>East</td>\n",
              "      <td>Gatsibo</td>\n",
              "      <td>Ngarama</td>\n",
              "    </tr>\n",
              "  </tbody>\n",
              "</table>\n",
              "</div>"
            ],
            "text/plain": [
              "                     School Name Province District   Sector\n",
              "185  College Baptiste De Ngarama     East  Gatsibo  Ngarama"
            ]
          },
          "metadata": {
            "tags": []
          },
          "execution_count": 58
        }
      ]
    },
    {
      "cell_type": "code",
      "metadata": {
        "id": "-HdVjzB3nnhj",
        "colab_type": "code",
        "colab": {
          "base_uri": "https://localhost:8080/",
          "height": 101
        },
        "outputId": "22228ee1-db47-4c40-f278-801499c178d7"
      },
      "source": [
        "mg[mg['School Name'] == 'EAV BIGOGWE']"
      ],
      "execution_count": null,
      "outputs": [
        {
          "output_type": "execute_result",
          "data": {
            "text/html": [
              "<div>\n",
              "<style scoped>\n",
              "    .dataframe tbody tr th:only-of-type {\n",
              "        vertical-align: middle;\n",
              "    }\n",
              "\n",
              "    .dataframe tbody tr th {\n",
              "        vertical-align: top;\n",
              "    }\n",
              "\n",
              "    .dataframe thead th {\n",
              "        text-align: right;\n",
              "    }\n",
              "</style>\n",
              "<table border=\"1\" class=\"dataframe\">\n",
              "  <thead>\n",
              "    <tr style=\"text-align: right;\">\n",
              "      <th></th>\n",
              "      <th>School Name</th>\n",
              "      <th>Province_x</th>\n",
              "      <th>District</th>\n",
              "      <th>Sector</th>\n",
              "      <th>Prov_ID</th>\n",
              "      <th>Province_y</th>\n",
              "      <th>Dist_ID</th>\n",
              "      <th>Sect_ID</th>\n",
              "    </tr>\n",
              "  </thead>\n",
              "  <tbody>\n",
              "    <tr>\n",
              "      <th>411</th>\n",
              "      <td>EAV BIGOGWE</td>\n",
              "      <td>West</td>\n",
              "      <td>Nyabihu</td>\n",
              "      <td>Bigogwe</td>\n",
              "      <td>3</td>\n",
              "      <td>Iburengerazuba</td>\n",
              "      <td>34</td>\n",
              "      <td>3401</td>\n",
              "    </tr>\n",
              "  </tbody>\n",
              "</table>\n",
              "</div>"
            ],
            "text/plain": [
              "     School Name Province_x District  ...      Province_y  Dist_ID Sect_ID\n",
              "411  EAV BIGOGWE       West  Nyabihu  ...  Iburengerazuba       34    3401\n",
              "\n",
              "[1 rows x 8 columns]"
            ]
          },
          "metadata": {
            "tags": []
          },
          "execution_count": 57
        }
      ]
    },
    {
      "cell_type": "code",
      "metadata": {
        "id": "Lp0MrZhinvDZ",
        "colab_type": "code",
        "colab": {
          "base_uri": "https://localhost:8080/",
          "height": 101
        },
        "outputId": "6de5efbd-db86-45c8-cb41-afabb79fc109"
      },
      "source": [
        "mg[mg['School Name'] == 'College Baptiste De Ngarama']"
      ],
      "execution_count": 17,
      "outputs": [
        {
          "output_type": "execute_result",
          "data": {
            "text/html": [
              "<div>\n",
              "<style scoped>\n",
              "    .dataframe tbody tr th:only-of-type {\n",
              "        vertical-align: middle;\n",
              "    }\n",
              "\n",
              "    .dataframe tbody tr th {\n",
              "        vertical-align: top;\n",
              "    }\n",
              "\n",
              "    .dataframe thead th {\n",
              "        text-align: right;\n",
              "    }\n",
              "</style>\n",
              "<table border=\"1\" class=\"dataframe\">\n",
              "  <thead>\n",
              "    <tr style=\"text-align: right;\">\n",
              "      <th></th>\n",
              "      <th>School Name</th>\n",
              "      <th>Province_x</th>\n",
              "      <th>District</th>\n",
              "      <th>Sector</th>\n",
              "      <th>Prov_ID</th>\n",
              "      <th>Province_y</th>\n",
              "      <th>Dist_ID</th>\n",
              "      <th>Sect_ID</th>\n",
              "    </tr>\n",
              "  </thead>\n",
              "  <tbody>\n",
              "    <tr>\n",
              "      <th>1212</th>\n",
              "      <td>College Baptiste De Ngarama</td>\n",
              "      <td>East</td>\n",
              "      <td>Gatsibo</td>\n",
              "      <td>Ngarama</td>\n",
              "      <td>5</td>\n",
              "      <td>Iburasirazuba</td>\n",
              "      <td>53</td>\n",
              "      <td>5310</td>\n",
              "    </tr>\n",
              "  </tbody>\n",
              "</table>\n",
              "</div>"
            ],
            "text/plain": [
              "                      School Name Province_x  ... Dist_ID Sect_ID\n",
              "1212  College Baptiste De Ngarama       East  ...      53    5310\n",
              "\n",
              "[1 rows x 8 columns]"
            ]
          },
          "metadata": {
            "tags": []
          },
          "execution_count": 17
        }
      ]
    },
    {
      "cell_type": "code",
      "metadata": {
        "id": "u2O_yXVEaaNg",
        "colab_type": "code",
        "colab": {}
      },
      "source": [
        "# schools_df.groupby(['District','Sector'],as_index=False).count()"
      ],
      "execution_count": null,
      "outputs": []
    },
    {
      "cell_type": "code",
      "metadata": {
        "id": "NbVCepZNuaiV",
        "colab_type": "code",
        "colab": {
          "base_uri": "https://localhost:8080/",
          "height": 126
        },
        "outputId": "bd3f3346-b0bc-42d1-a0e9-50f0c834e89d"
      },
      "source": [
        "# Get the count of schools in each sector \n",
        "count_sch = mg.groupby(['Sect_ID']).count()['School Name']\n",
        "count_sch.head(3)"
      ],
      "execution_count": 18,
      "outputs": [
        {
          "output_type": "execute_result",
          "data": {
            "text/plain": [
              "Sect_ID\n",
              "1101    2\n",
              "1102    2\n",
              "1103    3\n",
              "Name: School Name, dtype: int64"
            ]
          },
          "metadata": {
            "tags": []
          },
          "execution_count": 18
        }
      ]
    },
    {
      "cell_type": "code",
      "metadata": {
        "id": "WmPUMLEHtlTO",
        "colab_type": "code",
        "colab": {}
      },
      "source": [
        "# merge database df on school count \n",
        "test_df = pd.merge(df,count_sch,on='Sect_ID')"
      ],
      "execution_count": 35,
      "outputs": []
    },
    {
      "cell_type": "code",
      "metadata": {
        "id": "-56JTe9QwRfL",
        "colab_type": "code",
        "colab": {}
      },
      "source": [
        "test_df['School_count'] = test_df['School Name']"
      ],
      "execution_count": 38,
      "outputs": []
    },
    {
      "cell_type": "code",
      "metadata": {
        "id": "ec9YA1Wuwf2Z",
        "colab_type": "code",
        "colab": {}
      },
      "source": [
        "test_df.drop('School Name',axis=1,inplace=True)"
      ],
      "execution_count": 39,
      "outputs": []
    },
    {
      "cell_type": "code",
      "metadata": {
        "id": "alfUQF1kwvD4",
        "colab_type": "code",
        "colab": {}
      },
      "source": [
        "current_df = test_df"
      ],
      "execution_count": 40,
      "outputs": []
    },
    {
      "cell_type": "code",
      "metadata": {
        "id": "AJPIVkwtwwtc",
        "colab_type": "code",
        "colab": {
          "base_uri": "https://localhost:8080/",
          "height": 55
        },
        "outputId": "7a903b5b-042b-4e5b-9bc3-7ee29a908ddc"
      },
      "source": [
        "# Current final df with farm harvest by District \n",
        "# and number of schools in each Sector\n",
        "current_df.shape"
      ],
      "execution_count": 42,
      "outputs": [
        {
          "output_type": "execute_result",
          "data": {
            "text/plain": [
              "(4483, 18)"
            ]
          },
          "metadata": {
            "tags": []
          },
          "execution_count": 42
        }
      ]
    }
  ]
}
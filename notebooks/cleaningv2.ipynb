{
 "cells": [
  {
   "cell_type": "code",
   "execution_count": 1,
   "metadata": {},
   "outputs": [],
   "source": [
    "import pandas as pd\n",
    "import seaborn as sns"
   ]
  },
  {
   "cell_type": "code",
   "execution_count": 2,
   "metadata": {
    "tags": []
   },
   "outputs": [
    {
     "output_type": "stream",
     "name": "stdout",
     "text": "Dimensions of dataset: (1472, 27)\n"
    }
   ],
   "source": [
    "# read in data\n",
    "pd.set_option('display.max_columns', None)\n",
    "pd.set_option('display.max_rows', None)\n",
    "file_path = 'https://raw.githubusercontent.com/Lambda-School-Labs/Labs25-Bridges_to_Prosperity-TeamC-ds/main/B2P%20Rwanda%20Site%20Assessment%20Data_2020.06.03.csv'\n",
    "df = pd.read_csv(file_path, encoding='latin-1')\n",
    "print(f'Dimensions of dataset: {df.shape}')\n",
    "df.head()"
   ]
  },
  {
   "cell_type": "code",
   "execution_count": 3,
   "metadata": {
    "tags": []
   },
   "outputs": [
    {
     "output_type": "stream",
     "name": "stdout",
     "text": "Dimensions of dataset: (1472, 28)\n"
    }
   ],
   "source": [
    "# split the Form: Form Name to get the data from the column and convert date to datetime\n",
    "\n",
    "df['Assessment Date'] = df['Form: Form Name'].str.replace('Project Assessment - ', \"\")\n",
    "\n",
    "df['Assessment Date'] = pd.to_datetime(df['Assessment Date'])\n",
    "print(f'Dimensions of dataset: {df.shape}')\n",
    "# df.head()"
   ]
  },
  {
   "cell_type": "code",
   "execution_count": 14,
   "metadata": {},
   "outputs": [],
   "source": [
    "# what are the duplicate project codes?\n",
    "# it looks like that all the duplicates have two values. One has three.\n",
    "# a quick and simple way to remove the duplicates would keep the sorting by project code and assesment date\n",
    "# then drop the duplicates and keep the first occurence. That way we have the most recent date. \n",
    "\n",
    "# this was our test to find all the duplicates that we needed to drop\n",
    "# testing = df[df.duplicated(subset='Project Code', keep=False)].sort_values(by=['Project Code', 'Assessment Date'], ascending=False)\n",
    "# testing.head()\n",
    "# testing[testing['Individuals Directly Served'].notna()]\n",
    "\n",
    "# Indices that we "
   ]
  },
  {
   "cell_type": "code",
   "execution_count": 4,
   "metadata": {
    "tags": []
   },
   "outputs": [
    {
     "output_type": "stream",
     "name": "stdout",
     "text": "Dimensions of dataset: (1423, 28)\n"
    }
   ],
   "source": [
    "# manually went thru above duplicates and selected those that needed to be DROPPED. \n",
    "\n",
    "indexes_to_drop = [192,210,216,767,202,1119,908,735,901,272,643,756,\n",
    "                   738,193,655,642,327,909,1274,1289,135,176,1213,\n",
    "                   493,178,205,387,397,395,398,399,401,372,371,892,\n",
    "                   839,776,171,169,170,1117,1096,771,1109,95,89,132,133,134,\n",
    "                   ]\n",
    "\n",
    "\n",
    "df = df.drop(index=indexes_to_drop)\n",
    "print(f'Dimensions of dataset: {df.shape}')"
   ]
  },
  {
   "cell_type": "code",
   "execution_count": 5,
   "metadata": {},
   "outputs": [
    {
     "output_type": "execute_result",
     "data": {
      "text/plain": "False    1423\ndtype: int64"
     },
     "metadata": {},
     "execution_count": 5
    }
   ],
   "source": [
    "# make sure there are no duplicates \n",
    "\n",
    "df.duplicated(subset='Project Code', keep=False).value_counts()"
   ]
  },
  {
   "cell_type": "code",
   "execution_count": 94,
   "metadata": {
    "tags": []
   },
   "outputs": [],
   "source": [
    "# there are some columns that are all null values, we can drop those.\n",
    "df.isnull().sum()\n"
   ]
  },
  {
   "cell_type": "code",
   "execution_count": 7,
   "metadata": {},
   "outputs": [],
   "source": [
    "# these are columns we can drop\n",
    "col_drop = ['Community Served 6', 'Community Served 7',\n",
    "            'Community Served 8', 'Community Served 9',\n",
    "            'Community Served 10'\n",
    "           ]\n",
    "\n",
    "# these are columns that we want as Ids when we melt the table\n",
    "ID_variable = ['Country','Province', 'District', 'Sector', 'Cell', \n",
    "               'Bridge Site Name', 'Project Stage', \n",
    "               'Project Sub-Stage', 'Project Code', 'Bridge Type',\n",
    "               ' Span (m)', ' GPS (Latitude)', 'GPS (Longitude)',\n",
    "               'Individuals Directly Served', 'Form: Form Name',\n",
    "               'CaseSafeID Form', 'Bridge Opportunity: Opportunity ID',\n",
    "               'Assessment Date'\n",
    "              ]\n",
    "\n",
    "# these are the columns that we want to melt to values\n",
    "value_variables = ['Community Served 1', 'Community Served 2',\n",
    "                   'Community Served 3', 'Community Served 4',\n",
    "                   'Community Served 5'\n",
    "                  ]"
   ]
  },
  {
   "cell_type": "code",
   "execution_count": 8,
   "metadata": {
    "tags": []
   },
   "outputs": [
    {
     "output_type": "stream",
     "name": "stdout",
     "text": "Dimensions of dataset: (7115, 20)\n"
    }
   ],
   "source": [
    "# melt the dataframe so we get all the communities that a bridge would serve in one column\n",
    "# this will make duplicate observations of bridges. THis is okay since we want to be able to get counts\n",
    "# of how many villages a bridge would service.\n",
    "\n",
    "b2p_df = pd.melt(df, id_vars=ID_variable, value_vars=value_variables, var_name='Original_Community_col', value_name='Community_Served', )\n",
    "print(f'Dimensions of dataset: {b2p_df.shape}')\n",
    "# b2p_df.head()"
   ]
  },
  {
   "cell_type": "code",
   "execution_count": 9,
   "metadata": {
    "tags": []
   },
   "outputs": [
    {
     "output_type": "stream",
     "name": "stdout",
     "text": "Dimensions of dataset: (4483, 20)\n"
    }
   ],
   "source": [
    "# now that we have our melted dataframe, we want to delete any observation that has a \n",
    "# null value in the 'Community_Served' column\n",
    "\n",
    "b2p_df = b2p_df[b2p_df['Community_Served'].notna()]\n",
    "print(f'Dimensions of dataset: {b2p_df.shape}')\n",
    "# b2p_df.head()"
   ]
  },
  {
   "cell_type": "code",
   "execution_count": 98,
   "metadata": {},
   "outputs": [],
   "source": [
    "# lets check to see if there are still null values that we care about in the dataset\n",
    "\n",
    "b2p_df.isnull().sum()\n"
   ]
  },
  {
   "cell_type": "code",
   "execution_count": 100,
   "metadata": {},
   "outputs": [],
   "source": [
    "b2p_df.sort_values(by='Project Code').head()"
   ]
  },
  {
   "cell_type": "code",
   "execution_count": 11,
   "metadata": {
    "tags": []
   },
   "outputs": [
    {
     "output_type": "stream",
     "name": "stdout",
     "text": "Dimensions of dataset: (14816, 12)\n"
    }
   ],
   "source": [
    "# Read in the Data of Government Entities with Government IDs\n",
    "\n",
    "gov_file_path = 'https://raw.githubusercontent.com/tmbern/Labs25-Bridges_to_Prosperity-TeamC-ds/main/Rwanda%20Administrative%20Levels%20and%20Codes_Province%20through%20Village_2019.02.28.csv'\n",
    "gov_df = pd.read_csv(gov_file_path, encoding='latin-1')\n",
    "print(f'Dimensions of dataset: {gov_df.shape}')\n",
    "# gov_df.head()\n"
   ]
  },
  {
   "cell_type": "code",
   "execution_count": 13,
   "metadata": {},
   "outputs": [],
   "source": [
    "# District ID dict \n",
    "district_ID_dict = gov_df['Dist_ID'].groupby(gov_df['District']).unique().apply(pd.Series).to_dict()[0]\n",
    "district_ID_dict"
   ]
  },
  {
   "cell_type": "code",
   "execution_count": 14,
   "metadata": {},
   "outputs": [
    {
     "output_type": "execute_result",
     "data": {
      "text/plain": "True"
     },
     "metadata": {},
     "execution_count": 14
    }
   ],
   "source": [
    "# There are the same amount of government Districts as there is in B2P districts. \n",
    "len(b2p_df['District'].unique()) == len(gov_df['District'].unique())\n",
    "# check length of \"district\" strings on both dfs\n",
    "sorted(b2p_df['District'].unique()) == sorted(gov_df['District'].unique())"
   ]
  },
  {
   "cell_type": "code",
   "execution_count": 15,
   "metadata": {},
   "outputs": [
    {
     "output_type": "execute_result",
     "data": {
      "text/plain": "False"
     },
     "metadata": {},
     "execution_count": 15
    }
   ],
   "source": [
    "# Sector ID \n",
    "# check that df['sector'] == gov_df['sector']\n",
    "len(b2p_df['Sector'].unique()) == len(gov_df['Sector'].unique())"
   ]
  },
  {
   "cell_type": "code",
   "execution_count": 16,
   "metadata": {},
   "outputs": [
    {
     "output_type": "execute_result",
     "data": {
      "text/plain": "348"
     },
     "metadata": {},
     "execution_count": 16
    }
   ],
   "source": [
    "# check df['sector'] not in gov_df['sector']\n",
    "x = [x for x in set(b2p_df['Sector']) if x not in set(gov_df['Sector'])]\n",
    "len(x)"
   ]
  },
  {
   "cell_type": "code",
   "execution_count": 17,
   "metadata": {},
   "outputs": [
    {
     "output_type": "execute_result",
     "data": {
      "text/plain": "0     Giheke\n1     Giheke\n2     Buyoga\n4    Kayenzi\n5    Kayenzi\nName: new_sector, dtype: object"
     },
     "metadata": {},
     "execution_count": 17
    }
   ],
   "source": [
    "# Strip sectors down to single sector names \n",
    "# with regular expressions \n",
    "import re\n",
    "\n",
    "b2p_df['new_sector'] = [re.split(\"-|~|_|(sector)|(Sector)|(cell)|\\(|~\", str(i))[0] for i in b2p_df['Sector']]\n",
    "b2p_df['new_sector'] = b2p_df['new_sector'].str.replace(\" \",\"\")\n",
    "b2p_df['new_sector'].head()"
   ]
  },
  {
   "cell_type": "code",
   "execution_count": 18,
   "metadata": {},
   "outputs": [
    {
     "output_type": "execute_result",
     "data": {
      "text/plain": "True"
     },
     "metadata": {},
     "execution_count": 18
    }
   ],
   "source": [
    "# confirm that df sector list is less than gov list of sectors - important \n",
    "b2p_df['new_sector'].nunique() < gov_df['Sector'].nunique()"
   ]
  },
  {
   "cell_type": "code",
   "execution_count": 61,
   "metadata": {},
   "outputs": [],
   "source": [
    "# we group df by province district and sector. \n",
    "# get the count of the number of timex that a particular village is in that grouping. \n",
    "\n",
    "gov_df.head()"
   ]
  },
  {
   "cell_type": "code",
   "execution_count": 19,
   "metadata": {},
   "outputs": [],
   "source": [
    "b2p_df['test_cell'] = b2p_df['Cell'].astype(str)"
   ]
  },
  {
   "cell_type": "code",
   "execution_count": 81,
   "metadata": {},
   "outputs": [],
   "source": [
    "# test_list = [re.split(\"-|~|_|/|\\(|\\)\", i) for i in b2p_df['test_cell']]"
   ]
  },
  {
   "cell_type": "code",
   "execution_count": 20,
   "metadata": {},
   "outputs": [],
   "source": [
    "# helper function to clean characters in Cell string\n",
    "def replace_char(x):\n",
    "    \"\"\"\n",
    "    args: Cell\n",
    "    returns: Cell value where chr replaced with whitespace\n",
    "    \"\"\"\n",
    "    if type(x) == str:\n",
    "         char = ['-', '~', '(', ')', '/', '_', 'between', 'villages', \n",
    "                'village', ' both', 'Both',' in ' , ' are ', ' village', \n",
    "                'all are in', 'village ', ' Village', 'Village ', '&', 'Between', ' Between ', 'Between ', \n",
    "                ' and ', ' of ', 'Village', 'Sector', 'sector']\n",
    "         for i in char:\n",
    "             if i in x:\n",
    "                 x = x.replace(i, ' ')\n",
    "    return x"
   ]
  },
  {
   "cell_type": "code",
   "execution_count": 21,
   "metadata": {},
   "outputs": [],
   "source": [
    "# apply helper function to Cell column\n",
    "b2p_df['test_cell'] = b2p_df['Cell'].apply(replace_char)"
   ]
  },
  {
   "cell_type": "code",
   "execution_count": 22,
   "metadata": {},
   "outputs": [],
   "source": [
    "# Create list of Cells in govt data \n",
    "list_of_gov_cells = list(gov_df['Cell'].unique())\n",
    "# sorted(list_of_gov_cells)[600:]"
   ]
  },
  {
   "cell_type": "code",
   "execution_count": 242,
   "metadata": {},
   "outputs": [],
   "source": [
    "# b2p_df[b2p_df['test_cell'].str.contains('cell',na=False)]"
   ]
  },
  {
   "cell_type": "code",
   "execution_count": 23,
   "metadata": {},
   "outputs": [],
   "source": [
    "# Fill NaN with \"Unknown\"\n",
    "b2p_df['test_cell'] = b2p_df['test_cell'].fillna(\"Unknown\")"
   ]
  },
  {
   "cell_type": "code",
   "execution_count": 24,
   "metadata": {},
   "outputs": [],
   "source": [
    "# Helper function to\n",
    "# Complete cleaning of Cell\n",
    "# return \"Unknown for values not in govt data\"\n",
    "def cell_cleaner(x):\n",
    "    \"\"\"\n",
    "    args: Cell\n",
    "    return: clean value for Cell or \"Unknown\"\n",
    "    \"\"\"\n",
    "    if type(x) == str:\n",
    "        for i in list_of_gov_cells:\n",
    "            if i in x.title():\n",
    "                return i\n",
    "            elif \"Congo\" in x:\n",
    "                return \"Congo-nil\"\n",
    "    return \"Unknown\""
   ]
  },
  {
   "cell_type": "code",
   "execution_count": 25,
   "metadata": {},
   "outputs": [
    {
     "output_type": "execute_result",
     "data": {
      "text/plain": "543"
     },
     "metadata": {},
     "execution_count": 25
    }
   ],
   "source": [
    "# Apply helper function \n",
    "b2p_df['test_cell'] = b2p_df['test_cell'].apply(cell_cleaner)\n",
    "b2p_df['test_cell'].nunique()"
   ]
  },
  {
   "cell_type": "code",
   "execution_count": 26,
   "metadata": {},
   "outputs": [
    {
     "output_type": "execute_result",
     "data": {
      "text/plain": "0"
     },
     "metadata": {},
     "execution_count": 26
    }
   ],
   "source": [
    "# confirm if helper function worked\n",
    "x = [x for x in b2p_df['test_cell'] if (x not in list_of_gov_cells) and (x != \"Unknown\")]\n",
    "len(x)"
   ]
  },
  {
   "cell_type": "code",
   "execution_count": 27,
   "metadata": {},
   "outputs": [],
   "source": [
    "# Province dictionary. Key is B2P Province name, Value is government province ID\n",
    "province_dict = {'Northern Province': 4,\n",
    "                 'Southern Province': 2,\n",
    "                 'Eastern Province': 5,\n",
    "                 'Western Province': 3,\n",
    "                 'Kigali': 1\n",
    "                 }\n",
    "# Map Province colummn to Province code\n",
    "b2p_df['Prov_ID'] = b2p_df.Province.map(province_dict)"
   ]
  },
  {
   "cell_type": "code",
   "execution_count": 28,
   "metadata": {},
   "outputs": [],
   "source": [
    "# # District ID dict \n",
    "district_ID_dict = gov_df['Dist_ID'].groupby(gov_df['District']).unique().apply(pd.Series).to_dict()[0]\n",
    "# sorted(district_ID_dict)\n",
    "# map District ID to District \n",
    "b2p_df['District_ID'] = b2p_df.District.map(district_ID_dict)"
   ]
  },
  {
   "cell_type": "code",
   "execution_count": 29,
   "metadata": {},
   "outputs": [],
   "source": [
    "# Change gov_df.Sector to title case \n",
    "gov_df['Sector'] = gov_df['Sector'].apply(lambda x: x.title())"
   ]
  },
  {
   "cell_type": "code",
   "execution_count": 32,
   "metadata": {},
   "outputs": [],
   "source": [
    "gov_sectors = list(gov_df['Sector'].unique())"
   ]
  },
  {
   "cell_type": "code",
   "execution_count": 30,
   "metadata": {},
   "outputs": [
    {
     "output_type": "execute_result",
     "data": {
      "text/plain": "0"
     },
     "metadata": {},
     "execution_count": 30
    }
   ],
   "source": [
    "# fill unknown sectors \n",
    "b2p_df['new_sector'] = b2p_df['new_sector'].fillna(\"Unknown\")\n",
    "b2p_df['new_sector'].isnull().sum()"
   ]
  },
  {
   "cell_type": "code",
   "execution_count": 31,
   "metadata": {},
   "outputs": [],
   "source": [
    "# change new_sector to title case\n",
    "b2p_df['new_sector'] = b2p_df['new_sector'].apply(lambda x: x.title())"
   ]
  },
  {
   "cell_type": "code",
   "execution_count": 33,
   "metadata": {},
   "outputs": [],
   "source": [
    "def replace_sectors(x):\n",
    "    for i in gov_sectors:\n",
    "        if i in x:\n",
    "            return i\n",
    "    return x"
   ]
  },
  {
   "cell_type": "code",
   "execution_count": 34,
   "metadata": {},
   "outputs": [],
   "source": [
    "b2p_df['new_sector'] = b2p_df['new_sector'].apply(replace_sectors)"
   ]
  },
  {
   "cell_type": "code",
   "execution_count": 40,
   "metadata": {},
   "outputs": [],
   "source": [
    "corrected_dict = {\n",
    "                    \"Betweenmuhororo\": \"Muhororo\", \"Rwanamiro\": \"Rwaniro\", \"Rukuzo\": \"Rukozo\", \"Rusheshe\": \"Rusasa\",\n",
    "                    \"Gashali\": \"Gashari\", \"Bwisìge\": \"Bwisige\", \"Gasakka\": \"Gasaka\", \"Giko\": \"Gikondo\", \"Kabagari\": \"Kabagali\",\n",
    "                    \"Kabengera\": \"Karengera\", \"Katabagema\": \"Katabagemu\", \"Kibingo\": \"Kibungo\", \"Koza\": \"Kazo\", \"Mushikir\": \"Mushikiri\",\n",
    "                    \"Mwili\": \"Mwiri\", \"Mwumba\": \"Mamba\", \"Nkaka\": \"Nkanka\", \"Nyagihinga\": \"Nyagihanga\", \"Nyakariro\": \"Nyakaliro\",\n",
    "                    \"Rerenge\": \"Rurenge\", \"Rugalika\": \"Rugarika\", \"Rugamba\": \"Ruramba\", \"Buruhukioro\": \"Buruhukiro\",\n",
    "                    \"Bushonyi\": \"Mushonyi\", \"Cyingwa\": \"Cyungo\", \"Gikheke\": \"Gikonko\", \"Mulinga\": \"Muringa\",\n",
    "                    \"Nan\": \"Unknown\", \"Nyirangarama\": \"Ngarama\", \"Bambiro\": \"Nyange\", \"Cyimpindu\": \"Muhororo\",\"Mutongo\": \"Muhororo\",\n",
    "                    \"Rubirizi\": \"Kanombe\", \"Buheta\": \"Gatebe\", \"Gushali\": \"Nyagatare\",\n",
    "}\n",
    "\n",
    "# replace wrong sectors with correct sector \n",
    "b2p_df['new_sector'].replace(corrected_dict,inplace=True)"
   ]
  },
  {
   "cell_type": "code",
   "execution_count": 41,
   "metadata": {},
   "outputs": [
    {
     "output_type": "execute_result",
     "data": {
      "text/plain": "28"
     },
     "metadata": {},
     "execution_count": 41
    }
   ],
   "source": [
    "# find incorrect values \n",
    "g = [x for x in b2p_df['new_sector'] if x not in gov_sectors]\n",
    "len(g)"
   ]
  },
  {
   "cell_type": "code",
   "execution_count": 42,
   "metadata": {},
   "outputs": [
    {
     "output_type": "execute_result",
     "data": {
      "text/plain": "['Gahurizo',\n 'Kabukuba',\n 'Kamuragi',\n 'MURAMBI',\n 'NKANKA',\n 'Nyakabingo',\n 'Pera',\n 'REMERA',\n 'nan']"
     },
     "metadata": {},
     "execution_count": 42
    }
   ],
   "source": [
    "# Unknow sectors - resolve this \n",
    "sorted(set(g))"
   ]
  },
  {
   "cell_type": "code",
   "execution_count": 38,
   "metadata": {},
   "outputs": [
    {
     "output_type": "execute_result",
     "data": {
      "text/plain": "     Country          Province District Sector Cell Bridge Site Name  \\\n63    Rwanda  Western Province   Rusizi   Pera  NaN           Rusayo   \n1486  Rwanda  Western Province   Rusizi   Pera  NaN           Rusayo   \n\n     Project Stage Project Sub-Stage Project Code Bridge Type   Span (m)  \\\n63        Rejected         Technical      1007661  Suspension       25.0   \n1486      Rejected         Technical      1007661  Suspension       25.0   \n\n       GPS (Latitude)  GPS (Longitude)  Individuals Directly Served  \\\n63          -2.697308        29.029517                      17270.0   \n1486        -2.697308        29.029517                      17270.0   \n\n                      Form: Form Name     CaseSafeID Form  \\\n63    Project Assessment - 2018.12.13  a1if1000002qz1JAAQ   \n1486  Project Assessment - 2018.12.13  a1if1000002qz1JAAQ   \n\n     Bridge Opportunity: Opportunity ID Assessment Date  \\\n63                      006f100000a86ID      2018-12-13   \n1486                    006f100000a86ID      2018-12-13   \n\n     Original_Community_col Community_Served new_sector test_cell  Prov_ID  \\\n63       Community Served 1        Pera cell       Pera   Unknown        3   \n1486     Community Served 2      Kizura cell       Pera   Unknown        3   \n\n      District_ID  \n63             36  \n1486           36  ",
      "text/html": "<div>\n<style scoped>\n    .dataframe tbody tr th:only-of-type {\n        vertical-align: middle;\n    }\n\n    .dataframe tbody tr th {\n        vertical-align: top;\n    }\n\n    .dataframe thead th {\n        text-align: right;\n    }\n</style>\n<table border=\"1\" class=\"dataframe\">\n  <thead>\n    <tr style=\"text-align: right;\">\n      <th></th>\n      <th>Country</th>\n      <th>Province</th>\n      <th>District</th>\n      <th>Sector</th>\n      <th>Cell</th>\n      <th>Bridge Site Name</th>\n      <th>Project Stage</th>\n      <th>Project Sub-Stage</th>\n      <th>Project Code</th>\n      <th>Bridge Type</th>\n      <th>Span (m)</th>\n      <th>GPS (Latitude)</th>\n      <th>GPS (Longitude)</th>\n      <th>Individuals Directly Served</th>\n      <th>Form: Form Name</th>\n      <th>CaseSafeID Form</th>\n      <th>Bridge Opportunity: Opportunity ID</th>\n      <th>Assessment Date</th>\n      <th>Original_Community_col</th>\n      <th>Community_Served</th>\n      <th>new_sector</th>\n      <th>test_cell</th>\n      <th>Prov_ID</th>\n      <th>District_ID</th>\n    </tr>\n  </thead>\n  <tbody>\n    <tr>\n      <td>63</td>\n      <td>Rwanda</td>\n      <td>Western Province</td>\n      <td>Rusizi</td>\n      <td>Pera</td>\n      <td>NaN</td>\n      <td>Rusayo</td>\n      <td>Rejected</td>\n      <td>Technical</td>\n      <td>1007661</td>\n      <td>Suspension</td>\n      <td>25.0</td>\n      <td>-2.697308</td>\n      <td>29.029517</td>\n      <td>17270.0</td>\n      <td>Project Assessment - 2018.12.13</td>\n      <td>a1if1000002qz1JAAQ</td>\n      <td>006f100000a86ID</td>\n      <td>2018-12-13</td>\n      <td>Community Served 1</td>\n      <td>Pera cell</td>\n      <td>Pera</td>\n      <td>Unknown</td>\n      <td>3</td>\n      <td>36</td>\n    </tr>\n    <tr>\n      <td>1486</td>\n      <td>Rwanda</td>\n      <td>Western Province</td>\n      <td>Rusizi</td>\n      <td>Pera</td>\n      <td>NaN</td>\n      <td>Rusayo</td>\n      <td>Rejected</td>\n      <td>Technical</td>\n      <td>1007661</td>\n      <td>Suspension</td>\n      <td>25.0</td>\n      <td>-2.697308</td>\n      <td>29.029517</td>\n      <td>17270.0</td>\n      <td>Project Assessment - 2018.12.13</td>\n      <td>a1if1000002qz1JAAQ</td>\n      <td>006f100000a86ID</td>\n      <td>2018-12-13</td>\n      <td>Community Served 2</td>\n      <td>Kizura cell</td>\n      <td>Pera</td>\n      <td>Unknown</td>\n      <td>3</td>\n      <td>36</td>\n    </tr>\n  </tbody>\n</table>\n</div>"
     },
     "metadata": {},
     "execution_count": 38
    }
   ],
   "source": [
    "b2p_df[b2p_df['new_sector']=='Pera']"
   ]
  },
  {
   "cell_type": "code",
   "execution_count": 44,
   "metadata": {},
   "outputs": [],
   "source": [
    "final = b2p_df"
   ]
  },
  {
   "cell_type": "code",
   "execution_count": 45,
   "metadata": {},
   "outputs": [],
   "source": [
    "final['Cell'] = final['test_cell']\n",
    "final['Sector'] = final['new_sector']\n",
    "final.drop(['Bridge Opportunity: Opportunity ID','Project Sub-Stage','Country',\n",
    "            ' Span (m)','CaseSafeID Form','test_cell','new_sector'],1,inplace=True)"
   ]
  },
  {
   "cell_type": "code",
   "execution_count": 46,
   "metadata": {},
   "outputs": [],
   "source": [
    "final.fillna(\"Unknown\",inplace=True)"
   ]
  },
  {
   "cell_type": "code",
   "execution_count": 48,
   "metadata": {},
   "outputs": [],
   "source": [
    "final[final.isnull().any(axis=1)]"
   ]
  },
  {
   "cell_type": "code",
   "execution_count": 49,
   "metadata": {},
   "outputs": [
    {
     "output_type": "execute_result",
     "data": {
      "text/plain": "(252, 17)"
     },
     "metadata": {},
     "execution_count": 49
    }
   ],
   "source": [
    "final[final['Cell'] == \"Unknown\"].shape"
   ]
  },
  {
   "cell_type": "code",
   "execution_count": 50,
   "metadata": {},
   "outputs": [],
   "source": [
    "# generate dict of sector and cell IDs from govt data\n",
    "Sector_ID_dict = gov_df['Sect_ID'].groupby(gov_df['Sector']).unique().apply(pd.Series).to_dict()[0]\n",
    "Cell_ID_dict = gov_df['Cell_ID'].groupby(gov_df['Cell']).unique().apply(pd.Series).to_dict()[0]\n"
   ]
  },
  {
   "cell_type": "code",
   "execution_count": 51,
   "metadata": {},
   "outputs": [],
   "source": [
    "# Insert values for \"unknown\" sectors and cells \n",
    "Cell_ID_dict[\"Unknown\"]  = int(000000)\n",
    "Sector_ID_dict[\"Unknown\"] = int(000)\n"
   ]
  },
  {
   "cell_type": "code",
   "execution_count": 55,
   "metadata": {},
   "outputs": [],
   "source": [
    "# map sector id and cell id to columns\n",
    "final['Sector_ID'] = final.Sector.map(Sector_ID_dict)\n",
    "final['Cell_ID'] = final.Cell.map(Cell_ID_dict)\n"
   ]
  },
  {
   "cell_type": "code",
   "execution_count": 59,
   "metadata": {},
   "outputs": [],
   "source": [
    "# # Covert Sector ID and Cell ID to int\n",
    "# final['Sector_ID'] = final['Sector_ID'].astype(int)\n",
    "# final['Cell_ID'] = final['Cell_ID'].astype(int)"
   ]
  },
  {
   "cell_type": "code",
   "execution_count": 60,
   "metadata": {
    "tags": []
   },
   "outputs": [
    {
     "output_type": "stream",
     "name": "stdout",
     "text": "0\n0\n"
    }
   ],
   "source": [
    "print(final['Sector_ID'].isnull().sum())\n",
    "print(final['Cell_ID'].isnull().sum())"
   ]
  },
  {
   "cell_type": "code",
   "execution_count": 148,
   "metadata": {},
   "outputs": [],
   "source": [
    "final[final.isnull().any(axis=1)]"
   ]
  },
  {
   "cell_type": "code",
   "execution_count": 58,
   "metadata": {},
   "outputs": [],
   "source": [
    "final['Sector_ID'] = final['Sector_ID'].fillna(0000)\n",
    "\n",
    "# cast dtypes as int \n",
    "import numpy as np\n",
    "final['Sector_ID'] = final['Sector_ID'].astype(np.int64)\n",
    "final['Cell_ID'] = final['Cell_ID'].astype(np.int64)\n",
    "\n"
   ]
  },
  {
   "cell_type": "code",
   "execution_count": 61,
   "metadata": {},
   "outputs": [
    {
     "output_type": "execute_result",
     "data": {
      "text/plain": "Province                               object\nDistrict                               object\nSector                                 object\nCell                                   object\nBridge Site Name                       object\nProject Stage                          object\nProject Code                           object\nBridge Type                            object\n GPS (Latitude)                        object\nGPS (Longitude)                        object\nIndividuals Directly Served            object\nForm: Form Name                        object\nAssessment Date                datetime64[ns]\nOriginal_Community_col                 object\nCommunity_Served                       object\nProv_ID                                 int64\nDistrict_ID                             int64\nSector_ID                               int64\nCell_ID                                 int64\ndtype: object"
     },
     "metadata": {},
     "execution_count": 61
    }
   ],
   "source": [
    "# confirm final dtypes \n",
    "final.dtypes"
   ]
  },
  {
   "cell_type": "code",
   "execution_count": 62,
   "metadata": {},
   "outputs": [
    {
     "output_type": "execute_result",
     "data": {
      "text/plain": "            Province District   Sector      Cell Bridge Site Name  \\\n0   Western Province   Rusizi   Giheke      Gako             Buzi   \n1   Western Province   Rusizi   Giheke      Gako        Kamigisha   \n2  Northern Province  Rulindo   Buyoga  Gahororo         Gipfundo   \n4  Southern Province  Kamonyi  Kayenzi     Kirwa           Gisizi   \n5  Southern Province  Kamonyi  Kayenzi     Kirwa           Ruheka   \n\n  Project Stage Project Code Bridge Type  GPS (Latitude) GPS (Longitude)  \\\n0      Rejected      1014107   Suspended        -2.42056         28.9662   \n1      Rejected      1014106   Suspended        -2.42486         28.9573   \n2      Rejected      1007651   Suspended        -1.72053         30.0812   \n4    Identified      1014318   Suspended        -1.87087         29.8777   \n5      Rejected      1014319   Suspended        -1.88396         29.8505   \n\n  Individuals Directly Served                  Form: Form Name  \\\n0                     Unknown  Project Assessment - 2018.10.29   \n1                     Unknown  Project Assessment - 2018.10.29   \n2                     Unknown   Project Assessment - 2018.8.11   \n4                     Unknown  Project Assessment - 2018.11.15   \n5                     Unknown  Project Assessment - 2018.11.15   \n\n  Assessment Date Original_Community_col Community_Served  Prov_ID  \\\n0      2018-10-29     Community Served 1             Buzi        3   \n1      2018-10-29     Community Served 1           Kabuga        3   \n2      2018-08-11     Community Served 1         Gapfundo        4   \n4      2018-11-15     Community Served 1           Gisizi        2   \n5      2018-11-15     Community Served 1           Ruheka        2   \n\n   District_ID  Sector_ID  Cell_ID  \n0           36       3605   370501  \n1           36       3605   370501  \n2           41       4104   240303  \n4           28       2803   320701  \n5           28       2803   320701  ",
      "text/html": "<div>\n<style scoped>\n    .dataframe tbody tr th:only-of-type {\n        vertical-align: middle;\n    }\n\n    .dataframe tbody tr th {\n        vertical-align: top;\n    }\n\n    .dataframe thead th {\n        text-align: right;\n    }\n</style>\n<table border=\"1\" class=\"dataframe\">\n  <thead>\n    <tr style=\"text-align: right;\">\n      <th></th>\n      <th>Province</th>\n      <th>District</th>\n      <th>Sector</th>\n      <th>Cell</th>\n      <th>Bridge Site Name</th>\n      <th>Project Stage</th>\n      <th>Project Code</th>\n      <th>Bridge Type</th>\n      <th>GPS (Latitude)</th>\n      <th>GPS (Longitude)</th>\n      <th>Individuals Directly Served</th>\n      <th>Form: Form Name</th>\n      <th>Assessment Date</th>\n      <th>Original_Community_col</th>\n      <th>Community_Served</th>\n      <th>Prov_ID</th>\n      <th>District_ID</th>\n      <th>Sector_ID</th>\n      <th>Cell_ID</th>\n    </tr>\n  </thead>\n  <tbody>\n    <tr>\n      <td>0</td>\n      <td>Western Province</td>\n      <td>Rusizi</td>\n      <td>Giheke</td>\n      <td>Gako</td>\n      <td>Buzi</td>\n      <td>Rejected</td>\n      <td>1014107</td>\n      <td>Suspended</td>\n      <td>-2.42056</td>\n      <td>28.9662</td>\n      <td>Unknown</td>\n      <td>Project Assessment - 2018.10.29</td>\n      <td>2018-10-29</td>\n      <td>Community Served 1</td>\n      <td>Buzi</td>\n      <td>3</td>\n      <td>36</td>\n      <td>3605</td>\n      <td>370501</td>\n    </tr>\n    <tr>\n      <td>1</td>\n      <td>Western Province</td>\n      <td>Rusizi</td>\n      <td>Giheke</td>\n      <td>Gako</td>\n      <td>Kamigisha</td>\n      <td>Rejected</td>\n      <td>1014106</td>\n      <td>Suspended</td>\n      <td>-2.42486</td>\n      <td>28.9573</td>\n      <td>Unknown</td>\n      <td>Project Assessment - 2018.10.29</td>\n      <td>2018-10-29</td>\n      <td>Community Served 1</td>\n      <td>Kabuga</td>\n      <td>3</td>\n      <td>36</td>\n      <td>3605</td>\n      <td>370501</td>\n    </tr>\n    <tr>\n      <td>2</td>\n      <td>Northern Province</td>\n      <td>Rulindo</td>\n      <td>Buyoga</td>\n      <td>Gahororo</td>\n      <td>Gipfundo</td>\n      <td>Rejected</td>\n      <td>1007651</td>\n      <td>Suspended</td>\n      <td>-1.72053</td>\n      <td>30.0812</td>\n      <td>Unknown</td>\n      <td>Project Assessment - 2018.8.11</td>\n      <td>2018-08-11</td>\n      <td>Community Served 1</td>\n      <td>Gapfundo</td>\n      <td>4</td>\n      <td>41</td>\n      <td>4104</td>\n      <td>240303</td>\n    </tr>\n    <tr>\n      <td>4</td>\n      <td>Southern Province</td>\n      <td>Kamonyi</td>\n      <td>Kayenzi</td>\n      <td>Kirwa</td>\n      <td>Gisizi</td>\n      <td>Identified</td>\n      <td>1014318</td>\n      <td>Suspended</td>\n      <td>-1.87087</td>\n      <td>29.8777</td>\n      <td>Unknown</td>\n      <td>Project Assessment - 2018.11.15</td>\n      <td>2018-11-15</td>\n      <td>Community Served 1</td>\n      <td>Gisizi</td>\n      <td>2</td>\n      <td>28</td>\n      <td>2803</td>\n      <td>320701</td>\n    </tr>\n    <tr>\n      <td>5</td>\n      <td>Southern Province</td>\n      <td>Kamonyi</td>\n      <td>Kayenzi</td>\n      <td>Kirwa</td>\n      <td>Ruheka</td>\n      <td>Rejected</td>\n      <td>1014319</td>\n      <td>Suspended</td>\n      <td>-1.88396</td>\n      <td>29.8505</td>\n      <td>Unknown</td>\n      <td>Project Assessment - 2018.11.15</td>\n      <td>2018-11-15</td>\n      <td>Community Served 1</td>\n      <td>Ruheka</td>\n      <td>2</td>\n      <td>28</td>\n      <td>2803</td>\n      <td>320701</td>\n    </tr>\n  </tbody>\n</table>\n</div>"
     },
     "metadata": {},
     "execution_count": 62
    }
   ],
   "source": [
    "final.head()"
   ]
  },
  {
   "cell_type": "code",
   "execution_count": 65,
   "metadata": {},
   "outputs": [],
   "source": [
    "final.to_csv('final.csv',index=False)"
   ]
  },
  {
   "cell_type": "code",
   "execution_count": null,
   "metadata": {},
   "outputs": [],
   "source": []
  }
 ],
 "metadata": {
  "kernelspec": {
   "display_name": "Python 3.7.4 64-bit ('base': conda)",
   "language": "python",
   "name": "python_defaultSpec_1598303765020"
  },
  "language_info": {
   "codemirror_mode": {
    "name": "ipython",
    "version": 3
   },
   "file_extension": ".py",
   "mimetype": "text/x-python",
   "name": "python",
   "nbconvert_exporter": "python",
   "pygments_lexer": "ipython3",
   "version": "3.7.4-final"
  }
 },
 "nbformat": 4,
 "nbformat_minor": 4
}
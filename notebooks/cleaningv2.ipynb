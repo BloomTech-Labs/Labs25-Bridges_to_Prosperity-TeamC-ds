{
 "cells": [
  {
   "cell_type": "code",
   "execution_count": 1,
   "metadata": {},
   "outputs": [],
   "source": [
    "import pandas as pd\n",
    "import seaborn as sns"
   ]
  },
  {
   "cell_type": "code",
   "execution_count": 11,
   "metadata": {
    "tags": []
   },
   "outputs": [
    {
     "output_type": "stream",
     "name": "stdout",
     "text": "Dimensions of dataset: (1472, 27)\n"
    },
    {
     "output_type": "execute_result",
     "data": {
      "text/plain": "  Country           Province District   Sector               Cell  \\\n0  Rwanda   Western Province   Rusizi   Giheke           Gakomeye   \n1  Rwanda   Western Province   Rusizi   Giheke           Gakomeye   \n2  Rwanda  Northern Province  Rulindo   Buyoga  Gahororo-Gipfundo   \n3  Rwanda  Northern Province  Gicumbi   Kageyo  Kabuga/gatobotobo   \n4  Rwanda  Southern Province  Kamonyi  Kayenzi              Kirwa   \n\n  Bridge Site Name Project Stage Project Sub-Stage Project Code Bridge Type  \\\n0             Buzi      Rejected         Technical      1014107   Suspended   \n1        Kamigisha      Rejected         Technical      1014106   Suspended   \n2         Gipfundo      Rejected         Technical      1007651   Suspended   \n3       Nyarubande      Rejected               NaN      1012493       Other   \n4           Gisizi    Identified         Requested      1014318   Suspended   \n\n    Span (m)   GPS (Latitude)  GPS (Longitude)  Individuals Directly Served  \\\n0        NaN        -2.420560        28.966200                          NaN   \n1        NaN        -2.424860        28.957260                          NaN   \n2        8.0        -1.720530        30.081240                          NaN   \n3        NaN        -1.655950        30.078840                          NaN   \n4        NaN        -1.870868        29.877686                          NaN   \n\n                   Form: Form Name Community Served 1   Community Served 2  \\\n0  Project Assessment - 2018.10.29               Buzi               Kabuga   \n1  Project Assessment - 2018.10.29             Kabuga                 Buzi   \n2   Project Assessment - 2018.8.11           Gapfundo  Rusabira ( Gicumbi)   \n3   Project Assessment - 2018.8.11                NaN                  NaN   \n4  Project Assessment - 2018.11.15             Gisizi            Nyabitare   \n\n  Community Served 3 Community Served 4 Community Served 5  \\\n0           Kagarama            Gacyamo            Gasheke   \n1  Gacyamo - Gasheke           Kagarama             Kanoga   \n2             Merezo           Minanire          Karutongo   \n3                NaN                NaN                NaN   \n4                NaN                NaN                NaN   \n\n   Community Served 6  Community Served 7  Community Served 8  \\\n0                 NaN                 NaN                 NaN   \n1                 NaN                 NaN                 NaN   \n2                 NaN                 NaN                 NaN   \n3                 NaN                 NaN                 NaN   \n4                 NaN                 NaN                 NaN   \n\n   Community Served 9  Community Served 10     CaseSafeID Form  \\\n0                 NaN                  NaN  a1if1000002e51bAAA   \n1                 NaN                  NaN  a1if1000002e51WAAQ   \n2                 NaN                  NaN  a1if10000025nz8AAA   \n3                 NaN                  NaN  a1if10000025nzDAAQ   \n4                 NaN                  NaN  a1if1000002gMwRAAU   \n\n  Bridge Opportunity: Opportunity ID  \n0                    006f100000d1fk1  \n1                    006f100000d1fjw  \n2                    006f100000a86I3  \n3                    006f100000cPpL8  \n4                    006f100000eescb  ",
      "text/html": "<div>\n<style scoped>\n    .dataframe tbody tr th:only-of-type {\n        vertical-align: middle;\n    }\n\n    .dataframe tbody tr th {\n        vertical-align: top;\n    }\n\n    .dataframe thead th {\n        text-align: right;\n    }\n</style>\n<table border=\"1\" class=\"dataframe\">\n  <thead>\n    <tr style=\"text-align: right;\">\n      <th></th>\n      <th>Country</th>\n      <th>Province</th>\n      <th>District</th>\n      <th>Sector</th>\n      <th>Cell</th>\n      <th>Bridge Site Name</th>\n      <th>Project Stage</th>\n      <th>Project Sub-Stage</th>\n      <th>Project Code</th>\n      <th>Bridge Type</th>\n      <th>Span (m)</th>\n      <th>GPS (Latitude)</th>\n      <th>GPS (Longitude)</th>\n      <th>Individuals Directly Served</th>\n      <th>Form: Form Name</th>\n      <th>Community Served 1</th>\n      <th>Community Served 2</th>\n      <th>Community Served 3</th>\n      <th>Community Served 4</th>\n      <th>Community Served 5</th>\n      <th>Community Served 6</th>\n      <th>Community Served 7</th>\n      <th>Community Served 8</th>\n      <th>Community Served 9</th>\n      <th>Community Served 10</th>\n      <th>CaseSafeID Form</th>\n      <th>Bridge Opportunity: Opportunity ID</th>\n    </tr>\n  </thead>\n  <tbody>\n    <tr>\n      <th>0</th>\n      <td>Rwanda</td>\n      <td>Western Province</td>\n      <td>Rusizi</td>\n      <td>Giheke</td>\n      <td>Gakomeye</td>\n      <td>Buzi</td>\n      <td>Rejected</td>\n      <td>Technical</td>\n      <td>1014107</td>\n      <td>Suspended</td>\n      <td>NaN</td>\n      <td>-2.420560</td>\n      <td>28.966200</td>\n      <td>NaN</td>\n      <td>Project Assessment - 2018.10.29</td>\n      <td>Buzi</td>\n      <td>Kabuga</td>\n      <td>Kagarama</td>\n      <td>Gacyamo</td>\n      <td>Gasheke</td>\n      <td>NaN</td>\n      <td>NaN</td>\n      <td>NaN</td>\n      <td>NaN</td>\n      <td>NaN</td>\n      <td>a1if1000002e51bAAA</td>\n      <td>006f100000d1fk1</td>\n    </tr>\n    <tr>\n      <th>1</th>\n      <td>Rwanda</td>\n      <td>Western Province</td>\n      <td>Rusizi</td>\n      <td>Giheke</td>\n      <td>Gakomeye</td>\n      <td>Kamigisha</td>\n      <td>Rejected</td>\n      <td>Technical</td>\n      <td>1014106</td>\n      <td>Suspended</td>\n      <td>NaN</td>\n      <td>-2.424860</td>\n      <td>28.957260</td>\n      <td>NaN</td>\n      <td>Project Assessment - 2018.10.29</td>\n      <td>Kabuga</td>\n      <td>Buzi</td>\n      <td>Gacyamo - Gasheke</td>\n      <td>Kagarama</td>\n      <td>Kanoga</td>\n      <td>NaN</td>\n      <td>NaN</td>\n      <td>NaN</td>\n      <td>NaN</td>\n      <td>NaN</td>\n      <td>a1if1000002e51WAAQ</td>\n      <td>006f100000d1fjw</td>\n    </tr>\n    <tr>\n      <th>2</th>\n      <td>Rwanda</td>\n      <td>Northern Province</td>\n      <td>Rulindo</td>\n      <td>Buyoga</td>\n      <td>Gahororo-Gipfundo</td>\n      <td>Gipfundo</td>\n      <td>Rejected</td>\n      <td>Technical</td>\n      <td>1007651</td>\n      <td>Suspended</td>\n      <td>8.0</td>\n      <td>-1.720530</td>\n      <td>30.081240</td>\n      <td>NaN</td>\n      <td>Project Assessment - 2018.8.11</td>\n      <td>Gapfundo</td>\n      <td>Rusabira ( Gicumbi)</td>\n      <td>Merezo</td>\n      <td>Minanire</td>\n      <td>Karutongo</td>\n      <td>NaN</td>\n      <td>NaN</td>\n      <td>NaN</td>\n      <td>NaN</td>\n      <td>NaN</td>\n      <td>a1if10000025nz8AAA</td>\n      <td>006f100000a86I3</td>\n    </tr>\n    <tr>\n      <th>3</th>\n      <td>Rwanda</td>\n      <td>Northern Province</td>\n      <td>Gicumbi</td>\n      <td>Kageyo</td>\n      <td>Kabuga/gatobotobo</td>\n      <td>Nyarubande</td>\n      <td>Rejected</td>\n      <td>NaN</td>\n      <td>1012493</td>\n      <td>Other</td>\n      <td>NaN</td>\n      <td>-1.655950</td>\n      <td>30.078840</td>\n      <td>NaN</td>\n      <td>Project Assessment - 2018.8.11</td>\n      <td>NaN</td>\n      <td>NaN</td>\n      <td>NaN</td>\n      <td>NaN</td>\n      <td>NaN</td>\n      <td>NaN</td>\n      <td>NaN</td>\n      <td>NaN</td>\n      <td>NaN</td>\n      <td>NaN</td>\n      <td>a1if10000025nzDAAQ</td>\n      <td>006f100000cPpL8</td>\n    </tr>\n    <tr>\n      <th>4</th>\n      <td>Rwanda</td>\n      <td>Southern Province</td>\n      <td>Kamonyi</td>\n      <td>Kayenzi</td>\n      <td>Kirwa</td>\n      <td>Gisizi</td>\n      <td>Identified</td>\n      <td>Requested</td>\n      <td>1014318</td>\n      <td>Suspended</td>\n      <td>NaN</td>\n      <td>-1.870868</td>\n      <td>29.877686</td>\n      <td>NaN</td>\n      <td>Project Assessment - 2018.11.15</td>\n      <td>Gisizi</td>\n      <td>Nyabitare</td>\n      <td>NaN</td>\n      <td>NaN</td>\n      <td>NaN</td>\n      <td>NaN</td>\n      <td>NaN</td>\n      <td>NaN</td>\n      <td>NaN</td>\n      <td>NaN</td>\n      <td>a1if1000002gMwRAAU</td>\n      <td>006f100000eescb</td>\n    </tr>\n  </tbody>\n</table>\n</div>"
     },
     "metadata": {},
     "execution_count": 11
    }
   ],
   "source": [
    "# read in data\n",
    "pd.set_option('display.max_columns', None)\n",
    "pd.set_option('display.max_rows', None)\n",
    "file_path = 'https://raw.githubusercontent.com/Lambda-School-Labs/Labs25-Bridges_to_Prosperity-TeamC-ds/main/B2P%20Rwanda%20Site%20Assessment%20Data_2020.06.03.csv'\n",
    "df = pd.read_csv(file_path, encoding='latin-1')\n",
    "print(f'Dimensions of dataset: {df.shape}')\n",
    "df.head()"
   ]
  },
  {
   "cell_type": "code",
   "execution_count": 13,
   "metadata": {
    "tags": []
   },
   "outputs": [
    {
     "output_type": "stream",
     "name": "stdout",
     "text": "Dimensions of dataset: (1472, 28)\n"
    },
    {
     "output_type": "execute_result",
     "data": {
      "text/plain": "  Country           Province District   Sector               Cell  \\\n0  Rwanda   Western Province   Rusizi   Giheke           Gakomeye   \n1  Rwanda   Western Province   Rusizi   Giheke           Gakomeye   \n2  Rwanda  Northern Province  Rulindo   Buyoga  Gahororo-Gipfundo   \n3  Rwanda  Northern Province  Gicumbi   Kageyo  Kabuga/gatobotobo   \n4  Rwanda  Southern Province  Kamonyi  Kayenzi              Kirwa   \n\n  Bridge Site Name Project Stage Project Sub-Stage Project Code Bridge Type  \\\n0             Buzi      Rejected         Technical      1014107   Suspended   \n1        Kamigisha      Rejected         Technical      1014106   Suspended   \n2         Gipfundo      Rejected         Technical      1007651   Suspended   \n3       Nyarubande      Rejected               NaN      1012493       Other   \n4           Gisizi    Identified         Requested      1014318   Suspended   \n\n    Span (m)   GPS (Latitude)  GPS (Longitude)  Individuals Directly Served  \\\n0        NaN        -2.420560        28.966200                          NaN   \n1        NaN        -2.424860        28.957260                          NaN   \n2        8.0        -1.720530        30.081240                          NaN   \n3        NaN        -1.655950        30.078840                          NaN   \n4        NaN        -1.870868        29.877686                          NaN   \n\n                   Form: Form Name Community Served 1   Community Served 2  \\\n0  Project Assessment - 2018.10.29               Buzi               Kabuga   \n1  Project Assessment - 2018.10.29             Kabuga                 Buzi   \n2   Project Assessment - 2018.8.11           Gapfundo  Rusabira ( Gicumbi)   \n3   Project Assessment - 2018.8.11                NaN                  NaN   \n4  Project Assessment - 2018.11.15             Gisizi            Nyabitare   \n\n  Community Served 3 Community Served 4 Community Served 5  \\\n0           Kagarama            Gacyamo            Gasheke   \n1  Gacyamo - Gasheke           Kagarama             Kanoga   \n2             Merezo           Minanire          Karutongo   \n3                NaN                NaN                NaN   \n4                NaN                NaN                NaN   \n\n   Community Served 6  Community Served 7  Community Served 8  \\\n0                 NaN                 NaN                 NaN   \n1                 NaN                 NaN                 NaN   \n2                 NaN                 NaN                 NaN   \n3                 NaN                 NaN                 NaN   \n4                 NaN                 NaN                 NaN   \n\n   Community Served 9  Community Served 10     CaseSafeID Form  \\\n0                 NaN                  NaN  a1if1000002e51bAAA   \n1                 NaN                  NaN  a1if1000002e51WAAQ   \n2                 NaN                  NaN  a1if10000025nz8AAA   \n3                 NaN                  NaN  a1if10000025nzDAAQ   \n4                 NaN                  NaN  a1if1000002gMwRAAU   \n\n  Bridge Opportunity: Opportunity ID Assessment Date  \n0                    006f100000d1fk1      2018-10-29  \n1                    006f100000d1fjw      2018-10-29  \n2                    006f100000a86I3      2018-08-11  \n3                    006f100000cPpL8      2018-08-11  \n4                    006f100000eescb      2018-11-15  ",
      "text/html": "<div>\n<style scoped>\n    .dataframe tbody tr th:only-of-type {\n        vertical-align: middle;\n    }\n\n    .dataframe tbody tr th {\n        vertical-align: top;\n    }\n\n    .dataframe thead th {\n        text-align: right;\n    }\n</style>\n<table border=\"1\" class=\"dataframe\">\n  <thead>\n    <tr style=\"text-align: right;\">\n      <th></th>\n      <th>Country</th>\n      <th>Province</th>\n      <th>District</th>\n      <th>Sector</th>\n      <th>Cell</th>\n      <th>Bridge Site Name</th>\n      <th>Project Stage</th>\n      <th>Project Sub-Stage</th>\n      <th>Project Code</th>\n      <th>Bridge Type</th>\n      <th>Span (m)</th>\n      <th>GPS (Latitude)</th>\n      <th>GPS (Longitude)</th>\n      <th>Individuals Directly Served</th>\n      <th>Form: Form Name</th>\n      <th>Community Served 1</th>\n      <th>Community Served 2</th>\n      <th>Community Served 3</th>\n      <th>Community Served 4</th>\n      <th>Community Served 5</th>\n      <th>Community Served 6</th>\n      <th>Community Served 7</th>\n      <th>Community Served 8</th>\n      <th>Community Served 9</th>\n      <th>Community Served 10</th>\n      <th>CaseSafeID Form</th>\n      <th>Bridge Opportunity: Opportunity ID</th>\n      <th>Assessment Date</th>\n    </tr>\n  </thead>\n  <tbody>\n    <tr>\n      <th>0</th>\n      <td>Rwanda</td>\n      <td>Western Province</td>\n      <td>Rusizi</td>\n      <td>Giheke</td>\n      <td>Gakomeye</td>\n      <td>Buzi</td>\n      <td>Rejected</td>\n      <td>Technical</td>\n      <td>1014107</td>\n      <td>Suspended</td>\n      <td>NaN</td>\n      <td>-2.420560</td>\n      <td>28.966200</td>\n      <td>NaN</td>\n      <td>Project Assessment - 2018.10.29</td>\n      <td>Buzi</td>\n      <td>Kabuga</td>\n      <td>Kagarama</td>\n      <td>Gacyamo</td>\n      <td>Gasheke</td>\n      <td>NaN</td>\n      <td>NaN</td>\n      <td>NaN</td>\n      <td>NaN</td>\n      <td>NaN</td>\n      <td>a1if1000002e51bAAA</td>\n      <td>006f100000d1fk1</td>\n      <td>2018-10-29</td>\n    </tr>\n    <tr>\n      <th>1</th>\n      <td>Rwanda</td>\n      <td>Western Province</td>\n      <td>Rusizi</td>\n      <td>Giheke</td>\n      <td>Gakomeye</td>\n      <td>Kamigisha</td>\n      <td>Rejected</td>\n      <td>Technical</td>\n      <td>1014106</td>\n      <td>Suspended</td>\n      <td>NaN</td>\n      <td>-2.424860</td>\n      <td>28.957260</td>\n      <td>NaN</td>\n      <td>Project Assessment - 2018.10.29</td>\n      <td>Kabuga</td>\n      <td>Buzi</td>\n      <td>Gacyamo - Gasheke</td>\n      <td>Kagarama</td>\n      <td>Kanoga</td>\n      <td>NaN</td>\n      <td>NaN</td>\n      <td>NaN</td>\n      <td>NaN</td>\n      <td>NaN</td>\n      <td>a1if1000002e51WAAQ</td>\n      <td>006f100000d1fjw</td>\n      <td>2018-10-29</td>\n    </tr>\n    <tr>\n      <th>2</th>\n      <td>Rwanda</td>\n      <td>Northern Province</td>\n      <td>Rulindo</td>\n      <td>Buyoga</td>\n      <td>Gahororo-Gipfundo</td>\n      <td>Gipfundo</td>\n      <td>Rejected</td>\n      <td>Technical</td>\n      <td>1007651</td>\n      <td>Suspended</td>\n      <td>8.0</td>\n      <td>-1.720530</td>\n      <td>30.081240</td>\n      <td>NaN</td>\n      <td>Project Assessment - 2018.8.11</td>\n      <td>Gapfundo</td>\n      <td>Rusabira ( Gicumbi)</td>\n      <td>Merezo</td>\n      <td>Minanire</td>\n      <td>Karutongo</td>\n      <td>NaN</td>\n      <td>NaN</td>\n      <td>NaN</td>\n      <td>NaN</td>\n      <td>NaN</td>\n      <td>a1if10000025nz8AAA</td>\n      <td>006f100000a86I3</td>\n      <td>2018-08-11</td>\n    </tr>\n    <tr>\n      <th>3</th>\n      <td>Rwanda</td>\n      <td>Northern Province</td>\n      <td>Gicumbi</td>\n      <td>Kageyo</td>\n      <td>Kabuga/gatobotobo</td>\n      <td>Nyarubande</td>\n      <td>Rejected</td>\n      <td>NaN</td>\n      <td>1012493</td>\n      <td>Other</td>\n      <td>NaN</td>\n      <td>-1.655950</td>\n      <td>30.078840</td>\n      <td>NaN</td>\n      <td>Project Assessment - 2018.8.11</td>\n      <td>NaN</td>\n      <td>NaN</td>\n      <td>NaN</td>\n      <td>NaN</td>\n      <td>NaN</td>\n      <td>NaN</td>\n      <td>NaN</td>\n      <td>NaN</td>\n      <td>NaN</td>\n      <td>NaN</td>\n      <td>a1if10000025nzDAAQ</td>\n      <td>006f100000cPpL8</td>\n      <td>2018-08-11</td>\n    </tr>\n    <tr>\n      <th>4</th>\n      <td>Rwanda</td>\n      <td>Southern Province</td>\n      <td>Kamonyi</td>\n      <td>Kayenzi</td>\n      <td>Kirwa</td>\n      <td>Gisizi</td>\n      <td>Identified</td>\n      <td>Requested</td>\n      <td>1014318</td>\n      <td>Suspended</td>\n      <td>NaN</td>\n      <td>-1.870868</td>\n      <td>29.877686</td>\n      <td>NaN</td>\n      <td>Project Assessment - 2018.11.15</td>\n      <td>Gisizi</td>\n      <td>Nyabitare</td>\n      <td>NaN</td>\n      <td>NaN</td>\n      <td>NaN</td>\n      <td>NaN</td>\n      <td>NaN</td>\n      <td>NaN</td>\n      <td>NaN</td>\n      <td>NaN</td>\n      <td>a1if1000002gMwRAAU</td>\n      <td>006f100000eescb</td>\n      <td>2018-11-15</td>\n    </tr>\n  </tbody>\n</table>\n</div>"
     },
     "metadata": {},
     "execution_count": 13
    }
   ],
   "source": [
    "# split the Form: Form Name to get the data from the column and convert date to datetime\n",
    "\n",
    "df['Assessment Date'] = df['Form: Form Name'].str.replace('Project Assessment - ', \"\")\n",
    "\n",
    "df['Assessment Date'] = pd.to_datetime(df['Assessment Date'])\n",
    "print(f'Dimensions of dataset: {df.shape}')\n",
    "df.head()"
   ]
  },
  {
   "cell_type": "code",
   "execution_count": 14,
   "metadata": {},
   "outputs": [],
   "source": [
    "# what are the duplicate project codes?\n",
    "# it looks like that all the duplicates have two values. One has three.\n",
    "# a quick and simple way to remove the duplicates would keep the sorting by project code and assesment date\n",
    "# then drop the duplicates and keep the first occurence. That way we have the most recent date. \n",
    "\n",
    "# this was our test to find all the duplicates that we needed to drop\n",
    "# testing = df[df.duplicated(subset='Project Code', keep=False)].sort_values(by=['Project Code', 'Assessment Date'], ascending=False)\n",
    "# testing.head()\n",
    "# testing[testing['Individuals Directly Served'].notna()]\n",
    "\n",
    "# Indices that we "
   ]
  },
  {
   "cell_type": "code",
   "execution_count": 15,
   "metadata": {
    "tags": []
   },
   "outputs": [
    {
     "output_type": "stream",
     "name": "stdout",
     "text": "Dimensions of dataset: (1423, 28)\n"
    }
   ],
   "source": [
    "# manually went thru above duplicates and selected those that needed to be DROPPED. \n",
    "\n",
    "indexes_to_drop = [192,210,216,767,202,1119,908,735,901,272,643,756,\n",
    "                   738,193,655,642,327,909,1274,1289,135,176,1213,\n",
    "                   493,178,205,387,397,395,398,399,401,372,371,892,\n",
    "                   839,776,171,169,170,1117,1096,771,1109,95,89,132,133,134,\n",
    "                   ]\n",
    "\n",
    "\n",
    "df = df.drop(index=indexes_to_drop)\n",
    "print(f'Dimensions of dataset: {df.shape}')"
   ]
  },
  {
   "cell_type": "code",
   "execution_count": 16,
   "metadata": {},
   "outputs": [
    {
     "output_type": "execute_result",
     "data": {
      "text/plain": "False    1423\ndtype: int64"
     },
     "metadata": {},
     "execution_count": 16
    }
   ],
   "source": [
    "# make sure there are no duplicates \n",
    "\n",
    "df.duplicated(subset='Project Code', keep=False).value_counts()"
   ]
  },
  {
   "cell_type": "code",
   "execution_count": 17,
   "metadata": {
    "tags": []
   },
   "outputs": [
    {
     "output_type": "execute_result",
     "data": {
      "text/plain": "Country                                  0\nProvince                                 0\nDistrict                                 0\nSector                                   3\nCell                                    48\nBridge Site Name                         0\nProject Stage                            0\nProject Sub-Stage                       63\nProject Code                             0\nBridge Type                            154\n Span (m)                             1046\n GPS (Latitude)                          4\nGPS (Longitude)                          4\nIndividuals Directly Served           1374\nForm: Form Name                          0\nCommunity Served 1                      76\nCommunity Served 2                     186\nCommunity Served 3                     562\nCommunity Served 4                     784\nCommunity Served 5                    1024\nCommunity Served 6                    1423\nCommunity Served 7                    1423\nCommunity Served 8                    1423\nCommunity Served 9                    1423\nCommunity Served 10                   1423\nCaseSafeID Form                          0\nBridge Opportunity: Opportunity ID       0\nAssessment Date                          0\ndtype: int64"
     },
     "metadata": {},
     "execution_count": 17
    }
   ],
   "source": [
    "# there are some columns that are all null values, we can drop those.\n",
    "df.isnull().sum()\n"
   ]
  },
  {
   "cell_type": "code",
   "execution_count": 18,
   "metadata": {},
   "outputs": [],
   "source": [
    "# these are columns we can drop\n",
    "col_drop = ['Community Served 6', 'Community Served 7',\n",
    "            'Community Served 8', 'Community Served 9',\n",
    "            'Community Served 10'\n",
    "           ]\n",
    "\n",
    "# these are columns that we want as Ids when we melt the table\n",
    "ID_variable = ['Country','Province', 'District', 'Sector', 'Cell', \n",
    "               'Bridge Site Name', 'Project Stage', \n",
    "               'Project Sub-Stage', 'Project Code', 'Bridge Type',\n",
    "               ' Span (m)', ' GPS (Latitude)', 'GPS (Longitude)',\n",
    "               'Individuals Directly Served', 'Form: Form Name',\n",
    "               'CaseSafeID Form', 'Bridge Opportunity: Opportunity ID',\n",
    "               'Assessment Date'\n",
    "              ]\n",
    "\n",
    "# these are the columns that we want to melt to values\n",
    "value_variables = ['Community Served 1', 'Community Served 2',\n",
    "                   'Community Served 3', 'Community Served 4',\n",
    "                   'Community Served 5'\n",
    "                  ]"
   ]
  },
  {
   "cell_type": "code",
   "execution_count": 19,
   "metadata": {
    "tags": []
   },
   "outputs": [
    {
     "output_type": "stream",
     "name": "stdout",
     "text": "Dimensions of dataset: (7115, 20)\n"
    },
    {
     "output_type": "execute_result",
     "data": {
      "text/plain": "  Country           Province District   Sector               Cell  \\\n0  Rwanda   Western Province   Rusizi   Giheke           Gakomeye   \n1  Rwanda   Western Province   Rusizi   Giheke           Gakomeye   \n2  Rwanda  Northern Province  Rulindo   Buyoga  Gahororo-Gipfundo   \n3  Rwanda  Northern Province  Gicumbi   Kageyo  Kabuga/gatobotobo   \n4  Rwanda  Southern Province  Kamonyi  Kayenzi              Kirwa   \n\n  Bridge Site Name Project Stage Project Sub-Stage Project Code Bridge Type  \\\n0             Buzi      Rejected         Technical      1014107   Suspended   \n1        Kamigisha      Rejected         Technical      1014106   Suspended   \n2         Gipfundo      Rejected         Technical      1007651   Suspended   \n3       Nyarubande      Rejected               NaN      1012493       Other   \n4           Gisizi    Identified         Requested      1014318   Suspended   \n\n    Span (m)   GPS (Latitude)  GPS (Longitude)  Individuals Directly Served  \\\n0        NaN        -2.420560        28.966200                          NaN   \n1        NaN        -2.424860        28.957260                          NaN   \n2        8.0        -1.720530        30.081240                          NaN   \n3        NaN        -1.655950        30.078840                          NaN   \n4        NaN        -1.870868        29.877686                          NaN   \n\n                   Form: Form Name     CaseSafeID Form  \\\n0  Project Assessment - 2018.10.29  a1if1000002e51bAAA   \n1  Project Assessment - 2018.10.29  a1if1000002e51WAAQ   \n2   Project Assessment - 2018.8.11  a1if10000025nz8AAA   \n3   Project Assessment - 2018.8.11  a1if10000025nzDAAQ   \n4  Project Assessment - 2018.11.15  a1if1000002gMwRAAU   \n\n  Bridge Opportunity: Opportunity ID Assessment Date Original_Community_col  \\\n0                    006f100000d1fk1      2018-10-29     Community Served 1   \n1                    006f100000d1fjw      2018-10-29     Community Served 1   \n2                    006f100000a86I3      2018-08-11     Community Served 1   \n3                    006f100000cPpL8      2018-08-11     Community Served 1   \n4                    006f100000eescb      2018-11-15     Community Served 1   \n\n  Community_Served  \n0             Buzi  \n1           Kabuga  \n2         Gapfundo  \n3              NaN  \n4           Gisizi  ",
      "text/html": "<div>\n<style scoped>\n    .dataframe tbody tr th:only-of-type {\n        vertical-align: middle;\n    }\n\n    .dataframe tbody tr th {\n        vertical-align: top;\n    }\n\n    .dataframe thead th {\n        text-align: right;\n    }\n</style>\n<table border=\"1\" class=\"dataframe\">\n  <thead>\n    <tr style=\"text-align: right;\">\n      <th></th>\n      <th>Country</th>\n      <th>Province</th>\n      <th>District</th>\n      <th>Sector</th>\n      <th>Cell</th>\n      <th>Bridge Site Name</th>\n      <th>Project Stage</th>\n      <th>Project Sub-Stage</th>\n      <th>Project Code</th>\n      <th>Bridge Type</th>\n      <th>Span (m)</th>\n      <th>GPS (Latitude)</th>\n      <th>GPS (Longitude)</th>\n      <th>Individuals Directly Served</th>\n      <th>Form: Form Name</th>\n      <th>CaseSafeID Form</th>\n      <th>Bridge Opportunity: Opportunity ID</th>\n      <th>Assessment Date</th>\n      <th>Original_Community_col</th>\n      <th>Community_Served</th>\n    </tr>\n  </thead>\n  <tbody>\n    <tr>\n      <th>0</th>\n      <td>Rwanda</td>\n      <td>Western Province</td>\n      <td>Rusizi</td>\n      <td>Giheke</td>\n      <td>Gakomeye</td>\n      <td>Buzi</td>\n      <td>Rejected</td>\n      <td>Technical</td>\n      <td>1014107</td>\n      <td>Suspended</td>\n      <td>NaN</td>\n      <td>-2.420560</td>\n      <td>28.966200</td>\n      <td>NaN</td>\n      <td>Project Assessment - 2018.10.29</td>\n      <td>a1if1000002e51bAAA</td>\n      <td>006f100000d1fk1</td>\n      <td>2018-10-29</td>\n      <td>Community Served 1</td>\n      <td>Buzi</td>\n    </tr>\n    <tr>\n      <th>1</th>\n      <td>Rwanda</td>\n      <td>Western Province</td>\n      <td>Rusizi</td>\n      <td>Giheke</td>\n      <td>Gakomeye</td>\n      <td>Kamigisha</td>\n      <td>Rejected</td>\n      <td>Technical</td>\n      <td>1014106</td>\n      <td>Suspended</td>\n      <td>NaN</td>\n      <td>-2.424860</td>\n      <td>28.957260</td>\n      <td>NaN</td>\n      <td>Project Assessment - 2018.10.29</td>\n      <td>a1if1000002e51WAAQ</td>\n      <td>006f100000d1fjw</td>\n      <td>2018-10-29</td>\n      <td>Community Served 1</td>\n      <td>Kabuga</td>\n    </tr>\n    <tr>\n      <th>2</th>\n      <td>Rwanda</td>\n      <td>Northern Province</td>\n      <td>Rulindo</td>\n      <td>Buyoga</td>\n      <td>Gahororo-Gipfundo</td>\n      <td>Gipfundo</td>\n      <td>Rejected</td>\n      <td>Technical</td>\n      <td>1007651</td>\n      <td>Suspended</td>\n      <td>8.0</td>\n      <td>-1.720530</td>\n      <td>30.081240</td>\n      <td>NaN</td>\n      <td>Project Assessment - 2018.8.11</td>\n      <td>a1if10000025nz8AAA</td>\n      <td>006f100000a86I3</td>\n      <td>2018-08-11</td>\n      <td>Community Served 1</td>\n      <td>Gapfundo</td>\n    </tr>\n    <tr>\n      <th>3</th>\n      <td>Rwanda</td>\n      <td>Northern Province</td>\n      <td>Gicumbi</td>\n      <td>Kageyo</td>\n      <td>Kabuga/gatobotobo</td>\n      <td>Nyarubande</td>\n      <td>Rejected</td>\n      <td>NaN</td>\n      <td>1012493</td>\n      <td>Other</td>\n      <td>NaN</td>\n      <td>-1.655950</td>\n      <td>30.078840</td>\n      <td>NaN</td>\n      <td>Project Assessment - 2018.8.11</td>\n      <td>a1if10000025nzDAAQ</td>\n      <td>006f100000cPpL8</td>\n      <td>2018-08-11</td>\n      <td>Community Served 1</td>\n      <td>NaN</td>\n    </tr>\n    <tr>\n      <th>4</th>\n      <td>Rwanda</td>\n      <td>Southern Province</td>\n      <td>Kamonyi</td>\n      <td>Kayenzi</td>\n      <td>Kirwa</td>\n      <td>Gisizi</td>\n      <td>Identified</td>\n      <td>Requested</td>\n      <td>1014318</td>\n      <td>Suspended</td>\n      <td>NaN</td>\n      <td>-1.870868</td>\n      <td>29.877686</td>\n      <td>NaN</td>\n      <td>Project Assessment - 2018.11.15</td>\n      <td>a1if1000002gMwRAAU</td>\n      <td>006f100000eescb</td>\n      <td>2018-11-15</td>\n      <td>Community Served 1</td>\n      <td>Gisizi</td>\n    </tr>\n  </tbody>\n</table>\n</div>"
     },
     "metadata": {},
     "execution_count": 19
    }
   ],
   "source": [
    "# melt the dataframe so we get all the communities that a bridge would serve in one column\n",
    "# this will make duplicate observations of bridges. THis is okay since we want to be able to get counts\n",
    "# of how many villages a bridge would service.\n",
    "\n",
    "b2p_df = pd.melt(df, id_vars=ID_variable, value_vars=value_variables, var_name='Original_Community_col', value_name='Community_Served', )\n",
    "print(f'Dimensions of dataset: {b2p_df.shape}')\n",
    "b2p_df.head()"
   ]
  },
  {
   "cell_type": "code",
   "execution_count": 20,
   "metadata": {
    "tags": []
   },
   "outputs": [
    {
     "output_type": "stream",
     "name": "stdout",
     "text": "Dimensions of dataset: (4483, 20)\n"
    },
    {
     "output_type": "execute_result",
     "data": {
      "text/plain": "  Country           Province District   Sector               Cell  \\\n0  Rwanda   Western Province   Rusizi   Giheke           Gakomeye   \n1  Rwanda   Western Province   Rusizi   Giheke           Gakomeye   \n2  Rwanda  Northern Province  Rulindo   Buyoga  Gahororo-Gipfundo   \n4  Rwanda  Southern Province  Kamonyi  Kayenzi              Kirwa   \n5  Rwanda  Southern Province  Kamonyi  Kayenzi              Kirwa   \n\n  Bridge Site Name Project Stage Project Sub-Stage Project Code Bridge Type  \\\n0             Buzi      Rejected         Technical      1014107   Suspended   \n1        Kamigisha      Rejected         Technical      1014106   Suspended   \n2         Gipfundo      Rejected         Technical      1007651   Suspended   \n4           Gisizi    Identified         Requested      1014318   Suspended   \n5           Ruheka      Rejected         Technical      1014319   Suspended   \n\n    Span (m)   GPS (Latitude)  GPS (Longitude)  Individuals Directly Served  \\\n0        NaN        -2.420560        28.966200                          NaN   \n1        NaN        -2.424860        28.957260                          NaN   \n2        8.0        -1.720530        30.081240                          NaN   \n4        NaN        -1.870868        29.877686                          NaN   \n5        NaN        -1.883957        29.850548                          NaN   \n\n                   Form: Form Name     CaseSafeID Form  \\\n0  Project Assessment - 2018.10.29  a1if1000002e51bAAA   \n1  Project Assessment - 2018.10.29  a1if1000002e51WAAQ   \n2   Project Assessment - 2018.8.11  a1if10000025nz8AAA   \n4  Project Assessment - 2018.11.15  a1if1000002gMwRAAU   \n5  Project Assessment - 2018.11.15  a1if1000002gMwqAAE   \n\n  Bridge Opportunity: Opportunity ID Assessment Date Original_Community_col  \\\n0                    006f100000d1fk1      2018-10-29     Community Served 1   \n1                    006f100000d1fjw      2018-10-29     Community Served 1   \n2                    006f100000a86I3      2018-08-11     Community Served 1   \n4                    006f100000eescb      2018-11-15     Community Served 1   \n5                    006f100000eescl      2018-11-15     Community Served 1   \n\n  Community_Served  \n0             Buzi  \n1           Kabuga  \n2         Gapfundo  \n4           Gisizi  \n5           Ruheka  ",
      "text/html": "<div>\n<style scoped>\n    .dataframe tbody tr th:only-of-type {\n        vertical-align: middle;\n    }\n\n    .dataframe tbody tr th {\n        vertical-align: top;\n    }\n\n    .dataframe thead th {\n        text-align: right;\n    }\n</style>\n<table border=\"1\" class=\"dataframe\">\n  <thead>\n    <tr style=\"text-align: right;\">\n      <th></th>\n      <th>Country</th>\n      <th>Province</th>\n      <th>District</th>\n      <th>Sector</th>\n      <th>Cell</th>\n      <th>Bridge Site Name</th>\n      <th>Project Stage</th>\n      <th>Project Sub-Stage</th>\n      <th>Project Code</th>\n      <th>Bridge Type</th>\n      <th>Span (m)</th>\n      <th>GPS (Latitude)</th>\n      <th>GPS (Longitude)</th>\n      <th>Individuals Directly Served</th>\n      <th>Form: Form Name</th>\n      <th>CaseSafeID Form</th>\n      <th>Bridge Opportunity: Opportunity ID</th>\n      <th>Assessment Date</th>\n      <th>Original_Community_col</th>\n      <th>Community_Served</th>\n    </tr>\n  </thead>\n  <tbody>\n    <tr>\n      <th>0</th>\n      <td>Rwanda</td>\n      <td>Western Province</td>\n      <td>Rusizi</td>\n      <td>Giheke</td>\n      <td>Gakomeye</td>\n      <td>Buzi</td>\n      <td>Rejected</td>\n      <td>Technical</td>\n      <td>1014107</td>\n      <td>Suspended</td>\n      <td>NaN</td>\n      <td>-2.420560</td>\n      <td>28.966200</td>\n      <td>NaN</td>\n      <td>Project Assessment - 2018.10.29</td>\n      <td>a1if1000002e51bAAA</td>\n      <td>006f100000d1fk1</td>\n      <td>2018-10-29</td>\n      <td>Community Served 1</td>\n      <td>Buzi</td>\n    </tr>\n    <tr>\n      <th>1</th>\n      <td>Rwanda</td>\n      <td>Western Province</td>\n      <td>Rusizi</td>\n      <td>Giheke</td>\n      <td>Gakomeye</td>\n      <td>Kamigisha</td>\n      <td>Rejected</td>\n      <td>Technical</td>\n      <td>1014106</td>\n      <td>Suspended</td>\n      <td>NaN</td>\n      <td>-2.424860</td>\n      <td>28.957260</td>\n      <td>NaN</td>\n      <td>Project Assessment - 2018.10.29</td>\n      <td>a1if1000002e51WAAQ</td>\n      <td>006f100000d1fjw</td>\n      <td>2018-10-29</td>\n      <td>Community Served 1</td>\n      <td>Kabuga</td>\n    </tr>\n    <tr>\n      <th>2</th>\n      <td>Rwanda</td>\n      <td>Northern Province</td>\n      <td>Rulindo</td>\n      <td>Buyoga</td>\n      <td>Gahororo-Gipfundo</td>\n      <td>Gipfundo</td>\n      <td>Rejected</td>\n      <td>Technical</td>\n      <td>1007651</td>\n      <td>Suspended</td>\n      <td>8.0</td>\n      <td>-1.720530</td>\n      <td>30.081240</td>\n      <td>NaN</td>\n      <td>Project Assessment - 2018.8.11</td>\n      <td>a1if10000025nz8AAA</td>\n      <td>006f100000a86I3</td>\n      <td>2018-08-11</td>\n      <td>Community Served 1</td>\n      <td>Gapfundo</td>\n    </tr>\n    <tr>\n      <th>4</th>\n      <td>Rwanda</td>\n      <td>Southern Province</td>\n      <td>Kamonyi</td>\n      <td>Kayenzi</td>\n      <td>Kirwa</td>\n      <td>Gisizi</td>\n      <td>Identified</td>\n      <td>Requested</td>\n      <td>1014318</td>\n      <td>Suspended</td>\n      <td>NaN</td>\n      <td>-1.870868</td>\n      <td>29.877686</td>\n      <td>NaN</td>\n      <td>Project Assessment - 2018.11.15</td>\n      <td>a1if1000002gMwRAAU</td>\n      <td>006f100000eescb</td>\n      <td>2018-11-15</td>\n      <td>Community Served 1</td>\n      <td>Gisizi</td>\n    </tr>\n    <tr>\n      <th>5</th>\n      <td>Rwanda</td>\n      <td>Southern Province</td>\n      <td>Kamonyi</td>\n      <td>Kayenzi</td>\n      <td>Kirwa</td>\n      <td>Ruheka</td>\n      <td>Rejected</td>\n      <td>Technical</td>\n      <td>1014319</td>\n      <td>Suspended</td>\n      <td>NaN</td>\n      <td>-1.883957</td>\n      <td>29.850548</td>\n      <td>NaN</td>\n      <td>Project Assessment - 2018.11.15</td>\n      <td>a1if1000002gMwqAAE</td>\n      <td>006f100000eescl</td>\n      <td>2018-11-15</td>\n      <td>Community Served 1</td>\n      <td>Ruheka</td>\n    </tr>\n  </tbody>\n</table>\n</div>"
     },
     "metadata": {},
     "execution_count": 20
    }
   ],
   "source": [
    "# now that we have our melted dataframe, we want to delete any observation that has a \n",
    "# null value in the 'Community_Served' column\n",
    "\n",
    "b2p_df = melted_df[melted_df['Community_Served'].notna()]\n",
    "print(f'Dimensions of dataset: {b2p_df.shape}')\n",
    "b2p_df.head()"
   ]
  },
  {
   "cell_type": "code",
   "execution_count": 21,
   "metadata": {},
   "outputs": [
    {
     "output_type": "execute_result",
     "data": {
      "text/plain": "Country                                  0\nProvince                                 0\nDistrict                                 0\nSector                                   3\nCell                                    57\nBridge Site Name                         0\nProject Stage                            0\nProject Sub-Stage                      188\nProject Code                             0\nBridge Type                            177\n Span (m)                             3409\n GPS (Latitude)                          2\nGPS (Longitude)                          2\nIndividuals Directly Served           4382\nForm: Form Name                          0\nCaseSafeID Form                          0\nBridge Opportunity: Opportunity ID       0\nAssessment Date                          0\nOriginal_Community_col                   0\nCommunity_Served                         0\ndtype: int64"
     },
     "metadata": {},
     "execution_count": 21
    }
   ],
   "source": [
    "# lets check to see if there are still null values that we care about in the dataset\n",
    "\n",
    "b2p_df.isnull().sum()\n"
   ]
  },
  {
   "cell_type": "code",
   "execution_count": 22,
   "metadata": {},
   "outputs": [
    {
     "output_type": "execute_result",
     "data": {
      "text/plain": "     Country          Province  District        Sector            Cell  \\\n938   Rwanda  Eastern Province  Bugesera      Kabukuba          Gikana   \n2361  Rwanda  Eastern Province  Bugesera      Kabukuba          Gikana   \n738   Rwanda            Kigali  Kicukiro   Juru-Masaka        Rusheshe   \n736   Rwanda            Kigali  Kicukiro  Mwogo-Masaka  Mbabe_Rungunga   \n2159  Rwanda            Kigali  Kicukiro  Mwogo-Masaka  Mbabe_Rungunga   \n\n     Bridge Site Name Project Stage Project Sub-Stage Project Code  \\\n938            Gikana      Rejected         Technical      1007327   \n2361           Gikana      Rejected         Technical      1007327   \n738         Cyankongi      Rejected         Technical      1007328   \n736             Mbabe      Rejected         Technical      1007329   \n2159            Mbabe      Rejected         Technical      1007329   \n\n     Bridge Type   Span (m)   GPS (Latitude)  GPS (Longitude)  \\\n938          NaN      140.0        -2.072628        30.204381   \n2361         NaN      140.0        -2.072628        30.204381   \n738   Suspension      100.0        -2.048451        30.191276   \n736   Suspension       90.0        -2.028061        30.173231   \n2159  Suspension       90.0        -2.028061        30.173231   \n\n      Individuals Directly Served                 Form: Form Name  \\\n938                           NaN  Project Assessment - 2018.5.14   \n2361                          NaN  Project Assessment - 2018.5.14   \n738                        5800.0  Project Assessment - 2018.6.11   \n736                           NaN  Project Assessment - 2018.6.11   \n2159                          NaN  Project Assessment - 2018.6.11   \n\n         CaseSafeID Form Bridge Opportunity: Opportunity ID Assessment Date  \\\n938   a1if1000001YQd4AAG                    006f100000a86Cp      2018-05-14   \n2361  a1if1000001YQd4AAG                    006f100000a86Cp      2018-05-14   \n738   a1if1000002VWjjAAG                    006f100000a86Cq      2018-06-11   \n736   a1if1000002VWjPAAW                    006f100000a86Cr      2018-06-11   \n2159  a1if1000002VWjPAAW                    006f100000a86Cr      2018-06-11   \n\n     Original_Community_col Community_Served  \n938      Community Served 1           Gikana  \n2361     Community Served 2            Mbuye  \n738      Community Served 1         Rusheshe  \n736      Community Served 1            Mbabe  \n2159     Community Served 2          Rugunga  ",
      "text/html": "<div>\n<style scoped>\n    .dataframe tbody tr th:only-of-type {\n        vertical-align: middle;\n    }\n\n    .dataframe tbody tr th {\n        vertical-align: top;\n    }\n\n    .dataframe thead th {\n        text-align: right;\n    }\n</style>\n<table border=\"1\" class=\"dataframe\">\n  <thead>\n    <tr style=\"text-align: right;\">\n      <th></th>\n      <th>Country</th>\n      <th>Province</th>\n      <th>District</th>\n      <th>Sector</th>\n      <th>Cell</th>\n      <th>Bridge Site Name</th>\n      <th>Project Stage</th>\n      <th>Project Sub-Stage</th>\n      <th>Project Code</th>\n      <th>Bridge Type</th>\n      <th>Span (m)</th>\n      <th>GPS (Latitude)</th>\n      <th>GPS (Longitude)</th>\n      <th>Individuals Directly Served</th>\n      <th>Form: Form Name</th>\n      <th>CaseSafeID Form</th>\n      <th>Bridge Opportunity: Opportunity ID</th>\n      <th>Assessment Date</th>\n      <th>Original_Community_col</th>\n      <th>Community_Served</th>\n    </tr>\n  </thead>\n  <tbody>\n    <tr>\n      <th>938</th>\n      <td>Rwanda</td>\n      <td>Eastern Province</td>\n      <td>Bugesera</td>\n      <td>Kabukuba</td>\n      <td>Gikana</td>\n      <td>Gikana</td>\n      <td>Rejected</td>\n      <td>Technical</td>\n      <td>1007327</td>\n      <td>NaN</td>\n      <td>140.0</td>\n      <td>-2.072628</td>\n      <td>30.204381</td>\n      <td>NaN</td>\n      <td>Project Assessment - 2018.5.14</td>\n      <td>a1if1000001YQd4AAG</td>\n      <td>006f100000a86Cp</td>\n      <td>2018-05-14</td>\n      <td>Community Served 1</td>\n      <td>Gikana</td>\n    </tr>\n    <tr>\n      <th>2361</th>\n      <td>Rwanda</td>\n      <td>Eastern Province</td>\n      <td>Bugesera</td>\n      <td>Kabukuba</td>\n      <td>Gikana</td>\n      <td>Gikana</td>\n      <td>Rejected</td>\n      <td>Technical</td>\n      <td>1007327</td>\n      <td>NaN</td>\n      <td>140.0</td>\n      <td>-2.072628</td>\n      <td>30.204381</td>\n      <td>NaN</td>\n      <td>Project Assessment - 2018.5.14</td>\n      <td>a1if1000001YQd4AAG</td>\n      <td>006f100000a86Cp</td>\n      <td>2018-05-14</td>\n      <td>Community Served 2</td>\n      <td>Mbuye</td>\n    </tr>\n    <tr>\n      <th>738</th>\n      <td>Rwanda</td>\n      <td>Kigali</td>\n      <td>Kicukiro</td>\n      <td>Juru-Masaka</td>\n      <td>Rusheshe</td>\n      <td>Cyankongi</td>\n      <td>Rejected</td>\n      <td>Technical</td>\n      <td>1007328</td>\n      <td>Suspension</td>\n      <td>100.0</td>\n      <td>-2.048451</td>\n      <td>30.191276</td>\n      <td>5800.0</td>\n      <td>Project Assessment - 2018.6.11</td>\n      <td>a1if1000002VWjjAAG</td>\n      <td>006f100000a86Cq</td>\n      <td>2018-06-11</td>\n      <td>Community Served 1</td>\n      <td>Rusheshe</td>\n    </tr>\n    <tr>\n      <th>736</th>\n      <td>Rwanda</td>\n      <td>Kigali</td>\n      <td>Kicukiro</td>\n      <td>Mwogo-Masaka</td>\n      <td>Mbabe_Rungunga</td>\n      <td>Mbabe</td>\n      <td>Rejected</td>\n      <td>Technical</td>\n      <td>1007329</td>\n      <td>Suspension</td>\n      <td>90.0</td>\n      <td>-2.028061</td>\n      <td>30.173231</td>\n      <td>NaN</td>\n      <td>Project Assessment - 2018.6.11</td>\n      <td>a1if1000002VWjPAAW</td>\n      <td>006f100000a86Cr</td>\n      <td>2018-06-11</td>\n      <td>Community Served 1</td>\n      <td>Mbabe</td>\n    </tr>\n    <tr>\n      <th>2159</th>\n      <td>Rwanda</td>\n      <td>Kigali</td>\n      <td>Kicukiro</td>\n      <td>Mwogo-Masaka</td>\n      <td>Mbabe_Rungunga</td>\n      <td>Mbabe</td>\n      <td>Rejected</td>\n      <td>Technical</td>\n      <td>1007329</td>\n      <td>Suspension</td>\n      <td>90.0</td>\n      <td>-2.028061</td>\n      <td>30.173231</td>\n      <td>NaN</td>\n      <td>Project Assessment - 2018.6.11</td>\n      <td>a1if1000002VWjPAAW</td>\n      <td>006f100000a86Cr</td>\n      <td>2018-06-11</td>\n      <td>Community Served 2</td>\n      <td>Rugunga</td>\n    </tr>\n  </tbody>\n</table>\n</div>"
     },
     "metadata": {},
     "execution_count": 22
    }
   ],
   "source": [
    "b2p_df.sort_values(by='Project Code').head()"
   ]
  },
  {
   "cell_type": "code",
   "execution_count": 24,
   "metadata": {
    "tags": []
   },
   "outputs": [
    {
     "output_type": "stream",
     "name": "stdout",
     "text": "['Western Province' 'Northern Province' 'Southern Province' 'Kigali'\n 'Eastern Province']\n['Rusizi' 'Rulindo' 'Kamonyi' 'Gasabo' 'Gisagara' 'Kirehe' 'Rwamagana'\n 'Gatsibo' 'Bugesera' 'Rubavu' 'Muhanga' 'Gakenke' 'Ngoma' 'Nyaruguru'\n 'Nyagatare' 'Nyarugenge' 'Kicukiro' 'Ngororero' 'Nyanza' 'Karongi'\n 'Gicumbi' 'Rutsiro' 'Ruhango' 'Huye' 'Musanze' 'Burera' 'Kayonza'\n 'Nyamasheke' 'Nyabihu' 'Nyamagabe']\n"
    }
   ],
   "source": [
    "print(b2p_df['Province'].unique())\n",
    "\n",
    "print(b2p_df['District'].unique())"
   ]
  },
  {
   "cell_type": "code",
   "execution_count": 25,
   "metadata": {
    "tags": []
   },
   "outputs": [
    {
     "output_type": "stream",
     "name": "stdout",
     "text": "Dimensions of dataset: (14816, 12)\n"
    },
    {
     "output_type": "execute_result",
     "data": {
      "text/plain": "   Prov_ID   Province  Dist_ID  District  Sect_ID   Sector  Cell_ID      Cell  \\\n0        2  Amajyepfo       22  Gisagara     2205  Kigembe   220501  Agahabwa   \n1        2  Amajyepfo       22  Gisagara     2205  Kigembe   220501  Agahabwa   \n2        2  Amajyepfo       22  Gisagara     2205  Kigembe   220501  Agahabwa   \n3        2  Amajyepfo       22  Gisagara     2205  Kigembe   220501  Agahabwa   \n4        2  Amajyepfo       22  Gisagara     2205  Kigembe   220501  Agahabwa   \n\n    Vill_ID    Village Status   FID  \n0  22050101    Agahehe  Rural  1842  \n1  22050102   Kabacuzi  Rural  1846  \n2  22050103   Kamutozo  Rural  1854  \n3  22050104    Kamweko  Rural  1866  \n4  22050105  Nyamabuye  Rural  1873  ",
      "text/html": "<div>\n<style scoped>\n    .dataframe tbody tr th:only-of-type {\n        vertical-align: middle;\n    }\n\n    .dataframe tbody tr th {\n        vertical-align: top;\n    }\n\n    .dataframe thead th {\n        text-align: right;\n    }\n</style>\n<table border=\"1\" class=\"dataframe\">\n  <thead>\n    <tr style=\"text-align: right;\">\n      <th></th>\n      <th>Prov_ID</th>\n      <th>Province</th>\n      <th>Dist_ID</th>\n      <th>District</th>\n      <th>Sect_ID</th>\n      <th>Sector</th>\n      <th>Cell_ID</th>\n      <th>Cell</th>\n      <th>Vill_ID</th>\n      <th>Village</th>\n      <th>Status</th>\n      <th>FID</th>\n    </tr>\n  </thead>\n  <tbody>\n    <tr>\n      <th>0</th>\n      <td>2</td>\n      <td>Amajyepfo</td>\n      <td>22</td>\n      <td>Gisagara</td>\n      <td>2205</td>\n      <td>Kigembe</td>\n      <td>220501</td>\n      <td>Agahabwa</td>\n      <td>22050101</td>\n      <td>Agahehe</td>\n      <td>Rural</td>\n      <td>1842</td>\n    </tr>\n    <tr>\n      <th>1</th>\n      <td>2</td>\n      <td>Amajyepfo</td>\n      <td>22</td>\n      <td>Gisagara</td>\n      <td>2205</td>\n      <td>Kigembe</td>\n      <td>220501</td>\n      <td>Agahabwa</td>\n      <td>22050102</td>\n      <td>Kabacuzi</td>\n      <td>Rural</td>\n      <td>1846</td>\n    </tr>\n    <tr>\n      <th>2</th>\n      <td>2</td>\n      <td>Amajyepfo</td>\n      <td>22</td>\n      <td>Gisagara</td>\n      <td>2205</td>\n      <td>Kigembe</td>\n      <td>220501</td>\n      <td>Agahabwa</td>\n      <td>22050103</td>\n      <td>Kamutozo</td>\n      <td>Rural</td>\n      <td>1854</td>\n    </tr>\n    <tr>\n      <th>3</th>\n      <td>2</td>\n      <td>Amajyepfo</td>\n      <td>22</td>\n      <td>Gisagara</td>\n      <td>2205</td>\n      <td>Kigembe</td>\n      <td>220501</td>\n      <td>Agahabwa</td>\n      <td>22050104</td>\n      <td>Kamweko</td>\n      <td>Rural</td>\n      <td>1866</td>\n    </tr>\n    <tr>\n      <th>4</th>\n      <td>2</td>\n      <td>Amajyepfo</td>\n      <td>22</td>\n      <td>Gisagara</td>\n      <td>2205</td>\n      <td>Kigembe</td>\n      <td>220501</td>\n      <td>Agahabwa</td>\n      <td>22050105</td>\n      <td>Nyamabuye</td>\n      <td>Rural</td>\n      <td>1873</td>\n    </tr>\n  </tbody>\n</table>\n</div>"
     },
     "metadata": {},
     "execution_count": 25
    }
   ],
   "source": [
    "# Read in the Data of Government Entities with Government IDs\n",
    "\n",
    "gov_file_path = 'https://raw.githubusercontent.com/tmbern/Labs25-Bridges_to_Prosperity-TeamC-ds/main/Rwanda%20Administrative%20Levels%20and%20Codes_Province%20through%20Village_2019.02.28.csv'\n",
    "gov_df = pd.read_csv(gov_file_path, encoding='latin-1')\n",
    "print(f'Dimensions of dataset: {gov_df.shape}')\n",
    "gov_df.head()\n"
   ]
  },
  {
   "cell_type": "code",
   "execution_count": 26,
   "metadata": {},
   "outputs": [
    {
     "output_type": "execute_result",
     "data": {
      "text/plain": "{'Bugesera': 57,\n 'Burera': 44,\n 'Gakenke': 42,\n 'Gasabo': 12,\n 'Gatsibo': 53,\n 'Gicumbi': 45,\n 'Gisagara': 22,\n 'Huye': 24,\n 'Kamonyi': 28,\n 'Karongi': 31,\n 'Kayonza': 54,\n 'Kicukiro': 13,\n 'Kirehe': 55,\n 'Muhanga': 27,\n 'Musanze': 43,\n 'Ngoma': 56,\n 'Ngororero': 35,\n 'Nyabihu': 34,\n 'Nyagatare': 52,\n 'Nyamagabe': 25,\n 'Nyamasheke': 37,\n 'Nyanza': 21,\n 'Nyarugenge': 11,\n 'Nyaruguru': 23,\n 'Rubavu': 33,\n 'Ruhango': 26,\n 'Rulindo': 41,\n 'Rusizi': 36,\n 'Rutsiro': 32,\n 'Rwamagana': 51}"
     },
     "metadata": {},
     "execution_count": 26
    }
   ],
   "source": [
    "# District ID dict \n",
    "district_ID_dict = gov_df['Dist_ID'].groupby(gov_df['District']).unique().apply(pd.Series).to_dict()[0]\n",
    "district_ID_dict"
   ]
  },
  {
   "cell_type": "code",
   "execution_count": 26,
   "metadata": {},
   "outputs": [],
   "source": [
    "# Province dictionary. Key is B2P Province name, Value is government province ID\n",
    "province_dict = {'Northern Province': 4,\n",
    "                 'Southern Province': 2,\n",
    "                 'Eastern Province': 5,\n",
    "                 'Western Province': 3,\n",
    "                 'Kigali': 1\n",
    "                 }"
   ]
  },
  {
   "cell_type": "code",
   "execution_count": 27,
   "metadata": {},
   "outputs": [
    {
     "output_type": "execute_result",
     "data": {
      "text/plain": "True"
     },
     "metadata": {},
     "execution_count": 27
    }
   ],
   "source": [
    "# There are the same amount of government Districts as there is in B2P districts. \n",
    "len(b2p_df['District'].unique()) == len(gov_df['District'].unique())\n",
    "# check length of \"district\" strings on both dfs\n",
    "sorted(b2p_df['District'].unique()) == sorted(gov_df['District'].unique())"
   ]
  },
  {
   "cell_type": "code",
   "execution_count": 28,
   "metadata": {},
   "outputs": [
    {
     "output_type": "execute_result",
     "data": {
      "text/plain": "Index(['Country', 'Province', 'District', 'Sector', 'Cell', 'Bridge Site Name',\n       'Project Stage', 'Project Sub-Stage', 'Project Code', 'Bridge Type',\n       ' Span (m)', ' GPS (Latitude)', 'GPS (Longitude)',\n       'Individuals Directly Served', 'Form: Form Name', 'CaseSafeID Form',\n       'Bridge Opportunity: Opportunity ID', 'Assessment Date',\n       'Original_Community_col', 'Community_Served'],\n      dtype='object')"
     },
     "metadata": {},
     "execution_count": 28
    }
   ],
   "source": [
    "b2p_df.columns"
   ]
  },
  {
   "cell_type": "code",
   "execution_count": 28,
   "metadata": {},
   "outputs": [
    {
     "output_type": "execute_result",
     "data": {
      "text/plain": "Index(['Prov_ID', 'Province', 'Dist_ID', 'District', 'Sect_ID', 'Sector',\n       'Cell_ID', 'Cell', 'Vill_ID', 'Village', 'Status', 'FID'],\n      dtype='object')"
     },
     "metadata": {},
     "execution_count": 28
    }
   ],
   "source": [
    "gov_df.columns"
   ]
  },
  {
   "cell_type": "code",
   "execution_count": 29,
   "metadata": {},
   "outputs": [
    {
     "output_type": "execute_result",
     "data": {
      "text/plain": "False"
     },
     "metadata": {},
     "execution_count": 29
    }
   ],
   "source": [
    "# Sector ID \n",
    "# check that df['sector'] == gov_df['sector']\n",
    "len(b2p_df['Sector'].unique()) == len(gov_df['Sector'].unique())"
   ]
  },
  {
   "cell_type": "code",
   "execution_count": 30,
   "metadata": {},
   "outputs": [
    {
     "output_type": "execute_result",
     "data": {
      "text/plain": "348"
     },
     "metadata": {},
     "execution_count": 30
    }
   ],
   "source": [
    "# check df['sector'] not in gov_df['sector']\n",
    "x = [x for x in set(b2p_df['Sector']) if x not in set(gov_df['Sector'])]\n",
    "len(x)"
   ]
  },
  {
   "cell_type": "code",
   "execution_count": 33,
   "metadata": {},
   "outputs": [
    {
     "output_type": "execute_result",
     "data": {
      "text/plain": "Country                                       object\nProvince                                      object\nDistrict                                      object\nSector                                        object\nCell                                          object\nBridge Site Name                              object\nProject Stage                                 object\nProject Sub-Stage                             object\nProject Code                                  object\nBridge Type                                   object\n Span (m)                                    float64\n GPS (Latitude)                              float64\nGPS (Longitude)                              float64\nIndividuals Directly Served                  float64\nForm: Form Name                               object\nCaseSafeID Form                               object\nBridge Opportunity: Opportunity ID            object\nAssessment Date                       datetime64[ns]\nOriginal_Community_col                        object\nCommunity_Served                              object\ndtype: object"
     },
     "metadata": {},
     "execution_count": 33
    }
   ],
   "source": [
    "b2p_df.dtypes"
   ]
  },
  {
   "cell_type": "code",
   "execution_count": 46,
   "metadata": {},
   "outputs": [
    {
     "output_type": "execute_result",
     "data": {
      "text/plain": "0     Giheke\n1     Giheke\n2     Buyoga\n4    Kayenzi\n5    Kayenzi\nName: new_sector, dtype: object"
     },
     "metadata": {},
     "execution_count": 46
    }
   ],
   "source": [
    "# Strip sectors down to single sector names \n",
    "# with regular expressions \n",
    "import re\n",
    "\n",
    "b2p_df['new_sector'] = [re.split(\"-|~|_|(sector)|(Sector)|(cell)|\\(|~\", str(i))[0] for i in b2p_df['Sector']]\n",
    "b2p_df['new_sector'] = b2p_df['new_sector'].str.replace(\" \",\"\")\n",
    "b2p_df['new_sector'].head()"
   ]
  },
  {
   "cell_type": "code",
   "execution_count": 42,
   "metadata": {},
   "outputs": [
    {
     "output_type": "execute_result",
     "data": {
      "text/plain": "True"
     },
     "metadata": {},
     "execution_count": 42
    }
   ],
   "source": [
    "# confirm that df sector list is less than gov list of sectors - important \n",
    "b2p_df['new_sector'].nunique() < gov_df['Sector'].nunique()"
   ]
  },
  {
   "cell_type": "code",
   "execution_count": 117,
   "metadata": {},
   "outputs": [
    {
     "output_type": "execute_result",
     "data": {
      "text/plain": "   Prov_ID   Province  Dist_ID  District  Sect_ID   Sector  Cell_ID      Cell  \\\n0        2  Amajyepfo       22  Gisagara     2205  Kigembe   220501  Agahabwa   \n1        2  Amajyepfo       22  Gisagara     2205  Kigembe   220501  Agahabwa   \n2        2  Amajyepfo       22  Gisagara     2205  Kigembe   220501  Agahabwa   \n3        2  Amajyepfo       22  Gisagara     2205  Kigembe   220501  Agahabwa   \n4        2  Amajyepfo       22  Gisagara     2205  Kigembe   220501  Agahabwa   \n\n    Vill_ID    Village Status   FID  \n0  22050101    Agahehe  Rural  1842  \n1  22050102   Kabacuzi  Rural  1846  \n2  22050103   Kamutozo  Rural  1854  \n3  22050104    Kamweko  Rural  1866  \n4  22050105  Nyamabuye  Rural  1873  ",
      "text/html": "<div>\n<style scoped>\n    .dataframe tbody tr th:only-of-type {\n        vertical-align: middle;\n    }\n\n    .dataframe tbody tr th {\n        vertical-align: top;\n    }\n\n    .dataframe thead th {\n        text-align: right;\n    }\n</style>\n<table border=\"1\" class=\"dataframe\">\n  <thead>\n    <tr style=\"text-align: right;\">\n      <th></th>\n      <th>Prov_ID</th>\n      <th>Province</th>\n      <th>Dist_ID</th>\n      <th>District</th>\n      <th>Sect_ID</th>\n      <th>Sector</th>\n      <th>Cell_ID</th>\n      <th>Cell</th>\n      <th>Vill_ID</th>\n      <th>Village</th>\n      <th>Status</th>\n      <th>FID</th>\n    </tr>\n  </thead>\n  <tbody>\n    <tr>\n      <th>0</th>\n      <td>2</td>\n      <td>Amajyepfo</td>\n      <td>22</td>\n      <td>Gisagara</td>\n      <td>2205</td>\n      <td>Kigembe</td>\n      <td>220501</td>\n      <td>Agahabwa</td>\n      <td>22050101</td>\n      <td>Agahehe</td>\n      <td>Rural</td>\n      <td>1842</td>\n    </tr>\n    <tr>\n      <th>1</th>\n      <td>2</td>\n      <td>Amajyepfo</td>\n      <td>22</td>\n      <td>Gisagara</td>\n      <td>2205</td>\n      <td>Kigembe</td>\n      <td>220501</td>\n      <td>Agahabwa</td>\n      <td>22050102</td>\n      <td>Kabacuzi</td>\n      <td>Rural</td>\n      <td>1846</td>\n    </tr>\n    <tr>\n      <th>2</th>\n      <td>2</td>\n      <td>Amajyepfo</td>\n      <td>22</td>\n      <td>Gisagara</td>\n      <td>2205</td>\n      <td>Kigembe</td>\n      <td>220501</td>\n      <td>Agahabwa</td>\n      <td>22050103</td>\n      <td>Kamutozo</td>\n      <td>Rural</td>\n      <td>1854</td>\n    </tr>\n    <tr>\n      <th>3</th>\n      <td>2</td>\n      <td>Amajyepfo</td>\n      <td>22</td>\n      <td>Gisagara</td>\n      <td>2205</td>\n      <td>Kigembe</td>\n      <td>220501</td>\n      <td>Agahabwa</td>\n      <td>22050104</td>\n      <td>Kamweko</td>\n      <td>Rural</td>\n      <td>1866</td>\n    </tr>\n    <tr>\n      <th>4</th>\n      <td>2</td>\n      <td>Amajyepfo</td>\n      <td>22</td>\n      <td>Gisagara</td>\n      <td>2205</td>\n      <td>Kigembe</td>\n      <td>220501</td>\n      <td>Agahabwa</td>\n      <td>22050105</td>\n      <td>Nyamabuye</td>\n      <td>Rural</td>\n      <td>1873</td>\n    </tr>\n  </tbody>\n</table>\n</div>"
     },
     "metadata": {},
     "execution_count": 117
    }
   ],
   "source": [
    "# we group df by province district and sector. \n",
    "# get the count of the number of timex that a particular village is in that grouping. \n",
    "\n",
    "gov_df.head()"
   ]
  },
  {
   "cell_type": "code",
   "execution_count": 80,
   "metadata": {},
   "outputs": [],
   "source": [
    "b2p_df['test_cell'] = b2p_df['Cell'].astype(str)"
   ]
  },
  {
   "cell_type": "code",
   "execution_count": 81,
   "metadata": {},
   "outputs": [],
   "source": [
    "test_list = [re.split(\"-|~|_|/|\\(|\\)\", i) for i in b2p_df['test_cell']]"
   ]
  },
  {
   "cell_type": "code",
   "execution_count": 101,
   "metadata": {},
   "outputs": [
    {
     "output_type": "execute_result",
     "data": {
      "text/plain": "4483"
     },
     "metadata": {},
     "execution_count": 101
    }
   ],
   "source": [
    "len(test_list)"
   ]
  },
  {
   "cell_type": "code",
   "execution_count": 133,
   "metadata": {},
   "outputs": [
    {
     "output_type": "execute_result",
     "data": {
      "text/plain": "pandas.core.series.Series"
     },
     "metadata": {},
     "execution_count": 133
    }
   ],
   "source": [
    "type(b2p_df['Cell']"
   ]
  },
  {
   "cell_type": "code",
   "execution_count": 180,
   "metadata": {},
   "outputs": [],
   "source": [
    "# helper function to replace characters in a string\n",
    "def replace_char(x):\n",
    "    if type(x) == str:\n",
    "         char = ['-', '~', '(', ')', '/', '_', 'between', 'villages', 'village', ' both', 'Both',' in ' , ' are ', 'all are in', '&']\n",
    "         for i in char:\n",
    "             if i in x:\n",
    "                 x = x.replace(i, ' ')\n",
    "    return x"
   ]
  },
  {
   "cell_type": "code",
   "execution_count": 181,
   "metadata": {},
   "outputs": [
    {
     "output_type": "execute_result",
     "data": {
      "text/plain": "'Kinyovu(Kanyegenyege)'"
     },
     "metadata": {},
     "execution_count": 181
    }
   ],
   "source": [
    "b2p_df['Cell'][198]"
   ]
  },
  {
   "cell_type": "code",
   "execution_count": 183,
   "metadata": {},
   "outputs": [
    {
     "output_type": "execute_result",
     "data": {
      "text/plain": "           test_cell\n0           Gakomeye\n1           Gakomeye\n2  Gahororo Gipfundo\n4              Kirwa\n5              Kirwa",
      "text/html": "<div>\n<style scoped>\n    .dataframe tbody tr th:only-of-type {\n        vertical-align: middle;\n    }\n\n    .dataframe tbody tr th {\n        vertical-align: top;\n    }\n\n    .dataframe thead th {\n        text-align: right;\n    }\n</style>\n<table border=\"1\" class=\"dataframe\">\n  <thead>\n    <tr style=\"text-align: right;\">\n      <th></th>\n      <th>test_cell</th>\n    </tr>\n  </thead>\n  <tbody>\n    <tr>\n      <th>0</th>\n      <td>Gakomeye</td>\n    </tr>\n    <tr>\n      <th>1</th>\n      <td>Gakomeye</td>\n    </tr>\n    <tr>\n      <th>2</th>\n      <td>Gahororo Gipfundo</td>\n    </tr>\n    <tr>\n      <th>4</th>\n      <td>Kirwa</td>\n    </tr>\n    <tr>\n      <th>5</th>\n      <td>Kirwa</td>\n    </tr>\n  </tbody>\n</table>\n</div>"
     },
     "metadata": {},
     "execution_count": 183
    }
   ],
   "source": [
    "# apply helper function to cell column\n",
    "b2p_df['test_cell'] = b2p_df['Cell'].apply(replace_char)\n",
    "pd.DataFrame(b2p_df['test_cell']).head()"
   ]
  },
  {
   "cell_type": "code",
   "execution_count": null,
   "metadata": {},
   "outputs": [],
   "source": []
  }
 ],
 "metadata": {
  "kernelspec": {
   "display_name": "Python 3.7.4 64-bit ('base': conda)",
   "language": "python",
   "name": "python_defaultSpec_1597779740364"
  },
  "language_info": {
   "codemirror_mode": {
    "name": "ipython",
    "version": 3
   },
   "file_extension": ".py",
   "mimetype": "text/x-python",
   "name": "python",
   "nbconvert_exporter": "python",
   "pygments_lexer": "ipython3",
   "version": "3.7.0-final"
  }
 },
 "nbformat": 4,
 "nbformat_minor": 4
}
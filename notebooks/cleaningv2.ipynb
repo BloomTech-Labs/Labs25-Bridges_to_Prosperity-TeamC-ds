{
 "cells": [
  {
   "cell_type": "code",
   "execution_count": 11,
   "metadata": {},
   "outputs": [],
   "source": [
    "import pandas as pd\n",
    "import seaborn as sns"
   ]
  },
  {
   "cell_type": "code",
   "execution_count": 62,
   "metadata": {
    "tags": []
   },
   "outputs": [
    {
     "output_type": "stream",
     "name": "stdout",
     "text": "Dimensions of dataset: (1472, 27)\n"
    },
    {
     "output_type": "execute_result",
     "data": {
      "text/plain": "  Country           Province District   Sector               Cell  \\\n0  Rwanda   Western Province   Rusizi   Giheke           Gakomeye   \n1  Rwanda   Western Province   Rusizi   Giheke           Gakomeye   \n2  Rwanda  Northern Province  Rulindo   Buyoga  Gahororo-Gipfundo   \n3  Rwanda  Northern Province  Gicumbi   Kageyo  Kabuga/gatobotobo   \n4  Rwanda  Southern Province  Kamonyi  Kayenzi              Kirwa   \n\n  Bridge Site Name Project Stage Project Sub-Stage Project Code Bridge Type  \\\n0             Buzi      Rejected         Technical      1014107   Suspended   \n1        Kamigisha      Rejected         Technical      1014106   Suspended   \n2         Gipfundo      Rejected         Technical      1007651   Suspended   \n3       Nyarubande      Rejected               NaN      1012493       Other   \n4           Gisizi    Identified         Requested      1014318   Suspended   \n\n    Span (m)   GPS (Latitude)  GPS (Longitude)  Individuals Directly Served  \\\n0        NaN        -2.420560        28.966200                          NaN   \n1        NaN        -2.424860        28.957260                          NaN   \n2        8.0        -1.720530        30.081240                          NaN   \n3        NaN        -1.655950        30.078840                          NaN   \n4        NaN        -1.870868        29.877686                          NaN   \n\n                   Form: Form Name Community Served 1   Community Served 2  \\\n0  Project Assessment - 2018.10.29               Buzi               Kabuga   \n1  Project Assessment - 2018.10.29             Kabuga                 Buzi   \n2   Project Assessment - 2018.8.11           Gapfundo  Rusabira ( Gicumbi)   \n3   Project Assessment - 2018.8.11                NaN                  NaN   \n4  Project Assessment - 2018.11.15             Gisizi            Nyabitare   \n\n  Community Served 3 Community Served 4 Community Served 5  \\\n0           Kagarama            Gacyamo            Gasheke   \n1  Gacyamo - Gasheke           Kagarama             Kanoga   \n2             Merezo           Minanire          Karutongo   \n3                NaN                NaN                NaN   \n4                NaN                NaN                NaN   \n\n   Community Served 6  Community Served 7  Community Served 8  \\\n0                 NaN                 NaN                 NaN   \n1                 NaN                 NaN                 NaN   \n2                 NaN                 NaN                 NaN   \n3                 NaN                 NaN                 NaN   \n4                 NaN                 NaN                 NaN   \n\n   Community Served 9  Community Served 10     CaseSafeID Form  \\\n0                 NaN                  NaN  a1if1000002e51bAAA   \n1                 NaN                  NaN  a1if1000002e51WAAQ   \n2                 NaN                  NaN  a1if10000025nz8AAA   \n3                 NaN                  NaN  a1if10000025nzDAAQ   \n4                 NaN                  NaN  a1if1000002gMwRAAU   \n\n  Bridge Opportunity: Opportunity ID  \n0                    006f100000d1fk1  \n1                    006f100000d1fjw  \n2                    006f100000a86I3  \n3                    006f100000cPpL8  \n4                    006f100000eescb  ",
      "text/html": "<div>\n<style scoped>\n    .dataframe tbody tr th:only-of-type {\n        vertical-align: middle;\n    }\n\n    .dataframe tbody tr th {\n        vertical-align: top;\n    }\n\n    .dataframe thead th {\n        text-align: right;\n    }\n</style>\n<table border=\"1\" class=\"dataframe\">\n  <thead>\n    <tr style=\"text-align: right;\">\n      <th></th>\n      <th>Country</th>\n      <th>Province</th>\n      <th>District</th>\n      <th>Sector</th>\n      <th>Cell</th>\n      <th>Bridge Site Name</th>\n      <th>Project Stage</th>\n      <th>Project Sub-Stage</th>\n      <th>Project Code</th>\n      <th>Bridge Type</th>\n      <th>Span (m)</th>\n      <th>GPS (Latitude)</th>\n      <th>GPS (Longitude)</th>\n      <th>Individuals Directly Served</th>\n      <th>Form: Form Name</th>\n      <th>Community Served 1</th>\n      <th>Community Served 2</th>\n      <th>Community Served 3</th>\n      <th>Community Served 4</th>\n      <th>Community Served 5</th>\n      <th>Community Served 6</th>\n      <th>Community Served 7</th>\n      <th>Community Served 8</th>\n      <th>Community Served 9</th>\n      <th>Community Served 10</th>\n      <th>CaseSafeID Form</th>\n      <th>Bridge Opportunity: Opportunity ID</th>\n    </tr>\n  </thead>\n  <tbody>\n    <tr>\n      <th>0</th>\n      <td>Rwanda</td>\n      <td>Western Province</td>\n      <td>Rusizi</td>\n      <td>Giheke</td>\n      <td>Gakomeye</td>\n      <td>Buzi</td>\n      <td>Rejected</td>\n      <td>Technical</td>\n      <td>1014107</td>\n      <td>Suspended</td>\n      <td>NaN</td>\n      <td>-2.420560</td>\n      <td>28.966200</td>\n      <td>NaN</td>\n      <td>Project Assessment - 2018.10.29</td>\n      <td>Buzi</td>\n      <td>Kabuga</td>\n      <td>Kagarama</td>\n      <td>Gacyamo</td>\n      <td>Gasheke</td>\n      <td>NaN</td>\n      <td>NaN</td>\n      <td>NaN</td>\n      <td>NaN</td>\n      <td>NaN</td>\n      <td>a1if1000002e51bAAA</td>\n      <td>006f100000d1fk1</td>\n    </tr>\n    <tr>\n      <th>1</th>\n      <td>Rwanda</td>\n      <td>Western Province</td>\n      <td>Rusizi</td>\n      <td>Giheke</td>\n      <td>Gakomeye</td>\n      <td>Kamigisha</td>\n      <td>Rejected</td>\n      <td>Technical</td>\n      <td>1014106</td>\n      <td>Suspended</td>\n      <td>NaN</td>\n      <td>-2.424860</td>\n      <td>28.957260</td>\n      <td>NaN</td>\n      <td>Project Assessment - 2018.10.29</td>\n      <td>Kabuga</td>\n      <td>Buzi</td>\n      <td>Gacyamo - Gasheke</td>\n      <td>Kagarama</td>\n      <td>Kanoga</td>\n      <td>NaN</td>\n      <td>NaN</td>\n      <td>NaN</td>\n      <td>NaN</td>\n      <td>NaN</td>\n      <td>a1if1000002e51WAAQ</td>\n      <td>006f100000d1fjw</td>\n    </tr>\n    <tr>\n      <th>2</th>\n      <td>Rwanda</td>\n      <td>Northern Province</td>\n      <td>Rulindo</td>\n      <td>Buyoga</td>\n      <td>Gahororo-Gipfundo</td>\n      <td>Gipfundo</td>\n      <td>Rejected</td>\n      <td>Technical</td>\n      <td>1007651</td>\n      <td>Suspended</td>\n      <td>8.0</td>\n      <td>-1.720530</td>\n      <td>30.081240</td>\n      <td>NaN</td>\n      <td>Project Assessment - 2018.8.11</td>\n      <td>Gapfundo</td>\n      <td>Rusabira ( Gicumbi)</td>\n      <td>Merezo</td>\n      <td>Minanire</td>\n      <td>Karutongo</td>\n      <td>NaN</td>\n      <td>NaN</td>\n      <td>NaN</td>\n      <td>NaN</td>\n      <td>NaN</td>\n      <td>a1if10000025nz8AAA</td>\n      <td>006f100000a86I3</td>\n    </tr>\n    <tr>\n      <th>3</th>\n      <td>Rwanda</td>\n      <td>Northern Province</td>\n      <td>Gicumbi</td>\n      <td>Kageyo</td>\n      <td>Kabuga/gatobotobo</td>\n      <td>Nyarubande</td>\n      <td>Rejected</td>\n      <td>NaN</td>\n      <td>1012493</td>\n      <td>Other</td>\n      <td>NaN</td>\n      <td>-1.655950</td>\n      <td>30.078840</td>\n      <td>NaN</td>\n      <td>Project Assessment - 2018.8.11</td>\n      <td>NaN</td>\n      <td>NaN</td>\n      <td>NaN</td>\n      <td>NaN</td>\n      <td>NaN</td>\n      <td>NaN</td>\n      <td>NaN</td>\n      <td>NaN</td>\n      <td>NaN</td>\n      <td>NaN</td>\n      <td>a1if10000025nzDAAQ</td>\n      <td>006f100000cPpL8</td>\n    </tr>\n    <tr>\n      <th>4</th>\n      <td>Rwanda</td>\n      <td>Southern Province</td>\n      <td>Kamonyi</td>\n      <td>Kayenzi</td>\n      <td>Kirwa</td>\n      <td>Gisizi</td>\n      <td>Identified</td>\n      <td>Requested</td>\n      <td>1014318</td>\n      <td>Suspended</td>\n      <td>NaN</td>\n      <td>-1.870868</td>\n      <td>29.877686</td>\n      <td>NaN</td>\n      <td>Project Assessment - 2018.11.15</td>\n      <td>Gisizi</td>\n      <td>Nyabitare</td>\n      <td>NaN</td>\n      <td>NaN</td>\n      <td>NaN</td>\n      <td>NaN</td>\n      <td>NaN</td>\n      <td>NaN</td>\n      <td>NaN</td>\n      <td>NaN</td>\n      <td>a1if1000002gMwRAAU</td>\n      <td>006f100000eescb</td>\n    </tr>\n  </tbody>\n</table>\n</div>"
     },
     "metadata": {},
     "execution_count": 62
    }
   ],
   "source": [
    "# read in data\n",
    "pd.set_option('display.max_columns', None)\n",
    "pd.set_option('display.max_rows', None)\n",
    "file_path = 'https://raw.githubusercontent.com/Lambda-School-Labs/Labs25-Bridges_to_Prosperity-TeamC-ds/main/B2P%20Rwanda%20Site%20Assessment%20Data_2020.06.03.csv'\n",
    "df = pd.read_csv(file_path, encoding='latin-1')\n",
    "print(f'Dimensions of dataset: {df.shape}')\n",
    "df.head()"
   ]
  },
  {
   "cell_type": "code",
   "execution_count": 63,
   "metadata": {
    "tags": []
   },
   "outputs": [
    {
     "output_type": "stream",
     "name": "stdout",
     "text": "Dimensions of dataset: (1472, 28)\n"
    },
    {
     "output_type": "execute_result",
     "data": {
      "text/plain": "  Country           Province District   Sector               Cell  \\\n0  Rwanda   Western Province   Rusizi   Giheke           Gakomeye   \n1  Rwanda   Western Province   Rusizi   Giheke           Gakomeye   \n2  Rwanda  Northern Province  Rulindo   Buyoga  Gahororo-Gipfundo   \n3  Rwanda  Northern Province  Gicumbi   Kageyo  Kabuga/gatobotobo   \n4  Rwanda  Southern Province  Kamonyi  Kayenzi              Kirwa   \n\n  Bridge Site Name Project Stage Project Sub-Stage Project Code Bridge Type  \\\n0             Buzi      Rejected         Technical      1014107   Suspended   \n1        Kamigisha      Rejected         Technical      1014106   Suspended   \n2         Gipfundo      Rejected         Technical      1007651   Suspended   \n3       Nyarubande      Rejected               NaN      1012493       Other   \n4           Gisizi    Identified         Requested      1014318   Suspended   \n\n    Span (m)   GPS (Latitude)  GPS (Longitude)  Individuals Directly Served  \\\n0        NaN        -2.420560        28.966200                          NaN   \n1        NaN        -2.424860        28.957260                          NaN   \n2        8.0        -1.720530        30.081240                          NaN   \n3        NaN        -1.655950        30.078840                          NaN   \n4        NaN        -1.870868        29.877686                          NaN   \n\n                   Form: Form Name Community Served 1   Community Served 2  \\\n0  Project Assessment - 2018.10.29               Buzi               Kabuga   \n1  Project Assessment - 2018.10.29             Kabuga                 Buzi   \n2   Project Assessment - 2018.8.11           Gapfundo  Rusabira ( Gicumbi)   \n3   Project Assessment - 2018.8.11                NaN                  NaN   \n4  Project Assessment - 2018.11.15             Gisizi            Nyabitare   \n\n  Community Served 3 Community Served 4 Community Served 5  \\\n0           Kagarama            Gacyamo            Gasheke   \n1  Gacyamo - Gasheke           Kagarama             Kanoga   \n2             Merezo           Minanire          Karutongo   \n3                NaN                NaN                NaN   \n4                NaN                NaN                NaN   \n\n   Community Served 6  Community Served 7  Community Served 8  \\\n0                 NaN                 NaN                 NaN   \n1                 NaN                 NaN                 NaN   \n2                 NaN                 NaN                 NaN   \n3                 NaN                 NaN                 NaN   \n4                 NaN                 NaN                 NaN   \n\n   Community Served 9  Community Served 10     CaseSafeID Form  \\\n0                 NaN                  NaN  a1if1000002e51bAAA   \n1                 NaN                  NaN  a1if1000002e51WAAQ   \n2                 NaN                  NaN  a1if10000025nz8AAA   \n3                 NaN                  NaN  a1if10000025nzDAAQ   \n4                 NaN                  NaN  a1if1000002gMwRAAU   \n\n  Bridge Opportunity: Opportunity ID Assessment Date  \n0                    006f100000d1fk1      2018-10-29  \n1                    006f100000d1fjw      2018-10-29  \n2                    006f100000a86I3      2018-08-11  \n3                    006f100000cPpL8      2018-08-11  \n4                    006f100000eescb      2018-11-15  ",
      "text/html": "<div>\n<style scoped>\n    .dataframe tbody tr th:only-of-type {\n        vertical-align: middle;\n    }\n\n    .dataframe tbody tr th {\n        vertical-align: top;\n    }\n\n    .dataframe thead th {\n        text-align: right;\n    }\n</style>\n<table border=\"1\" class=\"dataframe\">\n  <thead>\n    <tr style=\"text-align: right;\">\n      <th></th>\n      <th>Country</th>\n      <th>Province</th>\n      <th>District</th>\n      <th>Sector</th>\n      <th>Cell</th>\n      <th>Bridge Site Name</th>\n      <th>Project Stage</th>\n      <th>Project Sub-Stage</th>\n      <th>Project Code</th>\n      <th>Bridge Type</th>\n      <th>Span (m)</th>\n      <th>GPS (Latitude)</th>\n      <th>GPS (Longitude)</th>\n      <th>Individuals Directly Served</th>\n      <th>Form: Form Name</th>\n      <th>Community Served 1</th>\n      <th>Community Served 2</th>\n      <th>Community Served 3</th>\n      <th>Community Served 4</th>\n      <th>Community Served 5</th>\n      <th>Community Served 6</th>\n      <th>Community Served 7</th>\n      <th>Community Served 8</th>\n      <th>Community Served 9</th>\n      <th>Community Served 10</th>\n      <th>CaseSafeID Form</th>\n      <th>Bridge Opportunity: Opportunity ID</th>\n      <th>Assessment Date</th>\n    </tr>\n  </thead>\n  <tbody>\n    <tr>\n      <th>0</th>\n      <td>Rwanda</td>\n      <td>Western Province</td>\n      <td>Rusizi</td>\n      <td>Giheke</td>\n      <td>Gakomeye</td>\n      <td>Buzi</td>\n      <td>Rejected</td>\n      <td>Technical</td>\n      <td>1014107</td>\n      <td>Suspended</td>\n      <td>NaN</td>\n      <td>-2.420560</td>\n      <td>28.966200</td>\n      <td>NaN</td>\n      <td>Project Assessment - 2018.10.29</td>\n      <td>Buzi</td>\n      <td>Kabuga</td>\n      <td>Kagarama</td>\n      <td>Gacyamo</td>\n      <td>Gasheke</td>\n      <td>NaN</td>\n      <td>NaN</td>\n      <td>NaN</td>\n      <td>NaN</td>\n      <td>NaN</td>\n      <td>a1if1000002e51bAAA</td>\n      <td>006f100000d1fk1</td>\n      <td>2018-10-29</td>\n    </tr>\n    <tr>\n      <th>1</th>\n      <td>Rwanda</td>\n      <td>Western Province</td>\n      <td>Rusizi</td>\n      <td>Giheke</td>\n      <td>Gakomeye</td>\n      <td>Kamigisha</td>\n      <td>Rejected</td>\n      <td>Technical</td>\n      <td>1014106</td>\n      <td>Suspended</td>\n      <td>NaN</td>\n      <td>-2.424860</td>\n      <td>28.957260</td>\n      <td>NaN</td>\n      <td>Project Assessment - 2018.10.29</td>\n      <td>Kabuga</td>\n      <td>Buzi</td>\n      <td>Gacyamo - Gasheke</td>\n      <td>Kagarama</td>\n      <td>Kanoga</td>\n      <td>NaN</td>\n      <td>NaN</td>\n      <td>NaN</td>\n      <td>NaN</td>\n      <td>NaN</td>\n      <td>a1if1000002e51WAAQ</td>\n      <td>006f100000d1fjw</td>\n      <td>2018-10-29</td>\n    </tr>\n    <tr>\n      <th>2</th>\n      <td>Rwanda</td>\n      <td>Northern Province</td>\n      <td>Rulindo</td>\n      <td>Buyoga</td>\n      <td>Gahororo-Gipfundo</td>\n      <td>Gipfundo</td>\n      <td>Rejected</td>\n      <td>Technical</td>\n      <td>1007651</td>\n      <td>Suspended</td>\n      <td>8.0</td>\n      <td>-1.720530</td>\n      <td>30.081240</td>\n      <td>NaN</td>\n      <td>Project Assessment - 2018.8.11</td>\n      <td>Gapfundo</td>\n      <td>Rusabira ( Gicumbi)</td>\n      <td>Merezo</td>\n      <td>Minanire</td>\n      <td>Karutongo</td>\n      <td>NaN</td>\n      <td>NaN</td>\n      <td>NaN</td>\n      <td>NaN</td>\n      <td>NaN</td>\n      <td>a1if10000025nz8AAA</td>\n      <td>006f100000a86I3</td>\n      <td>2018-08-11</td>\n    </tr>\n    <tr>\n      <th>3</th>\n      <td>Rwanda</td>\n      <td>Northern Province</td>\n      <td>Gicumbi</td>\n      <td>Kageyo</td>\n      <td>Kabuga/gatobotobo</td>\n      <td>Nyarubande</td>\n      <td>Rejected</td>\n      <td>NaN</td>\n      <td>1012493</td>\n      <td>Other</td>\n      <td>NaN</td>\n      <td>-1.655950</td>\n      <td>30.078840</td>\n      <td>NaN</td>\n      <td>Project Assessment - 2018.8.11</td>\n      <td>NaN</td>\n      <td>NaN</td>\n      <td>NaN</td>\n      <td>NaN</td>\n      <td>NaN</td>\n      <td>NaN</td>\n      <td>NaN</td>\n      <td>NaN</td>\n      <td>NaN</td>\n      <td>NaN</td>\n      <td>a1if10000025nzDAAQ</td>\n      <td>006f100000cPpL8</td>\n      <td>2018-08-11</td>\n    </tr>\n    <tr>\n      <th>4</th>\n      <td>Rwanda</td>\n      <td>Southern Province</td>\n      <td>Kamonyi</td>\n      <td>Kayenzi</td>\n      <td>Kirwa</td>\n      <td>Gisizi</td>\n      <td>Identified</td>\n      <td>Requested</td>\n      <td>1014318</td>\n      <td>Suspended</td>\n      <td>NaN</td>\n      <td>-1.870868</td>\n      <td>29.877686</td>\n      <td>NaN</td>\n      <td>Project Assessment - 2018.11.15</td>\n      <td>Gisizi</td>\n      <td>Nyabitare</td>\n      <td>NaN</td>\n      <td>NaN</td>\n      <td>NaN</td>\n      <td>NaN</td>\n      <td>NaN</td>\n      <td>NaN</td>\n      <td>NaN</td>\n      <td>NaN</td>\n      <td>a1if1000002gMwRAAU</td>\n      <td>006f100000eescb</td>\n      <td>2018-11-15</td>\n    </tr>\n  </tbody>\n</table>\n</div>"
     },
     "metadata": {},
     "execution_count": 63
    }
   ],
   "source": [
    "# split the Form: Form Name to get the data from the column and convert date to datetime\n",
    "\n",
    "df['Assessment Date'] = df['Form: Form Name'].str.replace('Project Assessment - ', \"\")\n",
    "\n",
    "df['Assessment Date'] = pd.to_datetime(df['Assessment Date'])\n",
    "print(f'Dimensions of dataset: {df.shape}')\n",
    "df.head()"
   ]
  },
  {
   "cell_type": "code",
   "execution_count": 64,
   "metadata": {},
   "outputs": [
    {
     "output_type": "execute_result",
     "data": {
      "text/plain": "Country                                       object\nProvince                                      object\nDistrict                                      object\nSector                                        object\nCell                                          object\nBridge Site Name                              object\nProject Stage                                 object\nProject Sub-Stage                             object\nProject Code                                  object\nBridge Type                                   object\n Span (m)                                    float64\n GPS (Latitude)                              float64\nGPS (Longitude)                              float64\nIndividuals Directly Served                  float64\nForm: Form Name                               object\nCommunity Served 1                            object\nCommunity Served 2                            object\nCommunity Served 3                            object\nCommunity Served 4                            object\nCommunity Served 5                            object\nCommunity Served 6                           float64\nCommunity Served 7                           float64\nCommunity Served 8                           float64\nCommunity Served 9                           float64\nCommunity Served 10                          float64\nCaseSafeID Form                               object\nBridge Opportunity: Opportunity ID            object\nAssessment Date                       datetime64[ns]\ndtype: object"
     },
     "metadata": {},
     "execution_count": 64
    }
   ],
   "source": [
    "df.dtypes"
   ]
  },
  {
   "cell_type": "code",
   "execution_count": 55,
   "metadata": {},
   "outputs": [],
   "source": [
    "# what are the duplicate project codes?\n",
    "# it looks like that all the duplicates have two values. One has three.\n",
    "# a quick and simple way to remove the duplicates would keep the sorting by project code and assesment date\n",
    "# then drop the duplicates and keep the first occurence. That way we have the most recent date. \n",
    "\n",
    "# this was our test to find all the duplicates that we needed to drop\n",
    "# testing = df[df.duplicated(subset='Project Code', keep=False)].sort_values(by=['Project Code', 'Assessment Date'], ascending=False)\n",
    "# testing.head()\n",
    "# testing[testing['Individuals Directly Served'].notna()]\n",
    "\n",
    "# Indices that we "
   ]
  },
  {
   "cell_type": "code",
   "execution_count": 65,
   "metadata": {
    "tags": []
   },
   "outputs": [
    {
     "output_type": "stream",
     "name": "stdout",
     "text": "Dimensions of dataset: (1423, 28)\n"
    }
   ],
   "source": [
    "# manually went thru above duplicates and selected those that needed to be DROPPED. \n",
    "\n",
    "indexes_to_drop = [192,210,216,767,202,1119,908,735,901,272,643,756,\n",
    "                   738,193,655,642,327,909,1274,1289,135,176,1213,\n",
    "                   493,178,205,387,397,395,398,399,401,372,371,892,\n",
    "                   839,776,171,169,170,1117,1096,771,1109,95,89,132,133,134,\n",
    "                   ]\n",
    "\n",
    "\n",
    "df = df.drop(index=indexes_to_drop)\n",
    "print(f'Dimensions of dataset: {df.shape}')"
   ]
  },
  {
   "cell_type": "code",
   "execution_count": 67,
   "metadata": {},
   "outputs": [
    {
     "output_type": "execute_result",
     "data": {
      "text/plain": "False    1423\ndtype: int64"
     },
     "metadata": {},
     "execution_count": 67
    }
   ],
   "source": [
    "# make sure there are no duplicates \n",
    "\n",
    "df.duplicated(subset='Project Code', keep=False).value_counts()"
   ]
  },
  {
   "cell_type": "code",
   "execution_count": 6,
   "metadata": {
    "tags": []
   },
   "outputs": [
    {
     "output_type": "execute_result",
     "data": {
      "text/plain": "Country                                  0\nProvince                                 0\nDistrict                                 0\nSector                                   3\nCell                                    51\nBridge Site Name                         0\nProject Stage                            0\nProject Sub-Stage                       72\nProject Code                             0\nBridge Type                            177\n Span (m)                             1064\n GPS (Latitude)                          4\nGPS (Longitude)                          4\nIndividuals Directly Served           1421\nForm: Form Name                          0\nCommunity Served 1                      97\nCommunity Served 2                     208\nCommunity Served 3                     598\nCommunity Served 4                     828\nCommunity Served 5                    1070\nCommunity Served 6                    1472\nCommunity Served 7                    1472\nCommunity Served 8                    1472\nCommunity Served 9                    1472\nCommunity Served 10                   1472\nCaseSafeID Form                          0\nBridge Opportunity: Opportunity ID       0\nAssessment Date                          0\ndtype: int64"
     },
     "metadata": {},
     "execution_count": 6
    }
   ],
   "source": [
    "# there are some columns that are all null values, we can drop those.\n",
    "df.isnull().sum()\n"
   ]
  },
  {
   "cell_type": "code",
   "execution_count": 7,
   "metadata": {},
   "outputs": [],
   "source": [
    "# these are columns we can drop\n",
    "col_drop = ['Community Served 6', 'Community Served 7',\n",
    "            'Community Served 8', 'Community Served 9',\n",
    "            'Community Served 10'\n",
    "           ]\n",
    "\n",
    "# these are columns that we want as Ids when we melt the table\n",
    "ID_variable = ['Country','Province', 'District', 'Sector', 'Cell', \n",
    "               'Bridge Site Name', 'Project Stage', \n",
    "               'Project Sub-Stage', 'Project Code', 'Bridge Type',\n",
    "               ' Span (m)', ' GPS (Latitude)', 'GPS (Longitude)',\n",
    "               'Individuals Directly Served', 'Form: Form Name',\n",
    "               'CaseSafeID Form', 'Bridge Opportunity: Opportunity ID',\n",
    "               'Assessment Date'\n",
    "              ]\n",
    "\n",
    "# these are the columns that we want to melt to values\n",
    "value_variables = ['Community Served 1', 'Community Served 2',\n",
    "                   'Community Served 3', 'Community Served 4',\n",
    "                   'Community Served 5'\n",
    "                  ]"
   ]
  },
  {
   "cell_type": "code",
   "execution_count": 8,
   "metadata": {
    "tags": []
   },
   "outputs": [
    {
     "output_type": "stream",
     "name": "stdout",
     "text": "Dimensions of dataset: (7360, 20)\n"
    },
    {
     "output_type": "execute_result",
     "data": {
      "text/plain": "  Country           Province District   Sector               Cell  \\\n0  Rwanda   Western Province   Rusizi   Giheke           Gakomeye   \n1  Rwanda   Western Province   Rusizi   Giheke           Gakomeye   \n2  Rwanda  Northern Province  Rulindo   Buyoga  Gahororo-Gipfundo   \n3  Rwanda  Northern Province  Gicumbi   Kageyo  Kabuga/gatobotobo   \n4  Rwanda  Southern Province  Kamonyi  Kayenzi              Kirwa   \n\n  Bridge Site Name Project Stage Project Sub-Stage Project Code Bridge Type  \\\n0             Buzi      Rejected         Technical      1014107   Suspended   \n1        Kamigisha      Rejected         Technical      1014106   Suspended   \n2         Gipfundo      Rejected         Technical      1007651   Suspended   \n3       Nyarubande      Rejected               NaN      1012493       Other   \n4           Gisizi    Identified         Requested      1014318   Suspended   \n\n    Span (m)   GPS (Latitude)  GPS (Longitude)  Individuals Directly Served  \\\n0        NaN        -2.420560        28.966200                          NaN   \n1        NaN        -2.424860        28.957260                          NaN   \n2        8.0        -1.720530        30.081240                          NaN   \n3        NaN        -1.655950        30.078840                          NaN   \n4        NaN        -1.870868        29.877686                          NaN   \n\n                   Form: Form Name     CaseSafeID Form  \\\n0  Project Assessment - 2018.10.29  a1if1000002e51bAAA   \n1  Project Assessment - 2018.10.29  a1if1000002e51WAAQ   \n2   Project Assessment - 2018.8.11  a1if10000025nz8AAA   \n3   Project Assessment - 2018.8.11  a1if10000025nzDAAQ   \n4  Project Assessment - 2018.11.15  a1if1000002gMwRAAU   \n\n  Bridge Opportunity: Opportunity ID Assessment Date Original_Community_col  \\\n0                    006f100000d1fk1      2018-10-29     Community Served 1   \n1                    006f100000d1fjw      2018-10-29     Community Served 1   \n2                    006f100000a86I3      2018-08-11     Community Served 1   \n3                    006f100000cPpL8      2018-08-11     Community Served 1   \n4                    006f100000eescb      2018-11-15     Community Served 1   \n\n  Community_Served  \n0             Buzi  \n1           Kabuga  \n2         Gapfundo  \n3              NaN  \n4           Gisizi  ",
      "text/html": "<div>\n<style scoped>\n    .dataframe tbody tr th:only-of-type {\n        vertical-align: middle;\n    }\n\n    .dataframe tbody tr th {\n        vertical-align: top;\n    }\n\n    .dataframe thead th {\n        text-align: right;\n    }\n</style>\n<table border=\"1\" class=\"dataframe\">\n  <thead>\n    <tr style=\"text-align: right;\">\n      <th></th>\n      <th>Country</th>\n      <th>Province</th>\n      <th>District</th>\n      <th>Sector</th>\n      <th>Cell</th>\n      <th>Bridge Site Name</th>\n      <th>Project Stage</th>\n      <th>Project Sub-Stage</th>\n      <th>Project Code</th>\n      <th>Bridge Type</th>\n      <th>Span (m)</th>\n      <th>GPS (Latitude)</th>\n      <th>GPS (Longitude)</th>\n      <th>Individuals Directly Served</th>\n      <th>Form: Form Name</th>\n      <th>CaseSafeID Form</th>\n      <th>Bridge Opportunity: Opportunity ID</th>\n      <th>Assessment Date</th>\n      <th>Original_Community_col</th>\n      <th>Community_Served</th>\n    </tr>\n  </thead>\n  <tbody>\n    <tr>\n      <th>0</th>\n      <td>Rwanda</td>\n      <td>Western Province</td>\n      <td>Rusizi</td>\n      <td>Giheke</td>\n      <td>Gakomeye</td>\n      <td>Buzi</td>\n      <td>Rejected</td>\n      <td>Technical</td>\n      <td>1014107</td>\n      <td>Suspended</td>\n      <td>NaN</td>\n      <td>-2.420560</td>\n      <td>28.966200</td>\n      <td>NaN</td>\n      <td>Project Assessment - 2018.10.29</td>\n      <td>a1if1000002e51bAAA</td>\n      <td>006f100000d1fk1</td>\n      <td>2018-10-29</td>\n      <td>Community Served 1</td>\n      <td>Buzi</td>\n    </tr>\n    <tr>\n      <th>1</th>\n      <td>Rwanda</td>\n      <td>Western Province</td>\n      <td>Rusizi</td>\n      <td>Giheke</td>\n      <td>Gakomeye</td>\n      <td>Kamigisha</td>\n      <td>Rejected</td>\n      <td>Technical</td>\n      <td>1014106</td>\n      <td>Suspended</td>\n      <td>NaN</td>\n      <td>-2.424860</td>\n      <td>28.957260</td>\n      <td>NaN</td>\n      <td>Project Assessment - 2018.10.29</td>\n      <td>a1if1000002e51WAAQ</td>\n      <td>006f100000d1fjw</td>\n      <td>2018-10-29</td>\n      <td>Community Served 1</td>\n      <td>Kabuga</td>\n    </tr>\n    <tr>\n      <th>2</th>\n      <td>Rwanda</td>\n      <td>Northern Province</td>\n      <td>Rulindo</td>\n      <td>Buyoga</td>\n      <td>Gahororo-Gipfundo</td>\n      <td>Gipfundo</td>\n      <td>Rejected</td>\n      <td>Technical</td>\n      <td>1007651</td>\n      <td>Suspended</td>\n      <td>8.0</td>\n      <td>-1.720530</td>\n      <td>30.081240</td>\n      <td>NaN</td>\n      <td>Project Assessment - 2018.8.11</td>\n      <td>a1if10000025nz8AAA</td>\n      <td>006f100000a86I3</td>\n      <td>2018-08-11</td>\n      <td>Community Served 1</td>\n      <td>Gapfundo</td>\n    </tr>\n    <tr>\n      <th>3</th>\n      <td>Rwanda</td>\n      <td>Northern Province</td>\n      <td>Gicumbi</td>\n      <td>Kageyo</td>\n      <td>Kabuga/gatobotobo</td>\n      <td>Nyarubande</td>\n      <td>Rejected</td>\n      <td>NaN</td>\n      <td>1012493</td>\n      <td>Other</td>\n      <td>NaN</td>\n      <td>-1.655950</td>\n      <td>30.078840</td>\n      <td>NaN</td>\n      <td>Project Assessment - 2018.8.11</td>\n      <td>a1if10000025nzDAAQ</td>\n      <td>006f100000cPpL8</td>\n      <td>2018-08-11</td>\n      <td>Community Served 1</td>\n      <td>NaN</td>\n    </tr>\n    <tr>\n      <th>4</th>\n      <td>Rwanda</td>\n      <td>Southern Province</td>\n      <td>Kamonyi</td>\n      <td>Kayenzi</td>\n      <td>Kirwa</td>\n      <td>Gisizi</td>\n      <td>Identified</td>\n      <td>Requested</td>\n      <td>1014318</td>\n      <td>Suspended</td>\n      <td>NaN</td>\n      <td>-1.870868</td>\n      <td>29.877686</td>\n      <td>NaN</td>\n      <td>Project Assessment - 2018.11.15</td>\n      <td>a1if1000002gMwRAAU</td>\n      <td>006f100000eescb</td>\n      <td>2018-11-15</td>\n      <td>Community Served 1</td>\n      <td>Gisizi</td>\n    </tr>\n  </tbody>\n</table>\n</div>"
     },
     "metadata": {},
     "execution_count": 8
    }
   ],
   "source": [
    "# melt the dataframe so we get all the communities that a bridge would serve in one column\n",
    "# this will make duplicate observations of bridges. THis is okay since we want to be able to get counts\n",
    "# of how many villages a bridge would service.\n",
    "\n",
    "melted_df = pd.melt(df, id_vars=ID_variable, value_vars=value_variables, var_name='Original_Community_col', value_name='Community_Served', ignore_index=False )\n",
    "print(f'Dimensions of dataset: {melted_df.shape}')\n",
    "melted_df.head()"
   ]
  },
  {
   "cell_type": "code",
   "execution_count": 9,
   "metadata": {
    "tags": []
   },
   "outputs": [
    {
     "output_type": "stream",
     "name": "stdout",
     "text": "Dimensions of dataset: (4559, 20)\n"
    },
    {
     "output_type": "execute_result",
     "data": {
      "text/plain": "  Country           Province District   Sector               Cell  \\\n0  Rwanda   Western Province   Rusizi   Giheke           Gakomeye   \n1  Rwanda   Western Province   Rusizi   Giheke           Gakomeye   \n2  Rwanda  Northern Province  Rulindo   Buyoga  Gahororo-Gipfundo   \n4  Rwanda  Southern Province  Kamonyi  Kayenzi              Kirwa   \n5  Rwanda  Southern Province  Kamonyi  Kayenzi              Kirwa   \n\n  Bridge Site Name Project Stage Project Sub-Stage Project Code Bridge Type  \\\n0             Buzi      Rejected         Technical      1014107   Suspended   \n1        Kamigisha      Rejected         Technical      1014106   Suspended   \n2         Gipfundo      Rejected         Technical      1007651   Suspended   \n4           Gisizi    Identified         Requested      1014318   Suspended   \n5           Ruheka      Rejected         Technical      1014319   Suspended   \n\n    Span (m)   GPS (Latitude)  GPS (Longitude)  Individuals Directly Served  \\\n0        NaN        -2.420560        28.966200                          NaN   \n1        NaN        -2.424860        28.957260                          NaN   \n2        8.0        -1.720530        30.081240                          NaN   \n4        NaN        -1.870868        29.877686                          NaN   \n5        NaN        -1.883957        29.850548                          NaN   \n\n                   Form: Form Name     CaseSafeID Form  \\\n0  Project Assessment - 2018.10.29  a1if1000002e51bAAA   \n1  Project Assessment - 2018.10.29  a1if1000002e51WAAQ   \n2   Project Assessment - 2018.8.11  a1if10000025nz8AAA   \n4  Project Assessment - 2018.11.15  a1if1000002gMwRAAU   \n5  Project Assessment - 2018.11.15  a1if1000002gMwqAAE   \n\n  Bridge Opportunity: Opportunity ID Assessment Date Original_Community_col  \\\n0                    006f100000d1fk1      2018-10-29     Community Served 1   \n1                    006f100000d1fjw      2018-10-29     Community Served 1   \n2                    006f100000a86I3      2018-08-11     Community Served 1   \n4                    006f100000eescb      2018-11-15     Community Served 1   \n5                    006f100000eescl      2018-11-15     Community Served 1   \n\n  Community_Served  \n0             Buzi  \n1           Kabuga  \n2         Gapfundo  \n4           Gisizi  \n5           Ruheka  ",
      "text/html": "<div>\n<style scoped>\n    .dataframe tbody tr th:only-of-type {\n        vertical-align: middle;\n    }\n\n    .dataframe tbody tr th {\n        vertical-align: top;\n    }\n\n    .dataframe thead th {\n        text-align: right;\n    }\n</style>\n<table border=\"1\" class=\"dataframe\">\n  <thead>\n    <tr style=\"text-align: right;\">\n      <th></th>\n      <th>Country</th>\n      <th>Province</th>\n      <th>District</th>\n      <th>Sector</th>\n      <th>Cell</th>\n      <th>Bridge Site Name</th>\n      <th>Project Stage</th>\n      <th>Project Sub-Stage</th>\n      <th>Project Code</th>\n      <th>Bridge Type</th>\n      <th>Span (m)</th>\n      <th>GPS (Latitude)</th>\n      <th>GPS (Longitude)</th>\n      <th>Individuals Directly Served</th>\n      <th>Form: Form Name</th>\n      <th>CaseSafeID Form</th>\n      <th>Bridge Opportunity: Opportunity ID</th>\n      <th>Assessment Date</th>\n      <th>Original_Community_col</th>\n      <th>Community_Served</th>\n    </tr>\n  </thead>\n  <tbody>\n    <tr>\n      <th>0</th>\n      <td>Rwanda</td>\n      <td>Western Province</td>\n      <td>Rusizi</td>\n      <td>Giheke</td>\n      <td>Gakomeye</td>\n      <td>Buzi</td>\n      <td>Rejected</td>\n      <td>Technical</td>\n      <td>1014107</td>\n      <td>Suspended</td>\n      <td>NaN</td>\n      <td>-2.420560</td>\n      <td>28.966200</td>\n      <td>NaN</td>\n      <td>Project Assessment - 2018.10.29</td>\n      <td>a1if1000002e51bAAA</td>\n      <td>006f100000d1fk1</td>\n      <td>2018-10-29</td>\n      <td>Community Served 1</td>\n      <td>Buzi</td>\n    </tr>\n    <tr>\n      <th>1</th>\n      <td>Rwanda</td>\n      <td>Western Province</td>\n      <td>Rusizi</td>\n      <td>Giheke</td>\n      <td>Gakomeye</td>\n      <td>Kamigisha</td>\n      <td>Rejected</td>\n      <td>Technical</td>\n      <td>1014106</td>\n      <td>Suspended</td>\n      <td>NaN</td>\n      <td>-2.424860</td>\n      <td>28.957260</td>\n      <td>NaN</td>\n      <td>Project Assessment - 2018.10.29</td>\n      <td>a1if1000002e51WAAQ</td>\n      <td>006f100000d1fjw</td>\n      <td>2018-10-29</td>\n      <td>Community Served 1</td>\n      <td>Kabuga</td>\n    </tr>\n    <tr>\n      <th>2</th>\n      <td>Rwanda</td>\n      <td>Northern Province</td>\n      <td>Rulindo</td>\n      <td>Buyoga</td>\n      <td>Gahororo-Gipfundo</td>\n      <td>Gipfundo</td>\n      <td>Rejected</td>\n      <td>Technical</td>\n      <td>1007651</td>\n      <td>Suspended</td>\n      <td>8.0</td>\n      <td>-1.720530</td>\n      <td>30.081240</td>\n      <td>NaN</td>\n      <td>Project Assessment - 2018.8.11</td>\n      <td>a1if10000025nz8AAA</td>\n      <td>006f100000a86I3</td>\n      <td>2018-08-11</td>\n      <td>Community Served 1</td>\n      <td>Gapfundo</td>\n    </tr>\n    <tr>\n      <th>4</th>\n      <td>Rwanda</td>\n      <td>Southern Province</td>\n      <td>Kamonyi</td>\n      <td>Kayenzi</td>\n      <td>Kirwa</td>\n      <td>Gisizi</td>\n      <td>Identified</td>\n      <td>Requested</td>\n      <td>1014318</td>\n      <td>Suspended</td>\n      <td>NaN</td>\n      <td>-1.870868</td>\n      <td>29.877686</td>\n      <td>NaN</td>\n      <td>Project Assessment - 2018.11.15</td>\n      <td>a1if1000002gMwRAAU</td>\n      <td>006f100000eescb</td>\n      <td>2018-11-15</td>\n      <td>Community Served 1</td>\n      <td>Gisizi</td>\n    </tr>\n    <tr>\n      <th>5</th>\n      <td>Rwanda</td>\n      <td>Southern Province</td>\n      <td>Kamonyi</td>\n      <td>Kayenzi</td>\n      <td>Kirwa</td>\n      <td>Ruheka</td>\n      <td>Rejected</td>\n      <td>Technical</td>\n      <td>1014319</td>\n      <td>Suspended</td>\n      <td>NaN</td>\n      <td>-1.883957</td>\n      <td>29.850548</td>\n      <td>NaN</td>\n      <td>Project Assessment - 2018.11.15</td>\n      <td>a1if1000002gMwqAAE</td>\n      <td>006f100000eescl</td>\n      <td>2018-11-15</td>\n      <td>Community Served 1</td>\n      <td>Ruheka</td>\n    </tr>\n  </tbody>\n</table>\n</div>"
     },
     "metadata": {},
     "execution_count": 9
    }
   ],
   "source": [
    "# now that we have our melted dataframe, we want to delete any observation that has a \n",
    "# null value in the 'Community_Served' column\n",
    "\n",
    "melted_df = melted_df[melted_df['Community_Served'].notna()]\n",
    "print(f'Dimensions of dataset: {melted_df.shape}')\n",
    "melted_df.head()"
   ]
  },
  {
   "cell_type": "code",
   "execution_count": 10,
   "metadata": {},
   "outputs": [
    {
     "output_type": "execute_result",
     "data": {
      "text/plain": "Country                                  0\nProvince                                 0\nDistrict                                 0\nSector                                   3\nCell                                    59\nBridge Site Name                         0\nProject Stage                            0\nProject Sub-Stage                      212\nProject Code                             0\nBridge Type                            202\n Span (m)                             3438\n GPS (Latitude)                          2\nGPS (Longitude)                          2\nIndividuals Directly Served           4458\nForm: Form Name                          0\nCaseSafeID Form                          0\nBridge Opportunity: Opportunity ID       0\nAssessment Date                          0\nOriginal_Community_col                   0\nCommunity_Served                         0\ndtype: int64"
     },
     "metadata": {},
     "execution_count": 10
    }
   ],
   "source": [
    "# lets check to see if there are still null values that we care about in the dataset\n",
    "\n",
    "melted_df.isnull().sum()\n"
   ]
  }
 ],
 "metadata": {
  "kernelspec": {
   "display_name": "Labs25 (Python3)",
   "language": "python",
   "name": "labs25"
  },
  "language_info": {
   "codemirror_mode": {
    "name": "ipython",
    "version": 3
   },
   "file_extension": ".py",
   "mimetype": "text/x-python",
   "name": "python",
   "nbconvert_exporter": "python",
   "pygments_lexer": "ipython3",
   "version": "3.7.0-final"
  }
 },
 "nbformat": 4,
 "nbformat_minor": 4
}
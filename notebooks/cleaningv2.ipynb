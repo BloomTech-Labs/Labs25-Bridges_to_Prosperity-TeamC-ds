{
 "cells": [
  {
   "cell_type": "code",
   "execution_count": 1,
   "metadata": {},
   "outputs": [],
   "source": [
    "import pandas as pd\n",
    "import seaborn as sns"
   ]
  },
  {
   "cell_type": "code",
   "execution_count": 2,
   "metadata": {
    "tags": []
   },
   "outputs": [
    {
     "output_type": "stream",
     "name": "stdout",
     "text": "Dimensions of dataset: (1472, 27)\n"
    },
    {
     "output_type": "execute_result",
     "data": {
      "text/plain": "  Country           Province District   Sector               Cell  \\\n0  Rwanda   Western Province   Rusizi   Giheke           Gakomeye   \n1  Rwanda   Western Province   Rusizi   Giheke           Gakomeye   \n2  Rwanda  Northern Province  Rulindo   Buyoga  Gahororo-Gipfundo   \n3  Rwanda  Northern Province  Gicumbi   Kageyo  Kabuga/gatobotobo   \n4  Rwanda  Southern Province  Kamonyi  Kayenzi              Kirwa   \n\n  Bridge Site Name Project Stage Project Sub-Stage Project Code Bridge Type  \\\n0             Buzi      Rejected         Technical      1014107   Suspended   \n1        Kamigisha      Rejected         Technical      1014106   Suspended   \n2         Gipfundo      Rejected         Technical      1007651   Suspended   \n3       Nyarubande      Rejected               NaN      1012493       Other   \n4           Gisizi    Identified         Requested      1014318   Suspended   \n\n    Span (m)   GPS (Latitude)  GPS (Longitude)  Individuals Directly Served  \\\n0        NaN        -2.420560        28.966200                          NaN   \n1        NaN        -2.424860        28.957260                          NaN   \n2        8.0        -1.720530        30.081240                          NaN   \n3        NaN        -1.655950        30.078840                          NaN   \n4        NaN        -1.870868        29.877686                          NaN   \n\n                   Form: Form Name Community Served 1   Community Served 2  \\\n0  Project Assessment - 2018.10.29               Buzi               Kabuga   \n1  Project Assessment - 2018.10.29             Kabuga                 Buzi   \n2   Project Assessment - 2018.8.11           Gapfundo  Rusabira ( Gicumbi)   \n3   Project Assessment - 2018.8.11                NaN                  NaN   \n4  Project Assessment - 2018.11.15             Gisizi            Nyabitare   \n\n  Community Served 3 Community Served 4 Community Served 5  \\\n0           Kagarama            Gacyamo            Gasheke   \n1  Gacyamo - Gasheke           Kagarama             Kanoga   \n2             Merezo           Minanire          Karutongo   \n3                NaN                NaN                NaN   \n4                NaN                NaN                NaN   \n\n   Community Served 6  Community Served 7  Community Served 8  \\\n0                 NaN                 NaN                 NaN   \n1                 NaN                 NaN                 NaN   \n2                 NaN                 NaN                 NaN   \n3                 NaN                 NaN                 NaN   \n4                 NaN                 NaN                 NaN   \n\n   Community Served 9  Community Served 10     CaseSafeID Form  \\\n0                 NaN                  NaN  a1if1000002e51bAAA   \n1                 NaN                  NaN  a1if1000002e51WAAQ   \n2                 NaN                  NaN  a1if10000025nz8AAA   \n3                 NaN                  NaN  a1if10000025nzDAAQ   \n4                 NaN                  NaN  a1if1000002gMwRAAU   \n\n  Bridge Opportunity: Opportunity ID  \n0                    006f100000d1fk1  \n1                    006f100000d1fjw  \n2                    006f100000a86I3  \n3                    006f100000cPpL8  \n4                    006f100000eescb  ",
      "text/html": "<div>\n<style scoped>\n    .dataframe tbody tr th:only-of-type {\n        vertical-align: middle;\n    }\n\n    .dataframe tbody tr th {\n        vertical-align: top;\n    }\n\n    .dataframe thead th {\n        text-align: right;\n    }\n</style>\n<table border=\"1\" class=\"dataframe\">\n  <thead>\n    <tr style=\"text-align: right;\">\n      <th></th>\n      <th>Country</th>\n      <th>Province</th>\n      <th>District</th>\n      <th>Sector</th>\n      <th>Cell</th>\n      <th>Bridge Site Name</th>\n      <th>Project Stage</th>\n      <th>Project Sub-Stage</th>\n      <th>Project Code</th>\n      <th>Bridge Type</th>\n      <th>Span (m)</th>\n      <th>GPS (Latitude)</th>\n      <th>GPS (Longitude)</th>\n      <th>Individuals Directly Served</th>\n      <th>Form: Form Name</th>\n      <th>Community Served 1</th>\n      <th>Community Served 2</th>\n      <th>Community Served 3</th>\n      <th>Community Served 4</th>\n      <th>Community Served 5</th>\n      <th>Community Served 6</th>\n      <th>Community Served 7</th>\n      <th>Community Served 8</th>\n      <th>Community Served 9</th>\n      <th>Community Served 10</th>\n      <th>CaseSafeID Form</th>\n      <th>Bridge Opportunity: Opportunity ID</th>\n    </tr>\n  </thead>\n  <tbody>\n    <tr>\n      <td>0</td>\n      <td>Rwanda</td>\n      <td>Western Province</td>\n      <td>Rusizi</td>\n      <td>Giheke</td>\n      <td>Gakomeye</td>\n      <td>Buzi</td>\n      <td>Rejected</td>\n      <td>Technical</td>\n      <td>1014107</td>\n      <td>Suspended</td>\n      <td>NaN</td>\n      <td>-2.420560</td>\n      <td>28.966200</td>\n      <td>NaN</td>\n      <td>Project Assessment - 2018.10.29</td>\n      <td>Buzi</td>\n      <td>Kabuga</td>\n      <td>Kagarama</td>\n      <td>Gacyamo</td>\n      <td>Gasheke</td>\n      <td>NaN</td>\n      <td>NaN</td>\n      <td>NaN</td>\n      <td>NaN</td>\n      <td>NaN</td>\n      <td>a1if1000002e51bAAA</td>\n      <td>006f100000d1fk1</td>\n    </tr>\n    <tr>\n      <td>1</td>\n      <td>Rwanda</td>\n      <td>Western Province</td>\n      <td>Rusizi</td>\n      <td>Giheke</td>\n      <td>Gakomeye</td>\n      <td>Kamigisha</td>\n      <td>Rejected</td>\n      <td>Technical</td>\n      <td>1014106</td>\n      <td>Suspended</td>\n      <td>NaN</td>\n      <td>-2.424860</td>\n      <td>28.957260</td>\n      <td>NaN</td>\n      <td>Project Assessment - 2018.10.29</td>\n      <td>Kabuga</td>\n      <td>Buzi</td>\n      <td>Gacyamo - Gasheke</td>\n      <td>Kagarama</td>\n      <td>Kanoga</td>\n      <td>NaN</td>\n      <td>NaN</td>\n      <td>NaN</td>\n      <td>NaN</td>\n      <td>NaN</td>\n      <td>a1if1000002e51WAAQ</td>\n      <td>006f100000d1fjw</td>\n    </tr>\n    <tr>\n      <td>2</td>\n      <td>Rwanda</td>\n      <td>Northern Province</td>\n      <td>Rulindo</td>\n      <td>Buyoga</td>\n      <td>Gahororo-Gipfundo</td>\n      <td>Gipfundo</td>\n      <td>Rejected</td>\n      <td>Technical</td>\n      <td>1007651</td>\n      <td>Suspended</td>\n      <td>8.0</td>\n      <td>-1.720530</td>\n      <td>30.081240</td>\n      <td>NaN</td>\n      <td>Project Assessment - 2018.8.11</td>\n      <td>Gapfundo</td>\n      <td>Rusabira ( Gicumbi)</td>\n      <td>Merezo</td>\n      <td>Minanire</td>\n      <td>Karutongo</td>\n      <td>NaN</td>\n      <td>NaN</td>\n      <td>NaN</td>\n      <td>NaN</td>\n      <td>NaN</td>\n      <td>a1if10000025nz8AAA</td>\n      <td>006f100000a86I3</td>\n    </tr>\n    <tr>\n      <td>3</td>\n      <td>Rwanda</td>\n      <td>Northern Province</td>\n      <td>Gicumbi</td>\n      <td>Kageyo</td>\n      <td>Kabuga/gatobotobo</td>\n      <td>Nyarubande</td>\n      <td>Rejected</td>\n      <td>NaN</td>\n      <td>1012493</td>\n      <td>Other</td>\n      <td>NaN</td>\n      <td>-1.655950</td>\n      <td>30.078840</td>\n      <td>NaN</td>\n      <td>Project Assessment - 2018.8.11</td>\n      <td>NaN</td>\n      <td>NaN</td>\n      <td>NaN</td>\n      <td>NaN</td>\n      <td>NaN</td>\n      <td>NaN</td>\n      <td>NaN</td>\n      <td>NaN</td>\n      <td>NaN</td>\n      <td>NaN</td>\n      <td>a1if10000025nzDAAQ</td>\n      <td>006f100000cPpL8</td>\n    </tr>\n    <tr>\n      <td>4</td>\n      <td>Rwanda</td>\n      <td>Southern Province</td>\n      <td>Kamonyi</td>\n      <td>Kayenzi</td>\n      <td>Kirwa</td>\n      <td>Gisizi</td>\n      <td>Identified</td>\n      <td>Requested</td>\n      <td>1014318</td>\n      <td>Suspended</td>\n      <td>NaN</td>\n      <td>-1.870868</td>\n      <td>29.877686</td>\n      <td>NaN</td>\n      <td>Project Assessment - 2018.11.15</td>\n      <td>Gisizi</td>\n      <td>Nyabitare</td>\n      <td>NaN</td>\n      <td>NaN</td>\n      <td>NaN</td>\n      <td>NaN</td>\n      <td>NaN</td>\n      <td>NaN</td>\n      <td>NaN</td>\n      <td>NaN</td>\n      <td>a1if1000002gMwRAAU</td>\n      <td>006f100000eescb</td>\n    </tr>\n  </tbody>\n</table>\n</div>"
     },
     "metadata": {},
     "execution_count": 2
    }
   ],
   "source": [
    "# read in data\n",
    "pd.set_option('display.max_columns', None)\n",
    "pd.set_option('display.max_rows', None)\n",
    "file_path = 'https://raw.githubusercontent.com/Lambda-School-Labs/Labs25-Bridges_to_Prosperity-TeamC-ds/main/B2P%20Rwanda%20Site%20Assessment%20Data_2020.06.03.csv'\n",
    "df = pd.read_csv(file_path, encoding='latin-1')\n",
    "print(f'Dimensions of dataset: {df.shape}')\n",
    "df.head()"
   ]
  },
  {
   "cell_type": "code",
   "execution_count": 18,
   "metadata": {
    "tags": []
   },
   "outputs": [],
   "source": [
    "# split the Form: Form Name to get the data from the column and convert date to datetime\n",
    "\n",
    "df['Assessment Date'] = df['Form: Form Name'].str.replace('Project Assessment - ', \"\")\n",
    "\n",
    "df['Assessment Date'] = pd.to_datetime(df['Assessment Date'])\n",
    "print(f'Dimensions of dataset: {df.shape}')\n",
    "df.head()"
   ]
  },
  {
   "cell_type": "code",
   "execution_count": 55,
   "metadata": {},
   "outputs": [],
   "source": [
    "# what are the duplicate project codes?\n",
    "# it looks like that all the duplicates have two values. One has three.\n",
    "# a quick and simple way to remove the duplicates would keep the sorting by project code and assesment date\n",
    "# then drop the duplicates and keep the first occurence. That way we have the most recent date. \n",
    "\n",
    "# this was our test to find all the duplicates that we needed to drop\n",
    "# testing = df[df.duplicated(subset='Project Code', keep=False)].sort_values(by=['Project Code', 'Assessment Date'], ascending=False)\n",
    "# testing.head()\n",
    "# testing[testing['Individuals Directly Served'].notna()]\n",
    "\n",
    "# Indices that we "
   ]
  },
  {
   "cell_type": "code",
   "execution_count": 4,
   "metadata": {
    "tags": []
   },
   "outputs": [
    {
     "output_type": "stream",
     "name": "stdout",
     "text": "Dimensions of dataset: (1423, 28)\n"
    }
   ],
   "source": [
    "# manually went thru above duplicates and selected those that needed to be DROPPED. \n",
    "\n",
    "indexes_to_drop = [192,210,216,767,202,1119,908,735,901,272,643,756,\n",
    "                   738,193,655,642,327,909,1274,1289,135,176,1213,\n",
    "                   493,178,205,387,397,395,398,399,401,372,371,892,\n",
    "                   839,776,171,169,170,1117,1096,771,1109,95,89,132,133,134,\n",
    "                   ]\n",
    "\n",
    "\n",
    "df = df.drop(index=indexes_to_drop)\n",
    "print(f'Dimensions of dataset: {df.shape}')"
   ]
  },
  {
   "cell_type": "code",
   "execution_count": 67,
   "metadata": {},
   "outputs": [
    {
     "output_type": "execute_result",
     "data": {
      "text/plain": "False    1423\ndtype: int64"
     },
     "metadata": {},
     "execution_count": 67
    }
   ],
   "source": [
    "# make sure there are no duplicates \n",
    "\n",
    "df.duplicated(subset='Project Code', keep=False).value_counts()"
   ]
  },
  {
   "cell_type": "code",
   "execution_count": 17,
   "metadata": {
    "tags": []
   },
   "outputs": [],
   "source": [
    "# there are some columns that are all null values, we can drop those.\n",
    "df.isnull().sum()\n"
   ]
  },
  {
   "cell_type": "code",
   "execution_count": 5,
   "metadata": {},
   "outputs": [],
   "source": [
    "# these are columns we can drop\n",
    "col_drop = ['Community Served 6', 'Community Served 7',\n",
    "            'Community Served 8', 'Community Served 9',\n",
    "            'Community Served 10'\n",
    "           ]\n",
    "\n",
    "# these are columns that we want as Ids when we melt the table\n",
    "ID_variable = ['Country','Province', 'District', 'Sector', 'Cell', \n",
    "               'Bridge Site Name', 'Project Stage', \n",
    "               'Project Sub-Stage', 'Project Code', 'Bridge Type',\n",
    "               ' Span (m)', ' GPS (Latitude)', 'GPS (Longitude)',\n",
    "               'Individuals Directly Served', 'Form: Form Name',\n",
    "               'CaseSafeID Form', 'Bridge Opportunity: Opportunity ID',\n",
    "               'Assessment Date'\n",
    "              ]\n",
    "\n",
    "# these are the columns that we want to melt to values\n",
    "value_variables = ['Community Served 1', 'Community Served 2',\n",
    "                   'Community Served 3', 'Community Served 4',\n",
    "                   'Community Served 5'\n",
    "                  ]"
   ]
  },
  {
   "cell_type": "code",
   "execution_count": 16,
   "metadata": {
    "tags": []
   },
   "outputs": [],
   "source": [
    "# melt the dataframe so we get all the communities that a bridge would serve in one column\n",
    "# this will make duplicate observations of bridges. THis is okay since we want to be able to get counts\n",
    "# of how many villages a bridge would service.\n",
    "\n",
    "melted_df = pd.melt(df, id_vars=ID_variable, value_vars=value_variables, var_name='Original_Community_col', value_name='Community_Served', )\n",
    "print(f'Dimensions of dataset: {melted_df.shape}')\n",
    "melted_df.head()"
   ]
  },
  {
   "cell_type": "code",
   "execution_count": 15,
   "metadata": {
    "tags": []
   },
   "outputs": [],
   "source": [
    "# now that we have our melted dataframe, we want to delete any observation that has a \n",
    "# null value in the 'Community_Served' column\n",
    "\n",
    "melted_df = melted_df[melted_df['Community_Served'].notna()]\n",
    "print(f'Dimensions of dataset: {melted_df.shape}')\n",
    "melted_df.head()"
   ]
  },
  {
   "cell_type": "code",
   "execution_count": 14,
   "metadata": {},
   "outputs": [],
   "source": [
    "# lets check to see if there are still null values that we care about in the dataset\n",
    "\n",
    "melted_df.isnull().sum()\n"
   ]
  },
  {
   "cell_type": "code",
   "execution_count": 13,
   "metadata": {},
   "outputs": [],
   "source": [
    "melted_df.sort_values(by='Project Code').head()"
   ]
  },
  {
   "cell_type": "code",
   "execution_count": 125,
   "metadata": {},
   "outputs": [
    {
     "output_type": "execute_result",
     "data": {
      "text/plain": "array(['Western Province', 'Northern Province', 'Southern Province',\n       'Kigali', 'Eastern Province'], dtype=object)"
     },
     "metadata": {},
     "execution_count": 125
    }
   ],
   "source": [
    "print(melted_df['Province'].unique())\n",
    "\n",
    "print(melted_df['Dist'].unique())"
   ]
  },
  {
   "cell_type": "code",
   "execution_count": 19,
   "metadata": {
    "tags": []
   },
   "outputs": [
    {
     "output_type": "stream",
     "name": "stdout",
     "text": "Dimensions of dataset: (14816, 12)\n"
    },
    {
     "output_type": "execute_result",
     "data": {
      "text/plain": "   Prov_ID   Province  Dist_ID  District  Sect_ID   Sector  Cell_ID      Cell  \\\n0        2  Amajyepfo       22  Gisagara     2205  Kigembe   220501  Agahabwa   \n1        2  Amajyepfo       22  Gisagara     2205  Kigembe   220501  Agahabwa   \n2        2  Amajyepfo       22  Gisagara     2205  Kigembe   220501  Agahabwa   \n3        2  Amajyepfo       22  Gisagara     2205  Kigembe   220501  Agahabwa   \n4        2  Amajyepfo       22  Gisagara     2205  Kigembe   220501  Agahabwa   \n\n    Vill_ID    Village Status   FID  \n0  22050101    Agahehe  Rural  1842  \n1  22050102   Kabacuzi  Rural  1846  \n2  22050103   Kamutozo  Rural  1854  \n3  22050104    Kamweko  Rural  1866  \n4  22050105  Nyamabuye  Rural  1873  ",
      "text/html": "<div>\n<style scoped>\n    .dataframe tbody tr th:only-of-type {\n        vertical-align: middle;\n    }\n\n    .dataframe tbody tr th {\n        vertical-align: top;\n    }\n\n    .dataframe thead th {\n        text-align: right;\n    }\n</style>\n<table border=\"1\" class=\"dataframe\">\n  <thead>\n    <tr style=\"text-align: right;\">\n      <th></th>\n      <th>Prov_ID</th>\n      <th>Province</th>\n      <th>Dist_ID</th>\n      <th>District</th>\n      <th>Sect_ID</th>\n      <th>Sector</th>\n      <th>Cell_ID</th>\n      <th>Cell</th>\n      <th>Vill_ID</th>\n      <th>Village</th>\n      <th>Status</th>\n      <th>FID</th>\n    </tr>\n  </thead>\n  <tbody>\n    <tr>\n      <td>0</td>\n      <td>2</td>\n      <td>Amajyepfo</td>\n      <td>22</td>\n      <td>Gisagara</td>\n      <td>2205</td>\n      <td>Kigembe</td>\n      <td>220501</td>\n      <td>Agahabwa</td>\n      <td>22050101</td>\n      <td>Agahehe</td>\n      <td>Rural</td>\n      <td>1842</td>\n    </tr>\n    <tr>\n      <td>1</td>\n      <td>2</td>\n      <td>Amajyepfo</td>\n      <td>22</td>\n      <td>Gisagara</td>\n      <td>2205</td>\n      <td>Kigembe</td>\n      <td>220501</td>\n      <td>Agahabwa</td>\n      <td>22050102</td>\n      <td>Kabacuzi</td>\n      <td>Rural</td>\n      <td>1846</td>\n    </tr>\n    <tr>\n      <td>2</td>\n      <td>2</td>\n      <td>Amajyepfo</td>\n      <td>22</td>\n      <td>Gisagara</td>\n      <td>2205</td>\n      <td>Kigembe</td>\n      <td>220501</td>\n      <td>Agahabwa</td>\n      <td>22050103</td>\n      <td>Kamutozo</td>\n      <td>Rural</td>\n      <td>1854</td>\n    </tr>\n    <tr>\n      <td>3</td>\n      <td>2</td>\n      <td>Amajyepfo</td>\n      <td>22</td>\n      <td>Gisagara</td>\n      <td>2205</td>\n      <td>Kigembe</td>\n      <td>220501</td>\n      <td>Agahabwa</td>\n      <td>22050104</td>\n      <td>Kamweko</td>\n      <td>Rural</td>\n      <td>1866</td>\n    </tr>\n    <tr>\n      <td>4</td>\n      <td>2</td>\n      <td>Amajyepfo</td>\n      <td>22</td>\n      <td>Gisagara</td>\n      <td>2205</td>\n      <td>Kigembe</td>\n      <td>220501</td>\n      <td>Agahabwa</td>\n      <td>22050105</td>\n      <td>Nyamabuye</td>\n      <td>Rural</td>\n      <td>1873</td>\n    </tr>\n  </tbody>\n</table>\n</div>"
     },
     "metadata": {},
     "execution_count": 19
    }
   ],
   "source": [
    "# Read in the Data of Government Entities with Government IDs\n",
    "\n",
    "gov_file_path = 'https://raw.githubusercontent.com/tmbern/Labs25-Bridges_to_Prosperity-TeamC-ds/main/Rwanda%20Administrative%20Levels%20and%20Codes_Province%20through%20Village_2019.02.28.csv'\n",
    "gov_df = pd.read_csv(gov_file_path, encoding='latin-1')\n",
    "print(f'Dimensions of dataset: {gov_df.shape}')\n",
    "gov_df.head()\n"
   ]
  },
  {
   "cell_type": "code",
   "execution_count": 26,
   "metadata": {},
   "outputs": [
    {
     "output_type": "execute_result",
     "data": {
      "text/plain": "{'Bugesera': 57,\n 'Burera': 44,\n 'Gakenke': 42,\n 'Gasabo': 12,\n 'Gatsibo': 53,\n 'Gicumbi': 45,\n 'Gisagara': 22,\n 'Huye': 24,\n 'Kamonyi': 28,\n 'Karongi': 31,\n 'Kayonza': 54,\n 'Kicukiro': 13,\n 'Kirehe': 55,\n 'Muhanga': 27,\n 'Musanze': 43,\n 'Ngoma': 56,\n 'Ngororero': 35,\n 'Nyabihu': 34,\n 'Nyagatare': 52,\n 'Nyamagabe': 25,\n 'Nyamasheke': 37,\n 'Nyanza': 21,\n 'Nyarugenge': 11,\n 'Nyaruguru': 23,\n 'Rubavu': 33,\n 'Ruhango': 26,\n 'Rulindo': 41,\n 'Rusizi': 36,\n 'Rutsiro': 32,\n 'Rwamagana': 51}"
     },
     "metadata": {},
     "execution_count": 26
    }
   ],
   "source": [
    "# District ID dict \n",
    "district_ID_dict = gov_df['Dist_ID'].groupby(gov_df['District']).unique().apply(pd.Series).to_dict()[0]\n",
    "district_ID_dict"
   ]
  },
  {
   "cell_type": "code",
   "execution_count": 126,
   "metadata": {},
   "outputs": [],
   "source": [
    "# Province dictionary. Key is B2P Province name, Value is government province ID\n",
    "province_dict = {'Northern Province': 4,\n",
    "                 'Southern Province': 2,\n",
    "                 'Eastern Province': 5,\n",
    "                 'Western Province': 3,\n",
    "                 'Kigali': 1\n",
    "                 }"
   ]
  },
  {
   "cell_type": "code",
   "execution_count": 140,
   "metadata": {},
   "outputs": [
    {
     "output_type": "execute_result",
     "data": {
      "text/plain": "True"
     },
     "metadata": {},
     "execution_count": 140
    }
   ],
   "source": [
    "# There are the same amount of government Districts as there is in B2P districts. \n",
    "len(melted_df['District'].unique()) == len(gov_df['District'].unique())\n",
    "# check length of \"district\" strings on both dfs\n",
    "sorted(melted_df['District'].unique()) == sorted(gov_df['District'].unique())"
   ]
  },
  {
   "cell_type": "code",
   "execution_count": 27,
   "metadata": {},
   "outputs": [
    {
     "output_type": "execute_result",
     "data": {
      "text/plain": "Index(['Country', 'Province', 'District', 'Sector', 'Cell', 'Bridge Site Name',\n       'Project Stage', 'Project Sub-Stage', 'Project Code', 'Bridge Type',\n       ' Span (m)', ' GPS (Latitude)', 'GPS (Longitude)',\n       'Individuals Directly Served', 'Form: Form Name', 'CaseSafeID Form',\n       'Bridge Opportunity: Opportunity ID', 'Assessment Date',\n       'Original_Community_col', 'Community_Served'],\n      dtype='object')"
     },
     "metadata": {},
     "execution_count": 27
    }
   ],
   "source": [
    "melted_df.columns"
   ]
  },
  {
   "cell_type": "code",
   "execution_count": 28,
   "metadata": {},
   "outputs": [
    {
     "output_type": "execute_result",
     "data": {
      "text/plain": "Index(['Prov_ID', 'Province', 'Dist_ID', 'District', 'Sect_ID', 'Sector',\n       'Cell_ID', 'Cell', 'Vill_ID', 'Village', 'Status', 'FID'],\n      dtype='object')"
     },
     "metadata": {},
     "execution_count": 28
    }
   ],
   "source": [
    "gov_df.columns"
   ]
  },
  {
   "cell_type": "code",
   "execution_count": 29,
   "metadata": {},
   "outputs": [
    {
     "output_type": "execute_result",
     "data": {
      "text/plain": "False"
     },
     "metadata": {},
     "execution_count": 29
    }
   ],
   "source": [
    "# Sector ID \n",
    "# check that df['sector'] == gov_df['sector']\n",
    "len(melted_df['Sector'].unique()) == len(gov_df['Sector'].unique())"
   ]
  },
  {
   "cell_type": "code",
   "execution_count": 44,
   "metadata": {},
   "outputs": [
    {
     "output_type": "execute_result",
     "data": {
      "text/plain": "348"
     },
     "metadata": {},
     "execution_count": 44
    }
   ],
   "source": [
    "# check df['sector'] not in gov_df['sector']\n",
    "x = [x for x in set(melted_df['Sector']) if x not in set(gov_df['Sector'])]\n",
    "len(x)"
   ]
  },
  {
   "cell_type": "code",
   "execution_count": 196,
   "metadata": {},
   "outputs": [],
   "source": [
    "# Strip sectors down to single sector names \n",
    "# with regular expressions \n",
    "import re\n",
    "melted_df['new_sector'] = [re.split(\"-|~|_|(sector)|(Sector)|(cell)|\\(|~\", i)[0] for i in melted_df['Sector']]\n",
    "melted_df['new_sector'] = melted_df['new_sector'].str.replace(\" \",\"\")\n",
    "melted_df['new_sector']"
   ]
  },
  {
   "cell_type": "code",
   "execution_count": 199,
   "metadata": {},
   "outputs": [
    {
     "output_type": "execute_result",
     "data": {
      "text/plain": "True"
     },
     "metadata": {},
     "execution_count": 199
    }
   ],
   "source": [
    "# confirm that df sector list is less than gov list of sectors - important \n",
    "melted_df['new_sector'].nunique() < gov_df['Sector'].nunique()"
   ]
  },
  {
   "cell_type": "code",
   "execution_count": null,
   "metadata": {},
   "outputs": [],
   "source": []
  }
 ],
 "metadata": {
  "kernelspec": {
   "display_name": "Python 3.7.4 64-bit ('base': conda)",
   "language": "python",
   "name": "python_defaultSpec_1597694222627"
  },
  "language_info": {
   "codemirror_mode": {
    "name": "ipython",
    "version": 3
   },
   "file_extension": ".py",
   "mimetype": "text/x-python",
   "name": "python",
   "nbconvert_exporter": "python",
   "pygments_lexer": "ipython3",
   "version": "3.7.4-final"
  }
 },
 "nbformat": 4,
 "nbformat_minor": 4
}
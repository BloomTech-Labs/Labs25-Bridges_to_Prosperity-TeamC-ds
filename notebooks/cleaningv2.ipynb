{
 "cells": [
  {
   "cell_type": "code",
   "execution_count": 11,
   "metadata": {},
   "outputs": [],
   "source": [
    "import pandas as pd\n",
    "import seaborn as sns"
   ]
  },
  {
   "cell_type": "code",
   "execution_count": 141,
   "metadata": {
    "tags": []
   },
   "outputs": [],
   "source": [
    "# read in data\n",
    "pd.set_option('display.max_columns', None)\n",
    "pd.set_option('display.max_rows', None)\n",
    "file_path = 'https://raw.githubusercontent.com/Lambda-School-Labs/Labs25-Bridges_to_Prosperity-TeamC-ds/main/B2P%20Rwanda%20Site%20Assessment%20Data_2020.06.03.csv'\n",
    "df = pd.read_csv(file_path, encoding='latin-1')\n",
    "print(f'Dimensions of dataset: {df.shape}')\n",
    "df.head()"
   ]
  },
  {
   "cell_type": "code",
   "execution_count": 142,
   "metadata": {
    "tags": []
   },
   "outputs": [],
   "source": [
    "# split the Form: Form Name to get the data from the column and convert date to datetime\n",
    "\n",
    "df['Assessment Date'] = df['Form: Form Name'].str.replace('Project Assessment - ', \"\")\n",
    "\n",
    "df['Assessment Date'] = pd.to_datetime(df['Assessment Date'])\n",
    "print(f'Dimensions of dataset: {df.shape}')\n",
    "df.head()"
   ]
  },
  {
   "cell_type": "code",
   "execution_count": 14,
   "metadata": {},
   "outputs": [],
   "source": [
    "# what are the duplicate project codes?\n",
    "# it looks like that all the duplicates have two values. One has three.\n",
    "# a quick and simple way to remove the duplicates would keep the sorting by project code and assesment date\n",
    "# then drop the duplicates and keep the first occurence. That way we have the most recent date. \n",
    "\n",
    "# this was our test to find all the duplicates that we needed to drop\n",
    "# testing = df[df.duplicated(subset='Project Code', keep=False)].sort_values(by=['Project Code', 'Assessment Date'], ascending=False)\n",
    "# testing.head()\n",
    "# testing[testing['Individuals Directly Served'].notna()]\n",
    "\n",
    "# Indices that we "
   ]
  },
  {
   "cell_type": "code",
   "execution_count": 14,
   "metadata": {
    "tags": []
   },
   "outputs": [
    {
     "output_type": "stream",
     "name": "stdout",
     "text": "Dimensions of dataset: (1423, 28)\n"
    }
   ],
   "source": [
    "# manually went thru above duplicates and selected those that needed to be DROPPED. \n",
    "\n",
    "indexes_to_drop = [192,210,216,767,202,1119,908,735,901,272,643,756,\n",
    "                   738,193,655,642,327,909,1274,1289,135,176,1213,\n",
    "                   493,178,205,387,397,395,398,399,401,372,371,892,\n",
    "                   839,776,171,169,170,1117,1096,771,1109,95,89,132,133,134,\n",
    "                   ]\n",
    "\n",
    "\n",
    "df = df.drop(index=indexes_to_drop)\n",
    "print(f'Dimensions of dataset: {df.shape}')"
   ]
  },
  {
   "cell_type": "code",
   "execution_count": 15,
   "metadata": {},
   "outputs": [
    {
     "output_type": "execute_result",
     "data": {
      "text/plain": "False    1423\ndtype: int64"
     },
     "metadata": {},
     "execution_count": 15
    }
   ],
   "source": [
    "# make sure there are no duplicates \n",
    "\n",
    "df.duplicated(subset='Project Code', keep=False).value_counts()"
   ]
  },
  {
   "cell_type": "code",
   "execution_count": 94,
   "metadata": {
    "tags": []
   },
   "outputs": [],
   "source": [
    "# there are some columns that are all null values, we can drop those.\n",
    "df.isnull().sum()\n"
   ]
  },
  {
   "cell_type": "code",
   "execution_count": 95,
   "metadata": {},
   "outputs": [],
   "source": [
    "# these are columns we can drop\n",
    "col_drop = ['Community Served 6', 'Community Served 7',\n",
    "            'Community Served 8', 'Community Served 9',\n",
    "            'Community Served 10'\n",
    "           ]\n",
    "\n",
    "# these are columns that we want as Ids when we melt the table\n",
    "ID_variable = ['Country','Province', 'District', 'Sector', 'Cell', \n",
    "               'Bridge Site Name', 'Project Stage', \n",
    "               'Project Sub-Stage', 'Project Code', 'Bridge Type',\n",
    "               ' Span (m)', ' GPS (Latitude)', 'GPS (Longitude)',\n",
    "               'Individuals Directly Served', 'Form: Form Name',\n",
    "               'CaseSafeID Form', 'Bridge Opportunity: Opportunity ID',\n",
    "               'Assessment Date'\n",
    "              ]\n",
    "\n",
    "# these are the columns that we want to melt to values\n",
    "value_variables = ['Community Served 1', 'Community Served 2',\n",
    "                   'Community Served 3', 'Community Served 4',\n",
    "                   'Community Served 5'\n",
    "                  ]"
   ]
  },
  {
   "cell_type": "code",
   "execution_count": 96,
   "metadata": {
    "tags": []
   },
   "outputs": [
    {
     "output_type": "stream",
     "name": "stdout",
     "text": "Dimensions of dataset: (7115, 20)\n"
    },
    {
     "output_type": "execute_result",
     "data": {
      "text/plain": "  Country           Province District   Sector               Cell  \\\n0  Rwanda   Western Province   Rusizi   Giheke           Gakomeye   \n1  Rwanda   Western Province   Rusizi   Giheke           Gakomeye   \n2  Rwanda  Northern Province  Rulindo   Buyoga  Gahororo-Gipfundo   \n3  Rwanda  Northern Province  Gicumbi   Kageyo  Kabuga/gatobotobo   \n4  Rwanda  Southern Province  Kamonyi  Kayenzi              Kirwa   \n\n  Bridge Site Name Project Stage Project Sub-Stage Project Code Bridge Type  \\\n0             Buzi      Rejected         Technical      1014107   Suspended   \n1        Kamigisha      Rejected         Technical      1014106   Suspended   \n2         Gipfundo      Rejected         Technical      1007651   Suspended   \n3       Nyarubande      Rejected               NaN      1012493       Other   \n4           Gisizi    Identified         Requested      1014318   Suspended   \n\n    Span (m)   GPS (Latitude)  GPS (Longitude)  Individuals Directly Served  \\\n0        NaN        -2.420560        28.966200                          NaN   \n1        NaN        -2.424860        28.957260                          NaN   \n2        8.0        -1.720530        30.081240                          NaN   \n3        NaN        -1.655950        30.078840                          NaN   \n4        NaN        -1.870868        29.877686                          NaN   \n\n                   Form: Form Name     CaseSafeID Form  \\\n0  Project Assessment - 2018.10.29  a1if1000002e51bAAA   \n1  Project Assessment - 2018.10.29  a1if1000002e51WAAQ   \n2   Project Assessment - 2018.8.11  a1if10000025nz8AAA   \n3   Project Assessment - 2018.8.11  a1if10000025nzDAAQ   \n4  Project Assessment - 2018.11.15  a1if1000002gMwRAAU   \n\n  Bridge Opportunity: Opportunity ID Assessment Date Original_Community_col  \\\n0                    006f100000d1fk1      2018-10-29     Community Served 1   \n1                    006f100000d1fjw      2018-10-29     Community Served 1   \n2                    006f100000a86I3      2018-08-11     Community Served 1   \n3                    006f100000cPpL8      2018-08-11     Community Served 1   \n4                    006f100000eescb      2018-11-15     Community Served 1   \n\n  Community_Served  \n0             Buzi  \n1           Kabuga  \n2         Gapfundo  \n3              NaN  \n4           Gisizi  ",
      "text/html": "<div>\n<style scoped>\n    .dataframe tbody tr th:only-of-type {\n        vertical-align: middle;\n    }\n\n    .dataframe tbody tr th {\n        vertical-align: top;\n    }\n\n    .dataframe thead th {\n        text-align: right;\n    }\n</style>\n<table border=\"1\" class=\"dataframe\">\n  <thead>\n    <tr style=\"text-align: right;\">\n      <th></th>\n      <th>Country</th>\n      <th>Province</th>\n      <th>District</th>\n      <th>Sector</th>\n      <th>Cell</th>\n      <th>Bridge Site Name</th>\n      <th>Project Stage</th>\n      <th>Project Sub-Stage</th>\n      <th>Project Code</th>\n      <th>Bridge Type</th>\n      <th>Span (m)</th>\n      <th>GPS (Latitude)</th>\n      <th>GPS (Longitude)</th>\n      <th>Individuals Directly Served</th>\n      <th>Form: Form Name</th>\n      <th>CaseSafeID Form</th>\n      <th>Bridge Opportunity: Opportunity ID</th>\n      <th>Assessment Date</th>\n      <th>Original_Community_col</th>\n      <th>Community_Served</th>\n    </tr>\n  </thead>\n  <tbody>\n    <tr>\n      <td>0</td>\n      <td>Rwanda</td>\n      <td>Western Province</td>\n      <td>Rusizi</td>\n      <td>Giheke</td>\n      <td>Gakomeye</td>\n      <td>Buzi</td>\n      <td>Rejected</td>\n      <td>Technical</td>\n      <td>1014107</td>\n      <td>Suspended</td>\n      <td>NaN</td>\n      <td>-2.420560</td>\n      <td>28.966200</td>\n      <td>NaN</td>\n      <td>Project Assessment - 2018.10.29</td>\n      <td>a1if1000002e51bAAA</td>\n      <td>006f100000d1fk1</td>\n      <td>2018-10-29</td>\n      <td>Community Served 1</td>\n      <td>Buzi</td>\n    </tr>\n    <tr>\n      <td>1</td>\n      <td>Rwanda</td>\n      <td>Western Province</td>\n      <td>Rusizi</td>\n      <td>Giheke</td>\n      <td>Gakomeye</td>\n      <td>Kamigisha</td>\n      <td>Rejected</td>\n      <td>Technical</td>\n      <td>1014106</td>\n      <td>Suspended</td>\n      <td>NaN</td>\n      <td>-2.424860</td>\n      <td>28.957260</td>\n      <td>NaN</td>\n      <td>Project Assessment - 2018.10.29</td>\n      <td>a1if1000002e51WAAQ</td>\n      <td>006f100000d1fjw</td>\n      <td>2018-10-29</td>\n      <td>Community Served 1</td>\n      <td>Kabuga</td>\n    </tr>\n    <tr>\n      <td>2</td>\n      <td>Rwanda</td>\n      <td>Northern Province</td>\n      <td>Rulindo</td>\n      <td>Buyoga</td>\n      <td>Gahororo-Gipfundo</td>\n      <td>Gipfundo</td>\n      <td>Rejected</td>\n      <td>Technical</td>\n      <td>1007651</td>\n      <td>Suspended</td>\n      <td>8.0</td>\n      <td>-1.720530</td>\n      <td>30.081240</td>\n      <td>NaN</td>\n      <td>Project Assessment - 2018.8.11</td>\n      <td>a1if10000025nz8AAA</td>\n      <td>006f100000a86I3</td>\n      <td>2018-08-11</td>\n      <td>Community Served 1</td>\n      <td>Gapfundo</td>\n    </tr>\n    <tr>\n      <td>3</td>\n      <td>Rwanda</td>\n      <td>Northern Province</td>\n      <td>Gicumbi</td>\n      <td>Kageyo</td>\n      <td>Kabuga/gatobotobo</td>\n      <td>Nyarubande</td>\n      <td>Rejected</td>\n      <td>NaN</td>\n      <td>1012493</td>\n      <td>Other</td>\n      <td>NaN</td>\n      <td>-1.655950</td>\n      <td>30.078840</td>\n      <td>NaN</td>\n      <td>Project Assessment - 2018.8.11</td>\n      <td>a1if10000025nzDAAQ</td>\n      <td>006f100000cPpL8</td>\n      <td>2018-08-11</td>\n      <td>Community Served 1</td>\n      <td>NaN</td>\n    </tr>\n    <tr>\n      <td>4</td>\n      <td>Rwanda</td>\n      <td>Southern Province</td>\n      <td>Kamonyi</td>\n      <td>Kayenzi</td>\n      <td>Kirwa</td>\n      <td>Gisizi</td>\n      <td>Identified</td>\n      <td>Requested</td>\n      <td>1014318</td>\n      <td>Suspended</td>\n      <td>NaN</td>\n      <td>-1.870868</td>\n      <td>29.877686</td>\n      <td>NaN</td>\n      <td>Project Assessment - 2018.11.15</td>\n      <td>a1if1000002gMwRAAU</td>\n      <td>006f100000eescb</td>\n      <td>2018-11-15</td>\n      <td>Community Served 1</td>\n      <td>Gisizi</td>\n    </tr>\n  </tbody>\n</table>\n</div>"
     },
     "metadata": {},
     "execution_count": 96
    }
   ],
   "source": [
    "# melt the dataframe so we get all the communities that a bridge would serve in one column\n",
    "# this will make duplicate observations of bridges. THis is okay since we want to be able to get counts\n",
    "# of how many villages a bridge would service.\n",
    "\n",
    "b2p_df = pd.melt(df, id_vars=ID_variable, value_vars=value_variables, var_name='Original_Community_col', value_name='Community_Served', )\n",
    "print(f'Dimensions of dataset: {b2p_df.shape}')\n",
    "b2p_df.head()"
   ]
  },
  {
   "cell_type": "code",
   "execution_count": 97,
   "metadata": {
    "tags": []
   },
   "outputs": [
    {
     "output_type": "stream",
     "name": "stdout",
     "text": "Dimensions of dataset: (4483, 20)\n"
    },
    {
     "output_type": "execute_result",
     "data": {
      "text/plain": "  Country           Province District   Sector               Cell  \\\n0  Rwanda   Western Province   Rusizi   Giheke           Gakomeye   \n1  Rwanda   Western Province   Rusizi   Giheke           Gakomeye   \n2  Rwanda  Northern Province  Rulindo   Buyoga  Gahororo-Gipfundo   \n4  Rwanda  Southern Province  Kamonyi  Kayenzi              Kirwa   \n5  Rwanda  Southern Province  Kamonyi  Kayenzi              Kirwa   \n\n  Bridge Site Name Project Stage Project Sub-Stage Project Code Bridge Type  \\\n0             Buzi      Rejected         Technical      1014107   Suspended   \n1        Kamigisha      Rejected         Technical      1014106   Suspended   \n2         Gipfundo      Rejected         Technical      1007651   Suspended   \n4           Gisizi    Identified         Requested      1014318   Suspended   \n5           Ruheka      Rejected         Technical      1014319   Suspended   \n\n    Span (m)   GPS (Latitude)  GPS (Longitude)  Individuals Directly Served  \\\n0        NaN        -2.420560        28.966200                          NaN   \n1        NaN        -2.424860        28.957260                          NaN   \n2        8.0        -1.720530        30.081240                          NaN   \n4        NaN        -1.870868        29.877686                          NaN   \n5        NaN        -1.883957        29.850548                          NaN   \n\n                   Form: Form Name     CaseSafeID Form  \\\n0  Project Assessment - 2018.10.29  a1if1000002e51bAAA   \n1  Project Assessment - 2018.10.29  a1if1000002e51WAAQ   \n2   Project Assessment - 2018.8.11  a1if10000025nz8AAA   \n4  Project Assessment - 2018.11.15  a1if1000002gMwRAAU   \n5  Project Assessment - 2018.11.15  a1if1000002gMwqAAE   \n\n  Bridge Opportunity: Opportunity ID Assessment Date Original_Community_col  \\\n0                    006f100000d1fk1      2018-10-29     Community Served 1   \n1                    006f100000d1fjw      2018-10-29     Community Served 1   \n2                    006f100000a86I3      2018-08-11     Community Served 1   \n4                    006f100000eescb      2018-11-15     Community Served 1   \n5                    006f100000eescl      2018-11-15     Community Served 1   \n\n  Community_Served  \n0             Buzi  \n1           Kabuga  \n2         Gapfundo  \n4           Gisizi  \n5           Ruheka  ",
      "text/html": "<div>\n<style scoped>\n    .dataframe tbody tr th:only-of-type {\n        vertical-align: middle;\n    }\n\n    .dataframe tbody tr th {\n        vertical-align: top;\n    }\n\n    .dataframe thead th {\n        text-align: right;\n    }\n</style>\n<table border=\"1\" class=\"dataframe\">\n  <thead>\n    <tr style=\"text-align: right;\">\n      <th></th>\n      <th>Country</th>\n      <th>Province</th>\n      <th>District</th>\n      <th>Sector</th>\n      <th>Cell</th>\n      <th>Bridge Site Name</th>\n      <th>Project Stage</th>\n      <th>Project Sub-Stage</th>\n      <th>Project Code</th>\n      <th>Bridge Type</th>\n      <th>Span (m)</th>\n      <th>GPS (Latitude)</th>\n      <th>GPS (Longitude)</th>\n      <th>Individuals Directly Served</th>\n      <th>Form: Form Name</th>\n      <th>CaseSafeID Form</th>\n      <th>Bridge Opportunity: Opportunity ID</th>\n      <th>Assessment Date</th>\n      <th>Original_Community_col</th>\n      <th>Community_Served</th>\n    </tr>\n  </thead>\n  <tbody>\n    <tr>\n      <td>0</td>\n      <td>Rwanda</td>\n      <td>Western Province</td>\n      <td>Rusizi</td>\n      <td>Giheke</td>\n      <td>Gakomeye</td>\n      <td>Buzi</td>\n      <td>Rejected</td>\n      <td>Technical</td>\n      <td>1014107</td>\n      <td>Suspended</td>\n      <td>NaN</td>\n      <td>-2.420560</td>\n      <td>28.966200</td>\n      <td>NaN</td>\n      <td>Project Assessment - 2018.10.29</td>\n      <td>a1if1000002e51bAAA</td>\n      <td>006f100000d1fk1</td>\n      <td>2018-10-29</td>\n      <td>Community Served 1</td>\n      <td>Buzi</td>\n    </tr>\n    <tr>\n      <td>1</td>\n      <td>Rwanda</td>\n      <td>Western Province</td>\n      <td>Rusizi</td>\n      <td>Giheke</td>\n      <td>Gakomeye</td>\n      <td>Kamigisha</td>\n      <td>Rejected</td>\n      <td>Technical</td>\n      <td>1014106</td>\n      <td>Suspended</td>\n      <td>NaN</td>\n      <td>-2.424860</td>\n      <td>28.957260</td>\n      <td>NaN</td>\n      <td>Project Assessment - 2018.10.29</td>\n      <td>a1if1000002e51WAAQ</td>\n      <td>006f100000d1fjw</td>\n      <td>2018-10-29</td>\n      <td>Community Served 1</td>\n      <td>Kabuga</td>\n    </tr>\n    <tr>\n      <td>2</td>\n      <td>Rwanda</td>\n      <td>Northern Province</td>\n      <td>Rulindo</td>\n      <td>Buyoga</td>\n      <td>Gahororo-Gipfundo</td>\n      <td>Gipfundo</td>\n      <td>Rejected</td>\n      <td>Technical</td>\n      <td>1007651</td>\n      <td>Suspended</td>\n      <td>8.0</td>\n      <td>-1.720530</td>\n      <td>30.081240</td>\n      <td>NaN</td>\n      <td>Project Assessment - 2018.8.11</td>\n      <td>a1if10000025nz8AAA</td>\n      <td>006f100000a86I3</td>\n      <td>2018-08-11</td>\n      <td>Community Served 1</td>\n      <td>Gapfundo</td>\n    </tr>\n    <tr>\n      <td>4</td>\n      <td>Rwanda</td>\n      <td>Southern Province</td>\n      <td>Kamonyi</td>\n      <td>Kayenzi</td>\n      <td>Kirwa</td>\n      <td>Gisizi</td>\n      <td>Identified</td>\n      <td>Requested</td>\n      <td>1014318</td>\n      <td>Suspended</td>\n      <td>NaN</td>\n      <td>-1.870868</td>\n      <td>29.877686</td>\n      <td>NaN</td>\n      <td>Project Assessment - 2018.11.15</td>\n      <td>a1if1000002gMwRAAU</td>\n      <td>006f100000eescb</td>\n      <td>2018-11-15</td>\n      <td>Community Served 1</td>\n      <td>Gisizi</td>\n    </tr>\n    <tr>\n      <td>5</td>\n      <td>Rwanda</td>\n      <td>Southern Province</td>\n      <td>Kamonyi</td>\n      <td>Kayenzi</td>\n      <td>Kirwa</td>\n      <td>Ruheka</td>\n      <td>Rejected</td>\n      <td>Technical</td>\n      <td>1014319</td>\n      <td>Suspended</td>\n      <td>NaN</td>\n      <td>-1.883957</td>\n      <td>29.850548</td>\n      <td>NaN</td>\n      <td>Project Assessment - 2018.11.15</td>\n      <td>a1if1000002gMwqAAE</td>\n      <td>006f100000eescl</td>\n      <td>2018-11-15</td>\n      <td>Community Served 1</td>\n      <td>Ruheka</td>\n    </tr>\n  </tbody>\n</table>\n</div>"
     },
     "metadata": {},
     "execution_count": 97
    }
   ],
   "source": [
    "# now that we have our melted dataframe, we want to delete any observation that has a \n",
    "# null value in the 'Community_Served' column\n",
    "\n",
    "b2p_df = b2p_df[b2p_df['Community_Served'].notna()]\n",
    "print(f'Dimensions of dataset: {b2p_df.shape}')\n",
    "b2p_df.head()"
   ]
  },
  {
   "cell_type": "code",
   "execution_count": 98,
   "metadata": {},
   "outputs": [],
   "source": [
    "# lets check to see if there are still null values that we care about in the dataset\n",
    "\n",
    "b2p_df.isnull().sum()\n"
   ]
  },
  {
   "cell_type": "code",
   "execution_count": 100,
   "metadata": {},
   "outputs": [],
   "source": [
    "b2p_df.sort_values(by='Project Code').head()"
   ]
  },
  {
   "cell_type": "code",
   "execution_count": 23,
   "metadata": {
    "tags": []
   },
   "outputs": [
    {
     "output_type": "stream",
     "name": "stdout",
     "text": "['Western Province' 'Northern Province' 'Southern Province' 'Kigali'\n 'Eastern Province']\n['Rusizi' 'Rulindo' 'Kamonyi' 'Gasabo' 'Gisagara' 'Kirehe' 'Rwamagana'\n 'Gatsibo' 'Bugesera' 'Rubavu' 'Muhanga' 'Gakenke' 'Ngoma' 'Nyaruguru'\n 'Nyagatare' 'Nyarugenge' 'Kicukiro' 'Ngororero' 'Nyanza' 'Karongi'\n 'Gicumbi' 'Rutsiro' 'Ruhango' 'Huye' 'Musanze' 'Burera' 'Kayonza'\n 'Nyamasheke' 'Nyabihu' 'Nyamagabe']\n"
    }
   ],
   "source": [
    "print(b2p_df['Province'].unique())\n",
    "\n",
    "print(b2p_df['District'].unique())"
   ]
  },
  {
   "cell_type": "code",
   "execution_count": 101,
   "metadata": {
    "tags": []
   },
   "outputs": [
    {
     "output_type": "stream",
     "name": "stdout",
     "text": "Dimensions of dataset: (14816, 12)\n"
    },
    {
     "output_type": "execute_result",
     "data": {
      "text/plain": "   Prov_ID   Province  Dist_ID  District  Sect_ID   Sector  Cell_ID      Cell  \\\n0        2  Amajyepfo       22  Gisagara     2205  Kigembe   220501  Agahabwa   \n1        2  Amajyepfo       22  Gisagara     2205  Kigembe   220501  Agahabwa   \n2        2  Amajyepfo       22  Gisagara     2205  Kigembe   220501  Agahabwa   \n3        2  Amajyepfo       22  Gisagara     2205  Kigembe   220501  Agahabwa   \n4        2  Amajyepfo       22  Gisagara     2205  Kigembe   220501  Agahabwa   \n\n    Vill_ID    Village Status   FID  \n0  22050101    Agahehe  Rural  1842  \n1  22050102   Kabacuzi  Rural  1846  \n2  22050103   Kamutozo  Rural  1854  \n3  22050104    Kamweko  Rural  1866  \n4  22050105  Nyamabuye  Rural  1873  ",
      "text/html": "<div>\n<style scoped>\n    .dataframe tbody tr th:only-of-type {\n        vertical-align: middle;\n    }\n\n    .dataframe tbody tr th {\n        vertical-align: top;\n    }\n\n    .dataframe thead th {\n        text-align: right;\n    }\n</style>\n<table border=\"1\" class=\"dataframe\">\n  <thead>\n    <tr style=\"text-align: right;\">\n      <th></th>\n      <th>Prov_ID</th>\n      <th>Province</th>\n      <th>Dist_ID</th>\n      <th>District</th>\n      <th>Sect_ID</th>\n      <th>Sector</th>\n      <th>Cell_ID</th>\n      <th>Cell</th>\n      <th>Vill_ID</th>\n      <th>Village</th>\n      <th>Status</th>\n      <th>FID</th>\n    </tr>\n  </thead>\n  <tbody>\n    <tr>\n      <td>0</td>\n      <td>2</td>\n      <td>Amajyepfo</td>\n      <td>22</td>\n      <td>Gisagara</td>\n      <td>2205</td>\n      <td>Kigembe</td>\n      <td>220501</td>\n      <td>Agahabwa</td>\n      <td>22050101</td>\n      <td>Agahehe</td>\n      <td>Rural</td>\n      <td>1842</td>\n    </tr>\n    <tr>\n      <td>1</td>\n      <td>2</td>\n      <td>Amajyepfo</td>\n      <td>22</td>\n      <td>Gisagara</td>\n      <td>2205</td>\n      <td>Kigembe</td>\n      <td>220501</td>\n      <td>Agahabwa</td>\n      <td>22050102</td>\n      <td>Kabacuzi</td>\n      <td>Rural</td>\n      <td>1846</td>\n    </tr>\n    <tr>\n      <td>2</td>\n      <td>2</td>\n      <td>Amajyepfo</td>\n      <td>22</td>\n      <td>Gisagara</td>\n      <td>2205</td>\n      <td>Kigembe</td>\n      <td>220501</td>\n      <td>Agahabwa</td>\n      <td>22050103</td>\n      <td>Kamutozo</td>\n      <td>Rural</td>\n      <td>1854</td>\n    </tr>\n    <tr>\n      <td>3</td>\n      <td>2</td>\n      <td>Amajyepfo</td>\n      <td>22</td>\n      <td>Gisagara</td>\n      <td>2205</td>\n      <td>Kigembe</td>\n      <td>220501</td>\n      <td>Agahabwa</td>\n      <td>22050104</td>\n      <td>Kamweko</td>\n      <td>Rural</td>\n      <td>1866</td>\n    </tr>\n    <tr>\n      <td>4</td>\n      <td>2</td>\n      <td>Amajyepfo</td>\n      <td>22</td>\n      <td>Gisagara</td>\n      <td>2205</td>\n      <td>Kigembe</td>\n      <td>220501</td>\n      <td>Agahabwa</td>\n      <td>22050105</td>\n      <td>Nyamabuye</td>\n      <td>Rural</td>\n      <td>1873</td>\n    </tr>\n  </tbody>\n</table>\n</div>"
     },
     "metadata": {},
     "execution_count": 101
    }
   ],
   "source": [
    "# Read in the Data of Government Entities with Government IDs\n",
    "\n",
    "gov_file_path = 'https://raw.githubusercontent.com/tmbern/Labs25-Bridges_to_Prosperity-TeamC-ds/main/Rwanda%20Administrative%20Levels%20and%20Codes_Province%20through%20Village_2019.02.28.csv'\n",
    "gov_df = pd.read_csv(gov_file_path, encoding='latin-1')\n",
    "print(f'Dimensions of dataset: {gov_df.shape}')\n",
    "gov_df.head()\n"
   ]
  },
  {
   "cell_type": "code",
   "execution_count": 102,
   "metadata": {},
   "outputs": [
    {
     "output_type": "execute_result",
     "data": {
      "text/plain": "{'Bugesera': 57,\n 'Burera': 44,\n 'Gakenke': 42,\n 'Gasabo': 12,\n 'Gatsibo': 53,\n 'Gicumbi': 45,\n 'Gisagara': 22,\n 'Huye': 24,\n 'Kamonyi': 28,\n 'Karongi': 31,\n 'Kayonza': 54,\n 'Kicukiro': 13,\n 'Kirehe': 55,\n 'Muhanga': 27,\n 'Musanze': 43,\n 'Ngoma': 56,\n 'Ngororero': 35,\n 'Nyabihu': 34,\n 'Nyagatare': 52,\n 'Nyamagabe': 25,\n 'Nyamasheke': 37,\n 'Nyanza': 21,\n 'Nyarugenge': 11,\n 'Nyaruguru': 23,\n 'Rubavu': 33,\n 'Ruhango': 26,\n 'Rulindo': 41,\n 'Rusizi': 36,\n 'Rutsiro': 32,\n 'Rwamagana': 51}"
     },
     "metadata": {},
     "execution_count": 102
    }
   ],
   "source": [
    "# District ID dict \n",
    "district_ID_dict = gov_df['Dist_ID'].groupby(gov_df['District']).unique().apply(pd.Series).to_dict()[0]\n",
    "district_ID_dict"
   ]
  },
  {
   "cell_type": "code",
   "execution_count": 103,
   "metadata": {},
   "outputs": [],
   "source": [
    "# Province dictionary. Key is B2P Province name, Value is government province ID\n",
    "province_dict = {'Northern Province': 4,\n",
    "                 'Southern Province': 2,\n",
    "                 'Eastern Province': 5,\n",
    "                 'Western Province': 3,\n",
    "                 'Kigali': 1\n",
    "                 }"
   ]
  },
  {
   "cell_type": "code",
   "execution_count": 104,
   "metadata": {},
   "outputs": [
    {
     "output_type": "execute_result",
     "data": {
      "text/plain": "True"
     },
     "metadata": {},
     "execution_count": 104
    }
   ],
   "source": [
    "# There are the same amount of government Districts as there is in B2P districts. \n",
    "len(b2p_df['District'].unique()) == len(gov_df['District'].unique())\n",
    "# check length of \"district\" strings on both dfs\n",
    "sorted(b2p_df['District'].unique()) == sorted(gov_df['District'].unique())"
   ]
  },
  {
   "cell_type": "code",
   "execution_count": 28,
   "metadata": {},
   "outputs": [
    {
     "output_type": "execute_result",
     "data": {
      "text/plain": "Index(['Country', 'Province', 'District', 'Sector', 'Cell', 'Bridge Site Name',\n       'Project Stage', 'Project Sub-Stage', 'Project Code', 'Bridge Type',\n       ' Span (m)', ' GPS (Latitude)', 'GPS (Longitude)',\n       'Individuals Directly Served', 'Form: Form Name', 'CaseSafeID Form',\n       'Bridge Opportunity: Opportunity ID', 'Assessment Date',\n       'Original_Community_col', 'Community_Served'],\n      dtype='object')"
     },
     "metadata": {},
     "execution_count": 28
    }
   ],
   "source": [
    "b2p_df.columns"
   ]
  },
  {
   "cell_type": "code",
   "execution_count": 29,
   "metadata": {},
   "outputs": [
    {
     "output_type": "execute_result",
     "data": {
      "text/plain": "Index(['Prov_ID', 'Province', 'Dist_ID', 'District', 'Sect_ID', 'Sector',\n       'Cell_ID', 'Cell', 'Vill_ID', 'Village', 'Status', 'FID'],\n      dtype='object')"
     },
     "metadata": {},
     "execution_count": 29
    }
   ],
   "source": [
    "gov_df.columns"
   ]
  },
  {
   "cell_type": "code",
   "execution_count": 105,
   "metadata": {},
   "outputs": [
    {
     "output_type": "execute_result",
     "data": {
      "text/plain": "False"
     },
     "metadata": {},
     "execution_count": 105
    }
   ],
   "source": [
    "# Sector ID \n",
    "# check that df['sector'] == gov_df['sector']\n",
    "len(b2p_df['Sector'].unique()) == len(gov_df['Sector'].unique())"
   ]
  },
  {
   "cell_type": "code",
   "execution_count": 106,
   "metadata": {},
   "outputs": [
    {
     "output_type": "execute_result",
     "data": {
      "text/plain": "348"
     },
     "metadata": {},
     "execution_count": 106
    }
   ],
   "source": [
    "# check df['sector'] not in gov_df['sector']\n",
    "x = [x for x in set(b2p_df['Sector']) if x not in set(gov_df['Sector'])]\n",
    "len(x)"
   ]
  },
  {
   "cell_type": "code",
   "execution_count": 107,
   "metadata": {},
   "outputs": [
    {
     "output_type": "execute_result",
     "data": {
      "text/plain": "0     Giheke\n1     Giheke\n2     Buyoga\n4    Kayenzi\n5    Kayenzi\nName: new_sector, dtype: object"
     },
     "metadata": {},
     "execution_count": 107
    }
   ],
   "source": [
    "# Strip sectors down to single sector names \n",
    "# with regular expressions \n",
    "import re\n",
    "\n",
    "b2p_df['new_sector'] = [re.split(\"-|~|_|(sector)|(Sector)|(cell)|\\(|~\", str(i))[0] for i in b2p_df['Sector']]\n",
    "b2p_df['new_sector'] = b2p_df['new_sector'].str.replace(\" \",\"\")\n",
    "b2p_df['new_sector'].head()"
   ]
  },
  {
   "cell_type": "code",
   "execution_count": 108,
   "metadata": {},
   "outputs": [
    {
     "output_type": "execute_result",
     "data": {
      "text/plain": "True"
     },
     "metadata": {},
     "execution_count": 108
    }
   ],
   "source": [
    "# confirm that df sector list is less than gov list of sectors - important \n",
    "b2p_df['new_sector'].nunique() < gov_df['Sector'].nunique()"
   ]
  },
  {
   "cell_type": "code",
   "execution_count": 61,
   "metadata": {},
   "outputs": [],
   "source": [
    "# we group df by province district and sector. \n",
    "# get the count of the number of timex that a particular village is in that grouping. \n",
    "\n",
    "gov_df.head()"
   ]
  },
  {
   "cell_type": "code",
   "execution_count": 109,
   "metadata": {},
   "outputs": [],
   "source": [
    "b2p_df['test_cell'] = b2p_df['Cell'].astype(str)"
   ]
  },
  {
   "cell_type": "code",
   "execution_count": 81,
   "metadata": {},
   "outputs": [],
   "source": [
    "# test_list = [re.split(\"-|~|_|/|\\(|\\)\", i) for i in b2p_df['test_cell']]"
   ]
  },
  {
   "cell_type": "code",
   "execution_count": 110,
   "metadata": {},
   "outputs": [],
   "source": [
    "# helper function to clean characters in Cell string\n",
    "def replace_char(x):\n",
    "    \"\"\"\n",
    "    args: Cell\n",
    "    returns: Cell value where chr replaced with whitespace\n",
    "    \"\"\"\n",
    "    if type(x) == str:\n",
    "         char = ['-', '~', '(', ')', '/', '_', 'between', 'villages', \n",
    "                'village', ' both', 'Both',' in ' , ' are ', ' village', \n",
    "                'all are in', 'village ', ' Village', 'Village ', '&', 'Between', ' Between ', 'Between ', \n",
    "                ' and ', ' of ', 'Village', 'Sector', 'sector']\n",
    "         for i in char:\n",
    "             if i in x:\n",
    "                 x = x.replace(i, ' ')\n",
    "    return x"
   ]
  },
  {
   "cell_type": "code",
   "execution_count": 111,
   "metadata": {},
   "outputs": [],
   "source": [
    "# apply helper function to Cell column\n",
    "b2p_df['test_cell'] = b2p_df['Cell'].apply(replace_char)"
   ]
  },
  {
   "cell_type": "code",
   "execution_count": 140,
   "metadata": {},
   "outputs": [],
   "source": [
    "# Create list of Cells in govt data \n",
    "list_of_gov_cells = list(gov_df['Cell'].unique())\n",
    "sorted(list_of_gov_cells)[600:]"
   ]
  },
  {
   "cell_type": "code",
   "execution_count": 242,
   "metadata": {},
   "outputs": [],
   "source": [
    "# b2p_df[b2p_df['test_cell'].str.contains('cell',na=False)]"
   ]
  },
  {
   "cell_type": "code",
   "execution_count": 221,
   "metadata": {},
   "outputs": [],
   "source": [
    "# Fill NaN with \"Unknown\"\n",
    "b2p_df['test_cell'] = b2p_df['test_cell'].fillna(\"Unknown\")"
   ]
  },
  {
   "cell_type": "code",
   "execution_count": 236,
   "metadata": {},
   "outputs": [],
   "source": [
    "# Helper function to\n",
    "# Complete cleaning of Cell\n",
    "# return \"Unknown for values not in govt data\"\n",
    "def cell_cleaner(x):\n",
    "    \"\"\"\n",
    "    args: Cell\n",
    "    return: clean value for Cell or \"Unknown\"\n",
    "    \"\"\"\n",
    "    if type(x) == str:\n",
    "        for i in list_of_gov_cells:\n",
    "            if i in x.title():\n",
    "                return i\n",
    "            elif \"Congo\" in x:\n",
    "                return \"Congo-nil\"\n",
    "    return \"Unknown\""
   ]
  },
  {
   "cell_type": "code",
   "execution_count": 237,
   "metadata": {},
   "outputs": [
    {
     "output_type": "execute_result",
     "data": {
      "text/plain": "537"
     },
     "metadata": {},
     "execution_count": 237
    }
   ],
   "source": [
    "# Apply helper function \n",
    "b2p_df['test_cell'] = b2p_df['test_cell'].apply(cell_cleaner)\n",
    "b2p_df['test_cell'].nunique()"
   ]
  },
  {
   "cell_type": "code",
   "execution_count": 238,
   "metadata": {},
   "outputs": [
    {
     "output_type": "execute_result",
     "data": {
      "text/plain": "0"
     },
     "metadata": {},
     "execution_count": 238
    }
   ],
   "source": [
    "# confirm if helper function worked\n",
    "x = [x for x in b2p_df['test_cell'] if (x not in list_of_gov_cells) and (x != \"Unknown\")]\n",
    "len(x)"
   ]
  },
  {
   "cell_type": "code",
   "execution_count": 243,
   "metadata": {},
   "outputs": [
    {
     "output_type": "execute_result",
     "data": {
      "text/plain": "  Country           Province District   Sector               Cell  \\\n0  Rwanda   Western Province   Rusizi   Giheke           Gakomeye   \n1  Rwanda   Western Province   Rusizi   Giheke           Gakomeye   \n2  Rwanda  Northern Province  Rulindo   Buyoga  Gahororo-Gipfundo   \n4  Rwanda  Southern Province  Kamonyi  Kayenzi              Kirwa   \n5  Rwanda  Southern Province  Kamonyi  Kayenzi              Kirwa   \n\n  Bridge Site Name Project Stage Project Sub-Stage Project Code Bridge Type  \\\n0             Buzi      Rejected         Technical      1014107   Suspended   \n1        Kamigisha      Rejected         Technical      1014106   Suspended   \n2         Gipfundo      Rejected         Technical      1007651   Suspended   \n4           Gisizi    Identified         Requested      1014318   Suspended   \n5           Ruheka      Rejected         Technical      1014319   Suspended   \n\n    Span (m)   GPS (Latitude)  GPS (Longitude)  Individuals Directly Served  \\\n0        NaN        -2.420560        28.966200                          NaN   \n1        NaN        -2.424860        28.957260                          NaN   \n2        8.0        -1.720530        30.081240                          NaN   \n4        NaN        -1.870868        29.877686                          NaN   \n5        NaN        -1.883957        29.850548                          NaN   \n\n                   Form: Form Name     CaseSafeID Form  \\\n0  Project Assessment - 2018.10.29  a1if1000002e51bAAA   \n1  Project Assessment - 2018.10.29  a1if1000002e51WAAQ   \n2   Project Assessment - 2018.8.11  a1if10000025nz8AAA   \n4  Project Assessment - 2018.11.15  a1if1000002gMwRAAU   \n5  Project Assessment - 2018.11.15  a1if1000002gMwqAAE   \n\n  Bridge Opportunity: Opportunity ID Assessment Date Original_Community_col  \\\n0                    006f100000d1fk1      2018-10-29     Community Served 1   \n1                    006f100000d1fjw      2018-10-29     Community Served 1   \n2                    006f100000a86I3      2018-08-11     Community Served 1   \n4                    006f100000eescb      2018-11-15     Community Served 1   \n5                    006f100000eescl      2018-11-15     Community Served 1   \n\n  Community_Served new_sector test_cell  \n0             Buzi     Giheke      Gako  \n1           Kabuga     Giheke      Gako  \n2         Gapfundo     Buyoga  Gahororo  \n4           Gisizi    Kayenzi     Kirwa  \n5           Ruheka    Kayenzi     Kirwa  ",
      "text/html": "<div>\n<style scoped>\n    .dataframe tbody tr th:only-of-type {\n        vertical-align: middle;\n    }\n\n    .dataframe tbody tr th {\n        vertical-align: top;\n    }\n\n    .dataframe thead th {\n        text-align: right;\n    }\n</style>\n<table border=\"1\" class=\"dataframe\">\n  <thead>\n    <tr style=\"text-align: right;\">\n      <th></th>\n      <th>Country</th>\n      <th>Province</th>\n      <th>District</th>\n      <th>Sector</th>\n      <th>Cell</th>\n      <th>Bridge Site Name</th>\n      <th>Project Stage</th>\n      <th>Project Sub-Stage</th>\n      <th>Project Code</th>\n      <th>Bridge Type</th>\n      <th>Span (m)</th>\n      <th>GPS (Latitude)</th>\n      <th>GPS (Longitude)</th>\n      <th>Individuals Directly Served</th>\n      <th>Form: Form Name</th>\n      <th>CaseSafeID Form</th>\n      <th>Bridge Opportunity: Opportunity ID</th>\n      <th>Assessment Date</th>\n      <th>Original_Community_col</th>\n      <th>Community_Served</th>\n      <th>new_sector</th>\n      <th>test_cell</th>\n    </tr>\n  </thead>\n  <tbody>\n    <tr>\n      <td>0</td>\n      <td>Rwanda</td>\n      <td>Western Province</td>\n      <td>Rusizi</td>\n      <td>Giheke</td>\n      <td>Gakomeye</td>\n      <td>Buzi</td>\n      <td>Rejected</td>\n      <td>Technical</td>\n      <td>1014107</td>\n      <td>Suspended</td>\n      <td>NaN</td>\n      <td>-2.420560</td>\n      <td>28.966200</td>\n      <td>NaN</td>\n      <td>Project Assessment - 2018.10.29</td>\n      <td>a1if1000002e51bAAA</td>\n      <td>006f100000d1fk1</td>\n      <td>2018-10-29</td>\n      <td>Community Served 1</td>\n      <td>Buzi</td>\n      <td>Giheke</td>\n      <td>Gako</td>\n    </tr>\n    <tr>\n      <td>1</td>\n      <td>Rwanda</td>\n      <td>Western Province</td>\n      <td>Rusizi</td>\n      <td>Giheke</td>\n      <td>Gakomeye</td>\n      <td>Kamigisha</td>\n      <td>Rejected</td>\n      <td>Technical</td>\n      <td>1014106</td>\n      <td>Suspended</td>\n      <td>NaN</td>\n      <td>-2.424860</td>\n      <td>28.957260</td>\n      <td>NaN</td>\n      <td>Project Assessment - 2018.10.29</td>\n      <td>a1if1000002e51WAAQ</td>\n      <td>006f100000d1fjw</td>\n      <td>2018-10-29</td>\n      <td>Community Served 1</td>\n      <td>Kabuga</td>\n      <td>Giheke</td>\n      <td>Gako</td>\n    </tr>\n    <tr>\n      <td>2</td>\n      <td>Rwanda</td>\n      <td>Northern Province</td>\n      <td>Rulindo</td>\n      <td>Buyoga</td>\n      <td>Gahororo-Gipfundo</td>\n      <td>Gipfundo</td>\n      <td>Rejected</td>\n      <td>Technical</td>\n      <td>1007651</td>\n      <td>Suspended</td>\n      <td>8.0</td>\n      <td>-1.720530</td>\n      <td>30.081240</td>\n      <td>NaN</td>\n      <td>Project Assessment - 2018.8.11</td>\n      <td>a1if10000025nz8AAA</td>\n      <td>006f100000a86I3</td>\n      <td>2018-08-11</td>\n      <td>Community Served 1</td>\n      <td>Gapfundo</td>\n      <td>Buyoga</td>\n      <td>Gahororo</td>\n    </tr>\n    <tr>\n      <td>4</td>\n      <td>Rwanda</td>\n      <td>Southern Province</td>\n      <td>Kamonyi</td>\n      <td>Kayenzi</td>\n      <td>Kirwa</td>\n      <td>Gisizi</td>\n      <td>Identified</td>\n      <td>Requested</td>\n      <td>1014318</td>\n      <td>Suspended</td>\n      <td>NaN</td>\n      <td>-1.870868</td>\n      <td>29.877686</td>\n      <td>NaN</td>\n      <td>Project Assessment - 2018.11.15</td>\n      <td>a1if1000002gMwRAAU</td>\n      <td>006f100000eescb</td>\n      <td>2018-11-15</td>\n      <td>Community Served 1</td>\n      <td>Gisizi</td>\n      <td>Kayenzi</td>\n      <td>Kirwa</td>\n    </tr>\n    <tr>\n      <td>5</td>\n      <td>Rwanda</td>\n      <td>Southern Province</td>\n      <td>Kamonyi</td>\n      <td>Kayenzi</td>\n      <td>Kirwa</td>\n      <td>Ruheka</td>\n      <td>Rejected</td>\n      <td>Technical</td>\n      <td>1014319</td>\n      <td>Suspended</td>\n      <td>NaN</td>\n      <td>-1.883957</td>\n      <td>29.850548</td>\n      <td>NaN</td>\n      <td>Project Assessment - 2018.11.15</td>\n      <td>a1if1000002gMwqAAE</td>\n      <td>006f100000eescl</td>\n      <td>2018-11-15</td>\n      <td>Community Served 1</td>\n      <td>Ruheka</td>\n      <td>Kayenzi</td>\n      <td>Kirwa</td>\n    </tr>\n  </tbody>\n</table>\n</div>"
     },
     "metadata": {},
     "execution_count": 243
    }
   ],
   "source": [
    "b2p_df.head()"
   ]
  },
  {
   "cell_type": "code",
   "execution_count": 244,
   "metadata": {},
   "outputs": [
    {
     "output_type": "execute_result",
     "data": {
      "text/plain": "   Prov_ID   Province  Dist_ID  District  Sect_ID   Sector  Cell_ID      Cell  \\\n0        2  Amajyepfo       22  Gisagara     2205  Kigembe   220501  Agahabwa   \n1        2  Amajyepfo       22  Gisagara     2205  Kigembe   220501  Agahabwa   \n2        2  Amajyepfo       22  Gisagara     2205  Kigembe   220501  Agahabwa   \n3        2  Amajyepfo       22  Gisagara     2205  Kigembe   220501  Agahabwa   \n4        2  Amajyepfo       22  Gisagara     2205  Kigembe   220501  Agahabwa   \n\n    Vill_ID    Village Status   FID  \n0  22050101    Agahehe  Rural  1842  \n1  22050102   Kabacuzi  Rural  1846  \n2  22050103   Kamutozo  Rural  1854  \n3  22050104    Kamweko  Rural  1866  \n4  22050105  Nyamabuye  Rural  1873  ",
      "text/html": "<div>\n<style scoped>\n    .dataframe tbody tr th:only-of-type {\n        vertical-align: middle;\n    }\n\n    .dataframe tbody tr th {\n        vertical-align: top;\n    }\n\n    .dataframe thead th {\n        text-align: right;\n    }\n</style>\n<table border=\"1\" class=\"dataframe\">\n  <thead>\n    <tr style=\"text-align: right;\">\n      <th></th>\n      <th>Prov_ID</th>\n      <th>Province</th>\n      <th>Dist_ID</th>\n      <th>District</th>\n      <th>Sect_ID</th>\n      <th>Sector</th>\n      <th>Cell_ID</th>\n      <th>Cell</th>\n      <th>Vill_ID</th>\n      <th>Village</th>\n      <th>Status</th>\n      <th>FID</th>\n    </tr>\n  </thead>\n  <tbody>\n    <tr>\n      <td>0</td>\n      <td>2</td>\n      <td>Amajyepfo</td>\n      <td>22</td>\n      <td>Gisagara</td>\n      <td>2205</td>\n      <td>Kigembe</td>\n      <td>220501</td>\n      <td>Agahabwa</td>\n      <td>22050101</td>\n      <td>Agahehe</td>\n      <td>Rural</td>\n      <td>1842</td>\n    </tr>\n    <tr>\n      <td>1</td>\n      <td>2</td>\n      <td>Amajyepfo</td>\n      <td>22</td>\n      <td>Gisagara</td>\n      <td>2205</td>\n      <td>Kigembe</td>\n      <td>220501</td>\n      <td>Agahabwa</td>\n      <td>22050102</td>\n      <td>Kabacuzi</td>\n      <td>Rural</td>\n      <td>1846</td>\n    </tr>\n    <tr>\n      <td>2</td>\n      <td>2</td>\n      <td>Amajyepfo</td>\n      <td>22</td>\n      <td>Gisagara</td>\n      <td>2205</td>\n      <td>Kigembe</td>\n      <td>220501</td>\n      <td>Agahabwa</td>\n      <td>22050103</td>\n      <td>Kamutozo</td>\n      <td>Rural</td>\n      <td>1854</td>\n    </tr>\n    <tr>\n      <td>3</td>\n      <td>2</td>\n      <td>Amajyepfo</td>\n      <td>22</td>\n      <td>Gisagara</td>\n      <td>2205</td>\n      <td>Kigembe</td>\n      <td>220501</td>\n      <td>Agahabwa</td>\n      <td>22050104</td>\n      <td>Kamweko</td>\n      <td>Rural</td>\n      <td>1866</td>\n    </tr>\n    <tr>\n      <td>4</td>\n      <td>2</td>\n      <td>Amajyepfo</td>\n      <td>22</td>\n      <td>Gisagara</td>\n      <td>2205</td>\n      <td>Kigembe</td>\n      <td>220501</td>\n      <td>Agahabwa</td>\n      <td>22050105</td>\n      <td>Nyamabuye</td>\n      <td>Rural</td>\n      <td>1873</td>\n    </tr>\n  </tbody>\n</table>\n</div>"
     },
     "metadata": {},
     "execution_count": 244
    }
   ],
   "source": [
    "gov_df.head()"
   ]
  },
  {
   "cell_type": "code",
   "execution_count": null,
   "metadata": {},
   "outputs": [],
   "source": []
  }
 ],
 "metadata": {
  "kernelspec": {
   "display_name": "Python 3.7.4 64-bit ('base': conda)",
   "language": "python",
   "name": "python_defaultSpec_1597946678935"
  },
  "language_info": {
   "codemirror_mode": {
    "name": "ipython",
    "version": 3
   },
   "file_extension": ".py",
   "mimetype": "text/x-python",
   "name": "python",
   "nbconvert_exporter": "python",
   "pygments_lexer": "ipython3",
   "version": "3.7.4-final"
  }
 },
 "nbformat": 4,
 "nbformat_minor": 4
}